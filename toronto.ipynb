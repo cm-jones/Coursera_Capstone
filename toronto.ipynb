{
 "cells": [
  {
   "cell_type": "markdown",
   "metadata": {
    "jupyter": {
     "outputs_hidden": false
    }
   },
   "source": [
    "# Segmenting and Clustering Neighborhoods in Toronto"
   ]
  },
  {
   "cell_type": "markdown",
   "metadata": {},
   "source": [
    "**Author**: Cody M. Jones  \n",
    "**Date**: 30 June 2020"
   ]
  },
  {
   "cell_type": "code",
   "execution_count": 1,
   "metadata": {},
   "outputs": [],
   "source": [
    "import numpy as np\n",
    "import pandas as pd\n",
    "import folium\n",
    "import geocoder\n",
    "import requests\n",
    "import matplotlib.cm as cm\n",
    "import matplotlib.colors as colors\n",
    "from sklearn.cluster import KMeans"
   ]
  },
  {
   "cell_type": "markdown",
   "metadata": {},
   "source": [
    "## Data Wrangling"
   ]
  },
  {
   "cell_type": "markdown",
   "metadata": {},
   "source": [
    "There's a data set on Wikipedia that contains all the information we need regarding postal codes in Toronto and their associated borough and neighborhood(s). This is a simple HTML table so we can use the `pd.read_html()` method to read the table straight into a data frame."
   ]
  },
  {
   "cell_type": "code",
   "execution_count": 2,
   "metadata": {
    "collapsed": false,
    "jupyter": {
     "outputs_hidden": false
    },
    "scrolled": true
   },
   "outputs": [
    {
     "data": {
      "text/html": [
       "<div>\n",
       "<style scoped>\n",
       "    .dataframe tbody tr th:only-of-type {\n",
       "        vertical-align: middle;\n",
       "    }\n",
       "\n",
       "    .dataframe tbody tr th {\n",
       "        vertical-align: top;\n",
       "    }\n",
       "\n",
       "    .dataframe thead th {\n",
       "        text-align: right;\n",
       "    }\n",
       "</style>\n",
       "<table border=\"1\" class=\"dataframe\">\n",
       "  <thead>\n",
       "    <tr style=\"text-align: right;\">\n",
       "      <th></th>\n",
       "      <th>Postal Code</th>\n",
       "      <th>Borough</th>\n",
       "      <th>Neighborhood</th>\n",
       "    </tr>\n",
       "  </thead>\n",
       "  <tbody>\n",
       "    <tr>\n",
       "      <th>0</th>\n",
       "      <td>M1A</td>\n",
       "      <td>Not assigned</td>\n",
       "      <td>Not assigned</td>\n",
       "    </tr>\n",
       "    <tr>\n",
       "      <th>1</th>\n",
       "      <td>M2A</td>\n",
       "      <td>Not assigned</td>\n",
       "      <td>Not assigned</td>\n",
       "    </tr>\n",
       "    <tr>\n",
       "      <th>2</th>\n",
       "      <td>M3A</td>\n",
       "      <td>North York</td>\n",
       "      <td>Parkwoods</td>\n",
       "    </tr>\n",
       "    <tr>\n",
       "      <th>3</th>\n",
       "      <td>M4A</td>\n",
       "      <td>North York</td>\n",
       "      <td>Victoria Village</td>\n",
       "    </tr>\n",
       "    <tr>\n",
       "      <th>4</th>\n",
       "      <td>M5A</td>\n",
       "      <td>Downtown Toronto</td>\n",
       "      <td>Regent Park, Harbourfront</td>\n",
       "    </tr>\n",
       "  </tbody>\n",
       "</table>\n",
       "</div>"
      ],
      "text/plain": [
       "  Postal Code           Borough               Neighborhood\n",
       "0         M1A      Not assigned               Not assigned\n",
       "1         M2A      Not assigned               Not assigned\n",
       "2         M3A        North York                  Parkwoods\n",
       "3         M4A        North York           Victoria Village\n",
       "4         M5A  Downtown Toronto  Regent Park, Harbourfront"
      ]
     },
     "execution_count": 2,
     "metadata": {},
     "output_type": "execute_result"
    }
   ],
   "source": [
    "url = 'https://en.wikipedia.org/wiki/List_of_postal_codes_of_Canada:_M'\n",
    "dfs = pd.read_html(io=url)\n",
    "neighborhoods = dfs[0]\n",
    "neighborhoods.head()"
   ]
  },
  {
   "cell_type": "markdown",
   "metadata": {},
   "source": [
    "Let's drop all postal codes without an assigned borough for the sake of our analysis."
   ]
  },
  {
   "cell_type": "code",
   "execution_count": 3,
   "metadata": {
    "collapsed": false,
    "jupyter": {
     "outputs_hidden": false
    }
   },
   "outputs": [
    {
     "data": {
      "text/html": [
       "<div>\n",
       "<style scoped>\n",
       "    .dataframe tbody tr th:only-of-type {\n",
       "        vertical-align: middle;\n",
       "    }\n",
       "\n",
       "    .dataframe tbody tr th {\n",
       "        vertical-align: top;\n",
       "    }\n",
       "\n",
       "    .dataframe thead th {\n",
       "        text-align: right;\n",
       "    }\n",
       "</style>\n",
       "<table border=\"1\" class=\"dataframe\">\n",
       "  <thead>\n",
       "    <tr style=\"text-align: right;\">\n",
       "      <th></th>\n",
       "      <th>Postal Code</th>\n",
       "      <th>Borough</th>\n",
       "      <th>Neighborhood</th>\n",
       "    </tr>\n",
       "  </thead>\n",
       "  <tbody>\n",
       "    <tr>\n",
       "      <th>2</th>\n",
       "      <td>M3A</td>\n",
       "      <td>North York</td>\n",
       "      <td>Parkwoods</td>\n",
       "    </tr>\n",
       "    <tr>\n",
       "      <th>3</th>\n",
       "      <td>M4A</td>\n",
       "      <td>North York</td>\n",
       "      <td>Victoria Village</td>\n",
       "    </tr>\n",
       "    <tr>\n",
       "      <th>4</th>\n",
       "      <td>M5A</td>\n",
       "      <td>Downtown Toronto</td>\n",
       "      <td>Regent Park, Harbourfront</td>\n",
       "    </tr>\n",
       "    <tr>\n",
       "      <th>5</th>\n",
       "      <td>M6A</td>\n",
       "      <td>North York</td>\n",
       "      <td>Lawrence Manor, Lawrence Heights</td>\n",
       "    </tr>\n",
       "    <tr>\n",
       "      <th>6</th>\n",
       "      <td>M7A</td>\n",
       "      <td>Downtown Toronto</td>\n",
       "      <td>Queen's Park, Ontario Provincial Government</td>\n",
       "    </tr>\n",
       "  </tbody>\n",
       "</table>\n",
       "</div>"
      ],
      "text/plain": [
       "  Postal Code           Borough                                 Neighborhood\n",
       "2         M3A        North York                                    Parkwoods\n",
       "3         M4A        North York                             Victoria Village\n",
       "4         M5A  Downtown Toronto                    Regent Park, Harbourfront\n",
       "5         M6A        North York             Lawrence Manor, Lawrence Heights\n",
       "6         M7A  Downtown Toronto  Queen's Park, Ontario Provincial Government"
      ]
     },
     "execution_count": 3,
     "metadata": {},
     "output_type": "execute_result"
    }
   ],
   "source": [
    "neighborhoods.drop(neighborhoods[neighborhoods['Borough'] == 'Not assigned'].index, inplace=True)\n",
    "neighborhoods.head()"
   ]
  },
  {
   "cell_type": "markdown",
   "metadata": {},
   "source": [
    "Check that all remaining postal codes have an assigned neighborhood."
   ]
  },
  {
   "cell_type": "code",
   "execution_count": 4,
   "metadata": {},
   "outputs": [
    {
     "data": {
      "text/plain": [
       "0"
      ]
     },
     "execution_count": 4,
     "metadata": {},
     "output_type": "execute_result"
    }
   ],
   "source": [
    "len(neighborhoods[neighborhoods['Neighborhood'] == 'Not assigned'])"
   ]
  },
  {
   "cell_type": "markdown",
   "metadata": {},
   "source": [
    "Now that we've cleaned up the data set, let's see how many postal codes are left for us to deal with."
   ]
  },
  {
   "cell_type": "code",
   "execution_count": 5,
   "metadata": {},
   "outputs": [
    {
     "name": "stdout",
     "output_type": "stream",
     "text": [
      "Number of postal codes: 103\n"
     ]
    }
   ],
   "source": [
    "print('Number of postal codes: {}'.format(neighborhoods.shape[0]))"
   ]
  },
  {
   "cell_type": "markdown",
   "metadata": {},
   "source": [
    "## Geocoding"
   ]
  },
  {
   "cell_type": "code",
   "execution_count": 6,
   "metadata": {
    "collapsed": false,
    "jupyter": {
     "outputs_hidden": false
    }
   },
   "outputs": [
    {
     "data": {
      "text/html": [
       "<div>\n",
       "<style scoped>\n",
       "    .dataframe tbody tr th:only-of-type {\n",
       "        vertical-align: middle;\n",
       "    }\n",
       "\n",
       "    .dataframe tbody tr th {\n",
       "        vertical-align: top;\n",
       "    }\n",
       "\n",
       "    .dataframe thead th {\n",
       "        text-align: right;\n",
       "    }\n",
       "</style>\n",
       "<table border=\"1\" class=\"dataframe\">\n",
       "  <thead>\n",
       "    <tr style=\"text-align: right;\">\n",
       "      <th></th>\n",
       "      <th>Postal Code</th>\n",
       "      <th>Latitude</th>\n",
       "      <th>Longitude</th>\n",
       "    </tr>\n",
       "  </thead>\n",
       "  <tbody>\n",
       "    <tr>\n",
       "      <th>0</th>\n",
       "      <td>M1B</td>\n",
       "      <td>43.806686</td>\n",
       "      <td>-79.194353</td>\n",
       "    </tr>\n",
       "    <tr>\n",
       "      <th>1</th>\n",
       "      <td>M1C</td>\n",
       "      <td>43.784535</td>\n",
       "      <td>-79.160497</td>\n",
       "    </tr>\n",
       "    <tr>\n",
       "      <th>2</th>\n",
       "      <td>M1E</td>\n",
       "      <td>43.763573</td>\n",
       "      <td>-79.188711</td>\n",
       "    </tr>\n",
       "    <tr>\n",
       "      <th>3</th>\n",
       "      <td>M1G</td>\n",
       "      <td>43.770992</td>\n",
       "      <td>-79.216917</td>\n",
       "    </tr>\n",
       "    <tr>\n",
       "      <th>4</th>\n",
       "      <td>M1H</td>\n",
       "      <td>43.773136</td>\n",
       "      <td>-79.239476</td>\n",
       "    </tr>\n",
       "  </tbody>\n",
       "</table>\n",
       "</div>"
      ],
      "text/plain": [
       "  Postal Code   Latitude  Longitude\n",
       "0         M1B  43.806686 -79.194353\n",
       "1         M1C  43.784535 -79.160497\n",
       "2         M1E  43.763573 -79.188711\n",
       "3         M1G  43.770992 -79.216917\n",
       "4         M1H  43.773136 -79.239476"
      ]
     },
     "execution_count": 6,
     "metadata": {},
     "output_type": "execute_result"
    }
   ],
   "source": [
    "coordinates = pd.read_csv('https://cocl.us/Geospatial_data')\n",
    "coordinates.head()"
   ]
  },
  {
   "cell_type": "code",
   "execution_count": 7,
   "metadata": {},
   "outputs": [
    {
     "data": {
      "text/html": [
       "<div>\n",
       "<style scoped>\n",
       "    .dataframe tbody tr th:only-of-type {\n",
       "        vertical-align: middle;\n",
       "    }\n",
       "\n",
       "    .dataframe tbody tr th {\n",
       "        vertical-align: top;\n",
       "    }\n",
       "\n",
       "    .dataframe thead th {\n",
       "        text-align: right;\n",
       "    }\n",
       "</style>\n",
       "<table border=\"1\" class=\"dataframe\">\n",
       "  <thead>\n",
       "    <tr style=\"text-align: right;\">\n",
       "      <th></th>\n",
       "      <th>Postal Code</th>\n",
       "      <th>Borough</th>\n",
       "      <th>Neighborhood</th>\n",
       "      <th>Latitude</th>\n",
       "      <th>Longitude</th>\n",
       "    </tr>\n",
       "  </thead>\n",
       "  <tbody>\n",
       "    <tr>\n",
       "      <th>0</th>\n",
       "      <td>M3A</td>\n",
       "      <td>North York</td>\n",
       "      <td>Parkwoods</td>\n",
       "      <td>43.753259</td>\n",
       "      <td>-79.329656</td>\n",
       "    </tr>\n",
       "    <tr>\n",
       "      <th>1</th>\n",
       "      <td>M4A</td>\n",
       "      <td>North York</td>\n",
       "      <td>Victoria Village</td>\n",
       "      <td>43.725882</td>\n",
       "      <td>-79.315572</td>\n",
       "    </tr>\n",
       "    <tr>\n",
       "      <th>2</th>\n",
       "      <td>M5A</td>\n",
       "      <td>Downtown Toronto</td>\n",
       "      <td>Regent Park, Harbourfront</td>\n",
       "      <td>43.654260</td>\n",
       "      <td>-79.360636</td>\n",
       "    </tr>\n",
       "    <tr>\n",
       "      <th>3</th>\n",
       "      <td>M6A</td>\n",
       "      <td>North York</td>\n",
       "      <td>Lawrence Manor, Lawrence Heights</td>\n",
       "      <td>43.718518</td>\n",
       "      <td>-79.464763</td>\n",
       "    </tr>\n",
       "    <tr>\n",
       "      <th>4</th>\n",
       "      <td>M7A</td>\n",
       "      <td>Downtown Toronto</td>\n",
       "      <td>Queen's Park, Ontario Provincial Government</td>\n",
       "      <td>43.662301</td>\n",
       "      <td>-79.389494</td>\n",
       "    </tr>\n",
       "  </tbody>\n",
       "</table>\n",
       "</div>"
      ],
      "text/plain": [
       "  Postal Code           Borough                                 Neighborhood  \\\n",
       "0         M3A        North York                                    Parkwoods   \n",
       "1         M4A        North York                             Victoria Village   \n",
       "2         M5A  Downtown Toronto                    Regent Park, Harbourfront   \n",
       "3         M6A        North York             Lawrence Manor, Lawrence Heights   \n",
       "4         M7A  Downtown Toronto  Queen's Park, Ontario Provincial Government   \n",
       "\n",
       "    Latitude  Longitude  \n",
       "0  43.753259 -79.329656  \n",
       "1  43.725882 -79.315572  \n",
       "2  43.654260 -79.360636  \n",
       "3  43.718518 -79.464763  \n",
       "4  43.662301 -79.389494  "
      ]
     },
     "execution_count": 7,
     "metadata": {},
     "output_type": "execute_result"
    }
   ],
   "source": [
    "neighborhoods = pd.merge(neighborhoods, coordinates, on='Postal Code')\n",
    "neighborhoods.head()"
   ]
  },
  {
   "cell_type": "markdown",
   "metadata": {},
   "source": [
    "## Clustering"
   ]
  },
  {
   "cell_type": "markdown",
   "metadata": {},
   "source": [
    "Use the OpenStreetMap geocoder to find the coordinates of downtown Toronto."
   ]
  },
  {
   "cell_type": "code",
   "execution_count": 8,
   "metadata": {
    "collapsed": false,
    "jupyter": {
     "outputs_hidden": false
    },
    "scrolled": true
   },
   "outputs": [],
   "source": [
    "g = geocoder.osm('Toronto, Canada')\n",
    "latitude, longitude = g.latlng"
   ]
  },
  {
   "cell_type": "markdown",
   "metadata": {},
   "source": [
    "Create an empty map centered on downtown Toronto."
   ]
  },
  {
   "cell_type": "code",
   "execution_count": 9,
   "metadata": {
    "collapsed": false,
    "jupyter": {
     "outputs_hidden": false
    }
   },
   "outputs": [],
   "source": [
    "toronto_map = folium.Map(location=[latitude, longitude], zoom_start=10)"
   ]
  },
  {
   "cell_type": "markdown",
   "metadata": {},
   "source": [
    "Add markers to the map for each postal code. "
   ]
  },
  {
   "cell_type": "code",
   "execution_count": 10,
   "metadata": {},
   "outputs": [],
   "source": [
    "# add markers to map\n",
    "for latitude, longitude, borough, neighborhood in zip(neighborhoods['Latitude'], neighborhoods['Longitude'], neighborhoods['Borough'], neighborhoods['Neighborhood']):\n",
    "    label = '{} ({})'.format(neighborhood, borough)\n",
    "    label = folium.Popup(label, parse_html=True)\n",
    "    folium.Marker([latitude, longitude], popup=label, parse_html=False).add_to(toronto_map)"
   ]
  },
  {
   "cell_type": "markdown",
   "metadata": {},
   "source": [
    "Display the map with markers."
   ]
  },
  {
   "cell_type": "code",
   "execution_count": 11,
   "metadata": {},
   "outputs": [
    {
     "data": {
      "text/html": [
       "<div style=\"width:100%;\"><div style=\"position:relative;width:100%;height:0;padding-bottom:60%;\"><iframe src=\"about:blank\" style=\"position:absolute;width:100%;height:100%;left:0;top:0;border:none !important;\" data-html=PCFET0NUWVBFIGh0bWw+CjxoZWFkPiAgICAKICAgIDxtZXRhIGh0dHAtZXF1aXY9ImNvbnRlbnQtdHlwZSIgY29udGVudD0idGV4dC9odG1sOyBjaGFyc2V0PVVURi04IiAvPgogICAgCiAgICAgICAgPHNjcmlwdD4KICAgICAgICAgICAgTF9OT19UT1VDSCA9IGZhbHNlOwogICAgICAgICAgICBMX0RJU0FCTEVfM0QgPSBmYWxzZTsKICAgICAgICA8L3NjcmlwdD4KICAgIAogICAgPHNjcmlwdCBzcmM9Imh0dHBzOi8vY2RuLmpzZGVsaXZyLm5ldC9ucG0vbGVhZmxldEAxLjUuMS9kaXN0L2xlYWZsZXQuanMiPjwvc2NyaXB0PgogICAgPHNjcmlwdCBzcmM9Imh0dHBzOi8vY29kZS5qcXVlcnkuY29tL2pxdWVyeS0xLjEyLjQubWluLmpzIj48L3NjcmlwdD4KICAgIDxzY3JpcHQgc3JjPSJodHRwczovL21heGNkbi5ib290c3RyYXBjZG4uY29tL2Jvb3RzdHJhcC8zLjIuMC9qcy9ib290c3RyYXAubWluLmpzIj48L3NjcmlwdD4KICAgIDxzY3JpcHQgc3JjPSJodHRwczovL2NkbmpzLmNsb3VkZmxhcmUuY29tL2FqYXgvbGlicy9MZWFmbGV0LmF3ZXNvbWUtbWFya2Vycy8yLjAuMi9sZWFmbGV0LmF3ZXNvbWUtbWFya2Vycy5qcyI+PC9zY3JpcHQ+CiAgICA8bGluayByZWw9InN0eWxlc2hlZXQiIGhyZWY9Imh0dHBzOi8vY2RuLmpzZGVsaXZyLm5ldC9ucG0vbGVhZmxldEAxLjUuMS9kaXN0L2xlYWZsZXQuY3NzIi8+CiAgICA8bGluayByZWw9InN0eWxlc2hlZXQiIGhyZWY9Imh0dHBzOi8vbWF4Y2RuLmJvb3RzdHJhcGNkbi5jb20vYm9vdHN0cmFwLzMuMi4wL2Nzcy9ib290c3RyYXAubWluLmNzcyIvPgogICAgPGxpbmsgcmVsPSJzdHlsZXNoZWV0IiBocmVmPSJodHRwczovL21heGNkbi5ib290c3RyYXBjZG4uY29tL2Jvb3RzdHJhcC8zLjIuMC9jc3MvYm9vdHN0cmFwLXRoZW1lLm1pbi5jc3MiLz4KICAgIDxsaW5rIHJlbD0ic3R5bGVzaGVldCIgaHJlZj0iaHR0cHM6Ly9tYXhjZG4uYm9vdHN0cmFwY2RuLmNvbS9mb250LWF3ZXNvbWUvNC42LjMvY3NzL2ZvbnQtYXdlc29tZS5taW4uY3NzIi8+CiAgICA8bGluayByZWw9InN0eWxlc2hlZXQiIGhyZWY9Imh0dHBzOi8vY2RuanMuY2xvdWRmbGFyZS5jb20vYWpheC9saWJzL0xlYWZsZXQuYXdlc29tZS1tYXJrZXJzLzIuMC4yL2xlYWZsZXQuYXdlc29tZS1tYXJrZXJzLmNzcyIvPgogICAgPGxpbmsgcmVsPSJzdHlsZXNoZWV0IiBocmVmPSJodHRwczovL3Jhd2Nkbi5naXRoYWNrLmNvbS9weXRob24tdmlzdWFsaXphdGlvbi9mb2xpdW0vbWFzdGVyL2ZvbGl1bS90ZW1wbGF0ZXMvbGVhZmxldC5hd2Vzb21lLnJvdGF0ZS5jc3MiLz4KICAgIDxzdHlsZT5odG1sLCBib2R5IHt3aWR0aDogMTAwJTtoZWlnaHQ6IDEwMCU7bWFyZ2luOiAwO3BhZGRpbmc6IDA7fTwvc3R5bGU+CiAgICA8c3R5bGU+I21hcCB7cG9zaXRpb246YWJzb2x1dGU7dG9wOjA7Ym90dG9tOjA7cmlnaHQ6MDtsZWZ0OjA7fTwvc3R5bGU+CiAgICAKICAgICAgICAgICAgPG1ldGEgbmFtZT0idmlld3BvcnQiIGNvbnRlbnQ9IndpZHRoPWRldmljZS13aWR0aCwKICAgICAgICAgICAgICAgIGluaXRpYWwtc2NhbGU9MS4wLCBtYXhpbXVtLXNjYWxlPTEuMCwgdXNlci1zY2FsYWJsZT1ubyIgLz4KICAgICAgICAgICAgPHN0eWxlPgogICAgICAgICAgICAgICAgI21hcF9mYTI2MDgwNWIyMzI0MzljYWJlZDk0NWYyM2NjN2YxOSB7CiAgICAgICAgICAgICAgICAgICAgcG9zaXRpb246IHJlbGF0aXZlOwogICAgICAgICAgICAgICAgICAgIHdpZHRoOiAxMDAuMCU7CiAgICAgICAgICAgICAgICAgICAgaGVpZ2h0OiAxMDAuMCU7CiAgICAgICAgICAgICAgICAgICAgbGVmdDogMC4wJTsKICAgICAgICAgICAgICAgICAgICB0b3A6IDAuMCU7CiAgICAgICAgICAgICAgICB9CiAgICAgICAgICAgIDwvc3R5bGU+CiAgICAgICAgCjwvaGVhZD4KPGJvZHk+ICAgIAogICAgCiAgICAgICAgICAgIDxkaXYgY2xhc3M9ImZvbGl1bS1tYXAiIGlkPSJtYXBfZmEyNjA4MDViMjMyNDM5Y2FiZWQ5NDVmMjNjYzdmMTkiID48L2Rpdj4KICAgICAgICAKPC9ib2R5Pgo8c2NyaXB0PiAgICAKICAgIAogICAgICAgICAgICB2YXIgbWFwX2ZhMjYwODA1YjIzMjQzOWNhYmVkOTQ1ZjIzY2M3ZjE5ID0gTC5tYXAoCiAgICAgICAgICAgICAgICAibWFwX2ZhMjYwODA1YjIzMjQzOWNhYmVkOTQ1ZjIzY2M3ZjE5IiwKICAgICAgICAgICAgICAgIHsKICAgICAgICAgICAgICAgICAgICBjZW50ZXI6IFs0My42NTM0ODE3LCAtNzkuMzgzOTM0N10sCiAgICAgICAgICAgICAgICAgICAgY3JzOiBMLkNSUy5FUFNHMzg1NywKICAgICAgICAgICAgICAgICAgICB6b29tOiAxMCwKICAgICAgICAgICAgICAgICAgICB6b29tQ29udHJvbDogdHJ1ZSwKICAgICAgICAgICAgICAgICAgICBwcmVmZXJDYW52YXM6IGZhbHNlLAogICAgICAgICAgICAgICAgfQogICAgICAgICAgICApOwoKICAgICAgICAgICAgCgogICAgICAgIAogICAgCiAgICAgICAgICAgIHZhciB0aWxlX2xheWVyXzA4Y2UxNDc3NWRkMzQzYmI4MTNiZmMzMWQ3NTBjYTBjID0gTC50aWxlTGF5ZXIoCiAgICAgICAgICAgICAgICAiaHR0cHM6Ly97c30udGlsZS5vcGVuc3RyZWV0bWFwLm9yZy97en0ve3h9L3t5fS5wbmciLAogICAgICAgICAgICAgICAgeyJhdHRyaWJ1dGlvbiI6ICJEYXRhIGJ5IFx1MDAyNmNvcHk7IFx1MDAzY2EgaHJlZj1cImh0dHA6Ly9vcGVuc3RyZWV0bWFwLm9yZ1wiXHUwMDNlT3BlblN0cmVldE1hcFx1MDAzYy9hXHUwMDNlLCB1bmRlciBcdTAwM2NhIGhyZWY9XCJodHRwOi8vd3d3Lm9wZW5zdHJlZXRtYXAub3JnL2NvcHlyaWdodFwiXHUwMDNlT0RiTFx1MDAzYy9hXHUwMDNlLiIsICJkZXRlY3RSZXRpbmEiOiBmYWxzZSwgIm1heE5hdGl2ZVpvb20iOiAxOCwgIm1heFpvb20iOiAxOCwgIm1pblpvb20iOiAwLCAibm9XcmFwIjogZmFsc2UsICJvcGFjaXR5IjogMSwgInN1YmRvbWFpbnMiOiAiYWJjIiwgInRtcyI6IGZhbHNlfQogICAgICAgICAgICApLmFkZFRvKG1hcF9mYTI2MDgwNWIyMzI0MzljYWJlZDk0NWYyM2NjN2YxOSk7CiAgICAgICAgCiAgICAKICAgICAgICAgICAgdmFyIG1hcmtlcl85YmZhYzBkZjQ2MWQ0OTEyOTU5OTk0MDdjMWYxZTRjYiA9IEwubWFya2VyKAogICAgICAgICAgICAgICAgWzQzLjc1MzI1ODYsIC03OS4zMjk2NTY1XSwKICAgICAgICAgICAgICAgIHsicGFyc2VIdG1sIjogZmFsc2V9CiAgICAgICAgICAgICkuYWRkVG8obWFwX2ZhMjYwODA1YjIzMjQzOWNhYmVkOTQ1ZjIzY2M3ZjE5KTsKICAgICAgICAKICAgIAogICAgICAgIHZhciBwb3B1cF80MzMxMGEzMGQwNWE0NDA4YjNiY2JlNzJhOGQ4YzNmNiA9IEwucG9wdXAoeyJtYXhXaWR0aCI6ICIxMDAlIn0pOwoKICAgICAgICAKICAgICAgICAgICAgdmFyIGh0bWxfMzdmZDdmNTI2MTMwNDc0YWI2NjFmMDc3YzAxZGIwMzQgPSAkKGA8ZGl2IGlkPSJodG1sXzM3ZmQ3ZjUyNjEzMDQ3NGFiNjYxZjA3N2MwMWRiMDM0IiBzdHlsZT0id2lkdGg6IDEwMC4wJTsgaGVpZ2h0OiAxMDAuMCU7Ij5QYXJrd29vZHMgKE5vcnRoIFlvcmspPC9kaXY+YClbMF07CiAgICAgICAgICAgIHBvcHVwXzQzMzEwYTMwZDA1YTQ0MDhiM2JjYmU3MmE4ZDhjM2Y2LnNldENvbnRlbnQoaHRtbF8zN2ZkN2Y1MjYxMzA0NzRhYjY2MWYwNzdjMDFkYjAzNCk7CiAgICAgICAgCgogICAgICAgIG1hcmtlcl85YmZhYzBkZjQ2MWQ0OTEyOTU5OTk0MDdjMWYxZTRjYi5iaW5kUG9wdXAocG9wdXBfNDMzMTBhMzBkMDVhNDQwOGIzYmNiZTcyYThkOGMzZjYpCiAgICAgICAgOwoKICAgICAgICAKICAgIAogICAgCiAgICAgICAgICAgIHZhciBtYXJrZXJfNzFiM2VhMzhjMGNjNDNmODhkMjY4N2Q3MGMyNGZiNTAgPSBMLm1hcmtlcigKICAgICAgICAgICAgICAgIFs0My43MjU4ODIyOTk5OTk5OTUsIC03OS4zMTU1NzE1OTk5OTk5OF0sCiAgICAgICAgICAgICAgICB7InBhcnNlSHRtbCI6IGZhbHNlfQogICAgICAgICAgICApLmFkZFRvKG1hcF9mYTI2MDgwNWIyMzI0MzljYWJlZDk0NWYyM2NjN2YxOSk7CiAgICAgICAgCiAgICAKICAgICAgICB2YXIgcG9wdXBfMDUyZGZjY2NmN2YwNDIxZWFmZWRlYzNhNDVmODEzYTkgPSBMLnBvcHVwKHsibWF4V2lkdGgiOiAiMTAwJSJ9KTsKCiAgICAgICAgCiAgICAgICAgICAgIHZhciBodG1sX2U1MTJiYTQxMTIyMjRiM2E5Y2ZiMjlmOGUyNDdiNDI0ID0gJChgPGRpdiBpZD0iaHRtbF9lNTEyYmE0MTEyMjI0YjNhOWNmYjI5ZjhlMjQ3YjQyNCIgc3R5bGU9IndpZHRoOiAxMDAuMCU7IGhlaWdodDogMTAwLjAlOyI+VmljdG9yaWEgVmlsbGFnZSAoTm9ydGggWW9yayk8L2Rpdj5gKVswXTsKICAgICAgICAgICAgcG9wdXBfMDUyZGZjY2NmN2YwNDIxZWFmZWRlYzNhNDVmODEzYTkuc2V0Q29udGVudChodG1sX2U1MTJiYTQxMTIyMjRiM2E5Y2ZiMjlmOGUyNDdiNDI0KTsKICAgICAgICAKCiAgICAgICAgbWFya2VyXzcxYjNlYTM4YzBjYzQzZjg4ZDI2ODdkNzBjMjRmYjUwLmJpbmRQb3B1cChwb3B1cF8wNTJkZmNjY2Y3ZjA0MjFlYWZlZGVjM2E0NWY4MTNhOSkKICAgICAgICA7CgogICAgICAgIAogICAgCiAgICAKICAgICAgICAgICAgdmFyIG1hcmtlcl84OTQ1ZjVhZmYxYzY0ZWY3OWMxNjEwNmY2YjM3MmM1YSA9IEwubWFya2VyKAogICAgICAgICAgICAgICAgWzQzLjY1NDI1OTksIC03OS4zNjA2MzU5XSwKICAgICAgICAgICAgICAgIHsicGFyc2VIdG1sIjogZmFsc2V9CiAgICAgICAgICAgICkuYWRkVG8obWFwX2ZhMjYwODA1YjIzMjQzOWNhYmVkOTQ1ZjIzY2M3ZjE5KTsKICAgICAgICAKICAgIAogICAgICAgIHZhciBwb3B1cF8zNzFiYTYxYzlkY2E0MjRiODJkNzZkN2M3NjFjMWU4ZSA9IEwucG9wdXAoeyJtYXhXaWR0aCI6ICIxMDAlIn0pOwoKICAgICAgICAKICAgICAgICAgICAgdmFyIGh0bWxfZWNmYTc2ZTk2MzY1NGY5NmIwYWNlNDA0MjliNGFiMjEgPSAkKGA8ZGl2IGlkPSJodG1sX2VjZmE3NmU5NjM2NTRmOTZiMGFjZTQwNDI5YjRhYjIxIiBzdHlsZT0id2lkdGg6IDEwMC4wJTsgaGVpZ2h0OiAxMDAuMCU7Ij5SZWdlbnQgUGFyaywgSGFyYm91cmZyb250IChEb3dudG93biBUb3JvbnRvKTwvZGl2PmApWzBdOwogICAgICAgICAgICBwb3B1cF8zNzFiYTYxYzlkY2E0MjRiODJkNzZkN2M3NjFjMWU4ZS5zZXRDb250ZW50KGh0bWxfZWNmYTc2ZTk2MzY1NGY5NmIwYWNlNDA0MjliNGFiMjEpOwogICAgICAgIAoKICAgICAgICBtYXJrZXJfODk0NWY1YWZmMWM2NGVmNzljMTYxMDZmNmIzNzJjNWEuYmluZFBvcHVwKHBvcHVwXzM3MWJhNjFjOWRjYTQyNGI4MmQ3NmQ3Yzc2MWMxZThlKQogICAgICAgIDsKCiAgICAgICAgCiAgICAKICAgIAogICAgICAgICAgICB2YXIgbWFya2VyXzFkNDRjZDk2NGVhMDQyNThhNTMyMThiZjQzMTc5OWY5ID0gTC5tYXJrZXIoCiAgICAgICAgICAgICAgICBbNDMuNzE4NTE3OTk5OTk5OTk2LCAtNzkuNDY0NzYzMjk5OTk5OTldLAogICAgICAgICAgICAgICAgeyJwYXJzZUh0bWwiOiBmYWxzZX0KICAgICAgICAgICAgKS5hZGRUbyhtYXBfZmEyNjA4MDViMjMyNDM5Y2FiZWQ5NDVmMjNjYzdmMTkpOwogICAgICAgIAogICAgCiAgICAgICAgdmFyIHBvcHVwX2VhZjY3M2E1Nzg3NTQxMDE5YmU1MzgzODJkNDJjMmZkID0gTC5wb3B1cCh7Im1heFdpZHRoIjogIjEwMCUifSk7CgogICAgICAgIAogICAgICAgICAgICB2YXIgaHRtbF8wMjZkNjVmNTc3MTM0MWU0OWU5ZGZiYjRlYzdkZDYzNSA9ICQoYDxkaXYgaWQ9Imh0bWxfMDI2ZDY1ZjU3NzEzNDFlNDllOWRmYmI0ZWM3ZGQ2MzUiIHN0eWxlPSJ3aWR0aDogMTAwLjAlOyBoZWlnaHQ6IDEwMC4wJTsiPkxhd3JlbmNlIE1hbm9yLCBMYXdyZW5jZSBIZWlnaHRzIChOb3J0aCBZb3JrKTwvZGl2PmApWzBdOwogICAgICAgICAgICBwb3B1cF9lYWY2NzNhNTc4NzU0MTAxOWJlNTM4MzgyZDQyYzJmZC5zZXRDb250ZW50KGh0bWxfMDI2ZDY1ZjU3NzEzNDFlNDllOWRmYmI0ZWM3ZGQ2MzUpOwogICAgICAgIAoKICAgICAgICBtYXJrZXJfMWQ0NGNkOTY0ZWEwNDI1OGE1MzIxOGJmNDMxNzk5ZjkuYmluZFBvcHVwKHBvcHVwX2VhZjY3M2E1Nzg3NTQxMDE5YmU1MzgzODJkNDJjMmZkKQogICAgICAgIDsKCiAgICAgICAgCiAgICAKICAgIAogICAgICAgICAgICB2YXIgbWFya2VyXzkyZWRkMjg5NDMyNzQ5YWRiN2Q2YTlmY2Q1ZGM5ZGM5ID0gTC5tYXJrZXIoCiAgICAgICAgICAgICAgICBbNDMuNjYyMzAxNSwgLTc5LjM4OTQ5MzhdLAogICAgICAgICAgICAgICAgeyJwYXJzZUh0bWwiOiBmYWxzZX0KICAgICAgICAgICAgKS5hZGRUbyhtYXBfZmEyNjA4MDViMjMyNDM5Y2FiZWQ5NDVmMjNjYzdmMTkpOwogICAgICAgIAogICAgCiAgICAgICAgdmFyIHBvcHVwXzIxYzZlOGEzYTYyYTQ5ZTRiMGIwOTAyNjFlM2YyNWEzID0gTC5wb3B1cCh7Im1heFdpZHRoIjogIjEwMCUifSk7CgogICAgICAgIAogICAgICAgICAgICB2YXIgaHRtbF83ZDgwZDNiNWUxMDk0ZjJhOWJmNjgwNmY2MzUwMGE2MiA9ICQoYDxkaXYgaWQ9Imh0bWxfN2Q4MGQzYjVlMTA5NGYyYTliZjY4MDZmNjM1MDBhNjIiIHN0eWxlPSJ3aWR0aDogMTAwLjAlOyBoZWlnaHQ6IDEwMC4wJTsiPlF1ZWVuJiMzOTtzIFBhcmssIE9udGFyaW8gUHJvdmluY2lhbCBHb3Zlcm5tZW50IChEb3dudG93biBUb3JvbnRvKTwvZGl2PmApWzBdOwogICAgICAgICAgICBwb3B1cF8yMWM2ZThhM2E2MmE0OWU0YjBiMDkwMjYxZTNmMjVhMy5zZXRDb250ZW50KGh0bWxfN2Q4MGQzYjVlMTA5NGYyYTliZjY4MDZmNjM1MDBhNjIpOwogICAgICAgIAoKICAgICAgICBtYXJrZXJfOTJlZGQyODk0MzI3NDlhZGI3ZDZhOWZjZDVkYzlkYzkuYmluZFBvcHVwKHBvcHVwXzIxYzZlOGEzYTYyYTQ5ZTRiMGIwOTAyNjFlM2YyNWEzKQogICAgICAgIDsKCiAgICAgICAgCiAgICAKICAgIAogICAgICAgICAgICB2YXIgbWFya2VyX2M5OGQyZTJlODA4MzQ2M2FhNjIyODZlYTZkNjE3OTkwID0gTC5tYXJrZXIoCiAgICAgICAgICAgICAgICBbNDMuNjY3ODU1NiwgLTc5LjUzMjI0MjQwMDAwMDAyXSwKICAgICAgICAgICAgICAgIHsicGFyc2VIdG1sIjogZmFsc2V9CiAgICAgICAgICAgICkuYWRkVG8obWFwX2ZhMjYwODA1YjIzMjQzOWNhYmVkOTQ1ZjIzY2M3ZjE5KTsKICAgICAgICAKICAgIAogICAgICAgIHZhciBwb3B1cF80OTA4NmQ5NzkwMDI0YTMxYjdlODY0NGExMWUwZTgxNyA9IEwucG9wdXAoeyJtYXhXaWR0aCI6ICIxMDAlIn0pOwoKICAgICAgICAKICAgICAgICAgICAgdmFyIGh0bWxfZWRlYjk4MGMzY2VjNDI0NDg0N2FmZGZlZTIxY2ZmNTQgPSAkKGA8ZGl2IGlkPSJodG1sX2VkZWI5ODBjM2NlYzQyNDQ4NDdhZmRmZWUyMWNmZjU0IiBzdHlsZT0id2lkdGg6IDEwMC4wJTsgaGVpZ2h0OiAxMDAuMCU7Ij5Jc2xpbmd0b24gQXZlbnVlLCBIdW1iZXIgVmFsbGV5IFZpbGxhZ2UgKEV0b2JpY29rZSk8L2Rpdj5gKVswXTsKICAgICAgICAgICAgcG9wdXBfNDkwODZkOTc5MDAyNGEzMWI3ZTg2NDRhMTFlMGU4MTcuc2V0Q29udGVudChodG1sX2VkZWI5ODBjM2NlYzQyNDQ4NDdhZmRmZWUyMWNmZjU0KTsKICAgICAgICAKCiAgICAgICAgbWFya2VyX2M5OGQyZTJlODA4MzQ2M2FhNjIyODZlYTZkNjE3OTkwLmJpbmRQb3B1cChwb3B1cF80OTA4NmQ5NzkwMDI0YTMxYjdlODY0NGExMWUwZTgxNykKICAgICAgICA7CgogICAgICAgIAogICAgCiAgICAKICAgICAgICAgICAgdmFyIG1hcmtlcl9hNmQzNmZmM2Q4ZTI0ZDZhODEwMmExNDMzNThmZWVhNyA9IEwubWFya2VyKAogICAgICAgICAgICAgICAgWzQzLjgwNjY4NjI5OTk5OTk5NiwgLTc5LjE5NDM1MzQwMDAwMDAxXSwKICAgICAgICAgICAgICAgIHsicGFyc2VIdG1sIjogZmFsc2V9CiAgICAgICAgICAgICkuYWRkVG8obWFwX2ZhMjYwODA1YjIzMjQzOWNhYmVkOTQ1ZjIzY2M3ZjE5KTsKICAgICAgICAKICAgIAogICAgICAgIHZhciBwb3B1cF84MmIzZWVjOGY3NjU0NjA0OTlmYTU2OWJkNjUwNWMwOSA9IEwucG9wdXAoeyJtYXhXaWR0aCI6ICIxMDAlIn0pOwoKICAgICAgICAKICAgICAgICAgICAgdmFyIGh0bWxfN2FjNGMzZThiOWIyNDY0YWEwMTIzMDJhZGI0NDVmMzUgPSAkKGA8ZGl2IGlkPSJodG1sXzdhYzRjM2U4YjliMjQ2NGFhMDEyMzAyYWRiNDQ1ZjM1IiBzdHlsZT0id2lkdGg6IDEwMC4wJTsgaGVpZ2h0OiAxMDAuMCU7Ij5NYWx2ZXJuLCBSb3VnZSAoU2NhcmJvcm91Z2gpPC9kaXY+YClbMF07CiAgICAgICAgICAgIHBvcHVwXzgyYjNlZWM4Zjc2NTQ2MDQ5OWZhNTY5YmQ2NTA1YzA5LnNldENvbnRlbnQoaHRtbF83YWM0YzNlOGI5YjI0NjRhYTAxMjMwMmFkYjQ0NWYzNSk7CiAgICAgICAgCgogICAgICAgIG1hcmtlcl9hNmQzNmZmM2Q4ZTI0ZDZhODEwMmExNDMzNThmZWVhNy5iaW5kUG9wdXAocG9wdXBfODJiM2VlYzhmNzY1NDYwNDk5ZmE1NjliZDY1MDVjMDkpCiAgICAgICAgOwoKICAgICAgICAKICAgIAogICAgCiAgICAgICAgICAgIHZhciBtYXJrZXJfMjIxNWMzN2VlNjM1NDg0MjgyYTc3NTcxMDRjYTFkYTcgPSBMLm1hcmtlcigKICAgICAgICAgICAgICAgIFs0My43NDU5MDU3OTk5OTk5OTYsIC03OS4zNTIxODhdLAogICAgICAgICAgICAgICAgeyJwYXJzZUh0bWwiOiBmYWxzZX0KICAgICAgICAgICAgKS5hZGRUbyhtYXBfZmEyNjA4MDViMjMyNDM5Y2FiZWQ5NDVmMjNjYzdmMTkpOwogICAgICAgIAogICAgCiAgICAgICAgdmFyIHBvcHVwXzE2ZTMwNTcxZDJmMjRmMzY4YThjMDA5ZmRkYWJjM2I1ID0gTC5wb3B1cCh7Im1heFdpZHRoIjogIjEwMCUifSk7CgogICAgICAgIAogICAgICAgICAgICB2YXIgaHRtbF83YmY2M2IyZmU2OTY0MWRmOTI0NDg4ZTk3MGJhMWQ4YyA9ICQoYDxkaXYgaWQ9Imh0bWxfN2JmNjNiMmZlNjk2NDFkZjkyNDQ4OGU5NzBiYTFkOGMiIHN0eWxlPSJ3aWR0aDogMTAwLjAlOyBoZWlnaHQ6IDEwMC4wJTsiPkRvbiBNaWxscyAoTm9ydGggWW9yayk8L2Rpdj5gKVswXTsKICAgICAgICAgICAgcG9wdXBfMTZlMzA1NzFkMmYyNGYzNjhhOGMwMDlmZGRhYmMzYjUuc2V0Q29udGVudChodG1sXzdiZjYzYjJmZTY5NjQxZGY5MjQ0ODhlOTcwYmExZDhjKTsKICAgICAgICAKCiAgICAgICAgbWFya2VyXzIyMTVjMzdlZTYzNTQ4NDI4MmE3NzU3MTA0Y2ExZGE3LmJpbmRQb3B1cChwb3B1cF8xNmUzMDU3MWQyZjI0ZjM2OGE4YzAwOWZkZGFiYzNiNSkKICAgICAgICA7CgogICAgICAgIAogICAgCiAgICAKICAgICAgICAgICAgdmFyIG1hcmtlcl84NDA0MDQ4YTkzZjg0ZmMxYWFjY2Q4NzE4ZjBhMTY0MSA9IEwubWFya2VyKAogICAgICAgICAgICAgICAgWzQzLjcwNjM5NzIsIC03OS4zMDk5MzddLAogICAgICAgICAgICAgICAgeyJwYXJzZUh0bWwiOiBmYWxzZX0KICAgICAgICAgICAgKS5hZGRUbyhtYXBfZmEyNjA4MDViMjMyNDM5Y2FiZWQ5NDVmMjNjYzdmMTkpOwogICAgICAgIAogICAgCiAgICAgICAgdmFyIHBvcHVwX2FiYTRjYzQ4Y2U4ODRjMjFiYmIwOWYwNWNmZTMzMjJhID0gTC5wb3B1cCh7Im1heFdpZHRoIjogIjEwMCUifSk7CgogICAgICAgIAogICAgICAgICAgICB2YXIgaHRtbF9jNWIyY2UwZDhkNDQ0MzI1ODkzZDZjZGU2YzVhMjliZCA9ICQoYDxkaXYgaWQ9Imh0bWxfYzViMmNlMGQ4ZDQ0NDMyNTg5M2Q2Y2RlNmM1YTI5YmQiIHN0eWxlPSJ3aWR0aDogMTAwLjAlOyBoZWlnaHQ6IDEwMC4wJTsiPlBhcmt2aWV3IEhpbGwsIFdvb2RiaW5lIEdhcmRlbnMgKEVhc3QgWW9yayk8L2Rpdj5gKVswXTsKICAgICAgICAgICAgcG9wdXBfYWJhNGNjNDhjZTg4NGMyMWJiYjA5ZjA1Y2ZlMzMyMmEuc2V0Q29udGVudChodG1sX2M1YjJjZTBkOGQ0NDQzMjU4OTNkNmNkZTZjNWEyOWJkKTsKICAgICAgICAKCiAgICAgICAgbWFya2VyXzg0MDQwNDhhOTNmODRmYzFhYWNjZDg3MThmMGExNjQxLmJpbmRQb3B1cChwb3B1cF9hYmE0Y2M0OGNlODg0YzIxYmJiMDlmMDVjZmUzMzIyYSkKICAgICAgICA7CgogICAgICAgIAogICAgCiAgICAKICAgICAgICAgICAgdmFyIG1hcmtlcl82NzFhMTVhMjUxNmE0ODU1OTIzMGYyYjNiZTk0ZWMxNyA9IEwubWFya2VyKAogICAgICAgICAgICAgICAgWzQzLjY1NzE2MTgsIC03OS4zNzg5MzcwOTk5OTk5OV0sCiAgICAgICAgICAgICAgICB7InBhcnNlSHRtbCI6IGZhbHNlfQogICAgICAgICAgICApLmFkZFRvKG1hcF9mYTI2MDgwNWIyMzI0MzljYWJlZDk0NWYyM2NjN2YxOSk7CiAgICAgICAgCiAgICAKICAgICAgICB2YXIgcG9wdXBfNzc5MzJhYjlhZjBiNDdhNzliNDY5NTRjNGExZWEzNTEgPSBMLnBvcHVwKHsibWF4V2lkdGgiOiAiMTAwJSJ9KTsKCiAgICAgICAgCiAgICAgICAgICAgIHZhciBodG1sXzZlNTEyNDNmNmUzMzRmNDc4YWYxZGNjODA1NTU1OWExID0gJChgPGRpdiBpZD0iaHRtbF82ZTUxMjQzZjZlMzM0ZjQ3OGFmMWRjYzgwNTU1NTlhMSIgc3R5bGU9IndpZHRoOiAxMDAuMCU7IGhlaWdodDogMTAwLjAlOyI+R2FyZGVuIERpc3RyaWN0LCBSeWVyc29uIChEb3dudG93biBUb3JvbnRvKTwvZGl2PmApWzBdOwogICAgICAgICAgICBwb3B1cF83NzkzMmFiOWFmMGI0N2E3OWI0Njk1NGM0YTFlYTM1MS5zZXRDb250ZW50KGh0bWxfNmU1MTI0M2Y2ZTMzNGY0NzhhZjFkY2M4MDU1NTU5YTEpOwogICAgICAgIAoKICAgICAgICBtYXJrZXJfNjcxYTE1YTI1MTZhNDg1NTkyMzBmMmIzYmU5NGVjMTcuYmluZFBvcHVwKHBvcHVwXzc3OTMyYWI5YWYwYjQ3YTc5YjQ2OTU0YzRhMWVhMzUxKQogICAgICAgIDsKCiAgICAgICAgCiAgICAKICAgIAogICAgICAgICAgICB2YXIgbWFya2VyXzc3NTQ2MjI2YWU5NDRkMjU5YzFlYTlhMDVjMjQ5OWQ5ID0gTC5tYXJrZXIoCiAgICAgICAgICAgICAgICBbNDMuNzA5NTc3LCAtNzkuNDQ1MDcyNTk5OTk5OTldLAogICAgICAgICAgICAgICAgeyJwYXJzZUh0bWwiOiBmYWxzZX0KICAgICAgICAgICAgKS5hZGRUbyhtYXBfZmEyNjA4MDViMjMyNDM5Y2FiZWQ5NDVmMjNjYzdmMTkpOwogICAgICAgIAogICAgCiAgICAgICAgdmFyIHBvcHVwXzdmMzUyYjJmMzU0ZTQ2YWE4YjI3MmFkMTVmMWI4ZDljID0gTC5wb3B1cCh7Im1heFdpZHRoIjogIjEwMCUifSk7CgogICAgICAgIAogICAgICAgICAgICB2YXIgaHRtbF84ZDE1ZTA1NmU5YmQ0ODgzYTZiYmE5ZmE1MDc0NGE3YyA9ICQoYDxkaXYgaWQ9Imh0bWxfOGQxNWUwNTZlOWJkNDg4M2E2YmJhOWZhNTA3NDRhN2MiIHN0eWxlPSJ3aWR0aDogMTAwLjAlOyBoZWlnaHQ6IDEwMC4wJTsiPkdsZW5jYWlybiAoTm9ydGggWW9yayk8L2Rpdj5gKVswXTsKICAgICAgICAgICAgcG9wdXBfN2YzNTJiMmYzNTRlNDZhYThiMjcyYWQxNWYxYjhkOWMuc2V0Q29udGVudChodG1sXzhkMTVlMDU2ZTliZDQ4ODNhNmJiYTlmYTUwNzQ0YTdjKTsKICAgICAgICAKCiAgICAgICAgbWFya2VyXzc3NTQ2MjI2YWU5NDRkMjU5YzFlYTlhMDVjMjQ5OWQ5LmJpbmRQb3B1cChwb3B1cF83ZjM1MmIyZjM1NGU0NmFhOGIyNzJhZDE1ZjFiOGQ5YykKICAgICAgICA7CgogICAgICAgIAogICAgCiAgICAKICAgICAgICAgICAgdmFyIG1hcmtlcl83MWE4M2EzN2YxOTU0YzAzYThkMzFhNjNmNzFmYzEwZSA9IEwubWFya2VyKAogICAgICAgICAgICAgICAgWzQzLjY1MDk0MzIsIC03OS41NTQ3MjQ0MDAwMDAwMV0sCiAgICAgICAgICAgICAgICB7InBhcnNlSHRtbCI6IGZhbHNlfQogICAgICAgICAgICApLmFkZFRvKG1hcF9mYTI2MDgwNWIyMzI0MzljYWJlZDk0NWYyM2NjN2YxOSk7CiAgICAgICAgCiAgICAKICAgICAgICB2YXIgcG9wdXBfM2M0OTMwNmU3ZTE1NDQ3ZDk3MmY5YzYxMzQ3OTQ0MGMgPSBMLnBvcHVwKHsibWF4V2lkdGgiOiAiMTAwJSJ9KTsKCiAgICAgICAgCiAgICAgICAgICAgIHZhciBodG1sX2E5MGRhZWU5NTQ5ZDQ4ZmJiN2JkYWYxMzcxNjAwMmJjID0gJChgPGRpdiBpZD0iaHRtbF9hOTBkYWVlOTU0OWQ0OGZiYjdiZGFmMTM3MTYwMDJiYyIgc3R5bGU9IndpZHRoOiAxMDAuMCU7IGhlaWdodDogMTAwLjAlOyI+V2VzdCBEZWFuZSBQYXJrLCBQcmluY2VzcyBHYXJkZW5zLCBNYXJ0aW4gR3JvdmUsIElzbGluZ3RvbiwgQ2xvdmVyZGFsZSAoRXRvYmljb2tlKTwvZGl2PmApWzBdOwogICAgICAgICAgICBwb3B1cF8zYzQ5MzA2ZTdlMTU0NDdkOTcyZjljNjEzNDc5NDQwYy5zZXRDb250ZW50KGh0bWxfYTkwZGFlZTk1NDlkNDhmYmI3YmRhZjEzNzE2MDAyYmMpOwogICAgICAgIAoKICAgICAgICBtYXJrZXJfNzFhODNhMzdmMTk1NGMwM2E4ZDMxYTYzZjcxZmMxMGUuYmluZFBvcHVwKHBvcHVwXzNjNDkzMDZlN2UxNTQ0N2Q5NzJmOWM2MTM0Nzk0NDBjKQogICAgICAgIDsKCiAgICAgICAgCiAgICAKICAgIAogICAgICAgICAgICB2YXIgbWFya2VyX2MxODc1NDMwZDNlYzRiZjhhZTNmYWIzODg3ZTJkMTNmID0gTC5tYXJrZXIoCiAgICAgICAgICAgICAgICBbNDMuNzg0NTM1MSwgLTc5LjE2MDQ5NzA5OTk5OTk5XSwKICAgICAgICAgICAgICAgIHsicGFyc2VIdG1sIjogZmFsc2V9CiAgICAgICAgICAgICkuYWRkVG8obWFwX2ZhMjYwODA1YjIzMjQzOWNhYmVkOTQ1ZjIzY2M3ZjE5KTsKICAgICAgICAKICAgIAogICAgICAgIHZhciBwb3B1cF80MWQzYTRlMTEwZjA0NDM2OTk5N2VkMGQ5OTNiODBhMCA9IEwucG9wdXAoeyJtYXhXaWR0aCI6ICIxMDAlIn0pOwoKICAgICAgICAKICAgICAgICAgICAgdmFyIGh0bWxfMDQ4NTJlMmE2Yjk4NGEzZThmMmViY2M3YWE4ZjZhMWIgPSAkKGA8ZGl2IGlkPSJodG1sXzA0ODUyZTJhNmI5ODRhM2U4ZjJlYmNjN2FhOGY2YTFiIiBzdHlsZT0id2lkdGg6IDEwMC4wJTsgaGVpZ2h0OiAxMDAuMCU7Ij5Sb3VnZSBIaWxsLCBQb3J0IFVuaW9uLCBIaWdobGFuZCBDcmVlayAoU2NhcmJvcm91Z2gpPC9kaXY+YClbMF07CiAgICAgICAgICAgIHBvcHVwXzQxZDNhNGUxMTBmMDQ0MzY5OTk3ZWQwZDk5M2I4MGEwLnNldENvbnRlbnQoaHRtbF8wNDg1MmUyYTZiOTg0YTNlOGYyZWJjYzdhYThmNmExYik7CiAgICAgICAgCgogICAgICAgIG1hcmtlcl9jMTg3NTQzMGQzZWM0YmY4YWUzZmFiMzg4N2UyZDEzZi5iaW5kUG9wdXAocG9wdXBfNDFkM2E0ZTExMGYwNDQzNjk5OTdlZDBkOTkzYjgwYTApCiAgICAgICAgOwoKICAgICAgICAKICAgIAogICAgCiAgICAgICAgICAgIHZhciBtYXJrZXJfM2NkZjM5MTgxZTY4NGJjMGI0NzhkNDU3NmQxZjEyOWIgPSBMLm1hcmtlcigKICAgICAgICAgICAgICAgIFs0My43MjU4OTk3MDAwMDAwMSwgLTc5LjM0MDkyM10sCiAgICAgICAgICAgICAgICB7InBhcnNlSHRtbCI6IGZhbHNlfQogICAgICAgICAgICApLmFkZFRvKG1hcF9mYTI2MDgwNWIyMzI0MzljYWJlZDk0NWYyM2NjN2YxOSk7CiAgICAgICAgCiAgICAKICAgICAgICB2YXIgcG9wdXBfOGEzNjA1MjI4NTNhNDQ3ZWI0YmRjMDAzZmM0NGVmODcgPSBMLnBvcHVwKHsibWF4V2lkdGgiOiAiMTAwJSJ9KTsKCiAgICAgICAgCiAgICAgICAgICAgIHZhciBodG1sXzQzNGRmOGI4NWJhNzQyMGZhYWU5MTA3Y2Y5YmRkZGJkID0gJChgPGRpdiBpZD0iaHRtbF80MzRkZjhiODViYTc0MjBmYWFlOTEwN2NmOWJkZGRiZCIgc3R5bGU9IndpZHRoOiAxMDAuMCU7IGhlaWdodDogMTAwLjAlOyI+RG9uIE1pbGxzIChOb3J0aCBZb3JrKTwvZGl2PmApWzBdOwogICAgICAgICAgICBwb3B1cF84YTM2MDUyMjg1M2E0NDdlYjRiZGMwMDNmYzQ0ZWY4Ny5zZXRDb250ZW50KGh0bWxfNDM0ZGY4Yjg1YmE3NDIwZmFhZTkxMDdjZjliZGRkYmQpOwogICAgICAgIAoKICAgICAgICBtYXJrZXJfM2NkZjM5MTgxZTY4NGJjMGI0NzhkNDU3NmQxZjEyOWIuYmluZFBvcHVwKHBvcHVwXzhhMzYwNTIyODUzYTQ0N2ViNGJkYzAwM2ZjNDRlZjg3KQogICAgICAgIDsKCiAgICAgICAgCiAgICAKICAgIAogICAgICAgICAgICB2YXIgbWFya2VyX2JhMzE0MTI2MjNhMDRhN2E4OGQwMjgyYmE0MDUwYjJiID0gTC5tYXJrZXIoCiAgICAgICAgICAgICAgICBbNDMuNjk1MzQzOTAwMDAwMDA1LCAtNzkuMzE4Mzg4N10sCiAgICAgICAgICAgICAgICB7InBhcnNlSHRtbCI6IGZhbHNlfQogICAgICAgICAgICApLmFkZFRvKG1hcF9mYTI2MDgwNWIyMzI0MzljYWJlZDk0NWYyM2NjN2YxOSk7CiAgICAgICAgCiAgICAKICAgICAgICB2YXIgcG9wdXBfY2RjYmQzMjY3ZjI0NGY1ZTllZGY2YmFjMTc2ZjQzYWYgPSBMLnBvcHVwKHsibWF4V2lkdGgiOiAiMTAwJSJ9KTsKCiAgICAgICAgCiAgICAgICAgICAgIHZhciBodG1sX2UxYzExNzMyYTBjMTQwZGZiMGY4MWRkMzhkYTM3MjkzID0gJChgPGRpdiBpZD0iaHRtbF9lMWMxMTczMmEwYzE0MGRmYjBmODFkZDM4ZGEzNzI5MyIgc3R5bGU9IndpZHRoOiAxMDAuMCU7IGhlaWdodDogMTAwLjAlOyI+V29vZGJpbmUgSGVpZ2h0cyAoRWFzdCBZb3JrKTwvZGl2PmApWzBdOwogICAgICAgICAgICBwb3B1cF9jZGNiZDMyNjdmMjQ0ZjVlOWVkZjZiYWMxNzZmNDNhZi5zZXRDb250ZW50KGh0bWxfZTFjMTE3MzJhMGMxNDBkZmIwZjgxZGQzOGRhMzcyOTMpOwogICAgICAgIAoKICAgICAgICBtYXJrZXJfYmEzMTQxMjYyM2EwNGE3YTg4ZDAyODJiYTQwNTBiMmIuYmluZFBvcHVwKHBvcHVwX2NkY2JkMzI2N2YyNDRmNWU5ZWRmNmJhYzE3NmY0M2FmKQogICAgICAgIDsKCiAgICAgICAgCiAgICAKICAgIAogICAgICAgICAgICB2YXIgbWFya2VyXzAwOGJlYzNkZWI4NDQzNGRhN2Y4OTNmZmE1ODhmYzcxID0gTC5tYXJrZXIoCiAgICAgICAgICAgICAgICBbNDMuNjUxNDkzOSwgLTc5LjM3NTQxNzldLAogICAgICAgICAgICAgICAgeyJwYXJzZUh0bWwiOiBmYWxzZX0KICAgICAgICAgICAgKS5hZGRUbyhtYXBfZmEyNjA4MDViMjMyNDM5Y2FiZWQ5NDVmMjNjYzdmMTkpOwogICAgICAgIAogICAgCiAgICAgICAgdmFyIHBvcHVwX2FhY2I1M2Y1MjQ0YjQ3ZTM4YmEwNGI5OTQ5NTZmNTc5ID0gTC5wb3B1cCh7Im1heFdpZHRoIjogIjEwMCUifSk7CgogICAgICAgIAogICAgICAgICAgICB2YXIgaHRtbF8zMTYyYTI2MDg5Y2Q0YWQwYTBmMWY0Zjc5M2Y1ZGJlZCA9ICQoYDxkaXYgaWQ9Imh0bWxfMzE2MmEyNjA4OWNkNGFkMGEwZjFmNGY3OTNmNWRiZWQiIHN0eWxlPSJ3aWR0aDogMTAwLjAlOyBoZWlnaHQ6IDEwMC4wJTsiPlN0LiBKYW1lcyBUb3duIChEb3dudG93biBUb3JvbnRvKTwvZGl2PmApWzBdOwogICAgICAgICAgICBwb3B1cF9hYWNiNTNmNTI0NGI0N2UzOGJhMDRiOTk0OTU2ZjU3OS5zZXRDb250ZW50KGh0bWxfMzE2MmEyNjA4OWNkNGFkMGEwZjFmNGY3OTNmNWRiZWQpOwogICAgICAgIAoKICAgICAgICBtYXJrZXJfMDA4YmVjM2RlYjg0NDM0ZGE3Zjg5M2ZmYTU4OGZjNzEuYmluZFBvcHVwKHBvcHVwX2FhY2I1M2Y1MjQ0YjQ3ZTM4YmEwNGI5OTQ5NTZmNTc5KQogICAgICAgIDsKCiAgICAgICAgCiAgICAKICAgIAogICAgICAgICAgICB2YXIgbWFya2VyXzk2NTIxNDJiNzYwNzQwYzE4OTZhOTU3Yzc1YTE3MmJlID0gTC5tYXJrZXIoCiAgICAgICAgICAgICAgICBbNDMuNjkzNzgxMywgLTc5LjQyODE5MTQwMDAwMDAyXSwKICAgICAgICAgICAgICAgIHsicGFyc2VIdG1sIjogZmFsc2V9CiAgICAgICAgICAgICkuYWRkVG8obWFwX2ZhMjYwODA1YjIzMjQzOWNhYmVkOTQ1ZjIzY2M3ZjE5KTsKICAgICAgICAKICAgIAogICAgICAgIHZhciBwb3B1cF8wYTIwMzI0YWNjYzA0ZjI1OTcyMDQwYTFjOGEzNzdiMiA9IEwucG9wdXAoeyJtYXhXaWR0aCI6ICIxMDAlIn0pOwoKICAgICAgICAKICAgICAgICAgICAgdmFyIGh0bWxfYTAzOTA2NGYyYWY0NGJiZjlkODYxNTUxODMwZWYxYTYgPSAkKGA8ZGl2IGlkPSJodG1sX2EwMzkwNjRmMmFmNDRiYmY5ZDg2MTU1MTgzMGVmMWE2IiBzdHlsZT0id2lkdGg6IDEwMC4wJTsgaGVpZ2h0OiAxMDAuMCU7Ij5IdW1ld29vZC1DZWRhcnZhbGUgKFlvcmspPC9kaXY+YClbMF07CiAgICAgICAgICAgIHBvcHVwXzBhMjAzMjRhY2NjMDRmMjU5NzIwNDBhMWM4YTM3N2IyLnNldENvbnRlbnQoaHRtbF9hMDM5MDY0ZjJhZjQ0YmJmOWQ4NjE1NTE4MzBlZjFhNik7CiAgICAgICAgCgogICAgICAgIG1hcmtlcl85NjUyMTQyYjc2MDc0MGMxODk2YTk1N2M3NWExNzJiZS5iaW5kUG9wdXAocG9wdXBfMGEyMDMyNGFjY2MwNGYyNTk3MjA0MGExYzhhMzc3YjIpCiAgICAgICAgOwoKICAgICAgICAKICAgIAogICAgCiAgICAgICAgICAgIHZhciBtYXJrZXJfNWM5NWZhYTU1ZTczNGY5ZmI1MTg2Yzk5MWU4NmZmNmMgPSBMLm1hcmtlcigKICAgICAgICAgICAgICAgIFs0My42NDM1MTUyLCAtNzkuNTc3MjAwNzk5OTk5OTldLAogICAgICAgICAgICAgICAgeyJwYXJzZUh0bWwiOiBmYWxzZX0KICAgICAgICAgICAgKS5hZGRUbyhtYXBfZmEyNjA4MDViMjMyNDM5Y2FiZWQ5NDVmMjNjYzdmMTkpOwogICAgICAgIAogICAgCiAgICAgICAgdmFyIHBvcHVwX2IwMDAwYTg1ZDM4MTQ1YmFhYWMyNDJjNzI5YzMyZTdjID0gTC5wb3B1cCh7Im1heFdpZHRoIjogIjEwMCUifSk7CgogICAgICAgIAogICAgICAgICAgICB2YXIgaHRtbF9mMWEwMzRlMWM0ZTQ0Y2UwYTFiMTVkMjAyMWFlN2FhMSA9ICQoYDxkaXYgaWQ9Imh0bWxfZjFhMDM0ZTFjNGU0NGNlMGExYjE1ZDIwMjFhZTdhYTEiIHN0eWxlPSJ3aWR0aDogMTAwLjAlOyBoZWlnaHQ6IDEwMC4wJTsiPkVyaW5nYXRlLCBCbG9vcmRhbGUgR2FyZGVucywgT2xkIEJ1cm5oYW10aG9ycGUsIE1hcmtsYW5kIFdvb2QgKEV0b2JpY29rZSk8L2Rpdj5gKVswXTsKICAgICAgICAgICAgcG9wdXBfYjAwMDBhODVkMzgxNDViYWFhYzI0MmM3MjljMzJlN2Muc2V0Q29udGVudChodG1sX2YxYTAzNGUxYzRlNDRjZTBhMWIxNWQyMDIxYWU3YWExKTsKICAgICAgICAKCiAgICAgICAgbWFya2VyXzVjOTVmYWE1NWU3MzRmOWZiNTE4NmM5OTFlODZmZjZjLmJpbmRQb3B1cChwb3B1cF9iMDAwMGE4NWQzODE0NWJhYWFjMjQyYzcyOWMzMmU3YykKICAgICAgICA7CgogICAgICAgIAogICAgCiAgICAKICAgICAgICAgICAgdmFyIG1hcmtlcl81ZGRiMTE3M2MwNDc0NjdiOGY2ODc0OGI4ZjJjZDFmNyA9IEwubWFya2VyKAogICAgICAgICAgICAgICAgWzQzLjc2MzU3MjYsIC03OS4xODg3MTE1XSwKICAgICAgICAgICAgICAgIHsicGFyc2VIdG1sIjogZmFsc2V9CiAgICAgICAgICAgICkuYWRkVG8obWFwX2ZhMjYwODA1YjIzMjQzOWNhYmVkOTQ1ZjIzY2M3ZjE5KTsKICAgICAgICAKICAgIAogICAgICAgIHZhciBwb3B1cF8yYzY2YmVlOWY0MWQ0YzNmOWZjN2RiYTdhMDNkNDM3OCA9IEwucG9wdXAoeyJtYXhXaWR0aCI6ICIxMDAlIn0pOwoKICAgICAgICAKICAgICAgICAgICAgdmFyIGh0bWxfNmVmOGQwYjE4YzQzNGExNzkwMjJiYWU5YzNkMWRjOTYgPSAkKGA8ZGl2IGlkPSJodG1sXzZlZjhkMGIxOGM0MzRhMTc5MDIyYmFlOWMzZDFkYzk2IiBzdHlsZT0id2lkdGg6IDEwMC4wJTsgaGVpZ2h0OiAxMDAuMCU7Ij5HdWlsZHdvb2QsIE1vcm5pbmdzaWRlLCBXZXN0IEhpbGwgKFNjYXJib3JvdWdoKTwvZGl2PmApWzBdOwogICAgICAgICAgICBwb3B1cF8yYzY2YmVlOWY0MWQ0YzNmOWZjN2RiYTdhMDNkNDM3OC5zZXRDb250ZW50KGh0bWxfNmVmOGQwYjE4YzQzNGExNzkwMjJiYWU5YzNkMWRjOTYpOwogICAgICAgIAoKICAgICAgICBtYXJrZXJfNWRkYjExNzNjMDQ3NDY3YjhmNjg3NDhiOGYyY2QxZjcuYmluZFBvcHVwKHBvcHVwXzJjNjZiZWU5ZjQxZDRjM2Y5ZmM3ZGJhN2EwM2Q0Mzc4KQogICAgICAgIDsKCiAgICAgICAgCiAgICAKICAgIAogICAgICAgICAgICB2YXIgbWFya2VyXzZhMmFkNDVkNzkyNDQyMmE5NWQ3ZDQ1MjE2NjNkNzI4ID0gTC5tYXJrZXIoCiAgICAgICAgICAgICAgICBbNDMuNjc2MzU3Mzk5OTk5OTksIC03OS4yOTMwMzEyXSwKICAgICAgICAgICAgICAgIHsicGFyc2VIdG1sIjogZmFsc2V9CiAgICAgICAgICAgICkuYWRkVG8obWFwX2ZhMjYwODA1YjIzMjQzOWNhYmVkOTQ1ZjIzY2M3ZjE5KTsKICAgICAgICAKICAgIAogICAgICAgIHZhciBwb3B1cF82MDY3OGY0ZGQyMzQ0NWYyOGU5ODEwZjBjYWU5MTVjYSA9IEwucG9wdXAoeyJtYXhXaWR0aCI6ICIxMDAlIn0pOwoKICAgICAgICAKICAgICAgICAgICAgdmFyIGh0bWxfY2NhNjg2ODU2ZGJkNGQ5MGI0YTMyODc1OWRmZTZhMTcgPSAkKGA8ZGl2IGlkPSJodG1sX2NjYTY4Njg1NmRiZDRkOTBiNGEzMjg3NTlkZmU2YTE3IiBzdHlsZT0id2lkdGg6IDEwMC4wJTsgaGVpZ2h0OiAxMDAuMCU7Ij5UaGUgQmVhY2hlcyAoRWFzdCBUb3JvbnRvKTwvZGl2PmApWzBdOwogICAgICAgICAgICBwb3B1cF82MDY3OGY0ZGQyMzQ0NWYyOGU5ODEwZjBjYWU5MTVjYS5zZXRDb250ZW50KGh0bWxfY2NhNjg2ODU2ZGJkNGQ5MGI0YTMyODc1OWRmZTZhMTcpOwogICAgICAgIAoKICAgICAgICBtYXJrZXJfNmEyYWQ0NWQ3OTI0NDIyYTk1ZDdkNDUyMTY2M2Q3MjguYmluZFBvcHVwKHBvcHVwXzYwNjc4ZjRkZDIzNDQ1ZjI4ZTk4MTBmMGNhZTkxNWNhKQogICAgICAgIDsKCiAgICAgICAgCiAgICAKICAgIAogICAgICAgICAgICB2YXIgbWFya2VyX2JjMTY4NjUzODBhMjQ5YzNiMzE2ZDM4ZTUzYzFlZjVlID0gTC5tYXJrZXIoCiAgICAgICAgICAgICAgICBbNDMuNjQ0NzcwNzk5OTk5OTk2LCAtNzkuMzczMzA2NF0sCiAgICAgICAgICAgICAgICB7InBhcnNlSHRtbCI6IGZhbHNlfQogICAgICAgICAgICApLmFkZFRvKG1hcF9mYTI2MDgwNWIyMzI0MzljYWJlZDk0NWYyM2NjN2YxOSk7CiAgICAgICAgCiAgICAKICAgICAgICB2YXIgcG9wdXBfMGQwNDk5OWMyNDA1NDVlODhlMDhiMDg1MDczYmM3MTIgPSBMLnBvcHVwKHsibWF4V2lkdGgiOiAiMTAwJSJ9KTsKCiAgICAgICAgCiAgICAgICAgICAgIHZhciBodG1sXzAyY2Y5NDMyYTE5YzRkNzdhZTMwZmI2MGI4MDExNDAwID0gJChgPGRpdiBpZD0iaHRtbF8wMmNmOTQzMmExOWM0ZDc3YWUzMGZiNjBiODAxMTQwMCIgc3R5bGU9IndpZHRoOiAxMDAuMCU7IGhlaWdodDogMTAwLjAlOyI+QmVyY3p5IFBhcmsgKERvd250b3duIFRvcm9udG8pPC9kaXY+YClbMF07CiAgICAgICAgICAgIHBvcHVwXzBkMDQ5OTljMjQwNTQ1ZTg4ZTA4YjA4NTA3M2JjNzEyLnNldENvbnRlbnQoaHRtbF8wMmNmOTQzMmExOWM0ZDc3YWUzMGZiNjBiODAxMTQwMCk7CiAgICAgICAgCgogICAgICAgIG1hcmtlcl9iYzE2ODY1MzgwYTI0OWMzYjMxNmQzOGU1M2MxZWY1ZS5iaW5kUG9wdXAocG9wdXBfMGQwNDk5OWMyNDA1NDVlODhlMDhiMDg1MDczYmM3MTIpCiAgICAgICAgOwoKICAgICAgICAKICAgIAogICAgCiAgICAgICAgICAgIHZhciBtYXJrZXJfMGYwNzNhMzMzNGM4NDFhMDg1MmMyNjcwMDJmN2M0Y2IgPSBMLm1hcmtlcigKICAgICAgICAgICAgICAgIFs0My42ODkwMjU2LCAtNzkuNDUzNTEyXSwKICAgICAgICAgICAgICAgIHsicGFyc2VIdG1sIjogZmFsc2V9CiAgICAgICAgICAgICkuYWRkVG8obWFwX2ZhMjYwODA1YjIzMjQzOWNhYmVkOTQ1ZjIzY2M3ZjE5KTsKICAgICAgICAKICAgIAogICAgICAgIHZhciBwb3B1cF8zMWRhYzZhZjRlNjQ0NzU0YTA1NDdmZTY5ZDljNmJmYyA9IEwucG9wdXAoeyJtYXhXaWR0aCI6ICIxMDAlIn0pOwoKICAgICAgICAKICAgICAgICAgICAgdmFyIGh0bWxfZDdkMWZlZDkzZjRjNDkyYWI2N2E4MTZkYjQzMjE1OGQgPSAkKGA8ZGl2IGlkPSJodG1sX2Q3ZDFmZWQ5M2Y0YzQ5MmFiNjdhODE2ZGI0MzIxNThkIiBzdHlsZT0id2lkdGg6IDEwMC4wJTsgaGVpZ2h0OiAxMDAuMCU7Ij5DYWxlZG9uaWEtRmFpcmJhbmtzIChZb3JrKTwvZGl2PmApWzBdOwogICAgICAgICAgICBwb3B1cF8zMWRhYzZhZjRlNjQ0NzU0YTA1NDdmZTY5ZDljNmJmYy5zZXRDb250ZW50KGh0bWxfZDdkMWZlZDkzZjRjNDkyYWI2N2E4MTZkYjQzMjE1OGQpOwogICAgICAgIAoKICAgICAgICBtYXJrZXJfMGYwNzNhMzMzNGM4NDFhMDg1MmMyNjcwMDJmN2M0Y2IuYmluZFBvcHVwKHBvcHVwXzMxZGFjNmFmNGU2NDQ3NTRhMDU0N2ZlNjlkOWM2YmZjKQogICAgICAgIDsKCiAgICAgICAgCiAgICAKICAgIAogICAgICAgICAgICB2YXIgbWFya2VyX2I5NzNkNGExOGVhMDRmODM5Njg0ZWJmY2JiZTQ3OWI2ID0gTC5tYXJrZXIoCiAgICAgICAgICAgICAgICBbNDMuNzcwOTkyMSwgLTc5LjIxNjkxNzQwMDAwMDAxXSwKICAgICAgICAgICAgICAgIHsicGFyc2VIdG1sIjogZmFsc2V9CiAgICAgICAgICAgICkuYWRkVG8obWFwX2ZhMjYwODA1YjIzMjQzOWNhYmVkOTQ1ZjIzY2M3ZjE5KTsKICAgICAgICAKICAgIAogICAgICAgIHZhciBwb3B1cF9lNDIyNzRjZDMyNDI0M2M5OTBhZGQ4ZGU2NWQ3Njg4YyA9IEwucG9wdXAoeyJtYXhXaWR0aCI6ICIxMDAlIn0pOwoKICAgICAgICAKICAgICAgICAgICAgdmFyIGh0bWxfZTgwZTRlMDg1NWVkNDM0MTlkNDM5M2QyYzhmOGE1YzUgPSAkKGA8ZGl2IGlkPSJodG1sX2U4MGU0ZTA4NTVlZDQzNDE5ZDQzOTNkMmM4ZjhhNWM1IiBzdHlsZT0id2lkdGg6IDEwMC4wJTsgaGVpZ2h0OiAxMDAuMCU7Ij5Xb2J1cm4gKFNjYXJib3JvdWdoKTwvZGl2PmApWzBdOwogICAgICAgICAgICBwb3B1cF9lNDIyNzRjZDMyNDI0M2M5OTBhZGQ4ZGU2NWQ3Njg4Yy5zZXRDb250ZW50KGh0bWxfZTgwZTRlMDg1NWVkNDM0MTlkNDM5M2QyYzhmOGE1YzUpOwogICAgICAgIAoKICAgICAgICBtYXJrZXJfYjk3M2Q0YTE4ZWEwNGY4Mzk2ODRlYmZjYmJlNDc5YjYuYmluZFBvcHVwKHBvcHVwX2U0MjI3NGNkMzI0MjQzYzk5MGFkZDhkZTY1ZDc2ODhjKQogICAgICAgIDsKCiAgICAgICAgCiAgICAKICAgIAogICAgICAgICAgICB2YXIgbWFya2VyXzRiNzQ0OGYyNDhkNTQzYzlhMzk3NGZmOTUxYmQ0MWQyID0gTC5tYXJrZXIoCiAgICAgICAgICAgICAgICBbNDMuNzA5MDYwNCwgLTc5LjM2MzQ1MTddLAogICAgICAgICAgICAgICAgeyJwYXJzZUh0bWwiOiBmYWxzZX0KICAgICAgICAgICAgKS5hZGRUbyhtYXBfZmEyNjA4MDViMjMyNDM5Y2FiZWQ5NDVmMjNjYzdmMTkpOwogICAgICAgIAogICAgCiAgICAgICAgdmFyIHBvcHVwXzA3MmFlZTZiNGZmNjQ2M2JiNGEzNjU1MTQ1M2I3MjJkID0gTC5wb3B1cCh7Im1heFdpZHRoIjogIjEwMCUifSk7CgogICAgICAgIAogICAgICAgICAgICB2YXIgaHRtbF9hNTRkYmNlYzM2MzM0MDcyYjYzMDg5NTA3MTI5NDY2OCA9ICQoYDxkaXYgaWQ9Imh0bWxfYTU0ZGJjZWMzNjMzNDA3MmI2MzA4OTUwNzEyOTQ2NjgiIHN0eWxlPSJ3aWR0aDogMTAwLjAlOyBoZWlnaHQ6IDEwMC4wJTsiPkxlYXNpZGUgKEVhc3QgWW9yayk8L2Rpdj5gKVswXTsKICAgICAgICAgICAgcG9wdXBfMDcyYWVlNmI0ZmY2NDYzYmI0YTM2NTUxNDUzYjcyMmQuc2V0Q29udGVudChodG1sX2E1NGRiY2VjMzYzMzQwNzJiNjMwODk1MDcxMjk0NjY4KTsKICAgICAgICAKCiAgICAgICAgbWFya2VyXzRiNzQ0OGYyNDhkNTQzYzlhMzk3NGZmOTUxYmQ0MWQyLmJpbmRQb3B1cChwb3B1cF8wNzJhZWU2YjRmZjY0NjNiYjRhMzY1NTE0NTNiNzIyZCkKICAgICAgICA7CgogICAgICAgIAogICAgCiAgICAKICAgICAgICAgICAgdmFyIG1hcmtlcl8wZmFiMDU4OGMzMGI0NWJkODdlMzYyNmNlMDg1MWI4YiA9IEwubWFya2VyKAogICAgICAgICAgICAgICAgWzQzLjY1Nzk1MjQsIC03OS4zODczODI2XSwKICAgICAgICAgICAgICAgIHsicGFyc2VIdG1sIjogZmFsc2V9CiAgICAgICAgICAgICkuYWRkVG8obWFwX2ZhMjYwODA1YjIzMjQzOWNhYmVkOTQ1ZjIzY2M3ZjE5KTsKICAgICAgICAKICAgIAogICAgICAgIHZhciBwb3B1cF84MGM5MDM0M2JlNGQ0YmYyODI2OWE1ZjkzYzBkNGViMSA9IEwucG9wdXAoeyJtYXhXaWR0aCI6ICIxMDAlIn0pOwoKICAgICAgICAKICAgICAgICAgICAgdmFyIGh0bWxfMzRjNjZjZjgxZWYyNGE0NzlkYTFlNWViOGNhMTE3MDAgPSAkKGA8ZGl2IGlkPSJodG1sXzM0YzY2Y2Y4MWVmMjRhNDc5ZGExZTVlYjhjYTExNzAwIiBzdHlsZT0id2lkdGg6IDEwMC4wJTsgaGVpZ2h0OiAxMDAuMCU7Ij5DZW50cmFsIEJheSBTdHJlZXQgKERvd250b3duIFRvcm9udG8pPC9kaXY+YClbMF07CiAgICAgICAgICAgIHBvcHVwXzgwYzkwMzQzYmU0ZDRiZjI4MjY5YTVmOTNjMGQ0ZWIxLnNldENvbnRlbnQoaHRtbF8zNGM2NmNmODFlZjI0YTQ3OWRhMWU1ZWI4Y2ExMTcwMCk7CiAgICAgICAgCgogICAgICAgIG1hcmtlcl8wZmFiMDU4OGMzMGI0NWJkODdlMzYyNmNlMDg1MWI4Yi5iaW5kUG9wdXAocG9wdXBfODBjOTAzNDNiZTRkNGJmMjgyNjlhNWY5M2MwZDRlYjEpCiAgICAgICAgOwoKICAgICAgICAKICAgIAogICAgCiAgICAgICAgICAgIHZhciBtYXJrZXJfNjBhNzYwODRhZTNiNGZjMGFiOGQ3ODQzMjc2YTY1YzEgPSBMLm1hcmtlcigKICAgICAgICAgICAgICAgIFs0My42Njk1NDIsIC03OS40MjI1NjM3XSwKICAgICAgICAgICAgICAgIHsicGFyc2VIdG1sIjogZmFsc2V9CiAgICAgICAgICAgICkuYWRkVG8obWFwX2ZhMjYwODA1YjIzMjQzOWNhYmVkOTQ1ZjIzY2M3ZjE5KTsKICAgICAgICAKICAgIAogICAgICAgIHZhciBwb3B1cF84NjI2YTk3MmI2MTM0ZjBlODYxMzkxYTkwMGI0MzYyOSA9IEwucG9wdXAoeyJtYXhXaWR0aCI6ICIxMDAlIn0pOwoKICAgICAgICAKICAgICAgICAgICAgdmFyIGh0bWxfODMzMjhiODQ3YzczNGU4MDg4MzU3NTg2NDJiYTI4YWMgPSAkKGA8ZGl2IGlkPSJodG1sXzgzMzI4Yjg0N2M3MzRlODA4ODM1NzU4NjQyYmEyOGFjIiBzdHlsZT0id2lkdGg6IDEwMC4wJTsgaGVpZ2h0OiAxMDAuMCU7Ij5DaHJpc3RpZSAoRG93bnRvd24gVG9yb250byk8L2Rpdj5gKVswXTsKICAgICAgICAgICAgcG9wdXBfODYyNmE5NzJiNjEzNGYwZTg2MTM5MWE5MDBiNDM2Mjkuc2V0Q29udGVudChodG1sXzgzMzI4Yjg0N2M3MzRlODA4ODM1NzU4NjQyYmEyOGFjKTsKICAgICAgICAKCiAgICAgICAgbWFya2VyXzYwYTc2MDg0YWUzYjRmYzBhYjhkNzg0MzI3NmE2NWMxLmJpbmRQb3B1cChwb3B1cF84NjI2YTk3MmI2MTM0ZjBlODYxMzkxYTkwMGI0MzYyOSkKICAgICAgICA7CgogICAgICAgIAogICAgCiAgICAKICAgICAgICAgICAgdmFyIG1hcmtlcl84N2E3MTM2ODJhMTI0N2MzODBhODFjNjkyNTE0MGQyYyA9IEwubWFya2VyKAogICAgICAgICAgICAgICAgWzQzLjc3MzEzNiwgLTc5LjIzOTQ3NjA5OTk5OTk5XSwKICAgICAgICAgICAgICAgIHsicGFyc2VIdG1sIjogZmFsc2V9CiAgICAgICAgICAgICkuYWRkVG8obWFwX2ZhMjYwODA1YjIzMjQzOWNhYmVkOTQ1ZjIzY2M3ZjE5KTsKICAgICAgICAKICAgIAogICAgICAgIHZhciBwb3B1cF8wMjc3ZWVkY2FiZGY0NTljOWRjYmRhMzY3ODEyYjlhOCA9IEwucG9wdXAoeyJtYXhXaWR0aCI6ICIxMDAlIn0pOwoKICAgICAgICAKICAgICAgICAgICAgdmFyIGh0bWxfMzJmNzY1NDQwNjAwNGU2YTkxZmY2MmI4NmRkOTZiNTggPSAkKGA8ZGl2IGlkPSJodG1sXzMyZjc2NTQ0MDYwMDRlNmE5MWZmNjJiODZkZDk2YjU4IiBzdHlsZT0id2lkdGg6IDEwMC4wJTsgaGVpZ2h0OiAxMDAuMCU7Ij5DZWRhcmJyYWUgKFNjYXJib3JvdWdoKTwvZGl2PmApWzBdOwogICAgICAgICAgICBwb3B1cF8wMjc3ZWVkY2FiZGY0NTljOWRjYmRhMzY3ODEyYjlhOC5zZXRDb250ZW50KGh0bWxfMzJmNzY1NDQwNjAwNGU2YTkxZmY2MmI4NmRkOTZiNTgpOwogICAgICAgIAoKICAgICAgICBtYXJrZXJfODdhNzEzNjgyYTEyNDdjMzgwYTgxYzY5MjUxNDBkMmMuYmluZFBvcHVwKHBvcHVwXzAyNzdlZWRjYWJkZjQ1OWM5ZGNiZGEzNjc4MTJiOWE4KQogICAgICAgIDsKCiAgICAgICAgCiAgICAKICAgIAogICAgICAgICAgICB2YXIgbWFya2VyX2JkZWE1ZjI1ZDBmOTQ5MDFiMzliN2I2ZGI2MDA1ZThlID0gTC5tYXJrZXIoCiAgICAgICAgICAgICAgICBbNDMuODAzNzYyMiwgLTc5LjM2MzQ1MTddLAogICAgICAgICAgICAgICAgeyJwYXJzZUh0bWwiOiBmYWxzZX0KICAgICAgICAgICAgKS5hZGRUbyhtYXBfZmEyNjA4MDViMjMyNDM5Y2FiZWQ5NDVmMjNjYzdmMTkpOwogICAgICAgIAogICAgCiAgICAgICAgdmFyIHBvcHVwX2Q3Y2RiN2Q1OGNlMzRkZjM5MDdmMjM0YTk5Mjk4NGNlID0gTC5wb3B1cCh7Im1heFdpZHRoIjogIjEwMCUifSk7CgogICAgICAgIAogICAgICAgICAgICB2YXIgaHRtbF8wNzRhMTQwNDY2Zjg0OGM3OTU4N2RmZDI1ZDg0ZDBjZSA9ICQoYDxkaXYgaWQ9Imh0bWxfMDc0YTE0MDQ2NmY4NDhjNzk1ODdkZmQyNWQ4NGQwY2UiIHN0eWxlPSJ3aWR0aDogMTAwLjAlOyBoZWlnaHQ6IDEwMC4wJTsiPkhpbGxjcmVzdCBWaWxsYWdlIChOb3J0aCBZb3JrKTwvZGl2PmApWzBdOwogICAgICAgICAgICBwb3B1cF9kN2NkYjdkNThjZTM0ZGYzOTA3ZjIzNGE5OTI5ODRjZS5zZXRDb250ZW50KGh0bWxfMDc0YTE0MDQ2NmY4NDhjNzk1ODdkZmQyNWQ4NGQwY2UpOwogICAgICAgIAoKICAgICAgICBtYXJrZXJfYmRlYTVmMjVkMGY5NDkwMWIzOWI3YjZkYjYwMDVlOGUuYmluZFBvcHVwKHBvcHVwX2Q3Y2RiN2Q1OGNlMzRkZjM5MDdmMjM0YTk5Mjk4NGNlKQogICAgICAgIDsKCiAgICAgICAgCiAgICAKICAgIAogICAgICAgICAgICB2YXIgbWFya2VyX2Y5ZTEwYjc3NTY2MjQzODliOTAwMWJmZTFlZjMwMzIzID0gTC5tYXJrZXIoCiAgICAgICAgICAgICAgICBbNDMuNzU0MzI4MywgLTc5LjQ0MjI1OTNdLAogICAgICAgICAgICAgICAgeyJwYXJzZUh0bWwiOiBmYWxzZX0KICAgICAgICAgICAgKS5hZGRUbyhtYXBfZmEyNjA4MDViMjMyNDM5Y2FiZWQ5NDVmMjNjYzdmMTkpOwogICAgICAgIAogICAgCiAgICAgICAgdmFyIHBvcHVwXzE4MTE4YTUyNmMzZjRlYzc4ZThjNjJhM2Y3NGE3YjMxID0gTC5wb3B1cCh7Im1heFdpZHRoIjogIjEwMCUifSk7CgogICAgICAgIAogICAgICAgICAgICB2YXIgaHRtbF8xNWQxYjkxYzczNWM0N2RkOWNlYzFjZWQ2ZWYyNGFjMyA9ICQoYDxkaXYgaWQ9Imh0bWxfMTVkMWI5MWM3MzVjNDdkZDljZWMxY2VkNmVmMjRhYzMiIHN0eWxlPSJ3aWR0aDogMTAwLjAlOyBoZWlnaHQ6IDEwMC4wJTsiPkJhdGh1cnN0IE1hbm9yLCBXaWxzb24gSGVpZ2h0cywgRG93bnN2aWV3IE5vcnRoIChOb3J0aCBZb3JrKTwvZGl2PmApWzBdOwogICAgICAgICAgICBwb3B1cF8xODExOGE1MjZjM2Y0ZWM3OGU4YzYyYTNmNzRhN2IzMS5zZXRDb250ZW50KGh0bWxfMTVkMWI5MWM3MzVjNDdkZDljZWMxY2VkNmVmMjRhYzMpOwogICAgICAgIAoKICAgICAgICBtYXJrZXJfZjllMTBiNzc1NjYyNDM4OWI5MDAxYmZlMWVmMzAzMjMuYmluZFBvcHVwKHBvcHVwXzE4MTE4YTUyNmMzZjRlYzc4ZThjNjJhM2Y3NGE3YjMxKQogICAgICAgIDsKCiAgICAgICAgCiAgICAKICAgIAogICAgICAgICAgICB2YXIgbWFya2VyXzk5N2RhNTBhN2UyMTQ5YmU5MGVkN2NiMDczOGJjMzI4ID0gTC5tYXJrZXIoCiAgICAgICAgICAgICAgICBbNDMuNzA1MzY4OSwgLTc5LjM0OTM3MTkwMDAwMDAxXSwKICAgICAgICAgICAgICAgIHsicGFyc2VIdG1sIjogZmFsc2V9CiAgICAgICAgICAgICkuYWRkVG8obWFwX2ZhMjYwODA1YjIzMjQzOWNhYmVkOTQ1ZjIzY2M3ZjE5KTsKICAgICAgICAKICAgIAogICAgICAgIHZhciBwb3B1cF82YTEyZmViZTQwODQ0MDExOWQ0NmZiOThmNTE3ZTU1YiA9IEwucG9wdXAoeyJtYXhXaWR0aCI6ICIxMDAlIn0pOwoKICAgICAgICAKICAgICAgICAgICAgdmFyIGh0bWxfZTZkZDcxYTU0YTU1NGMyMjlhYmFhNTFmODZhMWFhN2QgPSAkKGA8ZGl2IGlkPSJodG1sX2U2ZGQ3MWE1NGE1NTRjMjI5YWJhYTUxZjg2YTFhYTdkIiBzdHlsZT0id2lkdGg6IDEwMC4wJTsgaGVpZ2h0OiAxMDAuMCU7Ij5UaG9ybmNsaWZmZSBQYXJrIChFYXN0IFlvcmspPC9kaXY+YClbMF07CiAgICAgICAgICAgIHBvcHVwXzZhMTJmZWJlNDA4NDQwMTE5ZDQ2ZmI5OGY1MTdlNTViLnNldENvbnRlbnQoaHRtbF9lNmRkNzFhNTRhNTU0YzIyOWFiYWE1MWY4NmExYWE3ZCk7CiAgICAgICAgCgogICAgICAgIG1hcmtlcl85OTdkYTUwYTdlMjE0OWJlOTBlZDdjYjA3MzhiYzMyOC5iaW5kUG9wdXAocG9wdXBfNmExMmZlYmU0MDg0NDAxMTlkNDZmYjk4ZjUxN2U1NWIpCiAgICAgICAgOwoKICAgICAgICAKICAgIAogICAgCiAgICAgICAgICAgIHZhciBtYXJrZXJfYjQyYThhMTBjY2ExNGZkYjlmNjdkZjM4N2JhYzQ1ZmQgPSBMLm1hcmtlcigKICAgICAgICAgICAgICAgIFs0My42NTA1NzEyMDAwMDAwMSwgLTc5LjM4NDU2NzVdLAogICAgICAgICAgICAgICAgeyJwYXJzZUh0bWwiOiBmYWxzZX0KICAgICAgICAgICAgKS5hZGRUbyhtYXBfZmEyNjA4MDViMjMyNDM5Y2FiZWQ5NDVmMjNjYzdmMTkpOwogICAgICAgIAogICAgCiAgICAgICAgdmFyIHBvcHVwXzNiZGViMDBlODI4ODRjOGU4N2I5OTUwZmJjMzE4ZGI1ID0gTC5wb3B1cCh7Im1heFdpZHRoIjogIjEwMCUifSk7CgogICAgICAgIAogICAgICAgICAgICB2YXIgaHRtbF8yMGEyNWQ5NDEwNGY0NDc2OTMyNWY2MjJjZjNlZDA2MiA9ICQoYDxkaXYgaWQ9Imh0bWxfMjBhMjVkOTQxMDRmNDQ3NjkzMjVmNjIyY2YzZWQwNjIiIHN0eWxlPSJ3aWR0aDogMTAwLjAlOyBoZWlnaHQ6IDEwMC4wJTsiPlJpY2htb25kLCBBZGVsYWlkZSwgS2luZyAoRG93bnRvd24gVG9yb250byk8L2Rpdj5gKVswXTsKICAgICAgICAgICAgcG9wdXBfM2JkZWIwMGU4Mjg4NGM4ZTg3Yjk5NTBmYmMzMThkYjUuc2V0Q29udGVudChodG1sXzIwYTI1ZDk0MTA0ZjQ0NzY5MzI1ZjYyMmNmM2VkMDYyKTsKICAgICAgICAKCiAgICAgICAgbWFya2VyX2I0MmE4YTEwY2NhMTRmZGI5ZjY3ZGYzODdiYWM0NWZkLmJpbmRQb3B1cChwb3B1cF8zYmRlYjAwZTgyODg0YzhlODdiOTk1MGZiYzMxOGRiNSkKICAgICAgICA7CgogICAgICAgIAogICAgCiAgICAKICAgICAgICAgICAgdmFyIG1hcmtlcl85M2ZjMzA3ZWI2MjQ0YjM2ODY4ZGJkZGNjNzUxMGEzYSA9IEwubWFya2VyKAogICAgICAgICAgICAgICAgWzQzLjY2OTAwNTEwMDAwMDAxLCAtNzkuNDQyMjU5M10sCiAgICAgICAgICAgICAgICB7InBhcnNlSHRtbCI6IGZhbHNlfQogICAgICAgICAgICApLmFkZFRvKG1hcF9mYTI2MDgwNWIyMzI0MzljYWJlZDk0NWYyM2NjN2YxOSk7CiAgICAgICAgCiAgICAKICAgICAgICB2YXIgcG9wdXBfZTM0ZjY0YmNjOTdkNDY2Mzk2NWQ1MzVjNzUwOTkyNjAgPSBMLnBvcHVwKHsibWF4V2lkdGgiOiAiMTAwJSJ9KTsKCiAgICAgICAgCiAgICAgICAgICAgIHZhciBodG1sXzgxN2FkMTgwNjFkMjRhNTE4NzdiYmJmZGIyYTAyZWQ4ID0gJChgPGRpdiBpZD0iaHRtbF84MTdhZDE4MDYxZDI0YTUxODc3YmJiZmRiMmEwMmVkOCIgc3R5bGU9IndpZHRoOiAxMDAuMCU7IGhlaWdodDogMTAwLjAlOyI+RHVmZmVyaW4sIERvdmVyY291cnQgVmlsbGFnZSAoV2VzdCBUb3JvbnRvKTwvZGl2PmApWzBdOwogICAgICAgICAgICBwb3B1cF9lMzRmNjRiY2M5N2Q0NjYzOTY1ZDUzNWM3NTA5OTI2MC5zZXRDb250ZW50KGh0bWxfODE3YWQxODA2MWQyNGE1MTg3N2JiYmZkYjJhMDJlZDgpOwogICAgICAgIAoKICAgICAgICBtYXJrZXJfOTNmYzMwN2ViNjI0NGIzNjg2OGRiZGRjYzc1MTBhM2EuYmluZFBvcHVwKHBvcHVwX2UzNGY2NGJjYzk3ZDQ2NjM5NjVkNTM1Yzc1MDk5MjYwKQogICAgICAgIDsKCiAgICAgICAgCiAgICAKICAgIAogICAgICAgICAgICB2YXIgbWFya2VyXzUxMjY5NTM3M2Q5YzRlNjNhY2Q5ZWQ3YWJkNTM5MmI4ID0gTC5tYXJrZXIoCiAgICAgICAgICAgICAgICBbNDMuNzQ0NzM0MiwgLTc5LjIzOTQ3NjA5OTk5OTk5XSwKICAgICAgICAgICAgICAgIHsicGFyc2VIdG1sIjogZmFsc2V9CiAgICAgICAgICAgICkuYWRkVG8obWFwX2ZhMjYwODA1YjIzMjQzOWNhYmVkOTQ1ZjIzY2M3ZjE5KTsKICAgICAgICAKICAgIAogICAgICAgIHZhciBwb3B1cF9hNDdjYTIzMDJiODI0YjdkOTVlMDI4NmFkN2MzZTBlMyA9IEwucG9wdXAoeyJtYXhXaWR0aCI6ICIxMDAlIn0pOwoKICAgICAgICAKICAgICAgICAgICAgdmFyIGh0bWxfNjk5MWQ1NDE3N2M2NDg0Mzk0MDYzYjAyMTVjYjUwN2IgPSAkKGA8ZGl2IGlkPSJodG1sXzY5OTFkNTQxNzdjNjQ4NDM5NDA2M2IwMjE1Y2I1MDdiIiBzdHlsZT0id2lkdGg6IDEwMC4wJTsgaGVpZ2h0OiAxMDAuMCU7Ij5TY2FyYm9yb3VnaCBWaWxsYWdlIChTY2FyYm9yb3VnaCk8L2Rpdj5gKVswXTsKICAgICAgICAgICAgcG9wdXBfYTQ3Y2EyMzAyYjgyNGI3ZDk1ZTAyODZhZDdjM2UwZTMuc2V0Q29udGVudChodG1sXzY5OTFkNTQxNzdjNjQ4NDM5NDA2M2IwMjE1Y2I1MDdiKTsKICAgICAgICAKCiAgICAgICAgbWFya2VyXzUxMjY5NTM3M2Q5YzRlNjNhY2Q5ZWQ3YWJkNTM5MmI4LmJpbmRQb3B1cChwb3B1cF9hNDdjYTIzMDJiODI0YjdkOTVlMDI4NmFkN2MzZTBlMykKICAgICAgICA7CgogICAgICAgIAogICAgCiAgICAKICAgICAgICAgICAgdmFyIG1hcmtlcl82MDdlNzViODVjYWU0ZmFiOThhOGY3YmEwZWI4MTQyMyA9IEwubWFya2VyKAogICAgICAgICAgICAgICAgWzQzLjc3ODUxNzUsIC03OS4zNDY1NTU3XSwKICAgICAgICAgICAgICAgIHsicGFyc2VIdG1sIjogZmFsc2V9CiAgICAgICAgICAgICkuYWRkVG8obWFwX2ZhMjYwODA1YjIzMjQzOWNhYmVkOTQ1ZjIzY2M3ZjE5KTsKICAgICAgICAKICAgIAogICAgICAgIHZhciBwb3B1cF81ODZhNTljOWI4ODI0NDZlOGFkNDBkNWNhMDFmYzkyZSA9IEwucG9wdXAoeyJtYXhXaWR0aCI6ICIxMDAlIn0pOwoKICAgICAgICAKICAgICAgICAgICAgdmFyIGh0bWxfOTRlOTBmZTNmMmZjNDEwYzhkNWJhYTVjNzcwNjNhNTAgPSAkKGA8ZGl2IGlkPSJodG1sXzk0ZTkwZmUzZjJmYzQxMGM4ZDViYWE1Yzc3MDYzYTUwIiBzdHlsZT0id2lkdGg6IDEwMC4wJTsgaGVpZ2h0OiAxMDAuMCU7Ij5GYWlydmlldywgSGVucnkgRmFybSwgT3Jpb2xlIChOb3J0aCBZb3JrKTwvZGl2PmApWzBdOwogICAgICAgICAgICBwb3B1cF81ODZhNTljOWI4ODI0NDZlOGFkNDBkNWNhMDFmYzkyZS5zZXRDb250ZW50KGh0bWxfOTRlOTBmZTNmMmZjNDEwYzhkNWJhYTVjNzcwNjNhNTApOwogICAgICAgIAoKICAgICAgICBtYXJrZXJfNjA3ZTc1Yjg1Y2FlNGZhYjk4YThmN2JhMGViODE0MjMuYmluZFBvcHVwKHBvcHVwXzU4NmE1OWM5Yjg4MjQ0NmU4YWQ0MGQ1Y2EwMWZjOTJlKQogICAgICAgIDsKCiAgICAgICAgCiAgICAKICAgIAogICAgICAgICAgICB2YXIgbWFya2VyXzU0MGQxN2FiMzgwMzRjYjA5YzQ4ZDU2ODIxOGQ0NWQ2ID0gTC5tYXJrZXIoCiAgICAgICAgICAgICAgICBbNDMuNzY3OTgwMywgLTc5LjQ4NzI2MTkwMDAwMDAxXSwKICAgICAgICAgICAgICAgIHsicGFyc2VIdG1sIjogZmFsc2V9CiAgICAgICAgICAgICkuYWRkVG8obWFwX2ZhMjYwODA1YjIzMjQzOWNhYmVkOTQ1ZjIzY2M3ZjE5KTsKICAgICAgICAKICAgIAogICAgICAgIHZhciBwb3B1cF83ZGY1MWM4MTUyYTA0YmE1YTViZThmYTk1ZDE2ZWU4NSA9IEwucG9wdXAoeyJtYXhXaWR0aCI6ICIxMDAlIn0pOwoKICAgICAgICAKICAgICAgICAgICAgdmFyIGh0bWxfYTRmNDA4OGY0ZTE3NDgyYTgxZDkwOTNkMjVlNWExN2EgPSAkKGA8ZGl2IGlkPSJodG1sX2E0ZjQwODhmNGUxNzQ4MmE4MWQ5MDkzZDI1ZTVhMTdhIiBzdHlsZT0id2lkdGg6IDEwMC4wJTsgaGVpZ2h0OiAxMDAuMCU7Ij5Ob3J0aHdvb2QgUGFyaywgWW9yayBVbml2ZXJzaXR5IChOb3J0aCBZb3JrKTwvZGl2PmApWzBdOwogICAgICAgICAgICBwb3B1cF83ZGY1MWM4MTUyYTA0YmE1YTViZThmYTk1ZDE2ZWU4NS5zZXRDb250ZW50KGh0bWxfYTRmNDA4OGY0ZTE3NDgyYTgxZDkwOTNkMjVlNWExN2EpOwogICAgICAgIAoKICAgICAgICBtYXJrZXJfNTQwZDE3YWIzODAzNGNiMDljNDhkNTY4MjE4ZDQ1ZDYuYmluZFBvcHVwKHBvcHVwXzdkZjUxYzgxNTJhMDRiYTVhNWJlOGZhOTVkMTZlZTg1KQogICAgICAgIDsKCiAgICAgICAgCiAgICAKICAgIAogICAgICAgICAgICB2YXIgbWFya2VyX2VjMzgyZDQ0YTFmYzQ5YzVhMzg1OWJlZmU5ODQxZjljID0gTC5tYXJrZXIoCiAgICAgICAgICAgICAgICBbNDMuNjg1MzQ3LCAtNzkuMzM4MTA2NV0sCiAgICAgICAgICAgICAgICB7InBhcnNlSHRtbCI6IGZhbHNlfQogICAgICAgICAgICApLmFkZFRvKG1hcF9mYTI2MDgwNWIyMzI0MzljYWJlZDk0NWYyM2NjN2YxOSk7CiAgICAgICAgCiAgICAKICAgICAgICB2YXIgcG9wdXBfMDhiMmIxYjM0YjM3NGNjYjk2MTYxYWY0YzFlMDFmZmYgPSBMLnBvcHVwKHsibWF4V2lkdGgiOiAiMTAwJSJ9KTsKCiAgICAgICAgCiAgICAgICAgICAgIHZhciBodG1sX2FmYjBiZjk5ZTJmZDQwNjU5YjY1ZWE1NDhmZjUzNTQzID0gJChgPGRpdiBpZD0iaHRtbF9hZmIwYmY5OWUyZmQ0MDY1OWI2NWVhNTQ4ZmY1MzU0MyIgc3R5bGU9IndpZHRoOiAxMDAuMCU7IGhlaWdodDogMTAwLjAlOyI+RWFzdCBUb3JvbnRvLCBCcm9hZHZpZXcgTm9ydGggKE9sZCBFYXN0IFlvcmspIChFYXN0IFlvcmspPC9kaXY+YClbMF07CiAgICAgICAgICAgIHBvcHVwXzA4YjJiMWIzNGIzNzRjY2I5NjE2MWFmNGMxZTAxZmZmLnNldENvbnRlbnQoaHRtbF9hZmIwYmY5OWUyZmQ0MDY1OWI2NWVhNTQ4ZmY1MzU0Myk7CiAgICAgICAgCgogICAgICAgIG1hcmtlcl9lYzM4MmQ0NGExZmM0OWM1YTM4NTliZWZlOTg0MWY5Yy5iaW5kUG9wdXAocG9wdXBfMDhiMmIxYjM0YjM3NGNjYjk2MTYxYWY0YzFlMDFmZmYpCiAgICAgICAgOwoKICAgICAgICAKICAgIAogICAgCiAgICAgICAgICAgIHZhciBtYXJrZXJfY2YyNTcyNzhjNjE0NDcxNjg3ZjY3M2M3N2FlYWQ4ZDYgPSBMLm1hcmtlcigKICAgICAgICAgICAgICAgIFs0My42NDA4MTU3LCAtNzkuMzgxNzUyMjk5OTk5OTldLAogICAgICAgICAgICAgICAgeyJwYXJzZUh0bWwiOiBmYWxzZX0KICAgICAgICAgICAgKS5hZGRUbyhtYXBfZmEyNjA4MDViMjMyNDM5Y2FiZWQ5NDVmMjNjYzdmMTkpOwogICAgICAgIAogICAgCiAgICAgICAgdmFyIHBvcHVwX2MxMmE3YWYxM2EyMjRkZTE5MDM0MjA1MzA2YzBiM2E4ID0gTC5wb3B1cCh7Im1heFdpZHRoIjogIjEwMCUifSk7CgogICAgICAgIAogICAgICAgICAgICB2YXIgaHRtbF83ZGVhOTBlZjNlOWY0Yzg2YmMzNmNjZTI0YjRmMGU3NCA9ICQoYDxkaXYgaWQ9Imh0bWxfN2RlYTkwZWYzZTlmNGM4NmJjMzZjY2UyNGI0ZjBlNzQiIHN0eWxlPSJ3aWR0aDogMTAwLjAlOyBoZWlnaHQ6IDEwMC4wJTsiPkhhcmJvdXJmcm9udCBFYXN0LCBVbmlvbiBTdGF0aW9uLCBUb3JvbnRvIElzbGFuZHMgKERvd250b3duIFRvcm9udG8pPC9kaXY+YClbMF07CiAgICAgICAgICAgIHBvcHVwX2MxMmE3YWYxM2EyMjRkZTE5MDM0MjA1MzA2YzBiM2E4LnNldENvbnRlbnQoaHRtbF83ZGVhOTBlZjNlOWY0Yzg2YmMzNmNjZTI0YjRmMGU3NCk7CiAgICAgICAgCgogICAgICAgIG1hcmtlcl9jZjI1NzI3OGM2MTQ0NzE2ODdmNjczYzc3YWVhZDhkNi5iaW5kUG9wdXAocG9wdXBfYzEyYTdhZjEzYTIyNGRlMTkwMzQyMDUzMDZjMGIzYTgpCiAgICAgICAgOwoKICAgICAgICAKICAgIAogICAgCiAgICAgICAgICAgIHZhciBtYXJrZXJfYmQzMTVjNThjNjYyNDNjYThlMzMyOTNlZmEzOGYxZTEgPSBMLm1hcmtlcigKICAgICAgICAgICAgICAgIFs0My42NDc5MjY3MDAwMDAwMDYsIC03OS40MTk3NDk3XSwKICAgICAgICAgICAgICAgIHsicGFyc2VIdG1sIjogZmFsc2V9CiAgICAgICAgICAgICkuYWRkVG8obWFwX2ZhMjYwODA1YjIzMjQzOWNhYmVkOTQ1ZjIzY2M3ZjE5KTsKICAgICAgICAKICAgIAogICAgICAgIHZhciBwb3B1cF81M2U0MTM0Y2ZmZjU0OTRjODZlNTljYTdmOTJhNWI5YiA9IEwucG9wdXAoeyJtYXhXaWR0aCI6ICIxMDAlIn0pOwoKICAgICAgICAKICAgICAgICAgICAgdmFyIGh0bWxfNzA0NjIwYzk1MzFhNDZkYWJhMjYzZmVhMDcxOGMyNjcgPSAkKGA8ZGl2IGlkPSJodG1sXzcwNDYyMGM5NTMxYTQ2ZGFiYTI2M2ZlYTA3MThjMjY3IiBzdHlsZT0id2lkdGg6IDEwMC4wJTsgaGVpZ2h0OiAxMDAuMCU7Ij5MaXR0bGUgUG9ydHVnYWwsIFRyaW5pdHkgKFdlc3QgVG9yb250byk8L2Rpdj5gKVswXTsKICAgICAgICAgICAgcG9wdXBfNTNlNDEzNGNmZmY1NDk0Yzg2ZTU5Y2E3ZjkyYTViOWIuc2V0Q29udGVudChodG1sXzcwNDYyMGM5NTMxYTQ2ZGFiYTI2M2ZlYTA3MThjMjY3KTsKICAgICAgICAKCiAgICAgICAgbWFya2VyX2JkMzE1YzU4YzY2MjQzY2E4ZTMzMjkzZWZhMzhmMWUxLmJpbmRQb3B1cChwb3B1cF81M2U0MTM0Y2ZmZjU0OTRjODZlNTljYTdmOTJhNWI5YikKICAgICAgICA7CgogICAgICAgIAogICAgCiAgICAKICAgICAgICAgICAgdmFyIG1hcmtlcl8xNjhhMmQ0YjVmZDU0NzUyYmI4MTI3ZjVjYzZlMmZlMSA9IEwubWFya2VyKAogICAgICAgICAgICAgICAgWzQzLjcyNzkyOTIsIC03OS4yNjIwMjk0MDAwMDAwMl0sCiAgICAgICAgICAgICAgICB7InBhcnNlSHRtbCI6IGZhbHNlfQogICAgICAgICAgICApLmFkZFRvKG1hcF9mYTI2MDgwNWIyMzI0MzljYWJlZDk0NWYyM2NjN2YxOSk7CiAgICAgICAgCiAgICAKICAgICAgICB2YXIgcG9wdXBfYjA4NWJiYzJjMGZlNGI3ZTkyYjkzZDdhNjNmZGU0ODYgPSBMLnBvcHVwKHsibWF4V2lkdGgiOiAiMTAwJSJ9KTsKCiAgICAgICAgCiAgICAgICAgICAgIHZhciBodG1sXzM1NDFhYjRhYjdmMDQ3OGI5NWY1OGNjYTQ4M2NhZjQ3ID0gJChgPGRpdiBpZD0iaHRtbF8zNTQxYWI0YWI3ZjA0NzhiOTVmNThjY2E0ODNjYWY0NyIgc3R5bGU9IndpZHRoOiAxMDAuMCU7IGhlaWdodDogMTAwLjAlOyI+S2VubmVkeSBQYXJrLCBJb252aWV3LCBFYXN0IEJpcmNobW91bnQgUGFyayAoU2NhcmJvcm91Z2gpPC9kaXY+YClbMF07CiAgICAgICAgICAgIHBvcHVwX2IwODViYmMyYzBmZTRiN2U5MmI5M2Q3YTYzZmRlNDg2LnNldENvbnRlbnQoaHRtbF8zNTQxYWI0YWI3ZjA0NzhiOTVmNThjY2E0ODNjYWY0Nyk7CiAgICAgICAgCgogICAgICAgIG1hcmtlcl8xNjhhMmQ0YjVmZDU0NzUyYmI4MTI3ZjVjYzZlMmZlMS5iaW5kUG9wdXAocG9wdXBfYjA4NWJiYzJjMGZlNGI3ZTkyYjkzZDdhNjNmZGU0ODYpCiAgICAgICAgOwoKICAgICAgICAKICAgIAogICAgCiAgICAgICAgICAgIHZhciBtYXJrZXJfOTQ3YjM0ZGNiNDkyNGU3Y2IwZjg4MjM5NDM5MDNkNWMgPSBMLm1hcmtlcigKICAgICAgICAgICAgICAgIFs0My43ODY5NDczLCAtNzkuMzg1OTc1XSwKICAgICAgICAgICAgICAgIHsicGFyc2VIdG1sIjogZmFsc2V9CiAgICAgICAgICAgICkuYWRkVG8obWFwX2ZhMjYwODA1YjIzMjQzOWNhYmVkOTQ1ZjIzY2M3ZjE5KTsKICAgICAgICAKICAgIAogICAgICAgIHZhciBwb3B1cF8yZDQ4YjI4YzFlNWY0OGQ4OTRlMjY0YTgzODUwZjdlZiA9IEwucG9wdXAoeyJtYXhXaWR0aCI6ICIxMDAlIn0pOwoKICAgICAgICAKICAgICAgICAgICAgdmFyIGh0bWxfZWY5MDJlNzg4YThmNGM5Y2EzZGEyMzFkNDA5ZjY2NDggPSAkKGA8ZGl2IGlkPSJodG1sX2VmOTAyZTc4OGE4ZjRjOWNhM2RhMjMxZDQwOWY2NjQ4IiBzdHlsZT0id2lkdGg6IDEwMC4wJTsgaGVpZ2h0OiAxMDAuMCU7Ij5CYXl2aWV3IFZpbGxhZ2UgKE5vcnRoIFlvcmspPC9kaXY+YClbMF07CiAgICAgICAgICAgIHBvcHVwXzJkNDhiMjhjMWU1ZjQ4ZDg5NGUyNjRhODM4NTBmN2VmLnNldENvbnRlbnQoaHRtbF9lZjkwMmU3ODhhOGY0YzljYTNkYTIzMWQ0MDlmNjY0OCk7CiAgICAgICAgCgogICAgICAgIG1hcmtlcl85NDdiMzRkY2I0OTI0ZTdjYjBmODgyMzk0MzkwM2Q1Yy5iaW5kUG9wdXAocG9wdXBfMmQ0OGIyOGMxZTVmNDhkODk0ZTI2NGE4Mzg1MGY3ZWYpCiAgICAgICAgOwoKICAgICAgICAKICAgIAogICAgCiAgICAgICAgICAgIHZhciBtYXJrZXJfOWMxMDY2MDE3N2E1NDgxOWI0ZmIyYmY4OWY5MzRkYWEgPSBMLm1hcmtlcigKICAgICAgICAgICAgICAgIFs0My43Mzc0NzMyMDAwMDAwMDQsIC03OS40NjQ3NjMyOTk5OTk5OV0sCiAgICAgICAgICAgICAgICB7InBhcnNlSHRtbCI6IGZhbHNlfQogICAgICAgICAgICApLmFkZFRvKG1hcF9mYTI2MDgwNWIyMzI0MzljYWJlZDk0NWYyM2NjN2YxOSk7CiAgICAgICAgCiAgICAKICAgICAgICB2YXIgcG9wdXBfZGQxODg1NjhjYTNmNDdhNmFkMjFkMDAxZDVkODkzMTUgPSBMLnBvcHVwKHsibWF4V2lkdGgiOiAiMTAwJSJ9KTsKCiAgICAgICAgCiAgICAgICAgICAgIHZhciBodG1sXzY0YTU5M2Q1MzAxYjRhZTY5NWQ0MTgwYWM5NTQ2NmQzID0gJChgPGRpdiBpZD0iaHRtbF82NGE1OTNkNTMwMWI0YWU2OTVkNDE4MGFjOTU0NjZkMyIgc3R5bGU9IndpZHRoOiAxMDAuMCU7IGhlaWdodDogMTAwLjAlOyI+RG93bnN2aWV3IChOb3J0aCBZb3JrKTwvZGl2PmApWzBdOwogICAgICAgICAgICBwb3B1cF9kZDE4ODU2OGNhM2Y0N2E2YWQyMWQwMDFkNWQ4OTMxNS5zZXRDb250ZW50KGh0bWxfNjRhNTkzZDUzMDFiNGFlNjk1ZDQxODBhYzk1NDY2ZDMpOwogICAgICAgIAoKICAgICAgICBtYXJrZXJfOWMxMDY2MDE3N2E1NDgxOWI0ZmIyYmY4OWY5MzRkYWEuYmluZFBvcHVwKHBvcHVwX2RkMTg4NTY4Y2EzZjQ3YTZhZDIxZDAwMWQ1ZDg5MzE1KQogICAgICAgIDsKCiAgICAgICAgCiAgICAKICAgIAogICAgICAgICAgICB2YXIgbWFya2VyXzdlNWZhMjI0MGMwMzRkNTNhYTdmN2E3OWJjODc2ZDM5ID0gTC5tYXJrZXIoCiAgICAgICAgICAgICAgICBbNDMuNjc5NTU3MSwgLTc5LjM1MjE4OF0sCiAgICAgICAgICAgICAgICB7InBhcnNlSHRtbCI6IGZhbHNlfQogICAgICAgICAgICApLmFkZFRvKG1hcF9mYTI2MDgwNWIyMzI0MzljYWJlZDk0NWYyM2NjN2YxOSk7CiAgICAgICAgCiAgICAKICAgICAgICB2YXIgcG9wdXBfZWNmNzU4Yjg1N2VmNDYwZWFmMDNmNDY4N2VkNzMzNWIgPSBMLnBvcHVwKHsibWF4V2lkdGgiOiAiMTAwJSJ9KTsKCiAgICAgICAgCiAgICAgICAgICAgIHZhciBodG1sX2NjZmQ3NDE0ZTAyNTRkZTVhZmUwNWRiZTIyY2QxMGVhID0gJChgPGRpdiBpZD0iaHRtbF9jY2ZkNzQxNGUwMjU0ZGU1YWZlMDVkYmUyMmNkMTBlYSIgc3R5bGU9IndpZHRoOiAxMDAuMCU7IGhlaWdodDogMTAwLjAlOyI+VGhlIERhbmZvcnRoIFdlc3QsIFJpdmVyZGFsZSAoRWFzdCBUb3JvbnRvKTwvZGl2PmApWzBdOwogICAgICAgICAgICBwb3B1cF9lY2Y3NThiODU3ZWY0NjBlYWYwM2Y0Njg3ZWQ3MzM1Yi5zZXRDb250ZW50KGh0bWxfY2NmZDc0MTRlMDI1NGRlNWFmZTA1ZGJlMjJjZDEwZWEpOwogICAgICAgIAoKICAgICAgICBtYXJrZXJfN2U1ZmEyMjQwYzAzNGQ1M2FhN2Y3YTc5YmM4NzZkMzkuYmluZFBvcHVwKHBvcHVwX2VjZjc1OGI4NTdlZjQ2MGVhZjAzZjQ2ODdlZDczMzViKQogICAgICAgIDsKCiAgICAgICAgCiAgICAKICAgIAogICAgICAgICAgICB2YXIgbWFya2VyX2M4ZjA3MDVkODAxYjQyNDRhMThmYzhhYzhiMzEyNmI1ID0gTC5tYXJrZXIoCiAgICAgICAgICAgICAgICBbNDMuNjQ3MTc2OCwgLTc5LjM4MTU3NjQwMDAwMDAxXSwKICAgICAgICAgICAgICAgIHsicGFyc2VIdG1sIjogZmFsc2V9CiAgICAgICAgICAgICkuYWRkVG8obWFwX2ZhMjYwODA1YjIzMjQzOWNhYmVkOTQ1ZjIzY2M3ZjE5KTsKICAgICAgICAKICAgIAogICAgICAgIHZhciBwb3B1cF9lYmQ3OTFjZTJkYzI0N2RhYWRlOGRkMjI2M2Q1MmFhNyA9IEwucG9wdXAoeyJtYXhXaWR0aCI6ICIxMDAlIn0pOwoKICAgICAgICAKICAgICAgICAgICAgdmFyIGh0bWxfOGJkN2EyMjM4MDBkNDQxZmJhNjM5M2UzYjM5ZmRmZTMgPSAkKGA8ZGl2IGlkPSJodG1sXzhiZDdhMjIzODAwZDQ0MWZiYTYzOTNlM2IzOWZkZmUzIiBzdHlsZT0id2lkdGg6IDEwMC4wJTsgaGVpZ2h0OiAxMDAuMCU7Ij5Ub3JvbnRvIERvbWluaW9uIENlbnRyZSwgRGVzaWduIEV4Y2hhbmdlIChEb3dudG93biBUb3JvbnRvKTwvZGl2PmApWzBdOwogICAgICAgICAgICBwb3B1cF9lYmQ3OTFjZTJkYzI0N2RhYWRlOGRkMjI2M2Q1MmFhNy5zZXRDb250ZW50KGh0bWxfOGJkN2EyMjM4MDBkNDQxZmJhNjM5M2UzYjM5ZmRmZTMpOwogICAgICAgIAoKICAgICAgICBtYXJrZXJfYzhmMDcwNWQ4MDFiNDI0NGExOGZjOGFjOGIzMTI2YjUuYmluZFBvcHVwKHBvcHVwX2ViZDc5MWNlMmRjMjQ3ZGFhZGU4ZGQyMjYzZDUyYWE3KQogICAgICAgIDsKCiAgICAgICAgCiAgICAKICAgIAogICAgICAgICAgICB2YXIgbWFya2VyX2FhN2I3MzAwOTUyMzQ4YTE5NmIyNTc4ODJmZDQ4N2JiID0gTC5tYXJrZXIoCiAgICAgICAgICAgICAgICBbNDMuNjM2ODQ3MiwgLTc5LjQyODE5MTQwMDAwMDAyXSwKICAgICAgICAgICAgICAgIHsicGFyc2VIdG1sIjogZmFsc2V9CiAgICAgICAgICAgICkuYWRkVG8obWFwX2ZhMjYwODA1YjIzMjQzOWNhYmVkOTQ1ZjIzY2M3ZjE5KTsKICAgICAgICAKICAgIAogICAgICAgIHZhciBwb3B1cF9kZjFkNGU0YmJmODM0YmFiOTJhNzliNDM5MzliNTZlNCA9IEwucG9wdXAoeyJtYXhXaWR0aCI6ICIxMDAlIn0pOwoKICAgICAgICAKICAgICAgICAgICAgdmFyIGh0bWxfM2FiZTMzODI4NDdlNDAyODllYmZhMGVlMDk1ODg3NjQgPSAkKGA8ZGl2IGlkPSJodG1sXzNhYmUzMzgyODQ3ZTQwMjg5ZWJmYTBlZTA5NTg4NzY0IiBzdHlsZT0id2lkdGg6IDEwMC4wJTsgaGVpZ2h0OiAxMDAuMCU7Ij5Ccm9ja3RvbiwgUGFya2RhbGUgVmlsbGFnZSwgRXhoaWJpdGlvbiBQbGFjZSAoV2VzdCBUb3JvbnRvKTwvZGl2PmApWzBdOwogICAgICAgICAgICBwb3B1cF9kZjFkNGU0YmJmODM0YmFiOTJhNzliNDM5MzliNTZlNC5zZXRDb250ZW50KGh0bWxfM2FiZTMzODI4NDdlNDAyODllYmZhMGVlMDk1ODg3NjQpOwogICAgICAgIAoKICAgICAgICBtYXJrZXJfYWE3YjczMDA5NTIzNDhhMTk2YjI1Nzg4MmZkNDg3YmIuYmluZFBvcHVwKHBvcHVwX2RmMWQ0ZTRiYmY4MzRiYWI5MmE3OWI0MzkzOWI1NmU0KQogICAgICAgIDsKCiAgICAgICAgCiAgICAKICAgIAogICAgICAgICAgICB2YXIgbWFya2VyXzVjMTVlYWZlNWM4OTQwZGNhNjQxNDNjMzU1NzRhMTA4ID0gTC5tYXJrZXIoCiAgICAgICAgICAgICAgICBbNDMuNzExMTExNzAwMDAwMDA0LCAtNzkuMjg0NTc3Ml0sCiAgICAgICAgICAgICAgICB7InBhcnNlSHRtbCI6IGZhbHNlfQogICAgICAgICAgICApLmFkZFRvKG1hcF9mYTI2MDgwNWIyMzI0MzljYWJlZDk0NWYyM2NjN2YxOSk7CiAgICAgICAgCiAgICAKICAgICAgICB2YXIgcG9wdXBfOWViNTExODkzOTI2NGI4MjgyOTU2MTA4YmU4YjNmNzcgPSBMLnBvcHVwKHsibWF4V2lkdGgiOiAiMTAwJSJ9KTsKCiAgICAgICAgCiAgICAgICAgICAgIHZhciBodG1sXzlhZDljOTkxNzU2NjQyZGJhOTkzN2ViYjFjNWU2YzAzID0gJChgPGRpdiBpZD0iaHRtbF85YWQ5Yzk5MTc1NjY0MmRiYTk5MzdlYmIxYzVlNmMwMyIgc3R5bGU9IndpZHRoOiAxMDAuMCU7IGhlaWdodDogMTAwLjAlOyI+R29sZGVuIE1pbGUsIENsYWlybGVhLCBPYWtyaWRnZSAoU2NhcmJvcm91Z2gpPC9kaXY+YClbMF07CiAgICAgICAgICAgIHBvcHVwXzllYjUxMTg5MzkyNjRiODI4Mjk1NjEwOGJlOGIzZjc3LnNldENvbnRlbnQoaHRtbF85YWQ5Yzk5MTc1NjY0MmRiYTk5MzdlYmIxYzVlNmMwMyk7CiAgICAgICAgCgogICAgICAgIG1hcmtlcl81YzE1ZWFmZTVjODk0MGRjYTY0MTQzYzM1NTc0YTEwOC5iaW5kUG9wdXAocG9wdXBfOWViNTExODkzOTI2NGI4MjgyOTU2MTA4YmU4YjNmNzcpCiAgICAgICAgOwoKICAgICAgICAKICAgIAogICAgCiAgICAgICAgICAgIHZhciBtYXJrZXJfMWJiN2E5YWQzM2I1NDQ4NWFkMjlkMjcwZTUwZGM5NGUgPSBMLm1hcmtlcigKICAgICAgICAgICAgICAgIFs0My43NTc0OTAyLCAtNzkuMzc0NzE0MDk5OTk5OTldLAogICAgICAgICAgICAgICAgeyJwYXJzZUh0bWwiOiBmYWxzZX0KICAgICAgICAgICAgKS5hZGRUbyhtYXBfZmEyNjA4MDViMjMyNDM5Y2FiZWQ5NDVmMjNjYzdmMTkpOwogICAgICAgIAogICAgCiAgICAgICAgdmFyIHBvcHVwXzgwNmVmYzMwZWFmZTQwNmE5MjQyNzg4Yzc5MDUxNDQ5ID0gTC5wb3B1cCh7Im1heFdpZHRoIjogIjEwMCUifSk7CgogICAgICAgIAogICAgICAgICAgICB2YXIgaHRtbF8wYThjMTk1NjcwYjA0ZDI3YjUwYWQ5NGRjY2MxYzgwYyA9ICQoYDxkaXYgaWQ9Imh0bWxfMGE4YzE5NTY3MGIwNGQyN2I1MGFkOTRkY2NjMWM4MGMiIHN0eWxlPSJ3aWR0aDogMTAwLjAlOyBoZWlnaHQ6IDEwMC4wJTsiPllvcmsgTWlsbHMsIFNpbHZlciBIaWxscyAoTm9ydGggWW9yayk8L2Rpdj5gKVswXTsKICAgICAgICAgICAgcG9wdXBfODA2ZWZjMzBlYWZlNDA2YTkyNDI3ODhjNzkwNTE0NDkuc2V0Q29udGVudChodG1sXzBhOGMxOTU2NzBiMDRkMjdiNTBhZDk0ZGNjYzFjODBjKTsKICAgICAgICAKCiAgICAgICAgbWFya2VyXzFiYjdhOWFkMzNiNTQ0ODVhZDI5ZDI3MGU1MGRjOTRlLmJpbmRQb3B1cChwb3B1cF84MDZlZmMzMGVhZmU0MDZhOTI0Mjc4OGM3OTA1MTQ0OSkKICAgICAgICA7CgogICAgICAgIAogICAgCiAgICAKICAgICAgICAgICAgdmFyIG1hcmtlcl9mODhlZjY3NTdhZGY0ZDNkYWVkZWI3ZjNhMTI4NmViYiA9IEwubWFya2VyKAogICAgICAgICAgICAgICAgWzQzLjczOTAxNDYsIC03OS41MDY5NDM2XSwKICAgICAgICAgICAgICAgIHsicGFyc2VIdG1sIjogZmFsc2V9CiAgICAgICAgICAgICkuYWRkVG8obWFwX2ZhMjYwODA1YjIzMjQzOWNhYmVkOTQ1ZjIzY2M3ZjE5KTsKICAgICAgICAKICAgIAogICAgICAgIHZhciBwb3B1cF80ZDc4OTNhZmQ2MWQ0NTZhYTUxNGJmZGM0MmMwMGMwOSA9IEwucG9wdXAoeyJtYXhXaWR0aCI6ICIxMDAlIn0pOwoKICAgICAgICAKICAgICAgICAgICAgdmFyIGh0bWxfOGFkZWZlNTQ2Mzk1NDNiZTg5ZTIyMDNlMmFjZjVlZWYgPSAkKGA8ZGl2IGlkPSJodG1sXzhhZGVmZTU0NjM5NTQzYmU4OWUyMjAzZTJhY2Y1ZWVmIiBzdHlsZT0id2lkdGg6IDEwMC4wJTsgaGVpZ2h0OiAxMDAuMCU7Ij5Eb3duc3ZpZXcgKE5vcnRoIFlvcmspPC9kaXY+YClbMF07CiAgICAgICAgICAgIHBvcHVwXzRkNzg5M2FmZDYxZDQ1NmFhNTE0YmZkYzQyYzAwYzA5LnNldENvbnRlbnQoaHRtbF84YWRlZmU1NDYzOTU0M2JlODllMjIwM2UyYWNmNWVlZik7CiAgICAgICAgCgogICAgICAgIG1hcmtlcl9mODhlZjY3NTdhZGY0ZDNkYWVkZWI3ZjNhMTI4NmViYi5iaW5kUG9wdXAocG9wdXBfNGQ3ODkzYWZkNjFkNDU2YWE1MTRiZmRjNDJjMDBjMDkpCiAgICAgICAgOwoKICAgICAgICAKICAgIAogICAgCiAgICAgICAgICAgIHZhciBtYXJrZXJfMzhlMDY4ZDU3ZmRmNDI3OTkyNjgyZTRiMzU5OTU5YjYgPSBMLm1hcmtlcigKICAgICAgICAgICAgICAgIFs0My42Njg5OTg1LCAtNzkuMzE1NTcxNTk5OTk5OThdLAogICAgICAgICAgICAgICAgeyJwYXJzZUh0bWwiOiBmYWxzZX0KICAgICAgICAgICAgKS5hZGRUbyhtYXBfZmEyNjA4MDViMjMyNDM5Y2FiZWQ5NDVmMjNjYzdmMTkpOwogICAgICAgIAogICAgCiAgICAgICAgdmFyIHBvcHVwX2U4NTIxOGRhMzY2NzQ4NGJhOTJmMDI0NWNhOTM2NmViID0gTC5wb3B1cCh7Im1heFdpZHRoIjogIjEwMCUifSk7CgogICAgICAgIAogICAgICAgICAgICB2YXIgaHRtbF82ZmE2Y2QyN2Y2N2E0ZmI5YjJiYjUzODYwYWQ0YjU0MyA9ICQoYDxkaXYgaWQ9Imh0bWxfNmZhNmNkMjdmNjdhNGZiOWIyYmI1Mzg2MGFkNGI1NDMiIHN0eWxlPSJ3aWR0aDogMTAwLjAlOyBoZWlnaHQ6IDEwMC4wJTsiPkluZGlhIEJhemFhciwgVGhlIEJlYWNoZXMgV2VzdCAoRWFzdCBUb3JvbnRvKTwvZGl2PmApWzBdOwogICAgICAgICAgICBwb3B1cF9lODUyMThkYTM2Njc0ODRiYTkyZjAyNDVjYTkzNjZlYi5zZXRDb250ZW50KGh0bWxfNmZhNmNkMjdmNjdhNGZiOWIyYmI1Mzg2MGFkNGI1NDMpOwogICAgICAgIAoKICAgICAgICBtYXJrZXJfMzhlMDY4ZDU3ZmRmNDI3OTkyNjgyZTRiMzU5OTU5YjYuYmluZFBvcHVwKHBvcHVwX2U4NTIxOGRhMzY2NzQ4NGJhOTJmMDI0NWNhOTM2NmViKQogICAgICAgIDsKCiAgICAgICAgCiAgICAKICAgIAogICAgICAgICAgICB2YXIgbWFya2VyXzJjYjZiZTM0ZjAxYjQ4ZjI5NDQ3Mzk0MDQ4MzJlMjYwID0gTC5tYXJrZXIoCiAgICAgICAgICAgICAgICBbNDMuNjQ4MTk4NSwgLTc5LjM3OTgxNjkwMDAwMDAxXSwKICAgICAgICAgICAgICAgIHsicGFyc2VIdG1sIjogZmFsc2V9CiAgICAgICAgICAgICkuYWRkVG8obWFwX2ZhMjYwODA1YjIzMjQzOWNhYmVkOTQ1ZjIzY2M3ZjE5KTsKICAgICAgICAKICAgIAogICAgICAgIHZhciBwb3B1cF84NTY2NjkzYTA3YTA0ZWJmODQ2NGRkNjlhMzNlMjUzNiA9IEwucG9wdXAoeyJtYXhXaWR0aCI6ICIxMDAlIn0pOwoKICAgICAgICAKICAgICAgICAgICAgdmFyIGh0bWxfMjYzNTFmMmU1NjgxNDliNjg3ZWRjNTZjYzIxN2EwMjQgPSAkKGA8ZGl2IGlkPSJodG1sXzI2MzUxZjJlNTY4MTQ5YjY4N2VkYzU2Y2MyMTdhMDI0IiBzdHlsZT0id2lkdGg6IDEwMC4wJTsgaGVpZ2h0OiAxMDAuMCU7Ij5Db21tZXJjZSBDb3VydCwgVmljdG9yaWEgSG90ZWwgKERvd250b3duIFRvcm9udG8pPC9kaXY+YClbMF07CiAgICAgICAgICAgIHBvcHVwXzg1NjY2OTNhMDdhMDRlYmY4NDY0ZGQ2OWEzM2UyNTM2LnNldENvbnRlbnQoaHRtbF8yNjM1MWYyZTU2ODE0OWI2ODdlZGM1NmNjMjE3YTAyNCk7CiAgICAgICAgCgogICAgICAgIG1hcmtlcl8yY2I2YmUzNGYwMWI0OGYyOTQ0NzM5NDA0ODMyZTI2MC5iaW5kUG9wdXAocG9wdXBfODU2NjY5M2EwN2EwNGViZjg0NjRkZDY5YTMzZTI1MzYpCiAgICAgICAgOwoKICAgICAgICAKICAgIAogICAgCiAgICAgICAgICAgIHZhciBtYXJrZXJfNmExMWQ3YmQzMGQ2NDZhNWE2NGJiZDEyOGU5ODA0ZjYgPSBMLm1hcmtlcigKICAgICAgICAgICAgICAgIFs0My43MTM3NTYyMDAwMDAwMDYsIC03OS40OTAwNzM4XSwKICAgICAgICAgICAgICAgIHsicGFyc2VIdG1sIjogZmFsc2V9CiAgICAgICAgICAgICkuYWRkVG8obWFwX2ZhMjYwODA1YjIzMjQzOWNhYmVkOTQ1ZjIzY2M3ZjE5KTsKICAgICAgICAKICAgIAogICAgICAgIHZhciBwb3B1cF9lMjc4MGQ4ZWRiZjk0MmQ4OTI3OTI0YmQzYjY3NGEwYSA9IEwucG9wdXAoeyJtYXhXaWR0aCI6ICIxMDAlIn0pOwoKICAgICAgICAKICAgICAgICAgICAgdmFyIGh0bWxfMmY4MThkOWFjNWY5NDIxNjk4Zjg2NzQ4ZTAxNDBlMTYgPSAkKGA8ZGl2IGlkPSJodG1sXzJmODE4ZDlhYzVmOTQyMTY5OGY4Njc0OGUwMTQwZTE2IiBzdHlsZT0id2lkdGg6IDEwMC4wJTsgaGVpZ2h0OiAxMDAuMCU7Ij5Ob3J0aCBQYXJrLCBNYXBsZSBMZWFmIFBhcmssIFVwd29vZCBQYXJrIChOb3J0aCBZb3JrKTwvZGl2PmApWzBdOwogICAgICAgICAgICBwb3B1cF9lMjc4MGQ4ZWRiZjk0MmQ4OTI3OTI0YmQzYjY3NGEwYS5zZXRDb250ZW50KGh0bWxfMmY4MThkOWFjNWY5NDIxNjk4Zjg2NzQ4ZTAxNDBlMTYpOwogICAgICAgIAoKICAgICAgICBtYXJrZXJfNmExMWQ3YmQzMGQ2NDZhNWE2NGJiZDEyOGU5ODA0ZjYuYmluZFBvcHVwKHBvcHVwX2UyNzgwZDhlZGJmOTQyZDg5Mjc5MjRiZDNiNjc0YTBhKQogICAgICAgIDsKCiAgICAgICAgCiAgICAKICAgIAogICAgICAgICAgICB2YXIgbWFya2VyXzZiMDlmNWRiYTEyMDQ1NTU5NjRjYWQ3MjFjNTU2OWExID0gTC5tYXJrZXIoCiAgICAgICAgICAgICAgICBbNDMuNzU2MzAzMywgLTc5LjU2NTk2MzI5OTk5OTk5XSwKICAgICAgICAgICAgICAgIHsicGFyc2VIdG1sIjogZmFsc2V9CiAgICAgICAgICAgICkuYWRkVG8obWFwX2ZhMjYwODA1YjIzMjQzOWNhYmVkOTQ1ZjIzY2M3ZjE5KTsKICAgICAgICAKICAgIAogICAgICAgIHZhciBwb3B1cF80YzkxNjQyYjE1YTA0YmM0YmVkYzRjYjYwMzdmZjYzMyA9IEwucG9wdXAoeyJtYXhXaWR0aCI6ICIxMDAlIn0pOwoKICAgICAgICAKICAgICAgICAgICAgdmFyIGh0bWxfN2Q4N2VlOGM3MzNhNGJiOWE5ODZkZDA4YjVmMmUwZTUgPSAkKGA8ZGl2IGlkPSJodG1sXzdkODdlZThjNzMzYTRiYjlhOTg2ZGQwOGI1ZjJlMGU1IiBzdHlsZT0id2lkdGg6IDEwMC4wJTsgaGVpZ2h0OiAxMDAuMCU7Ij5IdW1iZXIgU3VtbWl0IChOb3J0aCBZb3JrKTwvZGl2PmApWzBdOwogICAgICAgICAgICBwb3B1cF80YzkxNjQyYjE1YTA0YmM0YmVkYzRjYjYwMzdmZjYzMy5zZXRDb250ZW50KGh0bWxfN2Q4N2VlOGM3MzNhNGJiOWE5ODZkZDA4YjVmMmUwZTUpOwogICAgICAgIAoKICAgICAgICBtYXJrZXJfNmIwOWY1ZGJhMTIwNDU1NTk2NGNhZDcyMWM1NTY5YTEuYmluZFBvcHVwKHBvcHVwXzRjOTE2NDJiMTVhMDRiYzRiZWRjNGNiNjAzN2ZmNjMzKQogICAgICAgIDsKCiAgICAgICAgCiAgICAKICAgIAogICAgICAgICAgICB2YXIgbWFya2VyXzA4ZjYzMDA4ZTg1ZDQ5OTliYmQxMGVmYmJiOTRmMGI0ID0gTC5tYXJrZXIoCiAgICAgICAgICAgICAgICBbNDMuNzE2MzE2LCAtNzkuMjM5NDc2MDk5OTk5OTldLAogICAgICAgICAgICAgICAgeyJwYXJzZUh0bWwiOiBmYWxzZX0KICAgICAgICAgICAgKS5hZGRUbyhtYXBfZmEyNjA4MDViMjMyNDM5Y2FiZWQ5NDVmMjNjYzdmMTkpOwogICAgICAgIAogICAgCiAgICAgICAgdmFyIHBvcHVwXzUyOThmZGY5NzU3ODQwYzViN2FlN2U2YjViMDIwNGNmID0gTC5wb3B1cCh7Im1heFdpZHRoIjogIjEwMCUifSk7CgogICAgICAgIAogICAgICAgICAgICB2YXIgaHRtbF80YzAwNGI1YTQwOWM0MGY4YTQ1M2Q0OGYzMmI3ZWQ3NiA9ICQoYDxkaXYgaWQ9Imh0bWxfNGMwMDRiNWE0MDljNDBmOGE0NTNkNDhmMzJiN2VkNzYiIHN0eWxlPSJ3aWR0aDogMTAwLjAlOyBoZWlnaHQ6IDEwMC4wJTsiPkNsaWZmc2lkZSwgQ2xpZmZjcmVzdCwgU2NhcmJvcm91Z2ggVmlsbGFnZSBXZXN0IChTY2FyYm9yb3VnaCk8L2Rpdj5gKVswXTsKICAgICAgICAgICAgcG9wdXBfNTI5OGZkZjk3NTc4NDBjNWI3YWU3ZTZiNWIwMjA0Y2Yuc2V0Q29udGVudChodG1sXzRjMDA0YjVhNDA5YzQwZjhhNDUzZDQ4ZjMyYjdlZDc2KTsKICAgICAgICAKCiAgICAgICAgbWFya2VyXzA4ZjYzMDA4ZTg1ZDQ5OTliYmQxMGVmYmJiOTRmMGI0LmJpbmRQb3B1cChwb3B1cF81Mjk4ZmRmOTc1Nzg0MGM1YjdhZTdlNmI1YjAyMDRjZikKICAgICAgICA7CgogICAgICAgIAogICAgCiAgICAKICAgICAgICAgICAgdmFyIG1hcmtlcl80MDAyYjk1ZWZkZWM0NDZlYjBkZWFhN2MxYTQ1OWNiYSA9IEwubWFya2VyKAogICAgICAgICAgICAgICAgWzQzLjc4OTA1MywgLTc5LjQwODQ5Mjc5OTk5OTk5XSwKICAgICAgICAgICAgICAgIHsicGFyc2VIdG1sIjogZmFsc2V9CiAgICAgICAgICAgICkuYWRkVG8obWFwX2ZhMjYwODA1YjIzMjQzOWNhYmVkOTQ1ZjIzY2M3ZjE5KTsKICAgICAgICAKICAgIAogICAgICAgIHZhciBwb3B1cF8zMzlkODZlNTk5NWY0MjNlYThiYmJhYjg2M2RjOTJiNyA9IEwucG9wdXAoeyJtYXhXaWR0aCI6ICIxMDAlIn0pOwoKICAgICAgICAKICAgICAgICAgICAgdmFyIGh0bWxfYjRkY2IyYTc3YTQwNGNmYTk2MjczNWNjZjRkZDdlZGIgPSAkKGA8ZGl2IGlkPSJodG1sX2I0ZGNiMmE3N2E0MDRjZmE5NjI3MzVjY2Y0ZGQ3ZWRiIiBzdHlsZT0id2lkdGg6IDEwMC4wJTsgaGVpZ2h0OiAxMDAuMCU7Ij5XaWxsb3dkYWxlLCBOZXd0b25icm9vayAoTm9ydGggWW9yayk8L2Rpdj5gKVswXTsKICAgICAgICAgICAgcG9wdXBfMzM5ZDg2ZTU5OTVmNDIzZWE4YmJiYWI4NjNkYzkyYjcuc2V0Q29udGVudChodG1sX2I0ZGNiMmE3N2E0MDRjZmE5NjI3MzVjY2Y0ZGQ3ZWRiKTsKICAgICAgICAKCiAgICAgICAgbWFya2VyXzQwMDJiOTVlZmRlYzQ0NmViMGRlYWE3YzFhNDU5Y2JhLmJpbmRQb3B1cChwb3B1cF8zMzlkODZlNTk5NWY0MjNlYThiYmJhYjg2M2RjOTJiNykKICAgICAgICA7CgogICAgICAgIAogICAgCiAgICAKICAgICAgICAgICAgdmFyIG1hcmtlcl9lNGRiYmI4ZDY3MWM0NmNiODYzOWYxMGQ1MzUwYzg5YyA9IEwubWFya2VyKAogICAgICAgICAgICAgICAgWzQzLjcyODQ5NjQsIC03OS40OTU2OTc0MDAwMDAwMV0sCiAgICAgICAgICAgICAgICB7InBhcnNlSHRtbCI6IGZhbHNlfQogICAgICAgICAgICApLmFkZFRvKG1hcF9mYTI2MDgwNWIyMzI0MzljYWJlZDk0NWYyM2NjN2YxOSk7CiAgICAgICAgCiAgICAKICAgICAgICB2YXIgcG9wdXBfNTE3YjNjYTg5Nzg0NGEzNDkwN2I0NzQyMzgxOTNjZjEgPSBMLnBvcHVwKHsibWF4V2lkdGgiOiAiMTAwJSJ9KTsKCiAgICAgICAgCiAgICAgICAgICAgIHZhciBodG1sXzg1NTQ3ZDFlODExOTRhOTU5M2ZmZGU3MjU1ZDc3YzlhID0gJChgPGRpdiBpZD0iaHRtbF84NTU0N2QxZTgxMTk0YTk1OTNmZmRlNzI1NWQ3N2M5YSIgc3R5bGU9IndpZHRoOiAxMDAuMCU7IGhlaWdodDogMTAwLjAlOyI+RG93bnN2aWV3IChOb3J0aCBZb3JrKTwvZGl2PmApWzBdOwogICAgICAgICAgICBwb3B1cF81MTdiM2NhODk3ODQ0YTM0OTA3YjQ3NDIzODE5M2NmMS5zZXRDb250ZW50KGh0bWxfODU1NDdkMWU4MTE5NGE5NTkzZmZkZTcyNTVkNzdjOWEpOwogICAgICAgIAoKICAgICAgICBtYXJrZXJfZTRkYmJiOGQ2NzFjNDZjYjg2MzlmMTBkNTM1MGM4OWMuYmluZFBvcHVwKHBvcHVwXzUxN2IzY2E4OTc4NDRhMzQ5MDdiNDc0MjM4MTkzY2YxKQogICAgICAgIDsKCiAgICAgICAgCiAgICAKICAgIAogICAgICAgICAgICB2YXIgbWFya2VyXzU2Y2JmN2IzOGM3YTQ3MDU5NDVlMmZkNDY0NDRhZWViID0gTC5tYXJrZXIoCiAgICAgICAgICAgICAgICBbNDMuNjU5NTI1NSwgLTc5LjM0MDkyM10sCiAgICAgICAgICAgICAgICB7InBhcnNlSHRtbCI6IGZhbHNlfQogICAgICAgICAgICApLmFkZFRvKG1hcF9mYTI2MDgwNWIyMzI0MzljYWJlZDk0NWYyM2NjN2YxOSk7CiAgICAgICAgCiAgICAKICAgICAgICB2YXIgcG9wdXBfMzdmZDJhZWRmOGIwNGYyMWJkMzNhNmFiMTVkMjk2ODggPSBMLnBvcHVwKHsibWF4V2lkdGgiOiAiMTAwJSJ9KTsKCiAgICAgICAgCiAgICAgICAgICAgIHZhciBodG1sX2QyYTA4MmUyMGRlMDQxMTI4OTc5ZTg3NDBhNzZkZjdkID0gJChgPGRpdiBpZD0iaHRtbF9kMmEwODJlMjBkZTA0MTEyODk3OWU4NzQwYTc2ZGY3ZCIgc3R5bGU9IndpZHRoOiAxMDAuMCU7IGhlaWdodDogMTAwLjAlOyI+U3R1ZGlvIERpc3RyaWN0IChFYXN0IFRvcm9udG8pPC9kaXY+YClbMF07CiAgICAgICAgICAgIHBvcHVwXzM3ZmQyYWVkZjhiMDRmMjFiZDMzYTZhYjE1ZDI5Njg4LnNldENvbnRlbnQoaHRtbF9kMmEwODJlMjBkZTA0MTEyODk3OWU4NzQwYTc2ZGY3ZCk7CiAgICAgICAgCgogICAgICAgIG1hcmtlcl81NmNiZjdiMzhjN2E0NzA1OTQ1ZTJmZDQ2NDQ0YWVlYi5iaW5kUG9wdXAocG9wdXBfMzdmZDJhZWRmOGIwNGYyMWJkMzNhNmFiMTVkMjk2ODgpCiAgICAgICAgOwoKICAgICAgICAKICAgIAogICAgCiAgICAgICAgICAgIHZhciBtYXJrZXJfODQ2NjM0MzE5MjNhNDhjODk3MmEyOTYxOGQ1MDMxMTIgPSBMLm1hcmtlcigKICAgICAgICAgICAgICAgIFs0My43MzMyODI1LCAtNzkuNDE5NzQ5N10sCiAgICAgICAgICAgICAgICB7InBhcnNlSHRtbCI6IGZhbHNlfQogICAgICAgICAgICApLmFkZFRvKG1hcF9mYTI2MDgwNWIyMzI0MzljYWJlZDk0NWYyM2NjN2YxOSk7CiAgICAgICAgCiAgICAKICAgICAgICB2YXIgcG9wdXBfMDM1Zjk3MjQ3N2JmNDc0OGFkMWViMDhkMTk3MTMxMGIgPSBMLnBvcHVwKHsibWF4V2lkdGgiOiAiMTAwJSJ9KTsKCiAgICAgICAgCiAgICAgICAgICAgIHZhciBodG1sXzg4YjVkYjIwYjlmZDRkZDQ5NGRiOWY4ZGVmYzE5NzAxID0gJChgPGRpdiBpZD0iaHRtbF84OGI1ZGIyMGI5ZmQ0ZGQ0OTRkYjlmOGRlZmMxOTcwMSIgc3R5bGU9IndpZHRoOiAxMDAuMCU7IGhlaWdodDogMTAwLjAlOyI+QmVkZm9yZCBQYXJrLCBMYXdyZW5jZSBNYW5vciBFYXN0IChOb3J0aCBZb3JrKTwvZGl2PmApWzBdOwogICAgICAgICAgICBwb3B1cF8wMzVmOTcyNDc3YmY0NzQ4YWQxZWIwOGQxOTcxMzEwYi5zZXRDb250ZW50KGh0bWxfODhiNWRiMjBiOWZkNGRkNDk0ZGI5ZjhkZWZjMTk3MDEpOwogICAgICAgIAoKICAgICAgICBtYXJrZXJfODQ2NjM0MzE5MjNhNDhjODk3MmEyOTYxOGQ1MDMxMTIuYmluZFBvcHVwKHBvcHVwXzAzNWY5NzI0NzdiZjQ3NDhhZDFlYjA4ZDE5NzEzMTBiKQogICAgICAgIDsKCiAgICAgICAgCiAgICAKICAgIAogICAgICAgICAgICB2YXIgbWFya2VyXzliYTlkOTYwMmJhYTQ4MmQ4ZTkyNWU5ZjI3ZGIwZmVhID0gTC5tYXJrZXIoCiAgICAgICAgICAgICAgICBbNDMuNjkxMTE1OCwgLTc5LjQ3NjAxMzI5OTk5OTk5XSwKICAgICAgICAgICAgICAgIHsicGFyc2VIdG1sIjogZmFsc2V9CiAgICAgICAgICAgICkuYWRkVG8obWFwX2ZhMjYwODA1YjIzMjQzOWNhYmVkOTQ1ZjIzY2M3ZjE5KTsKICAgICAgICAKICAgIAogICAgICAgIHZhciBwb3B1cF8zM2Q3M2JlMTg3Zjk0ODcwODExNzc3OWJmNzRlZjNlYSA9IEwucG9wdXAoeyJtYXhXaWR0aCI6ICIxMDAlIn0pOwoKICAgICAgICAKICAgICAgICAgICAgdmFyIGh0bWxfMjc3MmFhMmQzZDZiNDFjYTg2YWJiNDY0NTY5YTM4NmIgPSAkKGA8ZGl2IGlkPSJodG1sXzI3NzJhYTJkM2Q2YjQxY2E4NmFiYjQ2NDU2OWEzODZiIiBzdHlsZT0id2lkdGg6IDEwMC4wJTsgaGVpZ2h0OiAxMDAuMCU7Ij5EZWwgUmF5LCBNb3VudCBEZW5uaXMsIEtlZWxzZGFsZSBhbmQgU2lsdmVydGhvcm4gKFlvcmspPC9kaXY+YClbMF07CiAgICAgICAgICAgIHBvcHVwXzMzZDczYmUxODdmOTQ4NzA4MTE3Nzc5YmY3NGVmM2VhLnNldENvbnRlbnQoaHRtbF8yNzcyYWEyZDNkNmI0MWNhODZhYmI0NjQ1NjlhMzg2Yik7CiAgICAgICAgCgogICAgICAgIG1hcmtlcl85YmE5ZDk2MDJiYWE0ODJkOGU5MjVlOWYyN2RiMGZlYS5iaW5kUG9wdXAocG9wdXBfMzNkNzNiZTE4N2Y5NDg3MDgxMTc3NzliZjc0ZWYzZWEpCiAgICAgICAgOwoKICAgICAgICAKICAgIAogICAgCiAgICAgICAgICAgIHZhciBtYXJrZXJfY2Q3NTNkMzg4NDBkNDdhOWFiOTQxOTMwNDhmYTQzN2YgPSBMLm1hcmtlcigKICAgICAgICAgICAgICAgIFs0My43MjQ3NjU5LCAtNzkuNTMyMjQyNDAwMDAwMDJdLAogICAgICAgICAgICAgICAgeyJwYXJzZUh0bWwiOiBmYWxzZX0KICAgICAgICAgICAgKS5hZGRUbyhtYXBfZmEyNjA4MDViMjMyNDM5Y2FiZWQ5NDVmMjNjYzdmMTkpOwogICAgICAgIAogICAgCiAgICAgICAgdmFyIHBvcHVwX2UzZmJiMThhYjA1MDRiZTE5MGVkNjc5YTQ0ODgyMmMzID0gTC5wb3B1cCh7Im1heFdpZHRoIjogIjEwMCUifSk7CgogICAgICAgIAogICAgICAgICAgICB2YXIgaHRtbF84NTkzNDFlMDU4NzA0NTY2YWQwYzdiMDg4ZGE0NGUzYiA9ICQoYDxkaXYgaWQ9Imh0bWxfODU5MzQxZTA1ODcwNDU2NmFkMGM3YjA4OGRhNDRlM2IiIHN0eWxlPSJ3aWR0aDogMTAwLjAlOyBoZWlnaHQ6IDEwMC4wJTsiPkh1bWJlcmxlYSwgRW1lcnkgKE5vcnRoIFlvcmspPC9kaXY+YClbMF07CiAgICAgICAgICAgIHBvcHVwX2UzZmJiMThhYjA1MDRiZTE5MGVkNjc5YTQ0ODgyMmMzLnNldENvbnRlbnQoaHRtbF84NTkzNDFlMDU4NzA0NTY2YWQwYzdiMDg4ZGE0NGUzYik7CiAgICAgICAgCgogICAgICAgIG1hcmtlcl9jZDc1M2QzODg0MGQ0N2E5YWI5NDE5MzA0OGZhNDM3Zi5iaW5kUG9wdXAocG9wdXBfZTNmYmIxOGFiMDUwNGJlMTkwZWQ2NzlhNDQ4ODIyYzMpCiAgICAgICAgOwoKICAgICAgICAKICAgIAogICAgCiAgICAgICAgICAgIHZhciBtYXJrZXJfZGM2MGMxNThiMjdlNGJmOGFkMmY0ZTRjYzNhODUyZTIgPSBMLm1hcmtlcigKICAgICAgICAgICAgICAgIFs0My42OTI2NTcwMDAwMDAwMDQsIC03OS4yNjQ4NDgxXSwKICAgICAgICAgICAgICAgIHsicGFyc2VIdG1sIjogZmFsc2V9CiAgICAgICAgICAgICkuYWRkVG8obWFwX2ZhMjYwODA1YjIzMjQzOWNhYmVkOTQ1ZjIzY2M3ZjE5KTsKICAgICAgICAKICAgIAogICAgICAgIHZhciBwb3B1cF9iN2M0MzY1YjJmMjg0YjFiODQwNGE3MmY0MDMyZjI5YSA9IEwucG9wdXAoeyJtYXhXaWR0aCI6ICIxMDAlIn0pOwoKICAgICAgICAKICAgICAgICAgICAgdmFyIGh0bWxfOGRlNWJlYmQwNThlNGQ0OGI4MGQ4ODZiYjExZDg2ZmUgPSAkKGA8ZGl2IGlkPSJodG1sXzhkZTViZWJkMDU4ZTRkNDhiODBkODg2YmIxMWQ4NmZlIiBzdHlsZT0id2lkdGg6IDEwMC4wJTsgaGVpZ2h0OiAxMDAuMCU7Ij5CaXJjaCBDbGlmZiwgQ2xpZmZzaWRlIFdlc3QgKFNjYXJib3JvdWdoKTwvZGl2PmApWzBdOwogICAgICAgICAgICBwb3B1cF9iN2M0MzY1YjJmMjg0YjFiODQwNGE3MmY0MDMyZjI5YS5zZXRDb250ZW50KGh0bWxfOGRlNWJlYmQwNThlNGQ0OGI4MGQ4ODZiYjExZDg2ZmUpOwogICAgICAgIAoKICAgICAgICBtYXJrZXJfZGM2MGMxNThiMjdlNGJmOGFkMmY0ZTRjYzNhODUyZTIuYmluZFBvcHVwKHBvcHVwX2I3YzQzNjViMmYyODRiMWI4NDA0YTcyZjQwMzJmMjlhKQogICAgICAgIDsKCiAgICAgICAgCiAgICAKICAgIAogICAgICAgICAgICB2YXIgbWFya2VyXzE4NWFlMWZhNzUwNzQyYTQ4MmYzMWU1ODg1ZWY2OTUzID0gTC5tYXJrZXIoCiAgICAgICAgICAgICAgICBbNDMuNzcwMTE5OSwgLTc5LjQwODQ5Mjc5OTk5OTk5XSwKICAgICAgICAgICAgICAgIHsicGFyc2VIdG1sIjogZmFsc2V9CiAgICAgICAgICAgICkuYWRkVG8obWFwX2ZhMjYwODA1YjIzMjQzOWNhYmVkOTQ1ZjIzY2M3ZjE5KTsKICAgICAgICAKICAgIAogICAgICAgIHZhciBwb3B1cF84MGFiZDljMDE2MDA0NTE4YjY3MjBkZmE1ODVjYWI3OCA9IEwucG9wdXAoeyJtYXhXaWR0aCI6ICIxMDAlIn0pOwoKICAgICAgICAKICAgICAgICAgICAgdmFyIGh0bWxfZjU2NzFmNjEwYThhNDUyMGI2Yjc1NjM4Mzk3ZDljNjIgPSAkKGA8ZGl2IGlkPSJodG1sX2Y1NjcxZjYxMGE4YTQ1MjBiNmI3NTYzODM5N2Q5YzYyIiBzdHlsZT0id2lkdGg6IDEwMC4wJTsgaGVpZ2h0OiAxMDAuMCU7Ij5XaWxsb3dkYWxlLCBXaWxsb3dkYWxlIEVhc3QgKE5vcnRoIFlvcmspPC9kaXY+YClbMF07CiAgICAgICAgICAgIHBvcHVwXzgwYWJkOWMwMTYwMDQ1MThiNjcyMGRmYTU4NWNhYjc4LnNldENvbnRlbnQoaHRtbF9mNTY3MWY2MTBhOGE0NTIwYjZiNzU2MzgzOTdkOWM2Mik7CiAgICAgICAgCgogICAgICAgIG1hcmtlcl8xODVhZTFmYTc1MDc0MmE0ODJmMzFlNTg4NWVmNjk1My5iaW5kUG9wdXAocG9wdXBfODBhYmQ5YzAxNjAwNDUxOGI2NzIwZGZhNTg1Y2FiNzgpCiAgICAgICAgOwoKICAgICAgICAKICAgIAogICAgCiAgICAgICAgICAgIHZhciBtYXJrZXJfY2Y4ZDYwNGE0NzA1NGI2ZGE4Njc4ZTA5Mzg3MjA1Y2YgPSBMLm1hcmtlcigKICAgICAgICAgICAgICAgIFs0My43NjE2MzEzLCAtNzkuNTIwOTk5NDAwMDAwMDFdLAogICAgICAgICAgICAgICAgeyJwYXJzZUh0bWwiOiBmYWxzZX0KICAgICAgICAgICAgKS5hZGRUbyhtYXBfZmEyNjA4MDViMjMyNDM5Y2FiZWQ5NDVmMjNjYzdmMTkpOwogICAgICAgIAogICAgCiAgICAgICAgdmFyIHBvcHVwXzM2ZTU4YmI1Njk2ZjQ5ZGNiMjczNDQyYTE2N2Y5MmE3ID0gTC5wb3B1cCh7Im1heFdpZHRoIjogIjEwMCUifSk7CgogICAgICAgIAogICAgICAgICAgICB2YXIgaHRtbF8yZDc0NDgxOTQ2MWY0MzE4YWY0NmZhOWU4Mzc0ZWI2MCA9ICQoYDxkaXYgaWQ9Imh0bWxfMmQ3NDQ4MTk0NjFmNDMxOGFmNDZmYTllODM3NGViNjAiIHN0eWxlPSJ3aWR0aDogMTAwLjAlOyBoZWlnaHQ6IDEwMC4wJTsiPkRvd25zdmlldyAoTm9ydGggWW9yayk8L2Rpdj5gKVswXTsKICAgICAgICAgICAgcG9wdXBfMzZlNThiYjU2OTZmNDlkY2IyNzM0NDJhMTY3ZjkyYTcuc2V0Q29udGVudChodG1sXzJkNzQ0ODE5NDYxZjQzMThhZjQ2ZmE5ZTgzNzRlYjYwKTsKICAgICAgICAKCiAgICAgICAgbWFya2VyX2NmOGQ2MDRhNDcwNTRiNmRhODY3OGUwOTM4NzIwNWNmLmJpbmRQb3B1cChwb3B1cF8zNmU1OGJiNTY5NmY0OWRjYjI3MzQ0MmExNjdmOTJhNykKICAgICAgICA7CgogICAgICAgIAogICAgCiAgICAKICAgICAgICAgICAgdmFyIG1hcmtlcl9hNGZlNWY5MzA0NmI0MTRjYTcwNTk5N2YwODkwZTIxNyA9IEwubWFya2VyKAogICAgICAgICAgICAgICAgWzQzLjcyODAyMDUsIC03OS4zODg3OTAxXSwKICAgICAgICAgICAgICAgIHsicGFyc2VIdG1sIjogZmFsc2V9CiAgICAgICAgICAgICkuYWRkVG8obWFwX2ZhMjYwODA1YjIzMjQzOWNhYmVkOTQ1ZjIzY2M3ZjE5KTsKICAgICAgICAKICAgIAogICAgICAgIHZhciBwb3B1cF9iNDhjMTY0ZjBmODk0YTgzODA4ZDIwZTU2Y2NlZjAyOCA9IEwucG9wdXAoeyJtYXhXaWR0aCI6ICIxMDAlIn0pOwoKICAgICAgICAKICAgICAgICAgICAgdmFyIGh0bWxfNzFmYWFmMTE3ODU5NGU2YjhlYjRkYzAzNjllYjliZTMgPSAkKGA8ZGl2IGlkPSJodG1sXzcxZmFhZjExNzg1OTRlNmI4ZWI0ZGMwMzY5ZWI5YmUzIiBzdHlsZT0id2lkdGg6IDEwMC4wJTsgaGVpZ2h0OiAxMDAuMCU7Ij5MYXdyZW5jZSBQYXJrIChDZW50cmFsIFRvcm9udG8pPC9kaXY+YClbMF07CiAgICAgICAgICAgIHBvcHVwX2I0OGMxNjRmMGY4OTRhODM4MDhkMjBlNTZjY2VmMDI4LnNldENvbnRlbnQoaHRtbF83MWZhYWYxMTc4NTk0ZTZiOGViNGRjMDM2OWViOWJlMyk7CiAgICAgICAgCgogICAgICAgIG1hcmtlcl9hNGZlNWY5MzA0NmI0MTRjYTcwNTk5N2YwODkwZTIxNy5iaW5kUG9wdXAocG9wdXBfYjQ4YzE2NGYwZjg5NGE4MzgwOGQyMGU1NmNjZWYwMjgpCiAgICAgICAgOwoKICAgICAgICAKICAgIAogICAgCiAgICAgICAgICAgIHZhciBtYXJrZXJfZjgxOTQ1MDY3NDZjNGE1NDhhNGM2ZTA3ZjIwYjE2NDggPSBMLm1hcmtlcigKICAgICAgICAgICAgICAgIFs0My43MTE2OTQ4LCAtNzkuNDE2OTM1NTk5OTk5OTldLAogICAgICAgICAgICAgICAgeyJwYXJzZUh0bWwiOiBmYWxzZX0KICAgICAgICAgICAgKS5hZGRUbyhtYXBfZmEyNjA4MDViMjMyNDM5Y2FiZWQ5NDVmMjNjYzdmMTkpOwogICAgICAgIAogICAgCiAgICAgICAgdmFyIHBvcHVwXzM0OWRlY2Y1NjVlODQwNmI5M2Q1ODkyNThjOTAzMTE3ID0gTC5wb3B1cCh7Im1heFdpZHRoIjogIjEwMCUifSk7CgogICAgICAgIAogICAgICAgICAgICB2YXIgaHRtbF9hMTBhNTc5ZGUxZjU0NjQ3Yjk5Mjc2MDI3ZDk1NjljNCA9ICQoYDxkaXYgaWQ9Imh0bWxfYTEwYTU3OWRlMWY1NDY0N2I5OTI3NjAyN2Q5NTY5YzQiIHN0eWxlPSJ3aWR0aDogMTAwLjAlOyBoZWlnaHQ6IDEwMC4wJTsiPlJvc2VsYXduIChDZW50cmFsIFRvcm9udG8pPC9kaXY+YClbMF07CiAgICAgICAgICAgIHBvcHVwXzM0OWRlY2Y1NjVlODQwNmI5M2Q1ODkyNThjOTAzMTE3LnNldENvbnRlbnQoaHRtbF9hMTBhNTc5ZGUxZjU0NjQ3Yjk5Mjc2MDI3ZDk1NjljNCk7CiAgICAgICAgCgogICAgICAgIG1hcmtlcl9mODE5NDUwNjc0NmM0YTU0OGE0YzZlMDdmMjBiMTY0OC5iaW5kUG9wdXAocG9wdXBfMzQ5ZGVjZjU2NWU4NDA2YjkzZDU4OTI1OGM5MDMxMTcpCiAgICAgICAgOwoKICAgICAgICAKICAgIAogICAgCiAgICAgICAgICAgIHZhciBtYXJrZXJfMzQyNDk4NWUxNTQ0NDZhNjgyZjBhYmVhYmI5MTVmMTcgPSBMLm1hcmtlcigKICAgICAgICAgICAgICAgIFs0My42NzMxODUyOTk5OTk5OSwgLTc5LjQ4NzI2MTkwMDAwMDAxXSwKICAgICAgICAgICAgICAgIHsicGFyc2VIdG1sIjogZmFsc2V9CiAgICAgICAgICAgICkuYWRkVG8obWFwX2ZhMjYwODA1YjIzMjQzOWNhYmVkOTQ1ZjIzY2M3ZjE5KTsKICAgICAgICAKICAgIAogICAgICAgIHZhciBwb3B1cF9jZmRkNWVhODQwMzM0MjZlOWMzZTU2ZjRkNjEyZDNlMCA9IEwucG9wdXAoeyJtYXhXaWR0aCI6ICIxMDAlIn0pOwoKICAgICAgICAKICAgICAgICAgICAgdmFyIGh0bWxfY2Q1OTBiYWZlYzgyNGQ2M2E1OTMwMmI5ODJkM2JkZjAgPSAkKGA8ZGl2IGlkPSJodG1sX2NkNTkwYmFmZWM4MjRkNjNhNTkzMDJiOTgyZDNiZGYwIiBzdHlsZT0id2lkdGg6IDEwMC4wJTsgaGVpZ2h0OiAxMDAuMCU7Ij5SdW5ueW1lZGUsIFRoZSBKdW5jdGlvbiBOb3J0aCAoWW9yayk8L2Rpdj5gKVswXTsKICAgICAgICAgICAgcG9wdXBfY2ZkZDVlYTg0MDMzNDI2ZTljM2U1NmY0ZDYxMmQzZTAuc2V0Q29udGVudChodG1sX2NkNTkwYmFmZWM4MjRkNjNhNTkzMDJiOTgyZDNiZGYwKTsKICAgICAgICAKCiAgICAgICAgbWFya2VyXzM0MjQ5ODVlMTU0NDQ2YTY4MmYwYWJlYWJiOTE1ZjE3LmJpbmRQb3B1cChwb3B1cF9jZmRkNWVhODQwMzM0MjZlOWMzZTU2ZjRkNjEyZDNlMCkKICAgICAgICA7CgogICAgICAgIAogICAgCiAgICAKICAgICAgICAgICAgdmFyIG1hcmtlcl8wNTUyYmI5ZTMyMWE0YTEwYWZkZDI4MTg4ZGFhOWM2YyA9IEwubWFya2VyKAogICAgICAgICAgICAgICAgWzQzLjcwNjg3NiwgLTc5LjUxODE4ODQwMDAwMDAxXSwKICAgICAgICAgICAgICAgIHsicGFyc2VIdG1sIjogZmFsc2V9CiAgICAgICAgICAgICkuYWRkVG8obWFwX2ZhMjYwODA1YjIzMjQzOWNhYmVkOTQ1ZjIzY2M3ZjE5KTsKICAgICAgICAKICAgIAogICAgICAgIHZhciBwb3B1cF82NjdjNzhkYWFiMTg0MjdkOTFjZTVkOGY2MzI2ZTU0YyA9IEwucG9wdXAoeyJtYXhXaWR0aCI6ICIxMDAlIn0pOwoKICAgICAgICAKICAgICAgICAgICAgdmFyIGh0bWxfNGI3Nzg3MGE3OWRkNGEzNmJkZjNmYzQxMTRkMTRkZTMgPSAkKGA8ZGl2IGlkPSJodG1sXzRiNzc4NzBhNzlkZDRhMzZiZGYzZmM0MTE0ZDE0ZGUzIiBzdHlsZT0id2lkdGg6IDEwMC4wJTsgaGVpZ2h0OiAxMDAuMCU7Ij5XZXN0b24gKFlvcmspPC9kaXY+YClbMF07CiAgICAgICAgICAgIHBvcHVwXzY2N2M3OGRhYWIxODQyN2Q5MWNlNWQ4ZjYzMjZlNTRjLnNldENvbnRlbnQoaHRtbF80Yjc3ODcwYTc5ZGQ0YTM2YmRmM2ZjNDExNGQxNGRlMyk7CiAgICAgICAgCgogICAgICAgIG1hcmtlcl8wNTUyYmI5ZTMyMWE0YTEwYWZkZDI4MTg4ZGFhOWM2Yy5iaW5kUG9wdXAocG9wdXBfNjY3Yzc4ZGFhYjE4NDI3ZDkxY2U1ZDhmNjMyNmU1NGMpCiAgICAgICAgOwoKICAgICAgICAKICAgIAogICAgCiAgICAgICAgICAgIHZhciBtYXJrZXJfNGRjOTQ3YjFlYTIzNGNkOTk5NTRiZGY0N2Y0ZmM5ZmYgPSBMLm1hcmtlcigKICAgICAgICAgICAgICAgIFs0My43NTc0MDk2LCAtNzkuMjczMzA0MDAwMDAwMDFdLAogICAgICAgICAgICAgICAgeyJwYXJzZUh0bWwiOiBmYWxzZX0KICAgICAgICAgICAgKS5hZGRUbyhtYXBfZmEyNjA4MDViMjMyNDM5Y2FiZWQ5NDVmMjNjYzdmMTkpOwogICAgICAgIAogICAgCiAgICAgICAgdmFyIHBvcHVwXzhhMTdjMzc2N2MxYTQ5MWRiMWE3MzFjYmQ0NTEzYjJiID0gTC5wb3B1cCh7Im1heFdpZHRoIjogIjEwMCUifSk7CgogICAgICAgIAogICAgICAgICAgICB2YXIgaHRtbF80NjgwYjdlMjdlMzQ0NzQ3YTYyMDY2NjY5YWIzYjE4MyA9ICQoYDxkaXYgaWQ9Imh0bWxfNDY4MGI3ZTI3ZTM0NDc0N2E2MjA2NjY2OWFiM2IxODMiIHN0eWxlPSJ3aWR0aDogMTAwLjAlOyBoZWlnaHQ6IDEwMC4wJTsiPkRvcnNldCBQYXJrLCBXZXhmb3JkIEhlaWdodHMsIFNjYXJib3JvdWdoIFRvd24gQ2VudHJlIChTY2FyYm9yb3VnaCk8L2Rpdj5gKVswXTsKICAgICAgICAgICAgcG9wdXBfOGExN2MzNzY3YzFhNDkxZGIxYTczMWNiZDQ1MTNiMmIuc2V0Q29udGVudChodG1sXzQ2ODBiN2UyN2UzNDQ3NDdhNjIwNjY2NjlhYjNiMTgzKTsKICAgICAgICAKCiAgICAgICAgbWFya2VyXzRkYzk0N2IxZWEyMzRjZDk5OTU0YmRmNDdmNGZjOWZmLmJpbmRQb3B1cChwb3B1cF84YTE3YzM3NjdjMWE0OTFkYjFhNzMxY2JkNDUxM2IyYikKICAgICAgICA7CgogICAgICAgIAogICAgCiAgICAKICAgICAgICAgICAgdmFyIG1hcmtlcl9kNDJkZGFlMzcyZjM0NDNiYmNjNDExZmRlZTc1OGI2ZiA9IEwubWFya2VyKAogICAgICAgICAgICAgICAgWzQzLjc1Mjc1ODI5OTk5OTk5NiwgLTc5LjQwMDA0OTNdLAogICAgICAgICAgICAgICAgeyJwYXJzZUh0bWwiOiBmYWxzZX0KICAgICAgICAgICAgKS5hZGRUbyhtYXBfZmEyNjA4MDViMjMyNDM5Y2FiZWQ5NDVmMjNjYzdmMTkpOwogICAgICAgIAogICAgCiAgICAgICAgdmFyIHBvcHVwXzJmNTNjODVhM2E1ZjQzNjg4MmI2YTMwOGM0NmNjOWQwID0gTC5wb3B1cCh7Im1heFdpZHRoIjogIjEwMCUifSk7CgogICAgICAgIAogICAgICAgICAgICB2YXIgaHRtbF80ODUyZmE4MTAzNzM0MWNhOTRlNGU1YTUzMTUzMGRkZiA9ICQoYDxkaXYgaWQ9Imh0bWxfNDg1MmZhODEwMzczNDFjYTk0ZTRlNWE1MzE1MzBkZGYiIHN0eWxlPSJ3aWR0aDogMTAwLjAlOyBoZWlnaHQ6IDEwMC4wJTsiPllvcmsgTWlsbHMgV2VzdCAoTm9ydGggWW9yayk8L2Rpdj5gKVswXTsKICAgICAgICAgICAgcG9wdXBfMmY1M2M4NWEzYTVmNDM2ODgyYjZhMzA4YzQ2Y2M5ZDAuc2V0Q29udGVudChodG1sXzQ4NTJmYTgxMDM3MzQxY2E5NGU0ZTVhNTMxNTMwZGRmKTsKICAgICAgICAKCiAgICAgICAgbWFya2VyX2Q0MmRkYWUzNzJmMzQ0M2JiY2M0MTFmZGVlNzU4YjZmLmJpbmRQb3B1cChwb3B1cF8yZjUzYzg1YTNhNWY0MzY4ODJiNmEzMDhjNDZjYzlkMCkKICAgICAgICA7CgogICAgICAgIAogICAgCiAgICAKICAgICAgICAgICAgdmFyIG1hcmtlcl85NzYxYTQwNmZkYzE0MTJkOTE3NGVjOGEzZjU3ZTY1YiA9IEwubWFya2VyKAogICAgICAgICAgICAgICAgWzQzLjcxMjc1MTEsIC03OS4zOTAxOTc1XSwKICAgICAgICAgICAgICAgIHsicGFyc2VIdG1sIjogZmFsc2V9CiAgICAgICAgICAgICkuYWRkVG8obWFwX2ZhMjYwODA1YjIzMjQzOWNhYmVkOTQ1ZjIzY2M3ZjE5KTsKICAgICAgICAKICAgIAogICAgICAgIHZhciBwb3B1cF9lZTA1YWZiNTU4MjE0NDdmYjZjZjViYzJmY2FkZGQwNCA9IEwucG9wdXAoeyJtYXhXaWR0aCI6ICIxMDAlIn0pOwoKICAgICAgICAKICAgICAgICAgICAgdmFyIGh0bWxfZTZkZmM4YmQxZTY2NDBlNDgwZDE2MDM3NDBmY2Y4NmYgPSAkKGA8ZGl2IGlkPSJodG1sX2U2ZGZjOGJkMWU2NjQwZTQ4MGQxNjAzNzQwZmNmODZmIiBzdHlsZT0id2lkdGg6IDEwMC4wJTsgaGVpZ2h0OiAxMDAuMCU7Ij5EYXZpc3ZpbGxlIE5vcnRoIChDZW50cmFsIFRvcm9udG8pPC9kaXY+YClbMF07CiAgICAgICAgICAgIHBvcHVwX2VlMDVhZmI1NTgyMTQ0N2ZiNmNmNWJjMmZjYWRkZDA0LnNldENvbnRlbnQoaHRtbF9lNmRmYzhiZDFlNjY0MGU0ODBkMTYwMzc0MGZjZjg2Zik7CiAgICAgICAgCgogICAgICAgIG1hcmtlcl85NzYxYTQwNmZkYzE0MTJkOTE3NGVjOGEzZjU3ZTY1Yi5iaW5kUG9wdXAocG9wdXBfZWUwNWFmYjU1ODIxNDQ3ZmI2Y2Y1YmMyZmNhZGRkMDQpCiAgICAgICAgOwoKICAgICAgICAKICAgIAogICAgCiAgICAgICAgICAgIHZhciBtYXJrZXJfZDA4NDE2Y2I5OWI4NDlhMjg4MTA5YTBjYjFhYzVkY2IgPSBMLm1hcmtlcigKICAgICAgICAgICAgICAgIFs0My42OTY5NDc2LCAtNzkuNDExMzA3MjAwMDAwMDFdLAogICAgICAgICAgICAgICAgeyJwYXJzZUh0bWwiOiBmYWxzZX0KICAgICAgICAgICAgKS5hZGRUbyhtYXBfZmEyNjA4MDViMjMyNDM5Y2FiZWQ5NDVmMjNjYzdmMTkpOwogICAgICAgIAogICAgCiAgICAgICAgdmFyIHBvcHVwXzdmNWJhMWU1YTZiYjQwZDVhMTQwYjc2MzUzMjkzMGY0ID0gTC5wb3B1cCh7Im1heFdpZHRoIjogIjEwMCUifSk7CgogICAgICAgIAogICAgICAgICAgICB2YXIgaHRtbF9jZjY2NGIxZWIyNmQ0MzlhYjNmYzlmYzgxNjRjNWU0MiA9ICQoYDxkaXYgaWQ9Imh0bWxfY2Y2NjRiMWViMjZkNDM5YWIzZmM5ZmM4MTY0YzVlNDIiIHN0eWxlPSJ3aWR0aDogMTAwLjAlOyBoZWlnaHQ6IDEwMC4wJTsiPkZvcmVzdCBIaWxsIE5vcnRoICZhbXA7IFdlc3QsIEZvcmVzdCBIaWxsIFJvYWQgUGFyayAoQ2VudHJhbCBUb3JvbnRvKTwvZGl2PmApWzBdOwogICAgICAgICAgICBwb3B1cF83ZjViYTFlNWE2YmI0MGQ1YTE0MGI3NjM1MzI5MzBmNC5zZXRDb250ZW50KGh0bWxfY2Y2NjRiMWViMjZkNDM5YWIzZmM5ZmM4MTY0YzVlNDIpOwogICAgICAgIAoKICAgICAgICBtYXJrZXJfZDA4NDE2Y2I5OWI4NDlhMjg4MTA5YTBjYjFhYzVkY2IuYmluZFBvcHVwKHBvcHVwXzdmNWJhMWU1YTZiYjQwZDVhMTQwYjc2MzUzMjkzMGY0KQogICAgICAgIDsKCiAgICAgICAgCiAgICAKICAgIAogICAgICAgICAgICB2YXIgbWFya2VyXzUzMmJkMGY2NDA0NDQxYTJhODlmMTY5MDk3ZjFhMDY5ID0gTC5tYXJrZXIoCiAgICAgICAgICAgICAgICBbNDMuNjYxNjA4MywgLTc5LjQ2NDc2MzI5OTk5OTk5XSwKICAgICAgICAgICAgICAgIHsicGFyc2VIdG1sIjogZmFsc2V9CiAgICAgICAgICAgICkuYWRkVG8obWFwX2ZhMjYwODA1YjIzMjQzOWNhYmVkOTQ1ZjIzY2M3ZjE5KTsKICAgICAgICAKICAgIAogICAgICAgIHZhciBwb3B1cF9mZjE3ODE0OWZhZjA0OTI1YmUyNjlhOWFkMWM4MjRlZiA9IEwucG9wdXAoeyJtYXhXaWR0aCI6ICIxMDAlIn0pOwoKICAgICAgICAKICAgICAgICAgICAgdmFyIGh0bWxfN2ZiNjU2MzBiY2E4NGYwMGFjNDY4M2RiNjY5ZTg2MzMgPSAkKGA8ZGl2IGlkPSJodG1sXzdmYjY1NjMwYmNhODRmMDBhYzQ2ODNkYjY2OWU4NjMzIiBzdHlsZT0id2lkdGg6IDEwMC4wJTsgaGVpZ2h0OiAxMDAuMCU7Ij5IaWdoIFBhcmssIFRoZSBKdW5jdGlvbiBTb3V0aCAoV2VzdCBUb3JvbnRvKTwvZGl2PmApWzBdOwogICAgICAgICAgICBwb3B1cF9mZjE3ODE0OWZhZjA0OTI1YmUyNjlhOWFkMWM4MjRlZi5zZXRDb250ZW50KGh0bWxfN2ZiNjU2MzBiY2E4NGYwMGFjNDY4M2RiNjY5ZTg2MzMpOwogICAgICAgIAoKICAgICAgICBtYXJrZXJfNTMyYmQwZjY0MDQ0NDFhMmE4OWYxNjkwOTdmMWEwNjkuYmluZFBvcHVwKHBvcHVwX2ZmMTc4MTQ5ZmFmMDQ5MjViZTI2OWE5YWQxYzgyNGVmKQogICAgICAgIDsKCiAgICAgICAgCiAgICAKICAgIAogICAgICAgICAgICB2YXIgbWFya2VyXzc5OTUyNTNiMWM5NDRhODJhZmUwYWJkYTYyYjk0NzlhID0gTC5tYXJrZXIoCiAgICAgICAgICAgICAgICBbNDMuNjk2MzE5LCAtNzkuNTMyMjQyNDAwMDAwMDJdLAogICAgICAgICAgICAgICAgeyJwYXJzZUh0bWwiOiBmYWxzZX0KICAgICAgICAgICAgKS5hZGRUbyhtYXBfZmEyNjA4MDViMjMyNDM5Y2FiZWQ5NDVmMjNjYzdmMTkpOwogICAgICAgIAogICAgCiAgICAgICAgdmFyIHBvcHVwX2Y2MGIzM2NhMWYwNjQxOWM4N2Q5MDk0NTdlZjUyNDJhID0gTC5wb3B1cCh7Im1heFdpZHRoIjogIjEwMCUifSk7CgogICAgICAgIAogICAgICAgICAgICB2YXIgaHRtbF9iODE5YWQ0YTIzM2Y0MGJhODY4NDA4MzY4MTUwYzAyYSA9ICQoYDxkaXYgaWQ9Imh0bWxfYjgxOWFkNGEyMzNmNDBiYTg2ODQwODM2ODE1MGMwMmEiIHN0eWxlPSJ3aWR0aDogMTAwLjAlOyBoZWlnaHQ6IDEwMC4wJTsiPldlc3Rtb3VudCAoRXRvYmljb2tlKTwvZGl2PmApWzBdOwogICAgICAgICAgICBwb3B1cF9mNjBiMzNjYTFmMDY0MTljODdkOTA5NDU3ZWY1MjQyYS5zZXRDb250ZW50KGh0bWxfYjgxOWFkNGEyMzNmNDBiYTg2ODQwODM2ODE1MGMwMmEpOwogICAgICAgIAoKICAgICAgICBtYXJrZXJfNzk5NTI1M2IxYzk0NGE4MmFmZTBhYmRhNjJiOTQ3OWEuYmluZFBvcHVwKHBvcHVwX2Y2MGIzM2NhMWYwNjQxOWM4N2Q5MDk0NTdlZjUyNDJhKQogICAgICAgIDsKCiAgICAgICAgCiAgICAKICAgIAogICAgICAgICAgICB2YXIgbWFya2VyXzMzNzZhMzJlNWFiYjRlNmNiYzFiOTY3OWZiODYyMmNkID0gTC5tYXJrZXIoCiAgICAgICAgICAgICAgICBbNDMuNzUwMDcxNTAwMDAwMDA0LCAtNzkuMjk1ODQ5MV0sCiAgICAgICAgICAgICAgICB7InBhcnNlSHRtbCI6IGZhbHNlfQogICAgICAgICAgICApLmFkZFRvKG1hcF9mYTI2MDgwNWIyMzI0MzljYWJlZDk0NWYyM2NjN2YxOSk7CiAgICAgICAgCiAgICAKICAgICAgICB2YXIgcG9wdXBfMzBiZDk0NGQ3YTNmNGU4NWFiNzJlNzI2YWY4MzQ0MDcgPSBMLnBvcHVwKHsibWF4V2lkdGgiOiAiMTAwJSJ9KTsKCiAgICAgICAgCiAgICAgICAgICAgIHZhciBodG1sXzhmMjIzZWI4ZThjOTQyMWFiMjg2YTUwZmExYWNkZjQyID0gJChgPGRpdiBpZD0iaHRtbF84ZjIyM2ViOGU4Yzk0MjFhYjI4NmE1MGZhMWFjZGY0MiIgc3R5bGU9IndpZHRoOiAxMDAuMCU7IGhlaWdodDogMTAwLjAlOyI+V2V4Zm9yZCwgTWFyeXZhbGUgKFNjYXJib3JvdWdoKTwvZGl2PmApWzBdOwogICAgICAgICAgICBwb3B1cF8zMGJkOTQ0ZDdhM2Y0ZTg1YWI3MmU3MjZhZjgzNDQwNy5zZXRDb250ZW50KGh0bWxfOGYyMjNlYjhlOGM5NDIxYWIyODZhNTBmYTFhY2RmNDIpOwogICAgICAgIAoKICAgICAgICBtYXJrZXJfMzM3NmEzMmU1YWJiNGU2Y2JjMWI5Njc5ZmI4NjIyY2QuYmluZFBvcHVwKHBvcHVwXzMwYmQ5NDRkN2EzZjRlODVhYjcyZTcyNmFmODM0NDA3KQogICAgICAgIDsKCiAgICAgICAgCiAgICAKICAgIAogICAgICAgICAgICB2YXIgbWFya2VyX2M3MDYzYjA0YTFjODRlNWU5NjgyNDQ5MjBlYWZkZmYxID0gTC5tYXJrZXIoCiAgICAgICAgICAgICAgICBbNDMuNzgyNzM2NCwgLTc5LjQ0MjI1OTNdLAogICAgICAgICAgICAgICAgeyJwYXJzZUh0bWwiOiBmYWxzZX0KICAgICAgICAgICAgKS5hZGRUbyhtYXBfZmEyNjA4MDViMjMyNDM5Y2FiZWQ5NDVmMjNjYzdmMTkpOwogICAgICAgIAogICAgCiAgICAgICAgdmFyIHBvcHVwXzNmZjUwMTgwYTE2YzRmNjk4YjFlMzM1NmRlODgyNmQ1ID0gTC5wb3B1cCh7Im1heFdpZHRoIjogIjEwMCUifSk7CgogICAgICAgIAogICAgICAgICAgICB2YXIgaHRtbF9kMDA4Nzg4MmEyNDg0ZTUxYmU5NGExZDk2NzE5YzdmNyA9ICQoYDxkaXYgaWQ9Imh0bWxfZDAwODc4ODJhMjQ4NGU1MWJlOTRhMWQ5NjcxOWM3ZjciIHN0eWxlPSJ3aWR0aDogMTAwLjAlOyBoZWlnaHQ6IDEwMC4wJTsiPldpbGxvd2RhbGUsIFdpbGxvd2RhbGUgV2VzdCAoTm9ydGggWW9yayk8L2Rpdj5gKVswXTsKICAgICAgICAgICAgcG9wdXBfM2ZmNTAxODBhMTZjNGY2OThiMWUzMzU2ZGU4ODI2ZDUuc2V0Q29udGVudChodG1sX2QwMDg3ODgyYTI0ODRlNTFiZTk0YTFkOTY3MTljN2Y3KTsKICAgICAgICAKCiAgICAgICAgbWFya2VyX2M3MDYzYjA0YTFjODRlNWU5NjgyNDQ5MjBlYWZkZmYxLmJpbmRQb3B1cChwb3B1cF8zZmY1MDE4MGExNmM0ZjY5OGIxZTMzNTZkZTg4MjZkNSkKICAgICAgICA7CgogICAgICAgIAogICAgCiAgICAKICAgICAgICAgICAgdmFyIG1hcmtlcl8zNzg1Yjk1ZmM3OTk0YWM4YmY3YjdmY2IxOWEwMzEzZiA9IEwubWFya2VyKAogICAgICAgICAgICAgICAgWzQzLjcxNTM4MzQsIC03OS40MDU2Nzg0MDAwMDAwMV0sCiAgICAgICAgICAgICAgICB7InBhcnNlSHRtbCI6IGZhbHNlfQogICAgICAgICAgICApLmFkZFRvKG1hcF9mYTI2MDgwNWIyMzI0MzljYWJlZDk0NWYyM2NjN2YxOSk7CiAgICAgICAgCiAgICAKICAgICAgICB2YXIgcG9wdXBfNGVkNjM0YTU4MTFjNGRhMWFlMTFkN2QwNDZjYjgxMzggPSBMLnBvcHVwKHsibWF4V2lkdGgiOiAiMTAwJSJ9KTsKCiAgICAgICAgCiAgICAgICAgICAgIHZhciBodG1sX2ZiOTk2ODRhOGU2YTQzMzViMTkwYjc2M2M0OTlmOTRmID0gJChgPGRpdiBpZD0iaHRtbF9mYjk5Njg0YThlNmE0MzM1YjE5MGI3NjNjNDk5Zjk0ZiIgc3R5bGU9IndpZHRoOiAxMDAuMCU7IGhlaWdodDogMTAwLjAlOyI+Tm9ydGggVG9yb250byBXZXN0LCBMYXdyZW5jZSBQYXJrIChDZW50cmFsIFRvcm9udG8pPC9kaXY+YClbMF07CiAgICAgICAgICAgIHBvcHVwXzRlZDYzNGE1ODExYzRkYTFhZTExZDdkMDQ2Y2I4MTM4LnNldENvbnRlbnQoaHRtbF9mYjk5Njg0YThlNmE0MzM1YjE5MGI3NjNjNDk5Zjk0Zik7CiAgICAgICAgCgogICAgICAgIG1hcmtlcl8zNzg1Yjk1ZmM3OTk0YWM4YmY3YjdmY2IxOWEwMzEzZi5iaW5kUG9wdXAocG9wdXBfNGVkNjM0YTU4MTFjNGRhMWFlMTFkN2QwNDZjYjgxMzgpCiAgICAgICAgOwoKICAgICAgICAKICAgIAogICAgCiAgICAgICAgICAgIHZhciBtYXJrZXJfMGE4NjQxODY3NzAyNDBkNDk2ZDdhNWU2OGIwZTM0Y2MgPSBMLm1hcmtlcigKICAgICAgICAgICAgICAgIFs0My42NzI3MDk3LCAtNzkuNDA1Njc4NDAwMDAwMDFdLAogICAgICAgICAgICAgICAgeyJwYXJzZUh0bWwiOiBmYWxzZX0KICAgICAgICAgICAgKS5hZGRUbyhtYXBfZmEyNjA4MDViMjMyNDM5Y2FiZWQ5NDVmMjNjYzdmMTkpOwogICAgICAgIAogICAgCiAgICAgICAgdmFyIHBvcHVwX2E0ZWNkNDExZWI0ZjQ0ZDM4OTRkODdmZjUzNjViNjZlID0gTC5wb3B1cCh7Im1heFdpZHRoIjogIjEwMCUifSk7CgogICAgICAgIAogICAgICAgICAgICB2YXIgaHRtbF8wY2ZiODMwZjlkZDU0MDk5OGNkYzYyNGQ4OWVlYjYxMSA9ICQoYDxkaXYgaWQ9Imh0bWxfMGNmYjgzMGY5ZGQ1NDA5OThjZGM2MjRkODllZWI2MTEiIHN0eWxlPSJ3aWR0aDogMTAwLjAlOyBoZWlnaHQ6IDEwMC4wJTsiPlRoZSBBbm5leCwgTm9ydGggTWlkdG93biwgWW9ya3ZpbGxlIChDZW50cmFsIFRvcm9udG8pPC9kaXY+YClbMF07CiAgICAgICAgICAgIHBvcHVwX2E0ZWNkNDExZWI0ZjQ0ZDM4OTRkODdmZjUzNjViNjZlLnNldENvbnRlbnQoaHRtbF8wY2ZiODMwZjlkZDU0MDk5OGNkYzYyNGQ4OWVlYjYxMSk7CiAgICAgICAgCgogICAgICAgIG1hcmtlcl8wYTg2NDE4Njc3MDI0MGQ0OTZkN2E1ZTY4YjBlMzRjYy5iaW5kUG9wdXAocG9wdXBfYTRlY2Q0MTFlYjRmNDRkMzg5NGQ4N2ZmNTM2NWI2NmUpCiAgICAgICAgOwoKICAgICAgICAKICAgIAogICAgCiAgICAgICAgICAgIHZhciBtYXJrZXJfZDEwZGNlZjE0YjRmNDY3OGE3NDkwYzg3MTk5YmYxMmIgPSBMLm1hcmtlcigKICAgICAgICAgICAgICAgIFs0My42NDg5NTk3LCAtNzkuNDU2MzI1XSwKICAgICAgICAgICAgICAgIHsicGFyc2VIdG1sIjogZmFsc2V9CiAgICAgICAgICAgICkuYWRkVG8obWFwX2ZhMjYwODA1YjIzMjQzOWNhYmVkOTQ1ZjIzY2M3ZjE5KTsKICAgICAgICAKICAgIAogICAgICAgIHZhciBwb3B1cF9iOWRjZmQxMWE5ZmI0NzYxODhmNDdkYjdlNTc3MGQ4ZCA9IEwucG9wdXAoeyJtYXhXaWR0aCI6ICIxMDAlIn0pOwoKICAgICAgICAKICAgICAgICAgICAgdmFyIGh0bWxfYTRiMWRkMTA2ZWIwNDFjNjk3M2FmODEwYzJlNWY5NzEgPSAkKGA8ZGl2IGlkPSJodG1sX2E0YjFkZDEwNmViMDQxYzY5NzNhZjgxMGMyZTVmOTcxIiBzdHlsZT0id2lkdGg6IDEwMC4wJTsgaGVpZ2h0OiAxMDAuMCU7Ij5QYXJrZGFsZSwgUm9uY2VzdmFsbGVzIChXZXN0IFRvcm9udG8pPC9kaXY+YClbMF07CiAgICAgICAgICAgIHBvcHVwX2I5ZGNmZDExYTlmYjQ3NjE4OGY0N2RiN2U1NzcwZDhkLnNldENvbnRlbnQoaHRtbF9hNGIxZGQxMDZlYjA0MWM2OTczYWY4MTBjMmU1Zjk3MSk7CiAgICAgICAgCgogICAgICAgIG1hcmtlcl9kMTBkY2VmMTRiNGY0Njc4YTc0OTBjODcxOTliZjEyYi5iaW5kUG9wdXAocG9wdXBfYjlkY2ZkMTFhOWZiNDc2MTg4ZjQ3ZGI3ZTU3NzBkOGQpCiAgICAgICAgOwoKICAgICAgICAKICAgIAogICAgCiAgICAgICAgICAgIHZhciBtYXJrZXJfYjdiNGUwNzkzMTAyNDhlMzg4NzY3NWM1Y2FmZDZhZDEgPSBMLm1hcmtlcigKICAgICAgICAgICAgICAgIFs0My42MzY5NjU2LCAtNzkuNjE1ODE4OTk5OTk5OTldLAogICAgICAgICAgICAgICAgeyJwYXJzZUh0bWwiOiBmYWxzZX0KICAgICAgICAgICAgKS5hZGRUbyhtYXBfZmEyNjA4MDViMjMyNDM5Y2FiZWQ5NDVmMjNjYzdmMTkpOwogICAgICAgIAogICAgCiAgICAgICAgdmFyIHBvcHVwXzUxZDliNTMwOTRkYzRkYzViN2Y1NjFhNGQxM2FlNDVhID0gTC5wb3B1cCh7Im1heFdpZHRoIjogIjEwMCUifSk7CgogICAgICAgIAogICAgICAgICAgICB2YXIgaHRtbF8yMTFhYTc0Y2JlYzQ0MmEzOGVmZmM3ZTk4ZDFiYzVhNyA9ICQoYDxkaXYgaWQ9Imh0bWxfMjExYWE3NGNiZWM0NDJhMzhlZmZjN2U5OGQxYmM1YTciIHN0eWxlPSJ3aWR0aDogMTAwLjAlOyBoZWlnaHQ6IDEwMC4wJTsiPkNhbmFkYSBQb3N0IEdhdGV3YXkgUHJvY2Vzc2luZyBDZW50cmUgKE1pc3Npc3NhdWdhKTwvZGl2PmApWzBdOwogICAgICAgICAgICBwb3B1cF81MWQ5YjUzMDk0ZGM0ZGM1YjdmNTYxYTRkMTNhZTQ1YS5zZXRDb250ZW50KGh0bWxfMjExYWE3NGNiZWM0NDJhMzhlZmZjN2U5OGQxYmM1YTcpOwogICAgICAgIAoKICAgICAgICBtYXJrZXJfYjdiNGUwNzkzMTAyNDhlMzg4NzY3NWM1Y2FmZDZhZDEuYmluZFBvcHVwKHBvcHVwXzUxZDliNTMwOTRkYzRkYzViN2Y1NjFhNGQxM2FlNDVhKQogICAgICAgIDsKCiAgICAgICAgCiAgICAKICAgIAogICAgICAgICAgICB2YXIgbWFya2VyXzRkMGE2NzQzYTUwNzQxNDdhN2EzMzQyYTdjZTczMGE3ID0gTC5tYXJrZXIoCiAgICAgICAgICAgICAgICBbNDMuNjg4OTA1NCwgLTc5LjU1NDcyNDQwMDAwMDAxXSwKICAgICAgICAgICAgICAgIHsicGFyc2VIdG1sIjogZmFsc2V9CiAgICAgICAgICAgICkuYWRkVG8obWFwX2ZhMjYwODA1YjIzMjQzOWNhYmVkOTQ1ZjIzY2M3ZjE5KTsKICAgICAgICAKICAgIAogICAgICAgIHZhciBwb3B1cF82NWY3YWVhMmI0MWE0YWM3YjBlNzEyNjQxMTkwMzA5MyA9IEwucG9wdXAoeyJtYXhXaWR0aCI6ICIxMDAlIn0pOwoKICAgICAgICAKICAgICAgICAgICAgdmFyIGh0bWxfYTE3NDBmMjIzZTEwNDk4YjgxZWYxZDBjY2EyOGZlNTMgPSAkKGA8ZGl2IGlkPSJodG1sX2ExNzQwZjIyM2UxMDQ5OGI4MWVmMWQwY2NhMjhmZTUzIiBzdHlsZT0id2lkdGg6IDEwMC4wJTsgaGVpZ2h0OiAxMDAuMCU7Ij5LaW5nc3ZpZXcgVmlsbGFnZSwgU3QuIFBoaWxsaXBzLCBNYXJ0aW4gR3JvdmUgR2FyZGVucywgUmljaHZpZXcgR2FyZGVucyAoRXRvYmljb2tlKTwvZGl2PmApWzBdOwogICAgICAgICAgICBwb3B1cF82NWY3YWVhMmI0MWE0YWM3YjBlNzEyNjQxMTkwMzA5My5zZXRDb250ZW50KGh0bWxfYTE3NDBmMjIzZTEwNDk4YjgxZWYxZDBjY2EyOGZlNTMpOwogICAgICAgIAoKICAgICAgICBtYXJrZXJfNGQwYTY3NDNhNTA3NDE0N2E3YTMzNDJhN2NlNzMwYTcuYmluZFBvcHVwKHBvcHVwXzY1ZjdhZWEyYjQxYTRhYzdiMGU3MTI2NDExOTAzMDkzKQogICAgICAgIDsKCiAgICAgICAgCiAgICAKICAgIAogICAgICAgICAgICB2YXIgbWFya2VyXzRiZWU4ZGE1MzVhMDRmNzZiY2YwZWMzOTYyNTBjMzUxID0gTC5tYXJrZXIoCiAgICAgICAgICAgICAgICBbNDMuNzk0MjAwMywgLTc5LjI2MjAyOTQwMDAwMDAyXSwKICAgICAgICAgICAgICAgIHsicGFyc2VIdG1sIjogZmFsc2V9CiAgICAgICAgICAgICkuYWRkVG8obWFwX2ZhMjYwODA1YjIzMjQzOWNhYmVkOTQ1ZjIzY2M3ZjE5KTsKICAgICAgICAKICAgIAogICAgICAgIHZhciBwb3B1cF9lZjRkMzU3YWQ1MGM0NWQ4YTcyMmFlOThhMDM3YTkzZSA9IEwucG9wdXAoeyJtYXhXaWR0aCI6ICIxMDAlIn0pOwoKICAgICAgICAKICAgICAgICAgICAgdmFyIGh0bWxfYzc4M2MyZDdkYjU3NDU4MjllZjVmNDliYWNhZTVjMmUgPSAkKGA8ZGl2IGlkPSJodG1sX2M3ODNjMmQ3ZGI1NzQ1ODI5ZWY1ZjQ5YmFjYWU1YzJlIiBzdHlsZT0id2lkdGg6IDEwMC4wJTsgaGVpZ2h0OiAxMDAuMCU7Ij5BZ2luY291cnQgKFNjYXJib3JvdWdoKTwvZGl2PmApWzBdOwogICAgICAgICAgICBwb3B1cF9lZjRkMzU3YWQ1MGM0NWQ4YTcyMmFlOThhMDM3YTkzZS5zZXRDb250ZW50KGh0bWxfYzc4M2MyZDdkYjU3NDU4MjllZjVmNDliYWNhZTVjMmUpOwogICAgICAgIAoKICAgICAgICBtYXJrZXJfNGJlZThkYTUzNWEwNGY3NmJjZjBlYzM5NjI1MGMzNTEuYmluZFBvcHVwKHBvcHVwX2VmNGQzNTdhZDUwYzQ1ZDhhNzIyYWU5OGEwMzdhOTNlKQogICAgICAgIDsKCiAgICAgICAgCiAgICAKICAgIAogICAgICAgICAgICB2YXIgbWFya2VyXzhmY2NmYjlmOGFmODQyZWY5MmQ1ODRjOGY0NzMzMDhhID0gTC5tYXJrZXIoCiAgICAgICAgICAgICAgICBbNDMuNzA0MzI0NCwgLTc5LjM4ODc5MDFdLAogICAgICAgICAgICAgICAgeyJwYXJzZUh0bWwiOiBmYWxzZX0KICAgICAgICAgICAgKS5hZGRUbyhtYXBfZmEyNjA4MDViMjMyNDM5Y2FiZWQ5NDVmMjNjYzdmMTkpOwogICAgICAgIAogICAgCiAgICAgICAgdmFyIHBvcHVwXzRmYTI4YmI2ZTE3NDQ1NGM4ZDE4ZmY5N2EzMDg5ZjY5ID0gTC5wb3B1cCh7Im1heFdpZHRoIjogIjEwMCUifSk7CgogICAgICAgIAogICAgICAgICAgICB2YXIgaHRtbF84ZWU0NTA1Y2RlMzY0OWZjYWVlMDlmZTUzZmZiOTQyZiA9ICQoYDxkaXYgaWQ9Imh0bWxfOGVlNDUwNWNkZTM2NDlmY2FlZTA5ZmU1M2ZmYjk0MmYiIHN0eWxlPSJ3aWR0aDogMTAwLjAlOyBoZWlnaHQ6IDEwMC4wJTsiPkRhdmlzdmlsbGUgKENlbnRyYWwgVG9yb250byk8L2Rpdj5gKVswXTsKICAgICAgICAgICAgcG9wdXBfNGZhMjhiYjZlMTc0NDU0YzhkMThmZjk3YTMwODlmNjkuc2V0Q29udGVudChodG1sXzhlZTQ1MDVjZGUzNjQ5ZmNhZWUwOWZlNTNmZmI5NDJmKTsKICAgICAgICAKCiAgICAgICAgbWFya2VyXzhmY2NmYjlmOGFmODQyZWY5MmQ1ODRjOGY0NzMzMDhhLmJpbmRQb3B1cChwb3B1cF80ZmEyOGJiNmUxNzQ0NTRjOGQxOGZmOTdhMzA4OWY2OSkKICAgICAgICA7CgogICAgICAgIAogICAgCiAgICAKICAgICAgICAgICAgdmFyIG1hcmtlcl9mZTcwMWNmOTIxMjg0ZTEyODdmZGY0YWUwNGM0YTUxZSA9IEwubWFya2VyKAogICAgICAgICAgICAgICAgWzQzLjY2MjY5NTYsIC03OS40MDAwNDkzXSwKICAgICAgICAgICAgICAgIHsicGFyc2VIdG1sIjogZmFsc2V9CiAgICAgICAgICAgICkuYWRkVG8obWFwX2ZhMjYwODA1YjIzMjQzOWNhYmVkOTQ1ZjIzY2M3ZjE5KTsKICAgICAgICAKICAgIAogICAgICAgIHZhciBwb3B1cF83NTRlZjE1M2JmZTg0MzQ0OGNkMjk1MmQwODc0NTQ2YyA9IEwucG9wdXAoeyJtYXhXaWR0aCI6ICIxMDAlIn0pOwoKICAgICAgICAKICAgICAgICAgICAgdmFyIGh0bWxfNzJhNjA5YTI1ZTA1NGVhZmFkMDRmZDg2MzI3NDgzY2QgPSAkKGA8ZGl2IGlkPSJodG1sXzcyYTYwOWEyNWUwNTRlYWZhZDA0ZmQ4NjMyNzQ4M2NkIiBzdHlsZT0id2lkdGg6IDEwMC4wJTsgaGVpZ2h0OiAxMDAuMCU7Ij5Vbml2ZXJzaXR5IG9mIFRvcm9udG8sIEhhcmJvcmQgKERvd250b3duIFRvcm9udG8pPC9kaXY+YClbMF07CiAgICAgICAgICAgIHBvcHVwXzc1NGVmMTUzYmZlODQzNDQ4Y2QyOTUyZDA4NzQ1NDZjLnNldENvbnRlbnQoaHRtbF83MmE2MDlhMjVlMDU0ZWFmYWQwNGZkODYzMjc0ODNjZCk7CiAgICAgICAgCgogICAgICAgIG1hcmtlcl9mZTcwMWNmOTIxMjg0ZTEyODdmZGY0YWUwNGM0YTUxZS5iaW5kUG9wdXAocG9wdXBfNzU0ZWYxNTNiZmU4NDM0NDhjZDI5NTJkMDg3NDU0NmMpCiAgICAgICAgOwoKICAgICAgICAKICAgIAogICAgCiAgICAgICAgICAgIHZhciBtYXJrZXJfODBkNWExMmIxYThiNDI2MTk3NmMwODlhMGM5MWIyODYgPSBMLm1hcmtlcigKICAgICAgICAgICAgICAgIFs0My42NTE1NzA2LCAtNzkuNDg0NDQ5OV0sCiAgICAgICAgICAgICAgICB7InBhcnNlSHRtbCI6IGZhbHNlfQogICAgICAgICAgICApLmFkZFRvKG1hcF9mYTI2MDgwNWIyMzI0MzljYWJlZDk0NWYyM2NjN2YxOSk7CiAgICAgICAgCiAgICAKICAgICAgICB2YXIgcG9wdXBfMGI1MzBmNDliNjRlNDgyYWExYzg2ODY5MzBkYTM3NjggPSBMLnBvcHVwKHsibWF4V2lkdGgiOiAiMTAwJSJ9KTsKCiAgICAgICAgCiAgICAgICAgICAgIHZhciBodG1sX2VjZTRkOTAyZTNkYTQzZGE5Njc4ZTY3MjdhNjVkZmIzID0gJChgPGRpdiBpZD0iaHRtbF9lY2U0ZDkwMmUzZGE0M2RhOTY3OGU2NzI3YTY1ZGZiMyIgc3R5bGU9IndpZHRoOiAxMDAuMCU7IGhlaWdodDogMTAwLjAlOyI+UnVubnltZWRlLCBTd2Fuc2VhIChXZXN0IFRvcm9udG8pPC9kaXY+YClbMF07CiAgICAgICAgICAgIHBvcHVwXzBiNTMwZjQ5YjY0ZTQ4MmFhMWM4Njg2OTMwZGEzNzY4LnNldENvbnRlbnQoaHRtbF9lY2U0ZDkwMmUzZGE0M2RhOTY3OGU2NzI3YTY1ZGZiMyk7CiAgICAgICAgCgogICAgICAgIG1hcmtlcl84MGQ1YTEyYjFhOGI0MjYxOTc2YzA4OWEwYzkxYjI4Ni5iaW5kUG9wdXAocG9wdXBfMGI1MzBmNDliNjRlNDgyYWExYzg2ODY5MzBkYTM3NjgpCiAgICAgICAgOwoKICAgICAgICAKICAgIAogICAgCiAgICAgICAgICAgIHZhciBtYXJrZXJfODUwZjYyNDFmYjQ2NGVhNzg0ZDE1YzMxN2E3N2U1ZGQgPSBMLm1hcmtlcigKICAgICAgICAgICAgICAgIFs0My43ODE2Mzc1LCAtNzkuMzA0MzAyMV0sCiAgICAgICAgICAgICAgICB7InBhcnNlSHRtbCI6IGZhbHNlfQogICAgICAgICAgICApLmFkZFRvKG1hcF9mYTI2MDgwNWIyMzI0MzljYWJlZDk0NWYyM2NjN2YxOSk7CiAgICAgICAgCiAgICAKICAgICAgICB2YXIgcG9wdXBfOWNjYTNlOTg5MzNkNDMyNTk4MmEzNWE4MGQxNGZlMjcgPSBMLnBvcHVwKHsibWF4V2lkdGgiOiAiMTAwJSJ9KTsKCiAgICAgICAgCiAgICAgICAgICAgIHZhciBodG1sXzEyOGRmY2IyNTg4NjQwYTdhNWE2MWRiYTI0MmRjMDFjID0gJChgPGRpdiBpZD0iaHRtbF8xMjhkZmNiMjU4ODY0MGE3YTVhNjFkYmEyNDJkYzAxYyIgc3R5bGU9IndpZHRoOiAxMDAuMCU7IGhlaWdodDogMTAwLjAlOyI+Q2xhcmtzIENvcm5lcnMsIFRhbSBPJiMzOTtTaGFudGVyLCBTdWxsaXZhbiAoU2NhcmJvcm91Z2gpPC9kaXY+YClbMF07CiAgICAgICAgICAgIHBvcHVwXzljY2EzZTk4OTMzZDQzMjU5ODJhMzVhODBkMTRmZTI3LnNldENvbnRlbnQoaHRtbF8xMjhkZmNiMjU4ODY0MGE3YTVhNjFkYmEyNDJkYzAxYyk7CiAgICAgICAgCgogICAgICAgIG1hcmtlcl84NTBmNjI0MWZiNDY0ZWE3ODRkMTVjMzE3YTc3ZTVkZC5iaW5kUG9wdXAocG9wdXBfOWNjYTNlOTg5MzNkNDMyNTk4MmEzNWE4MGQxNGZlMjcpCiAgICAgICAgOwoKICAgICAgICAKICAgIAogICAgCiAgICAgICAgICAgIHZhciBtYXJrZXJfMzZlN2ZmN2EzYTIwNDcxNWE0YTBkMTM5NDNjYzFhMDMgPSBMLm1hcmtlcigKICAgICAgICAgICAgICAgIFs0My42ODk1NzQzLCAtNzkuMzgzMTU5OTAwMDAwMDFdLAogICAgICAgICAgICAgICAgeyJwYXJzZUh0bWwiOiBmYWxzZX0KICAgICAgICAgICAgKS5hZGRUbyhtYXBfZmEyNjA4MDViMjMyNDM5Y2FiZWQ5NDVmMjNjYzdmMTkpOwogICAgICAgIAogICAgCiAgICAgICAgdmFyIHBvcHVwXzE3NWUyMjQ4NjIyNTRkZGRiM2JkZTAxM2E5NDRkMDFkID0gTC5wb3B1cCh7Im1heFdpZHRoIjogIjEwMCUifSk7CgogICAgICAgIAogICAgICAgICAgICB2YXIgaHRtbF9iZmI5NWVjYWQwMmM0NTg0YTcyY2QzMmUwMGU0OTU4YSA9ICQoYDxkaXYgaWQ9Imh0bWxfYmZiOTVlY2FkMDJjNDU4NGE3MmNkMzJlMDBlNDk1OGEiIHN0eWxlPSJ3aWR0aDogMTAwLjAlOyBoZWlnaHQ6IDEwMC4wJTsiPk1vb3JlIFBhcmssIFN1bW1lcmhpbGwgRWFzdCAoQ2VudHJhbCBUb3JvbnRvKTwvZGl2PmApWzBdOwogICAgICAgICAgICBwb3B1cF8xNzVlMjI0ODYyMjU0ZGRkYjNiZGUwMTNhOTQ0ZDAxZC5zZXRDb250ZW50KGh0bWxfYmZiOTVlY2FkMDJjNDU4NGE3MmNkMzJlMDBlNDk1OGEpOwogICAgICAgIAoKICAgICAgICBtYXJrZXJfMzZlN2ZmN2EzYTIwNDcxNWE0YTBkMTM5NDNjYzFhMDMuYmluZFBvcHVwKHBvcHVwXzE3NWUyMjQ4NjIyNTRkZGRiM2JkZTAxM2E5NDRkMDFkKQogICAgICAgIDsKCiAgICAgICAgCiAgICAKICAgIAogICAgICAgICAgICB2YXIgbWFya2VyXzUzMzQ2YzRlYzg2NzQzZTA5MjhjYTkzNzc2MmRjYjA4ID0gTC5tYXJrZXIoCiAgICAgICAgICAgICAgICBbNDMuNjUzMjA1NywgLTc5LjQwMDA0OTNdLAogICAgICAgICAgICAgICAgeyJwYXJzZUh0bWwiOiBmYWxzZX0KICAgICAgICAgICAgKS5hZGRUbyhtYXBfZmEyNjA4MDViMjMyNDM5Y2FiZWQ5NDVmMjNjYzdmMTkpOwogICAgICAgIAogICAgCiAgICAgICAgdmFyIHBvcHVwX2RlYzZmZmYyZTdmZjRjYzE5ODNiODEzY2UwMWUxZGI5ID0gTC5wb3B1cCh7Im1heFdpZHRoIjogIjEwMCUifSk7CgogICAgICAgIAogICAgICAgICAgICB2YXIgaHRtbF9lZmE2YTExOTQwOTc0YzI3YTZjMjc5ZDY0ODY3ZTk4MSA9ICQoYDxkaXYgaWQ9Imh0bWxfZWZhNmExMTk0MDk3NGMyN2E2YzI3OWQ2NDg2N2U5ODEiIHN0eWxlPSJ3aWR0aDogMTAwLjAlOyBoZWlnaHQ6IDEwMC4wJTsiPktlbnNpbmd0b24gTWFya2V0LCBDaGluYXRvd24sIEdyYW5nZSBQYXJrIChEb3dudG93biBUb3JvbnRvKTwvZGl2PmApWzBdOwogICAgICAgICAgICBwb3B1cF9kZWM2ZmZmMmU3ZmY0Y2MxOTgzYjgxM2NlMDFlMWRiOS5zZXRDb250ZW50KGh0bWxfZWZhNmExMTk0MDk3NGMyN2E2YzI3OWQ2NDg2N2U5ODEpOwogICAgICAgIAoKICAgICAgICBtYXJrZXJfNTMzNDZjNGVjODY3NDNlMDkyOGNhOTM3NzYyZGNiMDguYmluZFBvcHVwKHBvcHVwX2RlYzZmZmYyZTdmZjRjYzE5ODNiODEzY2UwMWUxZGI5KQogICAgICAgIDsKCiAgICAgICAgCiAgICAKICAgIAogICAgICAgICAgICB2YXIgbWFya2VyXzBmNzMyYTc1MGIyYTQyOGFhN2QxODEwYWI3ZDg3NWNjID0gTC5tYXJrZXIoCiAgICAgICAgICAgICAgICBbNDMuODE1MjUyMiwgLTc5LjI4NDU3NzJdLAogICAgICAgICAgICAgICAgeyJwYXJzZUh0bWwiOiBmYWxzZX0KICAgICAgICAgICAgKS5hZGRUbyhtYXBfZmEyNjA4MDViMjMyNDM5Y2FiZWQ5NDVmMjNjYzdmMTkpOwogICAgICAgIAogICAgCiAgICAgICAgdmFyIHBvcHVwXzBmYTY2MjUwYTM3NjQ4ZTBhYzdjMWJhNjNiY2M2YTBjID0gTC5wb3B1cCh7Im1heFdpZHRoIjogIjEwMCUifSk7CgogICAgICAgIAogICAgICAgICAgICB2YXIgaHRtbF9kZWM5NzNkZjljYTg0ZDkzYTAyYmIxMmNjMDMwMTgxNSA9ICQoYDxkaXYgaWQ9Imh0bWxfZGVjOTczZGY5Y2E4NGQ5M2EwMmJiMTJjYzAzMDE4MTUiIHN0eWxlPSJ3aWR0aDogMTAwLjAlOyBoZWlnaHQ6IDEwMC4wJTsiPk1pbGxpa2VuLCBBZ2luY291cnQgTm9ydGgsIFN0ZWVsZXMgRWFzdCwgTCYjMzk7QW1vcmVhdXggRWFzdCAoU2NhcmJvcm91Z2gpPC9kaXY+YClbMF07CiAgICAgICAgICAgIHBvcHVwXzBmYTY2MjUwYTM3NjQ4ZTBhYzdjMWJhNjNiY2M2YTBjLnNldENvbnRlbnQoaHRtbF9kZWM5NzNkZjljYTg0ZDkzYTAyYmIxMmNjMDMwMTgxNSk7CiAgICAgICAgCgogICAgICAgIG1hcmtlcl8wZjczMmE3NTBiMmE0MjhhYTdkMTgxMGFiN2Q4NzVjYy5iaW5kUG9wdXAocG9wdXBfMGZhNjYyNTBhMzc2NDhlMGFjN2MxYmE2M2JjYzZhMGMpCiAgICAgICAgOwoKICAgICAgICAKICAgIAogICAgCiAgICAgICAgICAgIHZhciBtYXJrZXJfMDc3ODIwMzk0MTg0NGZmNjk3ZGU2MTUyMGU2YWI3MTQgPSBMLm1hcmtlcigKICAgICAgICAgICAgICAgIFs0My42ODY0MTIyOTk5OTk5OSwgLTc5LjQwMDA0OTNdLAogICAgICAgICAgICAgICAgeyJwYXJzZUh0bWwiOiBmYWxzZX0KICAgICAgICAgICAgKS5hZGRUbyhtYXBfZmEyNjA4MDViMjMyNDM5Y2FiZWQ5NDVmMjNjYzdmMTkpOwogICAgICAgIAogICAgCiAgICAgICAgdmFyIHBvcHVwXzdjMjIzNjZjNGRhNDQ0MmU5NjhkNDIxNzYyNmE1ZWEwID0gTC5wb3B1cCh7Im1heFdpZHRoIjogIjEwMCUifSk7CgogICAgICAgIAogICAgICAgICAgICB2YXIgaHRtbF84MTQ2NmU0OGNlMDY0YTg3OGE0ZGNhYTgwYzRmODQ5NCA9ICQoYDxkaXYgaWQ9Imh0bWxfODE0NjZlNDhjZTA2NGE4NzhhNGRjYWE4MGM0Zjg0OTQiIHN0eWxlPSJ3aWR0aDogMTAwLjAlOyBoZWlnaHQ6IDEwMC4wJTsiPlN1bW1lcmhpbGwgV2VzdCwgUmF0aG5lbGx5LCBTb3V0aCBIaWxsLCBGb3Jlc3QgSGlsbCBTRSwgRGVlciBQYXJrIChDZW50cmFsIFRvcm9udG8pPC9kaXY+YClbMF07CiAgICAgICAgICAgIHBvcHVwXzdjMjIzNjZjNGRhNDQ0MmU5NjhkNDIxNzYyNmE1ZWEwLnNldENvbnRlbnQoaHRtbF84MTQ2NmU0OGNlMDY0YTg3OGE0ZGNhYTgwYzRmODQ5NCk7CiAgICAgICAgCgogICAgICAgIG1hcmtlcl8wNzc4MjAzOTQxODQ0ZmY2OTdkZTYxNTIwZTZhYjcxNC5iaW5kUG9wdXAocG9wdXBfN2MyMjM2NmM0ZGE0NDQyZTk2OGQ0MjE3NjI2YTVlYTApCiAgICAgICAgOwoKICAgICAgICAKICAgIAogICAgCiAgICAgICAgICAgIHZhciBtYXJrZXJfYmI5YTUyYWFkMmIwNDMxZDgxNWZhMzg4MzM1M2EzOGYgPSBMLm1hcmtlcigKICAgICAgICAgICAgICAgIFs0My42Mjg5NDY3LCAtNzkuMzk0NDE5OV0sCiAgICAgICAgICAgICAgICB7InBhcnNlSHRtbCI6IGZhbHNlfQogICAgICAgICAgICApLmFkZFRvKG1hcF9mYTI2MDgwNWIyMzI0MzljYWJlZDk0NWYyM2NjN2YxOSk7CiAgICAgICAgCiAgICAKICAgICAgICB2YXIgcG9wdXBfZGFlZTc0YTIzNjExNGE2M2I3NmNhYmZlZThjYTJlMjIgPSBMLnBvcHVwKHsibWF4V2lkdGgiOiAiMTAwJSJ9KTsKCiAgICAgICAgCiAgICAgICAgICAgIHZhciBodG1sXzQ3NmI0NjY1ZTA4YTQ5NzQ4ZTRkNjkwNmUzM2Q3YjliID0gJChgPGRpdiBpZD0iaHRtbF80NzZiNDY2NWUwOGE0OTc0OGU0ZDY5MDZlMzNkN2I5YiIgc3R5bGU9IndpZHRoOiAxMDAuMCU7IGhlaWdodDogMTAwLjAlOyI+Q04gVG93ZXIsIEtpbmcgYW5kIFNwYWRpbmEsIFJhaWx3YXkgTGFuZHMsIEhhcmJvdXJmcm9udCBXZXN0LCBCYXRodXJzdCBRdWF5LCBTb3V0aCBOaWFnYXJhLCBJc2xhbmQgYWlycG9ydCAoRG93bnRvd24gVG9yb250byk8L2Rpdj5gKVswXTsKICAgICAgICAgICAgcG9wdXBfZGFlZTc0YTIzNjExNGE2M2I3NmNhYmZlZThjYTJlMjIuc2V0Q29udGVudChodG1sXzQ3NmI0NjY1ZTA4YTQ5NzQ4ZTRkNjkwNmUzM2Q3YjliKTsKICAgICAgICAKCiAgICAgICAgbWFya2VyX2JiOWE1MmFhZDJiMDQzMWQ4MTVmYTM4ODMzNTNhMzhmLmJpbmRQb3B1cChwb3B1cF9kYWVlNzRhMjM2MTE0YTYzYjc2Y2FiZmVlOGNhMmUyMikKICAgICAgICA7CgogICAgICAgIAogICAgCiAgICAKICAgICAgICAgICAgdmFyIG1hcmtlcl83NGVkYzBkMTJiY2Y0ODA5YTk0MWY1MjQ0OTI3YjM5YiA9IEwubWFya2VyKAogICAgICAgICAgICAgICAgWzQzLjYwNTY0NjYsIC03OS41MDEzMjA3MDAwMDAwMV0sCiAgICAgICAgICAgICAgICB7InBhcnNlSHRtbCI6IGZhbHNlfQogICAgICAgICAgICApLmFkZFRvKG1hcF9mYTI2MDgwNWIyMzI0MzljYWJlZDk0NWYyM2NjN2YxOSk7CiAgICAgICAgCiAgICAKICAgICAgICB2YXIgcG9wdXBfNGRkZmUzZDk1MTY0NDhmMDhjY2FhZDI2MTc5YTMxY2YgPSBMLnBvcHVwKHsibWF4V2lkdGgiOiAiMTAwJSJ9KTsKCiAgICAgICAgCiAgICAgICAgICAgIHZhciBodG1sXzA4MTc0ZWI5MmEwMDQ4NDFiNGU3NzQxMDMxNDE1MjYxID0gJChgPGRpdiBpZD0iaHRtbF8wODE3NGViOTJhMDA0ODQxYjRlNzc0MTAzMTQxNTI2MSIgc3R5bGU9IndpZHRoOiAxMDAuMCU7IGhlaWdodDogMTAwLjAlOyI+TmV3IFRvcm9udG8sIE1pbWljbyBTb3V0aCwgSHVtYmVyIEJheSBTaG9yZXMgKEV0b2JpY29rZSk8L2Rpdj5gKVswXTsKICAgICAgICAgICAgcG9wdXBfNGRkZmUzZDk1MTY0NDhmMDhjY2FhZDI2MTc5YTMxY2Yuc2V0Q29udGVudChodG1sXzA4MTc0ZWI5MmEwMDQ4NDFiNGU3NzQxMDMxNDE1MjYxKTsKICAgICAgICAKCiAgICAgICAgbWFya2VyXzc0ZWRjMGQxMmJjZjQ4MDlhOTQxZjUyNDQ5MjdiMzliLmJpbmRQb3B1cChwb3B1cF80ZGRmZTNkOTUxNjQ0OGYwOGNjYWFkMjYxNzlhMzFjZikKICAgICAgICA7CgogICAgICAgIAogICAgCiAgICAKICAgICAgICAgICAgdmFyIG1hcmtlcl8yMzlhYzdiYmVjODc0MDk1OGVkMDdlZTQyYzEwOTBmOCA9IEwubWFya2VyKAogICAgICAgICAgICAgICAgWzQzLjczOTQxNjM5OTk5OTk5NiwgLTc5LjU4ODQzNjldLAogICAgICAgICAgICAgICAgeyJwYXJzZUh0bWwiOiBmYWxzZX0KICAgICAgICAgICAgKS5hZGRUbyhtYXBfZmEyNjA4MDViMjMyNDM5Y2FiZWQ5NDVmMjNjYzdmMTkpOwogICAgICAgIAogICAgCiAgICAgICAgdmFyIHBvcHVwXzlhMGJkMTg4MzllZjRhNWZhYzNkY2JlZTNmMmM5M2MxID0gTC5wb3B1cCh7Im1heFdpZHRoIjogIjEwMCUifSk7CgogICAgICAgIAogICAgICAgICAgICB2YXIgaHRtbF8xY2MyMDNhNmNkMjk0Mzg2OWI4OWIxMmVkN2Y2YTBlMSA9ICQoYDxkaXYgaWQ9Imh0bWxfMWNjMjAzYTZjZDI5NDM4NjliODliMTJlZDdmNmEwZTEiIHN0eWxlPSJ3aWR0aDogMTAwLjAlOyBoZWlnaHQ6IDEwMC4wJTsiPlNvdXRoIFN0ZWVsZXMsIFNpbHZlcnN0b25lLCBIdW1iZXJnYXRlLCBKYW1lc3Rvd24sIE1vdW50IE9saXZlLCBCZWF1bW9uZCBIZWlnaHRzLCBUaGlzdGxldG93biwgQWxiaW9uIEdhcmRlbnMgKEV0b2JpY29rZSk8L2Rpdj5gKVswXTsKICAgICAgICAgICAgcG9wdXBfOWEwYmQxODgzOWVmNGE1ZmFjM2RjYmVlM2YyYzkzYzEuc2V0Q29udGVudChodG1sXzFjYzIwM2E2Y2QyOTQzODY5Yjg5YjEyZWQ3ZjZhMGUxKTsKICAgICAgICAKCiAgICAgICAgbWFya2VyXzIzOWFjN2JiZWM4NzQwOTU4ZWQwN2VlNDJjMTA5MGY4LmJpbmRQb3B1cChwb3B1cF85YTBiZDE4ODM5ZWY0YTVmYWMzZGNiZWUzZjJjOTNjMSkKICAgICAgICA7CgogICAgICAgIAogICAgCiAgICAKICAgICAgICAgICAgdmFyIG1hcmtlcl9lNDYxN2MxNWEyNmY0NmZkYWNhMDJhZDEyMzZiNTVlOSA9IEwubWFya2VyKAogICAgICAgICAgICAgICAgWzQzLjc5OTUyNTIwMDAwMDAwNSwgLTc5LjMxODM4ODddLAogICAgICAgICAgICAgICAgeyJwYXJzZUh0bWwiOiBmYWxzZX0KICAgICAgICAgICAgKS5hZGRUbyhtYXBfZmEyNjA4MDViMjMyNDM5Y2FiZWQ5NDVmMjNjYzdmMTkpOwogICAgICAgIAogICAgCiAgICAgICAgdmFyIHBvcHVwXzdiNzBlNDI4ZTJlMTRmZWE4ZTNhZTQ1OTkyOTdiZTk1ID0gTC5wb3B1cCh7Im1heFdpZHRoIjogIjEwMCUifSk7CgogICAgICAgIAogICAgICAgICAgICB2YXIgaHRtbF8zYjkxY2Q2NzRhODg0MTlmOWMzY2JjMWFjYjgwMjM2YSA9ICQoYDxkaXYgaWQ9Imh0bWxfM2I5MWNkNjc0YTg4NDE5ZjljM2NiYzFhY2I4MDIzNmEiIHN0eWxlPSJ3aWR0aDogMTAwLjAlOyBoZWlnaHQ6IDEwMC4wJTsiPlN0ZWVsZXMgV2VzdCwgTCYjMzk7QW1vcmVhdXggV2VzdCAoU2NhcmJvcm91Z2gpPC9kaXY+YClbMF07CiAgICAgICAgICAgIHBvcHVwXzdiNzBlNDI4ZTJlMTRmZWE4ZTNhZTQ1OTkyOTdiZTk1LnNldENvbnRlbnQoaHRtbF8zYjkxY2Q2NzRhODg0MTlmOWMzY2JjMWFjYjgwMjM2YSk7CiAgICAgICAgCgogICAgICAgIG1hcmtlcl9lNDYxN2MxNWEyNmY0NmZkYWNhMDJhZDEyMzZiNTVlOS5iaW5kUG9wdXAocG9wdXBfN2I3MGU0MjhlMmUxNGZlYThlM2FlNDU5OTI5N2JlOTUpCiAgICAgICAgOwoKICAgICAgICAKICAgIAogICAgCiAgICAgICAgICAgIHZhciBtYXJrZXJfMmVmNDEyZGE1YWI5NDczYWE0Njc3MzY5YzRhMWJmZWIgPSBMLm1hcmtlcigKICAgICAgICAgICAgICAgIFs0My42Nzk1NjI2LCAtNzkuMzc3NTI5NDAwMDAwMDFdLAogICAgICAgICAgICAgICAgeyJwYXJzZUh0bWwiOiBmYWxzZX0KICAgICAgICAgICAgKS5hZGRUbyhtYXBfZmEyNjA4MDViMjMyNDM5Y2FiZWQ5NDVmMjNjYzdmMTkpOwogICAgICAgIAogICAgCiAgICAgICAgdmFyIHBvcHVwXzI0ZGE5YzFjMDUwNjQyNjE5Zjg2OTk2MGU2MTMxZDEyID0gTC5wb3B1cCh7Im1heFdpZHRoIjogIjEwMCUifSk7CgogICAgICAgIAogICAgICAgICAgICB2YXIgaHRtbF8yOTVhMjVlODVjNmI0YmUwYmQyODQ0Y2FkY2FmN2JlNyA9ICQoYDxkaXYgaWQ9Imh0bWxfMjk1YTI1ZTg1YzZiNGJlMGJkMjg0NGNhZGNhZjdiZTciIHN0eWxlPSJ3aWR0aDogMTAwLjAlOyBoZWlnaHQ6IDEwMC4wJTsiPlJvc2VkYWxlIChEb3dudG93biBUb3JvbnRvKTwvZGl2PmApWzBdOwogICAgICAgICAgICBwb3B1cF8yNGRhOWMxYzA1MDY0MjYxOWY4Njk5NjBlNjEzMWQxMi5zZXRDb250ZW50KGh0bWxfMjk1YTI1ZTg1YzZiNGJlMGJkMjg0NGNhZGNhZjdiZTcpOwogICAgICAgIAoKICAgICAgICBtYXJrZXJfMmVmNDEyZGE1YWI5NDczYWE0Njc3MzY5YzRhMWJmZWIuYmluZFBvcHVwKHBvcHVwXzI0ZGE5YzFjMDUwNjQyNjE5Zjg2OTk2MGU2MTMxZDEyKQogICAgICAgIDsKCiAgICAgICAgCiAgICAKICAgIAogICAgICAgICAgICB2YXIgbWFya2VyXzBjNWM5ZjFjMTI4OTRmMjNhOGNiYjM0OTVjYTAwOGNhID0gTC5tYXJrZXIoCiAgICAgICAgICAgICAgICBbNDMuNjQ2NDM1MiwgLTc5LjM3NDg0NTk5OTk5OTk5XSwKICAgICAgICAgICAgICAgIHsicGFyc2VIdG1sIjogZmFsc2V9CiAgICAgICAgICAgICkuYWRkVG8obWFwX2ZhMjYwODA1YjIzMjQzOWNhYmVkOTQ1ZjIzY2M3ZjE5KTsKICAgICAgICAKICAgIAogICAgICAgIHZhciBwb3B1cF8xOGM5YzMyNmY5ZWY0ZmM0YTA5YjZiM2NjYjgyYmY3MiA9IEwucG9wdXAoeyJtYXhXaWR0aCI6ICIxMDAlIn0pOwoKICAgICAgICAKICAgICAgICAgICAgdmFyIGh0bWxfYjAyMTE0ZTk3YjVhNGRjMmIwMGNmM2FjYjU0NDg2ZmYgPSAkKGA8ZGl2IGlkPSJodG1sX2IwMjExNGU5N2I1YTRkYzJiMDBjZjNhY2I1NDQ4NmZmIiBzdHlsZT0id2lkdGg6IDEwMC4wJTsgaGVpZ2h0OiAxMDAuMCU7Ij5TdG4gQSBQTyBCb3hlcyAoRG93bnRvd24gVG9yb250byk8L2Rpdj5gKVswXTsKICAgICAgICAgICAgcG9wdXBfMThjOWMzMjZmOWVmNGZjNGEwOWI2YjNjY2I4MmJmNzIuc2V0Q29udGVudChodG1sX2IwMjExNGU5N2I1YTRkYzJiMDBjZjNhY2I1NDQ4NmZmKTsKICAgICAgICAKCiAgICAgICAgbWFya2VyXzBjNWM5ZjFjMTI4OTRmMjNhOGNiYjM0OTVjYTAwOGNhLmJpbmRQb3B1cChwb3B1cF8xOGM5YzMyNmY5ZWY0ZmM0YTA5YjZiM2NjYjgyYmY3MikKICAgICAgICA7CgogICAgICAgIAogICAgCiAgICAKICAgICAgICAgICAgdmFyIG1hcmtlcl9iNGYyYjg4ZGJmYmU0NWZmYmFjOWE0ZTU3MTJhMGY1OSA9IEwubWFya2VyKAogICAgICAgICAgICAgICAgWzQzLjYwMjQxMzcwMDAwMDAxLCAtNzkuNTQzNDg0MDk5OTk5OTldLAogICAgICAgICAgICAgICAgeyJwYXJzZUh0bWwiOiBmYWxzZX0KICAgICAgICAgICAgKS5hZGRUbyhtYXBfZmEyNjA4MDViMjMyNDM5Y2FiZWQ5NDVmMjNjYzdmMTkpOwogICAgICAgIAogICAgCiAgICAgICAgdmFyIHBvcHVwXzU5ODFmZGM1MTI3ZjQ4Njk5OWIzNDdlNDQxZTMyMjI5ID0gTC5wb3B1cCh7Im1heFdpZHRoIjogIjEwMCUifSk7CgogICAgICAgIAogICAgICAgICAgICB2YXIgaHRtbF9mNmY4NGVkNTRmYTA0NTRjYTY4YWU1NmZjNTI5MWY2YyA9ICQoYDxkaXYgaWQ9Imh0bWxfZjZmODRlZDU0ZmEwNDU0Y2E2OGFlNTZmYzUyOTFmNmMiIHN0eWxlPSJ3aWR0aDogMTAwLjAlOyBoZWlnaHQ6IDEwMC4wJTsiPkFsZGVyd29vZCwgTG9uZyBCcmFuY2ggKEV0b2JpY29rZSk8L2Rpdj5gKVswXTsKICAgICAgICAgICAgcG9wdXBfNTk4MWZkYzUxMjdmNDg2OTk5YjM0N2U0NDFlMzIyMjkuc2V0Q29udGVudChodG1sX2Y2Zjg0ZWQ1NGZhMDQ1NGNhNjhhZTU2ZmM1MjkxZjZjKTsKICAgICAgICAKCiAgICAgICAgbWFya2VyX2I0ZjJiODhkYmZiZTQ1ZmZiYWM5YTRlNTcxMmEwZjU5LmJpbmRQb3B1cChwb3B1cF81OTgxZmRjNTEyN2Y0ODY5OTliMzQ3ZTQ0MWUzMjIyOSkKICAgICAgICA7CgogICAgICAgIAogICAgCiAgICAKICAgICAgICAgICAgdmFyIG1hcmtlcl8zNmFkYTFhNDYyOTQ0MGRkOTBlNWNlZjQyMjdhMWMwNSA9IEwubWFya2VyKAogICAgICAgICAgICAgICAgWzQzLjcwNjc0ODI5OTk5OTk5NCwgLTc5LjU5NDA1NDRdLAogICAgICAgICAgICAgICAgeyJwYXJzZUh0bWwiOiBmYWxzZX0KICAgICAgICAgICAgKS5hZGRUbyhtYXBfZmEyNjA4MDViMjMyNDM5Y2FiZWQ5NDVmMjNjYzdmMTkpOwogICAgICAgIAogICAgCiAgICAgICAgdmFyIHBvcHVwX2ZlNDY4ZDNlNzQ0ODQ5OTk4Nzk0YzIwN2FmYTdiMDEzID0gTC5wb3B1cCh7Im1heFdpZHRoIjogIjEwMCUifSk7CgogICAgICAgIAogICAgICAgICAgICB2YXIgaHRtbF85ZDM3NTgyMTdiZTQ0NTNhYmVlMzIyYjY3YjEzZGNkZCA9ICQoYDxkaXYgaWQ9Imh0bWxfOWQzNzU4MjE3YmU0NDUzYWJlZTMyMmI2N2IxM2RjZGQiIHN0eWxlPSJ3aWR0aDogMTAwLjAlOyBoZWlnaHQ6IDEwMC4wJTsiPk5vcnRod2VzdCwgV2VzdCBIdW1iZXIgLSBDbGFpcnZpbGxlIChFdG9iaWNva2UpPC9kaXY+YClbMF07CiAgICAgICAgICAgIHBvcHVwX2ZlNDY4ZDNlNzQ0ODQ5OTk4Nzk0YzIwN2FmYTdiMDEzLnNldENvbnRlbnQoaHRtbF85ZDM3NTgyMTdiZTQ0NTNhYmVlMzIyYjY3YjEzZGNkZCk7CiAgICAgICAgCgogICAgICAgIG1hcmtlcl8zNmFkYTFhNDYyOTQ0MGRkOTBlNWNlZjQyMjdhMWMwNS5iaW5kUG9wdXAocG9wdXBfZmU0NjhkM2U3NDQ4NDk5OTg3OTRjMjA3YWZhN2IwMTMpCiAgICAgICAgOwoKICAgICAgICAKICAgIAogICAgCiAgICAgICAgICAgIHZhciBtYXJrZXJfMTAwZTMzMTEyOGViNDMyMGE5NzJlNDZhODFjZmMwNDYgPSBMLm1hcmtlcigKICAgICAgICAgICAgICAgIFs0My44MzYxMjQ3MDAwMDAwMDYsIC03OS4yMDU2MzYwOTk5OTk5OV0sCiAgICAgICAgICAgICAgICB7InBhcnNlSHRtbCI6IGZhbHNlfQogICAgICAgICAgICApLmFkZFRvKG1hcF9mYTI2MDgwNWIyMzI0MzljYWJlZDk0NWYyM2NjN2YxOSk7CiAgICAgICAgCiAgICAKICAgICAgICB2YXIgcG9wdXBfY2Y0MDQxNDZkZGEyNDBhZmIyNjVjZjg5NjRhYjJhMjIgPSBMLnBvcHVwKHsibWF4V2lkdGgiOiAiMTAwJSJ9KTsKCiAgICAgICAgCiAgICAgICAgICAgIHZhciBodG1sXzZkOWI3NDU5NmVmMTRmZjM4MzUxMWM1NzgyZTVmMThmID0gJChgPGRpdiBpZD0iaHRtbF82ZDliNzQ1OTZlZjE0ZmYzODM1MTFjNTc4MmU1ZjE4ZiIgc3R5bGU9IndpZHRoOiAxMDAuMCU7IGhlaWdodDogMTAwLjAlOyI+VXBwZXIgUm91Z2UgKFNjYXJib3JvdWdoKTwvZGl2PmApWzBdOwogICAgICAgICAgICBwb3B1cF9jZjQwNDE0NmRkYTI0MGFmYjI2NWNmODk2NGFiMmEyMi5zZXRDb250ZW50KGh0bWxfNmQ5Yjc0NTk2ZWYxNGZmMzgzNTExYzU3ODJlNWYxOGYpOwogICAgICAgIAoKICAgICAgICBtYXJrZXJfMTAwZTMzMTEyOGViNDMyMGE5NzJlNDZhODFjZmMwNDYuYmluZFBvcHVwKHBvcHVwX2NmNDA0MTQ2ZGRhMjQwYWZiMjY1Y2Y4OTY0YWIyYTIyKQogICAgICAgIDsKCiAgICAgICAgCiAgICAKICAgIAogICAgICAgICAgICB2YXIgbWFya2VyX2E2OTkzM2U2ZWY5ZjQ5OWU4OTcwNDVjNTQ4NGM0MWNhID0gTC5tYXJrZXIoCiAgICAgICAgICAgICAgICBbNDMuNjY3OTY3LCAtNzkuMzY3Njc1M10sCiAgICAgICAgICAgICAgICB7InBhcnNlSHRtbCI6IGZhbHNlfQogICAgICAgICAgICApLmFkZFRvKG1hcF9mYTI2MDgwNWIyMzI0MzljYWJlZDk0NWYyM2NjN2YxOSk7CiAgICAgICAgCiAgICAKICAgICAgICB2YXIgcG9wdXBfNzFiNjI2OGNmYTczNDQyNmE3ZTQ3Y2JkZWE0MzY1ZGQgPSBMLnBvcHVwKHsibWF4V2lkdGgiOiAiMTAwJSJ9KTsKCiAgICAgICAgCiAgICAgICAgICAgIHZhciBodG1sX2I2YjJhMjNiMTJmZjRiMTE4MDVmYzBhOGJiZjQ5NjNhID0gJChgPGRpdiBpZD0iaHRtbF9iNmIyYTIzYjEyZmY0YjExODA1ZmMwYThiYmY0OTYzYSIgc3R5bGU9IndpZHRoOiAxMDAuMCU7IGhlaWdodDogMTAwLjAlOyI+U3QuIEphbWVzIFRvd24sIENhYmJhZ2V0b3duIChEb3dudG93biBUb3JvbnRvKTwvZGl2PmApWzBdOwogICAgICAgICAgICBwb3B1cF83MWI2MjY4Y2ZhNzM0NDI2YTdlNDdjYmRlYTQzNjVkZC5zZXRDb250ZW50KGh0bWxfYjZiMmEyM2IxMmZmNGIxMTgwNWZjMGE4YmJmNDk2M2EpOwogICAgICAgIAoKICAgICAgICBtYXJrZXJfYTY5OTMzZTZlZjlmNDk5ZTg5NzA0NWM1NDg0YzQxY2EuYmluZFBvcHVwKHBvcHVwXzcxYjYyNjhjZmE3MzQ0MjZhN2U0N2NiZGVhNDM2NWRkKQogICAgICAgIDsKCiAgICAgICAgCiAgICAKICAgIAogICAgICAgICAgICB2YXIgbWFya2VyX2E3NmQ1ZjI1MGJkNDQ3M2Y4YmY0MjI5MWI3MTUxM2I0ID0gTC5tYXJrZXIoCiAgICAgICAgICAgICAgICBbNDMuNjQ4NDI5MiwgLTc5LjM4MjI4MDJdLAogICAgICAgICAgICAgICAgeyJwYXJzZUh0bWwiOiBmYWxzZX0KICAgICAgICAgICAgKS5hZGRUbyhtYXBfZmEyNjA4MDViMjMyNDM5Y2FiZWQ5NDVmMjNjYzdmMTkpOwogICAgICAgIAogICAgCiAgICAgICAgdmFyIHBvcHVwX2Y0ZGRmNzViZjEzODRkZTRhNTI2MzkwMTYxNWQxYzJmID0gTC5wb3B1cCh7Im1heFdpZHRoIjogIjEwMCUifSk7CgogICAgICAgIAogICAgICAgICAgICB2YXIgaHRtbF8xNzY0YTVmZWFiOTM0YjQyODQwOGY0ODRiMmUyNzY3NyA9ICQoYDxkaXYgaWQ9Imh0bWxfMTc2NGE1ZmVhYjkzNGI0Mjg0MDhmNDg0YjJlMjc2NzciIHN0eWxlPSJ3aWR0aDogMTAwLjAlOyBoZWlnaHQ6IDEwMC4wJTsiPkZpcnN0IENhbmFkaWFuIFBsYWNlLCBVbmRlcmdyb3VuZCBjaXR5IChEb3dudG93biBUb3JvbnRvKTwvZGl2PmApWzBdOwogICAgICAgICAgICBwb3B1cF9mNGRkZjc1YmYxMzg0ZGU0YTUyNjM5MDE2MTVkMWMyZi5zZXRDb250ZW50KGh0bWxfMTc2NGE1ZmVhYjkzNGI0Mjg0MDhmNDg0YjJlMjc2NzcpOwogICAgICAgIAoKICAgICAgICBtYXJrZXJfYTc2ZDVmMjUwYmQ0NDczZjhiZjQyMjkxYjcxNTEzYjQuYmluZFBvcHVwKHBvcHVwX2Y0ZGRmNzViZjEzODRkZTRhNTI2MzkwMTYxNWQxYzJmKQogICAgICAgIDsKCiAgICAgICAgCiAgICAKICAgIAogICAgICAgICAgICB2YXIgbWFya2VyXzVmNGIxYmU4ZTIyZjRjYmQ5NzcwZmI2MzQyNGFkNmRiID0gTC5tYXJrZXIoCiAgICAgICAgICAgICAgICBbNDMuNjUzNjUzNjAwMDAwMDA1LCAtNzkuNTA2OTQzNl0sCiAgICAgICAgICAgICAgICB7InBhcnNlSHRtbCI6IGZhbHNlfQogICAgICAgICAgICApLmFkZFRvKG1hcF9mYTI2MDgwNWIyMzI0MzljYWJlZDk0NWYyM2NjN2YxOSk7CiAgICAgICAgCiAgICAKICAgICAgICB2YXIgcG9wdXBfNDlkZGFhYjA0YjM1NGI4YjliOTk1ZWMwNzdkMjc1MGQgPSBMLnBvcHVwKHsibWF4V2lkdGgiOiAiMTAwJSJ9KTsKCiAgICAgICAgCiAgICAgICAgICAgIHZhciBodG1sXzllMGZkZTc0NzA2MjQ0MDI4MDI4ZGYyNWRjNjMyMTgwID0gJChgPGRpdiBpZD0iaHRtbF85ZTBmZGU3NDcwNjI0NDAyODAyOGRmMjVkYzYzMjE4MCIgc3R5bGU9IndpZHRoOiAxMDAuMCU7IGhlaWdodDogMTAwLjAlOyI+VGhlIEtpbmdzd2F5LCBNb250Z29tZXJ5IFJvYWQsIE9sZCBNaWxsIE5vcnRoIChFdG9iaWNva2UpPC9kaXY+YClbMF07CiAgICAgICAgICAgIHBvcHVwXzQ5ZGRhYWIwNGIzNTRiOGI5Yjk5NWVjMDc3ZDI3NTBkLnNldENvbnRlbnQoaHRtbF85ZTBmZGU3NDcwNjI0NDAyODAyOGRmMjVkYzYzMjE4MCk7CiAgICAgICAgCgogICAgICAgIG1hcmtlcl81ZjRiMWJlOGUyMmY0Y2JkOTc3MGZiNjM0MjRhZDZkYi5iaW5kUG9wdXAocG9wdXBfNDlkZGFhYjA0YjM1NGI4YjliOTk1ZWMwNzdkMjc1MGQpCiAgICAgICAgOwoKICAgICAgICAKICAgIAogICAgCiAgICAgICAgICAgIHZhciBtYXJrZXJfNGQ5YWJiN2EyNTljNDU0NzhiY2YxZDY4MmZmNDdlOTkgPSBMLm1hcmtlcigKICAgICAgICAgICAgICAgIFs0My42NjU4NTk5LCAtNzkuMzgzMTU5OTAwMDAwMDFdLAogICAgICAgICAgICAgICAgeyJwYXJzZUh0bWwiOiBmYWxzZX0KICAgICAgICAgICAgKS5hZGRUbyhtYXBfZmEyNjA4MDViMjMyNDM5Y2FiZWQ5NDVmMjNjYzdmMTkpOwogICAgICAgIAogICAgCiAgICAgICAgdmFyIHBvcHVwXzMxYWIzNzhiYjJkMjQ0NGY5Y2ZhNzVmYjUzMTM2YzI0ID0gTC5wb3B1cCh7Im1heFdpZHRoIjogIjEwMCUifSk7CgogICAgICAgIAogICAgICAgICAgICB2YXIgaHRtbF9mZmZhNzBmZmQ3NDM0NGVmOWNlNjMxN2RhOWY1ZWUxMyA9ICQoYDxkaXYgaWQ9Imh0bWxfZmZmYTcwZmZkNzQzNDRlZjljZTYzMTdkYTlmNWVlMTMiIHN0eWxlPSJ3aWR0aDogMTAwLjAlOyBoZWlnaHQ6IDEwMC4wJTsiPkNodXJjaCBhbmQgV2VsbGVzbGV5IChEb3dudG93biBUb3JvbnRvKTwvZGl2PmApWzBdOwogICAgICAgICAgICBwb3B1cF8zMWFiMzc4YmIyZDI0NDRmOWNmYTc1ZmI1MzEzNmMyNC5zZXRDb250ZW50KGh0bWxfZmZmYTcwZmZkNzQzNDRlZjljZTYzMTdkYTlmNWVlMTMpOwogICAgICAgIAoKICAgICAgICBtYXJrZXJfNGQ5YWJiN2EyNTljNDU0NzhiY2YxZDY4MmZmNDdlOTkuYmluZFBvcHVwKHBvcHVwXzMxYWIzNzhiYjJkMjQ0NGY5Y2ZhNzVmYjUzMTM2YzI0KQogICAgICAgIDsKCiAgICAgICAgCiAgICAKICAgIAogICAgICAgICAgICB2YXIgbWFya2VyXzdkNTlkNDUwZmJmZjRlOWY5ZDQ2MmRhYTZhMGRjYmJjID0gTC5tYXJrZXIoCiAgICAgICAgICAgICAgICBbNDMuNjYyNzQzOSwgLTc5LjMyMTU1OF0sCiAgICAgICAgICAgICAgICB7InBhcnNlSHRtbCI6IGZhbHNlfQogICAgICAgICAgICApLmFkZFRvKG1hcF9mYTI2MDgwNWIyMzI0MzljYWJlZDk0NWYyM2NjN2YxOSk7CiAgICAgICAgCiAgICAKICAgICAgICB2YXIgcG9wdXBfMjY2M2VkZDA0ODNiNGE0MDgyMWFlNjJmOTUxYzFlNGUgPSBMLnBvcHVwKHsibWF4V2lkdGgiOiAiMTAwJSJ9KTsKCiAgICAgICAgCiAgICAgICAgICAgIHZhciBodG1sXzhkODI0Y2M5Y2QyMDQ0ZTg5MmNkN2YxOWM1Mzc0YzQ3ID0gJChgPGRpdiBpZD0iaHRtbF84ZDgyNGNjOWNkMjA0NGU4OTJjZDdmMTljNTM3NGM0NyIgc3R5bGU9IndpZHRoOiAxMDAuMCU7IGhlaWdodDogMTAwLjAlOyI+QnVzaW5lc3MgcmVwbHkgbWFpbCBQcm9jZXNzaW5nIENlbnRyZSwgU291dGggQ2VudHJhbCBMZXR0ZXIgUHJvY2Vzc2luZyBQbGFudCBUb3JvbnRvIChFYXN0IFRvcm9udG8pPC9kaXY+YClbMF07CiAgICAgICAgICAgIHBvcHVwXzI2NjNlZGQwNDgzYjRhNDA4MjFhZTYyZjk1MWMxZTRlLnNldENvbnRlbnQoaHRtbF84ZDgyNGNjOWNkMjA0NGU4OTJjZDdmMTljNTM3NGM0Nyk7CiAgICAgICAgCgogICAgICAgIG1hcmtlcl83ZDU5ZDQ1MGZiZmY0ZTlmOWQ0NjJkYWE2YTBkY2JiYy5iaW5kUG9wdXAocG9wdXBfMjY2M2VkZDA0ODNiNGE0MDgyMWFlNjJmOTUxYzFlNGUpCiAgICAgICAgOwoKICAgICAgICAKICAgIAogICAgCiAgICAgICAgICAgIHZhciBtYXJrZXJfMTQ5MDVjNTg5MWRiNGIwMzljMGZiNDA2NmNjZDIxMWQgPSBMLm1hcmtlcigKICAgICAgICAgICAgICAgIFs0My42MzYyNTc5LCAtNzkuNDk4NTA5MDk5OTk5OTldLAogICAgICAgICAgICAgICAgeyJwYXJzZUh0bWwiOiBmYWxzZX0KICAgICAgICAgICAgKS5hZGRUbyhtYXBfZmEyNjA4MDViMjMyNDM5Y2FiZWQ5NDVmMjNjYzdmMTkpOwogICAgICAgIAogICAgCiAgICAgICAgdmFyIHBvcHVwX2QzNzZmY2Q4NzdhMzRlMmNiMmMyOTIyYzE4OGFhNGU2ID0gTC5wb3B1cCh7Im1heFdpZHRoIjogIjEwMCUifSk7CgogICAgICAgIAogICAgICAgICAgICB2YXIgaHRtbF9hNDhmMmMwOGI2NGI0ZDM3OTM5MWIzYWZjNzU2MGJjZSA9ICQoYDxkaXYgaWQ9Imh0bWxfYTQ4ZjJjMDhiNjRiNGQzNzkzOTFiM2FmYzc1NjBiY2UiIHN0eWxlPSJ3aWR0aDogMTAwLjAlOyBoZWlnaHQ6IDEwMC4wJTsiPk9sZCBNaWxsIFNvdXRoLCBLaW5nJiMzOTtzIE1pbGwgUGFyaywgU3VubnlsZWEsIEh1bWJlciBCYXksIE1pbWljbyBORSwgVGhlIFF1ZWVuc3dheSBFYXN0LCBSb3lhbCBZb3JrIFNvdXRoIEVhc3QsIEtpbmdzd2F5IFBhcmsgU291dGggRWFzdCAoRXRvYmljb2tlKTwvZGl2PmApWzBdOwogICAgICAgICAgICBwb3B1cF9kMzc2ZmNkODc3YTM0ZTJjYjJjMjkyMmMxODhhYTRlNi5zZXRDb250ZW50KGh0bWxfYTQ4ZjJjMDhiNjRiNGQzNzkzOTFiM2FmYzc1NjBiY2UpOwogICAgICAgIAoKICAgICAgICBtYXJrZXJfMTQ5MDVjNTg5MWRiNGIwMzljMGZiNDA2NmNjZDIxMWQuYmluZFBvcHVwKHBvcHVwX2QzNzZmY2Q4NzdhMzRlMmNiMmMyOTIyYzE4OGFhNGU2KQogICAgICAgIDsKCiAgICAgICAgCiAgICAKICAgIAogICAgICAgICAgICB2YXIgbWFya2VyX2E4MTg3MjZlN2E3YjRlYjA4ZWI0YWUwNDJjNWY2N2ZjID0gTC5tYXJrZXIoCiAgICAgICAgICAgICAgICBbNDMuNjI4ODQwOCwgLTc5LjUyMDk5OTQwMDAwMDAxXSwKICAgICAgICAgICAgICAgIHsicGFyc2VIdG1sIjogZmFsc2V9CiAgICAgICAgICAgICkuYWRkVG8obWFwX2ZhMjYwODA1YjIzMjQzOWNhYmVkOTQ1ZjIzY2M3ZjE5KTsKICAgICAgICAKICAgIAogICAgICAgIHZhciBwb3B1cF9mYWMyNDU5YjE2ZmM0MzQ3YTYyOTk4NjI3MDJlOTgyYiA9IEwucG9wdXAoeyJtYXhXaWR0aCI6ICIxMDAlIn0pOwoKICAgICAgICAKICAgICAgICAgICAgdmFyIGh0bWxfYzFiZTRmYmMyNzQ3NDYyMTkwOWEwMTYyN2MxODdmMmUgPSAkKGA8ZGl2IGlkPSJodG1sX2MxYmU0ZmJjMjc0NzQ2MjE5MDlhMDE2MjdjMTg3ZjJlIiBzdHlsZT0id2lkdGg6IDEwMC4wJTsgaGVpZ2h0OiAxMDAuMCU7Ij5NaW1pY28gTlcsIFRoZSBRdWVlbnN3YXkgV2VzdCwgU291dGggb2YgQmxvb3IsIEtpbmdzd2F5IFBhcmsgU291dGggV2VzdCwgUm95YWwgWW9yayBTb3V0aCBXZXN0IChFdG9iaWNva2UpPC9kaXY+YClbMF07CiAgICAgICAgICAgIHBvcHVwX2ZhYzI0NTliMTZmYzQzNDdhNjI5OTg2MjcwMmU5ODJiLnNldENvbnRlbnQoaHRtbF9jMWJlNGZiYzI3NDc0NjIxOTA5YTAxNjI3YzE4N2YyZSk7CiAgICAgICAgCgogICAgICAgIG1hcmtlcl9hODE4NzI2ZTdhN2I0ZWIwOGViNGFlMDQyYzVmNjdmYy5iaW5kUG9wdXAocG9wdXBfZmFjMjQ1OWIxNmZjNDM0N2E2Mjk5ODYyNzAyZTk4MmIpCiAgICAgICAgOwoKICAgICAgICAKICAgIAo8L3NjcmlwdD4= onload=\"this.contentDocument.open();this.contentDocument.write(atob(this.getAttribute('data-html')));this.contentDocument.close();\" allowfullscreen webkitallowfullscreen mozallowfullscreen></iframe></div></div>"
      ],
      "text/plain": [
       "<folium.folium.Map at 0x7f1c55665940>"
      ]
     },
     "execution_count": 11,
     "metadata": {},
     "output_type": "execute_result"
    }
   ],
   "source": [
    "toronto_map"
   ]
  },
  {
   "cell_type": "code",
   "execution_count": 12,
   "metadata": {},
   "outputs": [],
   "source": [
    "with open(\"credentials.txt\", \"r\") as f:\n",
    "    lines = [line.rstrip() for line in f.readlines()]\n",
    "\n",
    "CLIENT_ID = lines[0]\n",
    "CLIENT_SECRET = lines[1]\n",
    "VERSION = lines[2]\n",
    "LIMIT = 100"
   ]
  },
  {
   "cell_type": "code",
   "execution_count": 13,
   "metadata": {},
   "outputs": [],
   "source": [
    "def get_venues(names, latitudes, longitudes, radius=500):\n",
    "    venues = []\n",
    "\n",
    "    for name, latitude, longitude in zip(names, latitudes, longitudes):\n",
    "        # create the API request URL\n",
    "        url = 'https://api.foursquare.com/v2/venues/explore?&client_id={}&client_secret={}&v={}&ll={},{}&radius={}&limit={}'.format(CLIENT_ID, CLIENT_SECRET, VERSION, latitude, longitude, radius, LIMIT)\n",
    "        \n",
    "        # make the GET request\n",
    "        results = requests.get(url).json()['response']['groups'][0]['items']\n",
    "        \n",
    "        # return only relevant information for each nearby venue\n",
    "        venues.append([(\n",
    "            name, \n",
    "            latitude, \n",
    "            longitude, \n",
    "            v['venue']['name'], \n",
    "            v['venue']['location']['lat'], \n",
    "            v['venue']['location']['lng'],  \n",
    "            v['venue']['categories'][0]['name']) for v in results])\n",
    "\n",
    "    df = pd.DataFrame([item for venues in venues for item in venues])\n",
    "    df.columns = ['Neighborhood', 'Neighborhood Latitude', 'Neighborhood Longitude', 'Venue', 'Venue Latitude', 'Venue Longitude', 'Venue Category']\n",
    "    \n",
    "    return df"
   ]
  },
  {
   "cell_type": "markdown",
   "metadata": {},
   "source": [
    "Call this function on each neighborhood and populate a new data frame with the venues returned by the Foursquare API."
   ]
  },
  {
   "cell_type": "code",
   "execution_count": 14,
   "metadata": {
    "scrolled": true
   },
   "outputs": [],
   "source": [
    "venues = get_venues(names=neighborhoods['Neighborhood'], latitudes=neighborhoods['Latitude'], longitudes=neighborhoods['Longitude'])"
   ]
  },
  {
   "cell_type": "markdown",
   "metadata": {},
   "source": [
    "Let's see the total number of venues returned by the API."
   ]
  },
  {
   "cell_type": "code",
   "execution_count": 15,
   "metadata": {
    "collapsed": false,
    "jupyter": {
     "outputs_hidden": false
    }
   },
   "outputs": [
    {
     "data": {
      "text/plain": [
       "2132"
      ]
     },
     "execution_count": 15,
     "metadata": {},
     "output_type": "execute_result"
    }
   ],
   "source": [
    "venues.shape[0]"
   ]
  },
  {
   "cell_type": "markdown",
   "metadata": {},
   "source": [
    "And break down the number of venues found in each neighborhood."
   ]
  },
  {
   "cell_type": "code",
   "execution_count": 16,
   "metadata": {
    "collapsed": false,
    "jupyter": {
     "outputs_hidden": false
    }
   },
   "outputs": [
    {
     "data": {
      "text/plain": [
       "Neighborhood\n",
       "Agincourt                                           5\n",
       "Alderwood, Long Branch                              9\n",
       "Bathurst Manor, Wilson Heights, Downsview North    21\n",
       "Bayview Village                                     4\n",
       "Bedford Park, Lawrence Manor East                  23\n",
       "                                                   ..\n",
       "Willowdale, Willowdale East                        35\n",
       "Willowdale, Willowdale West                         7\n",
       "Woburn                                              4\n",
       "Woodbine Heights                                    7\n",
       "York Mills West                                     2\n",
       "Name: Venue, Length: 95, dtype: int64"
      ]
     },
     "execution_count": 16,
     "metadata": {},
     "output_type": "execute_result"
    }
   ],
   "source": [
    "venues.groupby('Neighborhood').count()['Venue']"
   ]
  },
  {
   "cell_type": "code",
   "execution_count": 17,
   "metadata": {
    "collapsed": false,
    "jupyter": {
     "outputs_hidden": false
    }
   },
   "outputs": [
    {
     "name": "stdout",
     "output_type": "stream",
     "text": [
      "There are 270 unique categories.\n"
     ]
    }
   ],
   "source": [
    "print('There are {} unique categories.'.format(len(venues['Venue Category'].unique())))"
   ]
  },
  {
   "cell_type": "markdown",
   "metadata": {},
   "source": [
    "<a id='item3'></a>"
   ]
  },
  {
   "cell_type": "markdown",
   "metadata": {},
   "source": [
    "### Analyze Each Neighborhood"
   ]
  },
  {
   "cell_type": "markdown",
   "metadata": {},
   "source": [
    "We're going to perform a one-hot encoding on the venues data frame and prepend the neighborhood column in its string representation."
   ]
  },
  {
   "cell_type": "code",
   "execution_count": 18,
   "metadata": {
    "collapsed": false,
    "jupyter": {
     "outputs_hidden": false
    }
   },
   "outputs": [
    {
     "data": {
      "text/html": [
       "<div>\n",
       "<style scoped>\n",
       "    .dataframe tbody tr th:only-of-type {\n",
       "        vertical-align: middle;\n",
       "    }\n",
       "\n",
       "    .dataframe tbody tr th {\n",
       "        vertical-align: top;\n",
       "    }\n",
       "\n",
       "    .dataframe thead th {\n",
       "        text-align: right;\n",
       "    }\n",
       "</style>\n",
       "<table border=\"1\" class=\"dataframe\">\n",
       "  <thead>\n",
       "    <tr style=\"text-align: right;\">\n",
       "      <th></th>\n",
       "      <th>Neighborhood</th>\n",
       "      <th>Accessories Store</th>\n",
       "      <th>Afghan Restaurant</th>\n",
       "      <th>Airport</th>\n",
       "      <th>Airport Food Court</th>\n",
       "      <th>Airport Lounge</th>\n",
       "      <th>Airport Service</th>\n",
       "      <th>Airport Terminal</th>\n",
       "      <th>American Restaurant</th>\n",
       "      <th>Antique Shop</th>\n",
       "      <th>...</th>\n",
       "      <th>Train Station</th>\n",
       "      <th>Vegetarian / Vegan Restaurant</th>\n",
       "      <th>Video Game Store</th>\n",
       "      <th>Vietnamese Restaurant</th>\n",
       "      <th>Warehouse Store</th>\n",
       "      <th>Wine Bar</th>\n",
       "      <th>Wine Shop</th>\n",
       "      <th>Wings Joint</th>\n",
       "      <th>Women's Store</th>\n",
       "      <th>Yoga Studio</th>\n",
       "    </tr>\n",
       "  </thead>\n",
       "  <tbody>\n",
       "    <tr>\n",
       "      <th>0</th>\n",
       "      <td>Parkwoods</td>\n",
       "      <td>0</td>\n",
       "      <td>0</td>\n",
       "      <td>0</td>\n",
       "      <td>0</td>\n",
       "      <td>0</td>\n",
       "      <td>0</td>\n",
       "      <td>0</td>\n",
       "      <td>0</td>\n",
       "      <td>0</td>\n",
       "      <td>...</td>\n",
       "      <td>0</td>\n",
       "      <td>0</td>\n",
       "      <td>0</td>\n",
       "      <td>0</td>\n",
       "      <td>0</td>\n",
       "      <td>0</td>\n",
       "      <td>0</td>\n",
       "      <td>0</td>\n",
       "      <td>0</td>\n",
       "      <td>0</td>\n",
       "    </tr>\n",
       "    <tr>\n",
       "      <th>1</th>\n",
       "      <td>Parkwoods</td>\n",
       "      <td>0</td>\n",
       "      <td>0</td>\n",
       "      <td>0</td>\n",
       "      <td>0</td>\n",
       "      <td>0</td>\n",
       "      <td>0</td>\n",
       "      <td>0</td>\n",
       "      <td>0</td>\n",
       "      <td>0</td>\n",
       "      <td>...</td>\n",
       "      <td>0</td>\n",
       "      <td>0</td>\n",
       "      <td>0</td>\n",
       "      <td>0</td>\n",
       "      <td>0</td>\n",
       "      <td>0</td>\n",
       "      <td>0</td>\n",
       "      <td>0</td>\n",
       "      <td>0</td>\n",
       "      <td>0</td>\n",
       "    </tr>\n",
       "    <tr>\n",
       "      <th>2</th>\n",
       "      <td>Victoria Village</td>\n",
       "      <td>0</td>\n",
       "      <td>0</td>\n",
       "      <td>0</td>\n",
       "      <td>0</td>\n",
       "      <td>0</td>\n",
       "      <td>0</td>\n",
       "      <td>0</td>\n",
       "      <td>0</td>\n",
       "      <td>0</td>\n",
       "      <td>...</td>\n",
       "      <td>0</td>\n",
       "      <td>0</td>\n",
       "      <td>0</td>\n",
       "      <td>0</td>\n",
       "      <td>0</td>\n",
       "      <td>0</td>\n",
       "      <td>0</td>\n",
       "      <td>0</td>\n",
       "      <td>0</td>\n",
       "      <td>0</td>\n",
       "    </tr>\n",
       "    <tr>\n",
       "      <th>3</th>\n",
       "      <td>Victoria Village</td>\n",
       "      <td>0</td>\n",
       "      <td>0</td>\n",
       "      <td>0</td>\n",
       "      <td>0</td>\n",
       "      <td>0</td>\n",
       "      <td>0</td>\n",
       "      <td>0</td>\n",
       "      <td>0</td>\n",
       "      <td>0</td>\n",
       "      <td>...</td>\n",
       "      <td>0</td>\n",
       "      <td>0</td>\n",
       "      <td>0</td>\n",
       "      <td>0</td>\n",
       "      <td>0</td>\n",
       "      <td>0</td>\n",
       "      <td>0</td>\n",
       "      <td>0</td>\n",
       "      <td>0</td>\n",
       "      <td>0</td>\n",
       "    </tr>\n",
       "    <tr>\n",
       "      <th>4</th>\n",
       "      <td>Victoria Village</td>\n",
       "      <td>0</td>\n",
       "      <td>0</td>\n",
       "      <td>0</td>\n",
       "      <td>0</td>\n",
       "      <td>0</td>\n",
       "      <td>0</td>\n",
       "      <td>0</td>\n",
       "      <td>0</td>\n",
       "      <td>0</td>\n",
       "      <td>...</td>\n",
       "      <td>0</td>\n",
       "      <td>0</td>\n",
       "      <td>0</td>\n",
       "      <td>0</td>\n",
       "      <td>0</td>\n",
       "      <td>0</td>\n",
       "      <td>0</td>\n",
       "      <td>0</td>\n",
       "      <td>0</td>\n",
       "      <td>0</td>\n",
       "    </tr>\n",
       "  </tbody>\n",
       "</table>\n",
       "<p>5 rows × 270 columns</p>\n",
       "</div>"
      ],
      "text/plain": [
       "       Neighborhood  Accessories Store  Afghan Restaurant  Airport  \\\n",
       "0         Parkwoods                  0                  0        0   \n",
       "1         Parkwoods                  0                  0        0   \n",
       "2  Victoria Village                  0                  0        0   \n",
       "3  Victoria Village                  0                  0        0   \n",
       "4  Victoria Village                  0                  0        0   \n",
       "\n",
       "   Airport Food Court  Airport Lounge  Airport Service  Airport Terminal  \\\n",
       "0                   0               0                0                 0   \n",
       "1                   0               0                0                 0   \n",
       "2                   0               0                0                 0   \n",
       "3                   0               0                0                 0   \n",
       "4                   0               0                0                 0   \n",
       "\n",
       "   American Restaurant  Antique Shop  ...  Train Station  \\\n",
       "0                    0             0  ...              0   \n",
       "1                    0             0  ...              0   \n",
       "2                    0             0  ...              0   \n",
       "3                    0             0  ...              0   \n",
       "4                    0             0  ...              0   \n",
       "\n",
       "   Vegetarian / Vegan Restaurant  Video Game Store  Vietnamese Restaurant  \\\n",
       "0                              0                 0                      0   \n",
       "1                              0                 0                      0   \n",
       "2                              0                 0                      0   \n",
       "3                              0                 0                      0   \n",
       "4                              0                 0                      0   \n",
       "\n",
       "   Warehouse Store  Wine Bar  Wine Shop  Wings Joint  Women's Store  \\\n",
       "0                0         0          0            0              0   \n",
       "1                0         0          0            0              0   \n",
       "2                0         0          0            0              0   \n",
       "3                0         0          0            0              0   \n",
       "4                0         0          0            0              0   \n",
       "\n",
       "   Yoga Studio  \n",
       "0            0  \n",
       "1            0  \n",
       "2            0  \n",
       "3            0  \n",
       "4            0  \n",
       "\n",
       "[5 rows x 270 columns]"
      ]
     },
     "execution_count": 18,
     "metadata": {},
     "output_type": "execute_result"
    }
   ],
   "source": [
    "encoded = pd.get_dummies(venues[['Venue Category']], prefix=\"\", prefix_sep=\"\")\n",
    "\n",
    "encoded.drop(labels='Neighborhood', axis='columns', inplace=True)\n",
    "column = venues['Neighborhood']\n",
    "encoded.insert(0, column.name, column)\n",
    "\n",
    "encoded.head()"
   ]
  },
  {
   "cell_type": "markdown",
   "metadata": {},
   "source": [
    "And let's examine the new dataframe size."
   ]
  },
  {
   "cell_type": "code",
   "execution_count": 19,
   "metadata": {
    "collapsed": false,
    "jupyter": {
     "outputs_hidden": false
    }
   },
   "outputs": [
    {
     "data": {
      "text/plain": [
       "(2132, 270)"
      ]
     },
     "execution_count": 19,
     "metadata": {},
     "output_type": "execute_result"
    }
   ],
   "source": [
    "encoded.shape"
   ]
  },
  {
   "cell_type": "markdown",
   "metadata": {},
   "source": [
    "Next, let's group rows by neighborhood and by taking the mean of the frequency of occurrence of each category"
   ]
  },
  {
   "cell_type": "code",
   "execution_count": 20,
   "metadata": {
    "collapsed": false,
    "jupyter": {
     "outputs_hidden": false
    }
   },
   "outputs": [
    {
     "data": {
      "text/html": [
       "<div>\n",
       "<style scoped>\n",
       "    .dataframe tbody tr th:only-of-type {\n",
       "        vertical-align: middle;\n",
       "    }\n",
       "\n",
       "    .dataframe tbody tr th {\n",
       "        vertical-align: top;\n",
       "    }\n",
       "\n",
       "    .dataframe thead th {\n",
       "        text-align: right;\n",
       "    }\n",
       "</style>\n",
       "<table border=\"1\" class=\"dataframe\">\n",
       "  <thead>\n",
       "    <tr style=\"text-align: right;\">\n",
       "      <th></th>\n",
       "      <th>Neighborhood</th>\n",
       "      <th>Accessories Store</th>\n",
       "      <th>Afghan Restaurant</th>\n",
       "      <th>Airport</th>\n",
       "      <th>Airport Food Court</th>\n",
       "      <th>Airport Lounge</th>\n",
       "      <th>Airport Service</th>\n",
       "      <th>Airport Terminal</th>\n",
       "      <th>American Restaurant</th>\n",
       "      <th>Antique Shop</th>\n",
       "      <th>...</th>\n",
       "      <th>Train Station</th>\n",
       "      <th>Vegetarian / Vegan Restaurant</th>\n",
       "      <th>Video Game Store</th>\n",
       "      <th>Vietnamese Restaurant</th>\n",
       "      <th>Warehouse Store</th>\n",
       "      <th>Wine Bar</th>\n",
       "      <th>Wine Shop</th>\n",
       "      <th>Wings Joint</th>\n",
       "      <th>Women's Store</th>\n",
       "      <th>Yoga Studio</th>\n",
       "    </tr>\n",
       "  </thead>\n",
       "  <tbody>\n",
       "    <tr>\n",
       "      <th>0</th>\n",
       "      <td>Agincourt</td>\n",
       "      <td>0.0</td>\n",
       "      <td>0.0</td>\n",
       "      <td>0.0</td>\n",
       "      <td>0.0</td>\n",
       "      <td>0.0</td>\n",
       "      <td>0.0</td>\n",
       "      <td>0.0</td>\n",
       "      <td>0.000000</td>\n",
       "      <td>0.0</td>\n",
       "      <td>...</td>\n",
       "      <td>0.0</td>\n",
       "      <td>0.0</td>\n",
       "      <td>0.0</td>\n",
       "      <td>0.0</td>\n",
       "      <td>0.0</td>\n",
       "      <td>0.0</td>\n",
       "      <td>0.0</td>\n",
       "      <td>0.0</td>\n",
       "      <td>0.0</td>\n",
       "      <td>0.0</td>\n",
       "    </tr>\n",
       "    <tr>\n",
       "      <th>1</th>\n",
       "      <td>Alderwood, Long Branch</td>\n",
       "      <td>0.0</td>\n",
       "      <td>0.0</td>\n",
       "      <td>0.0</td>\n",
       "      <td>0.0</td>\n",
       "      <td>0.0</td>\n",
       "      <td>0.0</td>\n",
       "      <td>0.0</td>\n",
       "      <td>0.000000</td>\n",
       "      <td>0.0</td>\n",
       "      <td>...</td>\n",
       "      <td>0.0</td>\n",
       "      <td>0.0</td>\n",
       "      <td>0.0</td>\n",
       "      <td>0.0</td>\n",
       "      <td>0.0</td>\n",
       "      <td>0.0</td>\n",
       "      <td>0.0</td>\n",
       "      <td>0.0</td>\n",
       "      <td>0.0</td>\n",
       "      <td>0.0</td>\n",
       "    </tr>\n",
       "    <tr>\n",
       "      <th>2</th>\n",
       "      <td>Bathurst Manor, Wilson Heights, Downsview North</td>\n",
       "      <td>0.0</td>\n",
       "      <td>0.0</td>\n",
       "      <td>0.0</td>\n",
       "      <td>0.0</td>\n",
       "      <td>0.0</td>\n",
       "      <td>0.0</td>\n",
       "      <td>0.0</td>\n",
       "      <td>0.000000</td>\n",
       "      <td>0.0</td>\n",
       "      <td>...</td>\n",
       "      <td>0.0</td>\n",
       "      <td>0.0</td>\n",
       "      <td>0.0</td>\n",
       "      <td>0.0</td>\n",
       "      <td>0.0</td>\n",
       "      <td>0.0</td>\n",
       "      <td>0.0</td>\n",
       "      <td>0.0</td>\n",
       "      <td>0.0</td>\n",
       "      <td>0.0</td>\n",
       "    </tr>\n",
       "    <tr>\n",
       "      <th>3</th>\n",
       "      <td>Bayview Village</td>\n",
       "      <td>0.0</td>\n",
       "      <td>0.0</td>\n",
       "      <td>0.0</td>\n",
       "      <td>0.0</td>\n",
       "      <td>0.0</td>\n",
       "      <td>0.0</td>\n",
       "      <td>0.0</td>\n",
       "      <td>0.000000</td>\n",
       "      <td>0.0</td>\n",
       "      <td>...</td>\n",
       "      <td>0.0</td>\n",
       "      <td>0.0</td>\n",
       "      <td>0.0</td>\n",
       "      <td>0.0</td>\n",
       "      <td>0.0</td>\n",
       "      <td>0.0</td>\n",
       "      <td>0.0</td>\n",
       "      <td>0.0</td>\n",
       "      <td>0.0</td>\n",
       "      <td>0.0</td>\n",
       "    </tr>\n",
       "    <tr>\n",
       "      <th>4</th>\n",
       "      <td>Bedford Park, Lawrence Manor East</td>\n",
       "      <td>0.0</td>\n",
       "      <td>0.0</td>\n",
       "      <td>0.0</td>\n",
       "      <td>0.0</td>\n",
       "      <td>0.0</td>\n",
       "      <td>0.0</td>\n",
       "      <td>0.0</td>\n",
       "      <td>0.043478</td>\n",
       "      <td>0.0</td>\n",
       "      <td>...</td>\n",
       "      <td>0.0</td>\n",
       "      <td>0.0</td>\n",
       "      <td>0.0</td>\n",
       "      <td>0.0</td>\n",
       "      <td>0.0</td>\n",
       "      <td>0.0</td>\n",
       "      <td>0.0</td>\n",
       "      <td>0.0</td>\n",
       "      <td>0.0</td>\n",
       "      <td>0.0</td>\n",
       "    </tr>\n",
       "  </tbody>\n",
       "</table>\n",
       "<p>5 rows × 270 columns</p>\n",
       "</div>"
      ],
      "text/plain": [
       "                                      Neighborhood  Accessories Store  \\\n",
       "0                                        Agincourt                0.0   \n",
       "1                           Alderwood, Long Branch                0.0   \n",
       "2  Bathurst Manor, Wilson Heights, Downsview North                0.0   \n",
       "3                                  Bayview Village                0.0   \n",
       "4                Bedford Park, Lawrence Manor East                0.0   \n",
       "\n",
       "   Afghan Restaurant  Airport  Airport Food Court  Airport Lounge  \\\n",
       "0                0.0      0.0                 0.0             0.0   \n",
       "1                0.0      0.0                 0.0             0.0   \n",
       "2                0.0      0.0                 0.0             0.0   \n",
       "3                0.0      0.0                 0.0             0.0   \n",
       "4                0.0      0.0                 0.0             0.0   \n",
       "\n",
       "   Airport Service  Airport Terminal  American Restaurant  Antique Shop  ...  \\\n",
       "0              0.0               0.0             0.000000           0.0  ...   \n",
       "1              0.0               0.0             0.000000           0.0  ...   \n",
       "2              0.0               0.0             0.000000           0.0  ...   \n",
       "3              0.0               0.0             0.000000           0.0  ...   \n",
       "4              0.0               0.0             0.043478           0.0  ...   \n",
       "\n",
       "   Train Station  Vegetarian / Vegan Restaurant  Video Game Store  \\\n",
       "0            0.0                            0.0               0.0   \n",
       "1            0.0                            0.0               0.0   \n",
       "2            0.0                            0.0               0.0   \n",
       "3            0.0                            0.0               0.0   \n",
       "4            0.0                            0.0               0.0   \n",
       "\n",
       "   Vietnamese Restaurant  Warehouse Store  Wine Bar  Wine Shop  Wings Joint  \\\n",
       "0                    0.0              0.0       0.0        0.0          0.0   \n",
       "1                    0.0              0.0       0.0        0.0          0.0   \n",
       "2                    0.0              0.0       0.0        0.0          0.0   \n",
       "3                    0.0              0.0       0.0        0.0          0.0   \n",
       "4                    0.0              0.0       0.0        0.0          0.0   \n",
       "\n",
       "   Women's Store  Yoga Studio  \n",
       "0            0.0          0.0  \n",
       "1            0.0          0.0  \n",
       "2            0.0          0.0  \n",
       "3            0.0          0.0  \n",
       "4            0.0          0.0  \n",
       "\n",
       "[5 rows x 270 columns]"
      ]
     },
     "execution_count": 20,
     "metadata": {},
     "output_type": "execute_result"
    }
   ],
   "source": [
    "grouped = encoded.groupby('Neighborhood').mean().reset_index()\n",
    "grouped.head()"
   ]
  },
  {
   "cell_type": "markdown",
   "metadata": {},
   "source": [
    "#### Let's confirm the new size"
   ]
  },
  {
   "cell_type": "code",
   "execution_count": 21,
   "metadata": {
    "collapsed": false,
    "jupyter": {
     "outputs_hidden": false
    }
   },
   "outputs": [
    {
     "data": {
      "text/plain": [
       "(95, 270)"
      ]
     },
     "execution_count": 21,
     "metadata": {},
     "output_type": "execute_result"
    }
   ],
   "source": [
    "grouped.shape"
   ]
  },
  {
   "cell_type": "markdown",
   "metadata": {},
   "source": [
    "Let's print out the first 5 neighborhoods along with their top 5 most common venue type."
   ]
  },
  {
   "cell_type": "code",
   "execution_count": 22,
   "metadata": {},
   "outputs": [
    {
     "name": "stdout",
     "output_type": "stream",
     "text": [
      "Neighborhood(s): Agincourt\n",
      "                  Venue Type  Freq\n",
      "0  Latin American Restaurant   0.2\n",
      "1             Breakfast Spot   0.2\n",
      "2               Skating Rink   0.2\n",
      "3                     Lounge   0.2\n",
      "4             Clothing Store   0.2\n",
      "\n",
      "Neighborhood(s): Alderwood, Long Branch\n",
      "       Venue Type  Freq\n",
      "0     Pizza Place  0.22\n",
      "1     Coffee Shop  0.11\n",
      "2    Skating Rink  0.11\n",
      "3  Sandwich Place  0.11\n",
      "4             Pub  0.11\n",
      "\n",
      "Neighborhood(s): Bathurst Manor, Wilson Heights, Downsview North\n",
      "          Venue Type  Freq\n",
      "0               Bank  0.10\n",
      "1        Coffee Shop  0.10\n",
      "2        Bridal Shop  0.05\n",
      "3  Mobile Phone Shop  0.05\n",
      "4        Supermarket  0.05\n",
      "\n",
      "Neighborhood(s): Bayview Village\n",
      "            Venue Type  Freq\n",
      "0  Japanese Restaurant  0.25\n",
      "1                 Bank  0.25\n",
      "2   Chinese Restaurant  0.25\n",
      "3                 Café  0.25\n",
      "4    Accessories Store  0.00\n",
      "\n",
      "Neighborhood(s): Bedford Park, Lawrence Manor East\n",
      "           Venue Type  Freq\n",
      "0         Coffee Shop  0.09\n",
      "1      Sandwich Place  0.09\n",
      "2          Restaurant  0.09\n",
      "3  Italian Restaurant  0.09\n",
      "4    Toy / Game Store  0.04\n",
      "\n"
     ]
    }
   ],
   "source": [
    "num_top_venues = 5\n",
    "\n",
    "for neighborhood in grouped['Neighborhood'][0:5]:\n",
    "    print('Neighborhood(s): {}'.format(neighborhood))\n",
    "    temp = grouped[grouped['Neighborhood'] == neighborhood].T.reset_index()\n",
    "    temp.columns = ['Venue Type', 'Freq']\n",
    "    temp = temp.iloc[1:]\n",
    "    temp['Freq'] = temp['Freq'].astype(float)\n",
    "    temp = temp.round({'Freq': 2})\n",
    "    print(temp.sort_values('Freq', ascending=False).reset_index(drop=True).head(num_top_venues))\n",
    "    print()"
   ]
  },
  {
   "cell_type": "markdown",
   "metadata": {},
   "source": [
    "#### Let's put that into a *pandas* dataframe"
   ]
  },
  {
   "cell_type": "markdown",
   "metadata": {},
   "source": [
    "First, let's write a function to sort the venues in descending order."
   ]
  },
  {
   "cell_type": "code",
   "execution_count": 23,
   "metadata": {},
   "outputs": [],
   "source": [
    "def get_common_venues(row, num_top_venues):\n",
    "    categories = row.iloc[1:]\n",
    "    categories_sorted = categories.sort_values(ascending=False)\n",
    "    return categories_sorted.index.values[0:num_top_venues]"
   ]
  },
  {
   "cell_type": "markdown",
   "metadata": {},
   "source": [
    "Now let's create the new dataframe and display the top 10 venues for each neighborhood."
   ]
  },
  {
   "cell_type": "code",
   "execution_count": 24,
   "metadata": {
    "collapsed": false,
    "jupyter": {
     "outputs_hidden": false
    }
   },
   "outputs": [
    {
     "data": {
      "text/html": [
       "<div>\n",
       "<style scoped>\n",
       "    .dataframe tbody tr th:only-of-type {\n",
       "        vertical-align: middle;\n",
       "    }\n",
       "\n",
       "    .dataframe tbody tr th {\n",
       "        vertical-align: top;\n",
       "    }\n",
       "\n",
       "    .dataframe thead th {\n",
       "        text-align: right;\n",
       "    }\n",
       "</style>\n",
       "<table border=\"1\" class=\"dataframe\">\n",
       "  <thead>\n",
       "    <tr style=\"text-align: right;\">\n",
       "      <th></th>\n",
       "      <th>Neighborhood</th>\n",
       "      <th>1st Most Common Venue</th>\n",
       "      <th>2nd Most Common Venue</th>\n",
       "      <th>3rd Most Common Venue</th>\n",
       "      <th>4th Most Common Venue</th>\n",
       "      <th>5th Most Common Venue</th>\n",
       "      <th>6th Most Common Venue</th>\n",
       "      <th>7th Most Common Venue</th>\n",
       "      <th>8th Most Common Venue</th>\n",
       "      <th>9th Most Common Venue</th>\n",
       "      <th>10th Most Common Venue</th>\n",
       "    </tr>\n",
       "  </thead>\n",
       "  <tbody>\n",
       "    <tr>\n",
       "      <th>0</th>\n",
       "      <td>Agincourt</td>\n",
       "      <td>Lounge</td>\n",
       "      <td>Skating Rink</td>\n",
       "      <td>Breakfast Spot</td>\n",
       "      <td>Latin American Restaurant</td>\n",
       "      <td>Clothing Store</td>\n",
       "      <td>Yoga Studio</td>\n",
       "      <td>Drugstore</td>\n",
       "      <td>Distribution Center</td>\n",
       "      <td>Dog Run</td>\n",
       "      <td>Doner Restaurant</td>\n",
       "    </tr>\n",
       "    <tr>\n",
       "      <th>1</th>\n",
       "      <td>Alderwood, Long Branch</td>\n",
       "      <td>Pizza Place</td>\n",
       "      <td>Pharmacy</td>\n",
       "      <td>Skating Rink</td>\n",
       "      <td>Dance Studio</td>\n",
       "      <td>Coffee Shop</td>\n",
       "      <td>Pub</td>\n",
       "      <td>Sandwich Place</td>\n",
       "      <td>Gym</td>\n",
       "      <td>American Restaurant</td>\n",
       "      <td>Colombian Restaurant</td>\n",
       "    </tr>\n",
       "    <tr>\n",
       "      <th>2</th>\n",
       "      <td>Bathurst Manor, Wilson Heights, Downsview North</td>\n",
       "      <td>Coffee Shop</td>\n",
       "      <td>Bank</td>\n",
       "      <td>Chinese Restaurant</td>\n",
       "      <td>Supermarket</td>\n",
       "      <td>Deli / Bodega</td>\n",
       "      <td>Sushi Restaurant</td>\n",
       "      <td>Mobile Phone Shop</td>\n",
       "      <td>Shopping Mall</td>\n",
       "      <td>Restaurant</td>\n",
       "      <td>Ice Cream Shop</td>\n",
       "    </tr>\n",
       "    <tr>\n",
       "      <th>3</th>\n",
       "      <td>Bayview Village</td>\n",
       "      <td>Café</td>\n",
       "      <td>Japanese Restaurant</td>\n",
       "      <td>Bank</td>\n",
       "      <td>Chinese Restaurant</td>\n",
       "      <td>Diner</td>\n",
       "      <td>Discount Store</td>\n",
       "      <td>Distribution Center</td>\n",
       "      <td>Dog Run</td>\n",
       "      <td>Doner Restaurant</td>\n",
       "      <td>Yoga Studio</td>\n",
       "    </tr>\n",
       "    <tr>\n",
       "      <th>4</th>\n",
       "      <td>Bedford Park, Lawrence Manor East</td>\n",
       "      <td>Coffee Shop</td>\n",
       "      <td>Italian Restaurant</td>\n",
       "      <td>Restaurant</td>\n",
       "      <td>Sandwich Place</td>\n",
       "      <td>Sushi Restaurant</td>\n",
       "      <td>Grocery Store</td>\n",
       "      <td>Indian Restaurant</td>\n",
       "      <td>Juice Bar</td>\n",
       "      <td>Liquor Store</td>\n",
       "      <td>Comfort Food Restaurant</td>\n",
       "    </tr>\n",
       "  </tbody>\n",
       "</table>\n",
       "</div>"
      ],
      "text/plain": [
       "                                      Neighborhood 1st Most Common Venue  \\\n",
       "0                                        Agincourt                Lounge   \n",
       "1                           Alderwood, Long Branch           Pizza Place   \n",
       "2  Bathurst Manor, Wilson Heights, Downsview North           Coffee Shop   \n",
       "3                                  Bayview Village                  Café   \n",
       "4                Bedford Park, Lawrence Manor East           Coffee Shop   \n",
       "\n",
       "  2nd Most Common Venue 3rd Most Common Venue      4th Most Common Venue  \\\n",
       "0          Skating Rink        Breakfast Spot  Latin American Restaurant   \n",
       "1              Pharmacy          Skating Rink               Dance Studio   \n",
       "2                  Bank    Chinese Restaurant                Supermarket   \n",
       "3   Japanese Restaurant                  Bank         Chinese Restaurant   \n",
       "4    Italian Restaurant            Restaurant             Sandwich Place   \n",
       "\n",
       "  5th Most Common Venue 6th Most Common Venue 7th Most Common Venue  \\\n",
       "0        Clothing Store           Yoga Studio             Drugstore   \n",
       "1           Coffee Shop                   Pub        Sandwich Place   \n",
       "2         Deli / Bodega      Sushi Restaurant     Mobile Phone Shop   \n",
       "3                 Diner        Discount Store   Distribution Center   \n",
       "4      Sushi Restaurant         Grocery Store     Indian Restaurant   \n",
       "\n",
       "  8th Most Common Venue 9th Most Common Venue   10th Most Common Venue  \n",
       "0   Distribution Center               Dog Run         Doner Restaurant  \n",
       "1                   Gym   American Restaurant     Colombian Restaurant  \n",
       "2         Shopping Mall            Restaurant           Ice Cream Shop  \n",
       "3               Dog Run      Doner Restaurant              Yoga Studio  \n",
       "4             Juice Bar          Liquor Store  Comfort Food Restaurant  "
      ]
     },
     "execution_count": 24,
     "metadata": {},
     "output_type": "execute_result"
    }
   ],
   "source": [
    "num_top_venues = 10\n",
    "\n",
    "indicators = ['st', 'nd', 'rd']\n",
    "\n",
    "# create columns according to number of top venues\n",
    "columns = ['Neighborhood']\n",
    "for ind in np.arange(num_top_venues):\n",
    "    try:\n",
    "        columns.append('{}{} Most Common Venue'.format(ind+1, indicators[ind]))\n",
    "    except:\n",
    "        columns.append('{}th Most Common Venue'.format(ind+1))\n",
    "\n",
    "# create a new dataframe\n",
    "sorted_ = pd.DataFrame(columns=columns)\n",
    "sorted_['Neighborhood'] = grouped['Neighborhood']\n",
    "\n",
    "for ind in np.arange(grouped.shape[0]):\n",
    "    sorted_.iloc[ind, 1:] = get_common_venues(grouped.iloc[ind, :], num_top_venues)\n",
    "\n",
    "sorted_.head()"
   ]
  },
  {
   "cell_type": "markdown",
   "metadata": {},
   "source": [
    "<a id='item4'></a>"
   ]
  },
  {
   "cell_type": "markdown",
   "metadata": {},
   "source": [
    "### k-Means Clustering"
   ]
  },
  {
   "cell_type": "markdown",
   "metadata": {},
   "source": [
    "Cluster the neighborhoods of Toronto with the k-means clustering algorithm."
   ]
  },
  {
   "cell_type": "code",
   "execution_count": 25,
   "metadata": {
    "collapsed": false,
    "jupyter": {
     "outputs_hidden": false
    }
   },
   "outputs": [
    {
     "data": {
      "text/plain": [
       "array([0, 4, 0, 0, 0, 0, 0, 0, 0, 0, 1, 0, 0, 0, 0, 0, 4, 0, 0, 0, 0, 0,\n",
       "       0, 0, 0, 0, 1, 0, 0, 0, 1, 0, 0, 0, 0, 0, 0, 0, 4, 3, 0, 0, 0, 0,\n",
       "       4, 0, 0, 0, 0, 4, 1, 0, 1, 0, 1, 0, 0, 0, 3, 0, 4, 1, 0, 0, 0, 1,\n",
       "       0, 0, 0, 4, 1, 4, 0, 0, 0, 0, 0, 0, 0, 0, 0, 1, 0, 0, 0, 0, 2, 4,\n",
       "       1, 0, 0, 4, 0, 0, 1], dtype=int32)"
      ]
     },
     "execution_count": 25,
     "metadata": {},
     "output_type": "execute_result"
    }
   ],
   "source": [
    "# Number of clusters\n",
    "k = 5\n",
    "\n",
    "# Train the model\n",
    "k_means = KMeans(n_clusters=k, random_state=0).fit(grouped.drop('Neighborhood', axis='columns'))\n",
    "\n",
    "# Check out the cluster labels generated for each row in the data frame\n",
    "k_means.labels_"
   ]
  },
  {
   "cell_type": "code",
   "execution_count": 26,
   "metadata": {},
   "outputs": [],
   "source": [
    "# Add cluster labels to the data frame\n",
    "sorted_.insert(loc=0, column='Cluster Label', value=k_means.labels_)"
   ]
  },
  {
   "cell_type": "markdown",
   "metadata": {},
   "source": [
    "Let's create a new dataframe that includes the cluster as well as the top 10 venues for each neighborhood"
   ]
  },
  {
   "cell_type": "code",
   "execution_count": 27,
   "metadata": {
    "collapsed": false,
    "jupyter": {
     "outputs_hidden": false
    }
   },
   "outputs": [
    {
     "data": {
      "text/html": [
       "<div>\n",
       "<style scoped>\n",
       "    .dataframe tbody tr th:only-of-type {\n",
       "        vertical-align: middle;\n",
       "    }\n",
       "\n",
       "    .dataframe tbody tr th {\n",
       "        vertical-align: top;\n",
       "    }\n",
       "\n",
       "    .dataframe thead th {\n",
       "        text-align: right;\n",
       "    }\n",
       "</style>\n",
       "<table border=\"1\" class=\"dataframe\">\n",
       "  <thead>\n",
       "    <tr style=\"text-align: right;\">\n",
       "      <th></th>\n",
       "      <th>Postal Code</th>\n",
       "      <th>Borough</th>\n",
       "      <th>Neighborhood</th>\n",
       "      <th>Latitude</th>\n",
       "      <th>Longitude</th>\n",
       "      <th>Cluster Label</th>\n",
       "      <th>1st Most Common Venue</th>\n",
       "      <th>2nd Most Common Venue</th>\n",
       "      <th>3rd Most Common Venue</th>\n",
       "      <th>4th Most Common Venue</th>\n",
       "      <th>5th Most Common Venue</th>\n",
       "      <th>6th Most Common Venue</th>\n",
       "      <th>7th Most Common Venue</th>\n",
       "      <th>8th Most Common Venue</th>\n",
       "      <th>9th Most Common Venue</th>\n",
       "      <th>10th Most Common Venue</th>\n",
       "    </tr>\n",
       "  </thead>\n",
       "  <tbody>\n",
       "    <tr>\n",
       "      <th>0</th>\n",
       "      <td>M3A</td>\n",
       "      <td>North York</td>\n",
       "      <td>Parkwoods</td>\n",
       "      <td>43.753259</td>\n",
       "      <td>-79.329656</td>\n",
       "      <td>1</td>\n",
       "      <td>Park</td>\n",
       "      <td>Food &amp; Drink Shop</td>\n",
       "      <td>Yoga Studio</td>\n",
       "      <td>Drugstore</td>\n",
       "      <td>Discount Store</td>\n",
       "      <td>Distribution Center</td>\n",
       "      <td>Dog Run</td>\n",
       "      <td>Doner Restaurant</td>\n",
       "      <td>Donut Shop</td>\n",
       "      <td>Electronics Store</td>\n",
       "    </tr>\n",
       "    <tr>\n",
       "      <th>1</th>\n",
       "      <td>M4A</td>\n",
       "      <td>North York</td>\n",
       "      <td>Victoria Village</td>\n",
       "      <td>43.725882</td>\n",
       "      <td>-79.315572</td>\n",
       "      <td>0</td>\n",
       "      <td>Portuguese Restaurant</td>\n",
       "      <td>Coffee Shop</td>\n",
       "      <td>French Restaurant</td>\n",
       "      <td>Hockey Arena</td>\n",
       "      <td>Intersection</td>\n",
       "      <td>Pizza Place</td>\n",
       "      <td>Electronics Store</td>\n",
       "      <td>Ethiopian Restaurant</td>\n",
       "      <td>Eastern European Restaurant</td>\n",
       "      <td>Drugstore</td>\n",
       "    </tr>\n",
       "    <tr>\n",
       "      <th>2</th>\n",
       "      <td>M5A</td>\n",
       "      <td>Downtown Toronto</td>\n",
       "      <td>Regent Park, Harbourfront</td>\n",
       "      <td>43.654260</td>\n",
       "      <td>-79.360636</td>\n",
       "      <td>0</td>\n",
       "      <td>Coffee Shop</td>\n",
       "      <td>Bakery</td>\n",
       "      <td>Pub</td>\n",
       "      <td>Park</td>\n",
       "      <td>Breakfast Spot</td>\n",
       "      <td>Café</td>\n",
       "      <td>Theater</td>\n",
       "      <td>Beer Store</td>\n",
       "      <td>Spa</td>\n",
       "      <td>Shoe Store</td>\n",
       "    </tr>\n",
       "    <tr>\n",
       "      <th>3</th>\n",
       "      <td>M6A</td>\n",
       "      <td>North York</td>\n",
       "      <td>Lawrence Manor, Lawrence Heights</td>\n",
       "      <td>43.718518</td>\n",
       "      <td>-79.464763</td>\n",
       "      <td>0</td>\n",
       "      <td>Clothing Store</td>\n",
       "      <td>Furniture / Home Store</td>\n",
       "      <td>Vietnamese Restaurant</td>\n",
       "      <td>Miscellaneous Shop</td>\n",
       "      <td>Shoe Store</td>\n",
       "      <td>Coffee Shop</td>\n",
       "      <td>Accessories Store</td>\n",
       "      <td>Event Space</td>\n",
       "      <td>Boutique</td>\n",
       "      <td>Electronics Store</td>\n",
       "    </tr>\n",
       "    <tr>\n",
       "      <th>4</th>\n",
       "      <td>M7A</td>\n",
       "      <td>Downtown Toronto</td>\n",
       "      <td>Queen's Park, Ontario Provincial Government</td>\n",
       "      <td>43.662301</td>\n",
       "      <td>-79.389494</td>\n",
       "      <td>0</td>\n",
       "      <td>Coffee Shop</td>\n",
       "      <td>Diner</td>\n",
       "      <td>Sushi Restaurant</td>\n",
       "      <td>Yoga Studio</td>\n",
       "      <td>Bar</td>\n",
       "      <td>Beer Bar</td>\n",
       "      <td>Smoothie Shop</td>\n",
       "      <td>Sandwich Place</td>\n",
       "      <td>Burrito Place</td>\n",
       "      <td>Restaurant</td>\n",
       "    </tr>\n",
       "  </tbody>\n",
       "</table>\n",
       "</div>"
      ],
      "text/plain": [
       "  Postal Code           Borough                                 Neighborhood  \\\n",
       "0         M3A        North York                                    Parkwoods   \n",
       "1         M4A        North York                             Victoria Village   \n",
       "2         M5A  Downtown Toronto                    Regent Park, Harbourfront   \n",
       "3         M6A        North York             Lawrence Manor, Lawrence Heights   \n",
       "4         M7A  Downtown Toronto  Queen's Park, Ontario Provincial Government   \n",
       "\n",
       "    Latitude  Longitude  Cluster Label  1st Most Common Venue  \\\n",
       "0  43.753259 -79.329656              1                   Park   \n",
       "1  43.725882 -79.315572              0  Portuguese Restaurant   \n",
       "2  43.654260 -79.360636              0            Coffee Shop   \n",
       "3  43.718518 -79.464763              0         Clothing Store   \n",
       "4  43.662301 -79.389494              0            Coffee Shop   \n",
       "\n",
       "    2nd Most Common Venue  3rd Most Common Venue 4th Most Common Venue  \\\n",
       "0       Food & Drink Shop            Yoga Studio             Drugstore   \n",
       "1             Coffee Shop      French Restaurant          Hockey Arena   \n",
       "2                  Bakery                    Pub                  Park   \n",
       "3  Furniture / Home Store  Vietnamese Restaurant    Miscellaneous Shop   \n",
       "4                   Diner       Sushi Restaurant           Yoga Studio   \n",
       "\n",
       "  5th Most Common Venue 6th Most Common Venue 7th Most Common Venue  \\\n",
       "0        Discount Store   Distribution Center               Dog Run   \n",
       "1          Intersection           Pizza Place     Electronics Store   \n",
       "2        Breakfast Spot                  Café               Theater   \n",
       "3            Shoe Store           Coffee Shop     Accessories Store   \n",
       "4                   Bar              Beer Bar         Smoothie Shop   \n",
       "\n",
       "  8th Most Common Venue        9th Most Common Venue 10th Most Common Venue  \n",
       "0      Doner Restaurant                   Donut Shop      Electronics Store  \n",
       "1  Ethiopian Restaurant  Eastern European Restaurant              Drugstore  \n",
       "2            Beer Store                          Spa             Shoe Store  \n",
       "3           Event Space                     Boutique      Electronics Store  \n",
       "4        Sandwich Place                Burrito Place             Restaurant  "
      ]
     },
     "execution_count": 27,
     "metadata": {},
     "output_type": "execute_result"
    }
   ],
   "source": [
    "# Merged grouped with neighborhoods to add latitude/longitude for each neighborhood\n",
    "merged = neighborhoods\n",
    "merged = merged.join(sorted_.set_index('Neighborhood'), on='Neighborhood')\n",
    "\n",
    "# Drop NaN rows and cast float to int in the 'Cluster Label' column\n",
    "merged.dropna(axis='index', inplace=True)\n",
    "merged['Cluster Label'] = merged['Cluster Label'].astype(int)\n",
    "\n",
    "merged.head()"
   ]
  },
  {
   "cell_type": "markdown",
   "metadata": {},
   "source": [
    "### Cluster Visualization"
   ]
  },
  {
   "cell_type": "code",
   "execution_count": 28,
   "metadata": {
    "collapsed": false,
    "jupyter": {
     "outputs_hidden": false
    }
   },
   "outputs": [],
   "source": [
    "# Create an empty map centered on Toronto\n",
    "clusters_map = folium.Map(location=[latitude, longitude], zoom_start=11)"
   ]
  },
  {
   "cell_type": "code",
   "execution_count": 29,
   "metadata": {},
   "outputs": [],
   "source": [
    "# Set the colorscheme for the clusters\n",
    "x = np.arange(k)\n",
    "ys = [i + x + (i*x)**2 for i in range(k)]\n",
    "colors_array = cm.rainbow(np.linspace(0, 1, len(ys)))\n",
    "rainbow = [colors.rgb2hex(i) for i in colors_array]"
   ]
  },
  {
   "cell_type": "code",
   "execution_count": 30,
   "metadata": {},
   "outputs": [
    {
     "ename": "SyntaxError",
     "evalue": "invalid syntax (<ipython-input-30-095b6a9fbce8>, line 3)",
     "output_type": "error",
     "traceback": [
      "\u001b[0;36m  File \u001b[0;32m\"<ipython-input-30-095b6a9fbce8>\"\u001b[0;36m, line \u001b[0;32m3\u001b[0m\n\u001b[0;31m    for latitude, lonclusters_mapum.Popup(str(poi) + ' Cluster ' + str(cluster), parse_html=True)\u001b[0m\n\u001b[0m                                                                                                 ^\u001b[0m\n\u001b[0;31mSyntaxError\u001b[0m\u001b[0;31m:\u001b[0m invalid syntax\n"
     ]
    }
   ],
   "source": [
    "# Add markers to the map\n",
    "markers_colors = []\n",
    "for latitude, lonclusters_mapum.Popup(str(poi) + ' Cluster ' + str(cluster), parse_html=True)\n",
    "    folium.CircleMarker(\n",
    "        [latitude, longitude],\n",
    "        radius=5,\n",
    "        popup=label,\n",
    "        color=rainbow[cluster-1],\n",
    "        fill=True,\n",
    "        fill_color=rainbow[cluster-1],\n",
    "        fill_opacity=0.7).add_to(clusters_map)"
   ]
  },
  {
   "cell_type": "markdown",
   "metadata": {},
   "source": [
    "<a id='item5'></a>"
   ]
  },
  {
   "cell_type": "code",
   "execution_count": null,
   "metadata": {},
   "outputs": [],
   "source": [
    "clusters_map"
   ]
  },
  {
   "cell_type": "markdown",
   "metadata": {},
   "source": [
    "### Examine Clusters"
   ]
  },
  {
   "cell_type": "markdown",
   "metadata": {},
   "source": [
    "#### First Cluster"
   ]
  },
  {
   "cell_type": "code",
   "execution_count": null,
   "metadata": {
    "collapsed": false,
    "jupyter": {
     "outputs_hidden": false
    }
   },
   "outputs": [],
   "source": [
    "merged.loc[merged['Cluster Label'] == 0, merged.columns[[1] + list(range(5, merged.shape[1]))]]"
   ]
  },
  {
   "cell_type": "markdown",
   "metadata": {},
   "source": [
    "### Second Cluster"
   ]
  },
  {
   "cell_type": "code",
   "execution_count": null,
   "metadata": {
    "collapsed": false,
    "jupyter": {
     "outputs_hidden": false
    }
   },
   "outputs": [],
   "source": [
    "merged.loc[merged['Cluster Label'] == 1, merged.columns[[1] + list(range(5, merged.shape[1]))]]"
   ]
  },
  {
   "cell_type": "markdown",
   "metadata": {},
   "source": [
    "### Third Cluster"
   ]
  },
  {
   "cell_type": "code",
   "execution_count": null,
   "metadata": {
    "collapsed": false,
    "jupyter": {
     "outputs_hidden": false
    }
   },
   "outputs": [],
   "source": [
    "merged.loc[merged['Cluster Label'] == 2, merged.columns[[1] + list(range(5, merged.shape[1]))]]"
   ]
  },
  {
   "cell_type": "markdown",
   "metadata": {},
   "source": [
    "### Fourth Cluster"
   ]
  },
  {
   "cell_type": "code",
   "execution_count": null,
   "metadata": {
    "collapsed": false,
    "jupyter": {
     "outputs_hidden": false
    }
   },
   "outputs": [],
   "source": [
    "merged.loc[merged['Cluster Label'] == 3, merged.columns[[1] + list(range(5, merged.shape[1]))]]"
   ]
  },
  {
   "cell_type": "markdown",
   "metadata": {},
   "source": [
    "### Fifth Cluster"
   ]
  },
  {
   "cell_type": "code",
   "execution_count": null,
   "metadata": {
    "collapsed": false,
    "jupyter": {
     "outputs_hidden": false
    }
   },
   "outputs": [],
   "source": [
    "merged.loc[merged['Cluster Label'] == 4, merged.columns[[1] + list(range(5, merged.shape[1]))]]"
   ]
  }
 ],
 "metadata": {
  "kernelspec": {
   "display_name": "Python 3",
   "language": "python",
   "name": "python3"
  },
  "language_info": {
   "codemirror_mode": {
    "name": "ipython",
    "version": 3
   },
   "file_extension": ".py",
   "mimetype": "text/x-python",
   "name": "python",
   "nbconvert_exporter": "python",
   "pygments_lexer": "ipython3",
   "version": "3.8.3"
  },
  "widgets": {
   "state": {},
   "version": "1.1.2"
  }
 },
 "nbformat": 4,
 "nbformat_minor": 4
}
