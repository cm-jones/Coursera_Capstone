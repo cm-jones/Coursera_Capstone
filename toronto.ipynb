{
 "cells": [
  {
   "cell_type": "markdown",
   "metadata": {
    "jupyter": {
     "outputs_hidden": false
    }
   },
   "source": [
    "# Segmenting and Clustering Neighborhoods in Toronto"
   ]
  },
  {
   "cell_type": "markdown",
   "metadata": {},
   "source": [
    "**Author**: Cody M. Jones  \n",
    "**Date**: 30 June 2020"
   ]
  },
  {
   "cell_type": "code",
   "execution_count": 71,
   "metadata": {},
   "outputs": [],
   "source": [
    "import numpy as np\n",
    "import pandas as pd\n",
    "import folium\n",
    "import geocoder\n",
    "import requests\n",
    "import matplotlib.cm as cm\n",
    "import matplotlib.colors as colors\n",
    "from sklearn.cluster import KMeans"
   ]
  },
  {
   "cell_type": "markdown",
   "metadata": {},
   "source": [
    "## Data Wrangling"
   ]
  },
  {
   "cell_type": "markdown",
   "metadata": {},
   "source": [
    "There's a data set on Wikipedia that contains all the information we need regarding postal codes in Toronto and their associated borough and neighborhood(s). This is a simple HTML table so we can use the `pd.read_html()` method to read the table straight into a data frame."
   ]
  },
  {
   "cell_type": "code",
   "execution_count": 72,
   "metadata": {
    "collapsed": false,
    "jupyter": {
     "outputs_hidden": false
    },
    "scrolled": true
   },
   "outputs": [
    {
     "data": {
      "text/html": [
       "<div>\n",
       "<style scoped>\n",
       "    .dataframe tbody tr th:only-of-type {\n",
       "        vertical-align: middle;\n",
       "    }\n",
       "\n",
       "    .dataframe tbody tr th {\n",
       "        vertical-align: top;\n",
       "    }\n",
       "\n",
       "    .dataframe thead th {\n",
       "        text-align: right;\n",
       "    }\n",
       "</style>\n",
       "<table border=\"1\" class=\"dataframe\">\n",
       "  <thead>\n",
       "    <tr style=\"text-align: right;\">\n",
       "      <th></th>\n",
       "      <th>Postal Code</th>\n",
       "      <th>Borough</th>\n",
       "      <th>Neighborhood</th>\n",
       "    </tr>\n",
       "  </thead>\n",
       "  <tbody>\n",
       "    <tr>\n",
       "      <th>0</th>\n",
       "      <td>M1A</td>\n",
       "      <td>Not assigned</td>\n",
       "      <td>Not assigned</td>\n",
       "    </tr>\n",
       "    <tr>\n",
       "      <th>1</th>\n",
       "      <td>M2A</td>\n",
       "      <td>Not assigned</td>\n",
       "      <td>Not assigned</td>\n",
       "    </tr>\n",
       "    <tr>\n",
       "      <th>2</th>\n",
       "      <td>M3A</td>\n",
       "      <td>North York</td>\n",
       "      <td>Parkwoods</td>\n",
       "    </tr>\n",
       "    <tr>\n",
       "      <th>3</th>\n",
       "      <td>M4A</td>\n",
       "      <td>North York</td>\n",
       "      <td>Victoria Village</td>\n",
       "    </tr>\n",
       "    <tr>\n",
       "      <th>4</th>\n",
       "      <td>M5A</td>\n",
       "      <td>Downtown Toronto</td>\n",
       "      <td>Regent Park, Harbourfront</td>\n",
       "    </tr>\n",
       "  </tbody>\n",
       "</table>\n",
       "</div>"
      ],
      "text/plain": [
       "  Postal Code           Borough               Neighborhood\n",
       "0         M1A      Not assigned               Not assigned\n",
       "1         M2A      Not assigned               Not assigned\n",
       "2         M3A        North York                  Parkwoods\n",
       "3         M4A        North York           Victoria Village\n",
       "4         M5A  Downtown Toronto  Regent Park, Harbourfront"
      ]
     },
     "execution_count": 72,
     "metadata": {},
     "output_type": "execute_result"
    }
   ],
   "source": [
    "url = 'https://en.wikipedia.org/wiki/List_of_postal_codes_of_Canada:_M'\n",
    "dfs = pd.read_html(io=url)\n",
    "neighborhoods = dfs[0]\n",
    "neighborhoods.head()"
   ]
  },
  {
   "cell_type": "markdown",
   "metadata": {},
   "source": [
    "Let's drop all postal codes without an assigned borough for the sake of our analysis."
   ]
  },
  {
   "cell_type": "code",
   "execution_count": 73,
   "metadata": {
    "collapsed": false,
    "jupyter": {
     "outputs_hidden": false
    }
   },
   "outputs": [
    {
     "data": {
      "text/html": [
       "<div>\n",
       "<style scoped>\n",
       "    .dataframe tbody tr th:only-of-type {\n",
       "        vertical-align: middle;\n",
       "    }\n",
       "\n",
       "    .dataframe tbody tr th {\n",
       "        vertical-align: top;\n",
       "    }\n",
       "\n",
       "    .dataframe thead th {\n",
       "        text-align: right;\n",
       "    }\n",
       "</style>\n",
       "<table border=\"1\" class=\"dataframe\">\n",
       "  <thead>\n",
       "    <tr style=\"text-align: right;\">\n",
       "      <th></th>\n",
       "      <th>Postal Code</th>\n",
       "      <th>Borough</th>\n",
       "      <th>Neighborhood</th>\n",
       "    </tr>\n",
       "  </thead>\n",
       "  <tbody>\n",
       "    <tr>\n",
       "      <th>2</th>\n",
       "      <td>M3A</td>\n",
       "      <td>North York</td>\n",
       "      <td>Parkwoods</td>\n",
       "    </tr>\n",
       "    <tr>\n",
       "      <th>3</th>\n",
       "      <td>M4A</td>\n",
       "      <td>North York</td>\n",
       "      <td>Victoria Village</td>\n",
       "    </tr>\n",
       "    <tr>\n",
       "      <th>4</th>\n",
       "      <td>M5A</td>\n",
       "      <td>Downtown Toronto</td>\n",
       "      <td>Regent Park, Harbourfront</td>\n",
       "    </tr>\n",
       "    <tr>\n",
       "      <th>5</th>\n",
       "      <td>M6A</td>\n",
       "      <td>North York</td>\n",
       "      <td>Lawrence Manor, Lawrence Heights</td>\n",
       "    </tr>\n",
       "    <tr>\n",
       "      <th>6</th>\n",
       "      <td>M7A</td>\n",
       "      <td>Downtown Toronto</td>\n",
       "      <td>Queen's Park, Ontario Provincial Government</td>\n",
       "    </tr>\n",
       "  </tbody>\n",
       "</table>\n",
       "</div>"
      ],
      "text/plain": [
       "  Postal Code           Borough                                 Neighborhood\n",
       "2         M3A        North York                                    Parkwoods\n",
       "3         M4A        North York                             Victoria Village\n",
       "4         M5A  Downtown Toronto                    Regent Park, Harbourfront\n",
       "5         M6A        North York             Lawrence Manor, Lawrence Heights\n",
       "6         M7A  Downtown Toronto  Queen's Park, Ontario Provincial Government"
      ]
     },
     "execution_count": 73,
     "metadata": {},
     "output_type": "execute_result"
    }
   ],
   "source": [
    "neighborhoods.drop(neighborhoods[neighborhoods['Borough'] == 'Not assigned'].index, inplace=True)\n",
    "neighborhoods.head()"
   ]
  },
  {
   "cell_type": "markdown",
   "metadata": {},
   "source": [
    "Check that all remaining postal codes have an assigned neighborhood."
   ]
  },
  {
   "cell_type": "code",
   "execution_count": 74,
   "metadata": {},
   "outputs": [
    {
     "data": {
      "text/plain": [
       "0"
      ]
     },
     "execution_count": 74,
     "metadata": {},
     "output_type": "execute_result"
    }
   ],
   "source": [
    "len(neighborhoods[neighborhoods['Neighborhood'] == 'Not assigned'])"
   ]
  },
  {
   "cell_type": "markdown",
   "metadata": {},
   "source": [
    "Now that we've cleaned up the data set, let's see how many postal codes are left for us to deal with."
   ]
  },
  {
   "cell_type": "code",
   "execution_count": 75,
   "metadata": {},
   "outputs": [
    {
     "name": "stdout",
     "output_type": "stream",
     "text": [
      "Number of postal codes: 103\n"
     ]
    }
   ],
   "source": [
    "print('Number of postal codes: {}'.format(neighborhoods.shape[0]))"
   ]
  },
  {
   "cell_type": "markdown",
   "metadata": {},
   "source": [
    "## Geocoding"
   ]
  },
  {
   "cell_type": "code",
   "execution_count": 76,
   "metadata": {
    "collapsed": false,
    "jupyter": {
     "outputs_hidden": false
    }
   },
   "outputs": [
    {
     "data": {
      "text/html": [
       "<div>\n",
       "<style scoped>\n",
       "    .dataframe tbody tr th:only-of-type {\n",
       "        vertical-align: middle;\n",
       "    }\n",
       "\n",
       "    .dataframe tbody tr th {\n",
       "        vertical-align: top;\n",
       "    }\n",
       "\n",
       "    .dataframe thead th {\n",
       "        text-align: right;\n",
       "    }\n",
       "</style>\n",
       "<table border=\"1\" class=\"dataframe\">\n",
       "  <thead>\n",
       "    <tr style=\"text-align: right;\">\n",
       "      <th></th>\n",
       "      <th>Postal Code</th>\n",
       "      <th>Latitude</th>\n",
       "      <th>Longitude</th>\n",
       "    </tr>\n",
       "  </thead>\n",
       "  <tbody>\n",
       "    <tr>\n",
       "      <th>0</th>\n",
       "      <td>M1B</td>\n",
       "      <td>43.806686</td>\n",
       "      <td>-79.194353</td>\n",
       "    </tr>\n",
       "    <tr>\n",
       "      <th>1</th>\n",
       "      <td>M1C</td>\n",
       "      <td>43.784535</td>\n",
       "      <td>-79.160497</td>\n",
       "    </tr>\n",
       "    <tr>\n",
       "      <th>2</th>\n",
       "      <td>M1E</td>\n",
       "      <td>43.763573</td>\n",
       "      <td>-79.188711</td>\n",
       "    </tr>\n",
       "    <tr>\n",
       "      <th>3</th>\n",
       "      <td>M1G</td>\n",
       "      <td>43.770992</td>\n",
       "      <td>-79.216917</td>\n",
       "    </tr>\n",
       "    <tr>\n",
       "      <th>4</th>\n",
       "      <td>M1H</td>\n",
       "      <td>43.773136</td>\n",
       "      <td>-79.239476</td>\n",
       "    </tr>\n",
       "  </tbody>\n",
       "</table>\n",
       "</div>"
      ],
      "text/plain": [
       "  Postal Code   Latitude  Longitude\n",
       "0         M1B  43.806686 -79.194353\n",
       "1         M1C  43.784535 -79.160497\n",
       "2         M1E  43.763573 -79.188711\n",
       "3         M1G  43.770992 -79.216917\n",
       "4         M1H  43.773136 -79.239476"
      ]
     },
     "execution_count": 76,
     "metadata": {},
     "output_type": "execute_result"
    }
   ],
   "source": [
    "coordinates = pd.read_csv('https://cocl.us/Geospatial_data')\n",
    "coordinates.head()"
   ]
  },
  {
   "cell_type": "code",
   "execution_count": 77,
   "metadata": {},
   "outputs": [
    {
     "data": {
      "text/html": [
       "<div>\n",
       "<style scoped>\n",
       "    .dataframe tbody tr th:only-of-type {\n",
       "        vertical-align: middle;\n",
       "    }\n",
       "\n",
       "    .dataframe tbody tr th {\n",
       "        vertical-align: top;\n",
       "    }\n",
       "\n",
       "    .dataframe thead th {\n",
       "        text-align: right;\n",
       "    }\n",
       "</style>\n",
       "<table border=\"1\" class=\"dataframe\">\n",
       "  <thead>\n",
       "    <tr style=\"text-align: right;\">\n",
       "      <th></th>\n",
       "      <th>Postal Code</th>\n",
       "      <th>Borough</th>\n",
       "      <th>Neighborhood</th>\n",
       "      <th>Latitude</th>\n",
       "      <th>Longitude</th>\n",
       "    </tr>\n",
       "  </thead>\n",
       "  <tbody>\n",
       "    <tr>\n",
       "      <th>0</th>\n",
       "      <td>M3A</td>\n",
       "      <td>North York</td>\n",
       "      <td>Parkwoods</td>\n",
       "      <td>43.753259</td>\n",
       "      <td>-79.329656</td>\n",
       "    </tr>\n",
       "    <tr>\n",
       "      <th>1</th>\n",
       "      <td>M4A</td>\n",
       "      <td>North York</td>\n",
       "      <td>Victoria Village</td>\n",
       "      <td>43.725882</td>\n",
       "      <td>-79.315572</td>\n",
       "    </tr>\n",
       "    <tr>\n",
       "      <th>2</th>\n",
       "      <td>M5A</td>\n",
       "      <td>Downtown Toronto</td>\n",
       "      <td>Regent Park, Harbourfront</td>\n",
       "      <td>43.654260</td>\n",
       "      <td>-79.360636</td>\n",
       "    </tr>\n",
       "    <tr>\n",
       "      <th>3</th>\n",
       "      <td>M6A</td>\n",
       "      <td>North York</td>\n",
       "      <td>Lawrence Manor, Lawrence Heights</td>\n",
       "      <td>43.718518</td>\n",
       "      <td>-79.464763</td>\n",
       "    </tr>\n",
       "    <tr>\n",
       "      <th>4</th>\n",
       "      <td>M7A</td>\n",
       "      <td>Downtown Toronto</td>\n",
       "      <td>Queen's Park, Ontario Provincial Government</td>\n",
       "      <td>43.662301</td>\n",
       "      <td>-79.389494</td>\n",
       "    </tr>\n",
       "  </tbody>\n",
       "</table>\n",
       "</div>"
      ],
      "text/plain": [
       "  Postal Code           Borough                                 Neighborhood  \\\n",
       "0         M3A        North York                                    Parkwoods   \n",
       "1         M4A        North York                             Victoria Village   \n",
       "2         M5A  Downtown Toronto                    Regent Park, Harbourfront   \n",
       "3         M6A        North York             Lawrence Manor, Lawrence Heights   \n",
       "4         M7A  Downtown Toronto  Queen's Park, Ontario Provincial Government   \n",
       "\n",
       "    Latitude  Longitude  \n",
       "0  43.753259 -79.329656  \n",
       "1  43.725882 -79.315572  \n",
       "2  43.654260 -79.360636  \n",
       "3  43.718518 -79.464763  \n",
       "4  43.662301 -79.389494  "
      ]
     },
     "execution_count": 77,
     "metadata": {},
     "output_type": "execute_result"
    }
   ],
   "source": [
    "neighborhoods = pd.merge(neighborhoods, coordinates, on='Postal Code')\n",
    "neighborhoods.head()"
   ]
  },
  {
   "cell_type": "markdown",
   "metadata": {},
   "source": [
    "## Clustering"
   ]
  },
  {
   "cell_type": "markdown",
   "metadata": {},
   "source": [
    "Use the OpenStreetMap geocoder to find the coordinates of downtown Toronto."
   ]
  },
  {
   "cell_type": "code",
   "execution_count": 78,
   "metadata": {
    "collapsed": false,
    "jupyter": {
     "outputs_hidden": false
    },
    "scrolled": true
   },
   "outputs": [],
   "source": [
    "g = geocoder.osm('Toronto, Canada')\n",
    "latitude, longitude = g.latlng"
   ]
  },
  {
   "cell_type": "markdown",
   "metadata": {},
   "source": [
    "Create an empty map centered on downtown Toronto."
   ]
  },
  {
   "cell_type": "code",
   "execution_count": 79,
   "metadata": {
    "collapsed": false,
    "jupyter": {
     "outputs_hidden": false
    }
   },
   "outputs": [],
   "source": [
    "toronto_map = folium.Map(location=[latitude, longitude], zoom_start=10)"
   ]
  },
  {
   "cell_type": "markdown",
   "metadata": {},
   "source": [
    "Add markers to the map for each postal code. "
   ]
  },
  {
   "cell_type": "code",
   "execution_count": 80,
   "metadata": {},
   "outputs": [],
   "source": [
    "# add markers to map\n",
    "for latitude, longitude, borough, neighborhood in zip(neighborhoods['Latitude'], neighborhoods['Longitude'], neighborhoods['Borough'], neighborhoods['Neighborhood']):\n",
    "    label = '{} ({})'.format(neighborhood, borough)\n",
    "    label = folium.Popup(label, parse_html=True)\n",
    "    folium.Marker([latitude, longitude], popup=label, parse_html=False).add_to(toronto_map)"
   ]
  },
  {
   "cell_type": "markdown",
   "metadata": {},
   "source": [
    "Display the map with markers."
   ]
  },
  {
   "cell_type": "code",
   "execution_count": 81,
   "metadata": {},
   "outputs": [
    {
     "data": {
      "text/html": [
       "<div style=\"width:100%;\"><div style=\"position:relative;width:100%;height:0;padding-bottom:60%;\"><iframe src=\"about:blank\" style=\"position:absolute;width:100%;height:100%;left:0;top:0;border:none !important;\" data-html=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 onload=\"this.contentDocument.open();this.contentDocument.write(atob(this.getAttribute('data-html')));this.contentDocument.close();\" allowfullscreen webkitallowfullscreen mozallowfullscreen></iframe></div></div>"
      ],
      "text/plain": [
       "<folium.folium.Map at 0x7f93dc206fa0>"
      ]
     },
     "execution_count": 81,
     "metadata": {},
     "output_type": "execute_result"
    }
   ],
   "source": [
    "toronto_map"
   ]
  },
  {
   "cell_type": "code",
   "execution_count": 82,
   "metadata": {},
   "outputs": [],
   "source": [
    "with open(\"credentials.txt\", \"r\") as f:\n",
    "    lines = [line.rstrip() for line in f.readlines()]\n",
    "\n",
    "CLIENT_ID = lines[0]\n",
    "CLIENT_SECRET = lines[1]\n",
    "VERSION = lines[2]\n",
    "LIMIT = 100"
   ]
  },
  {
   "cell_type": "code",
   "execution_count": 83,
   "metadata": {},
   "outputs": [],
   "source": [
    "def get_venues(names, latitudes, longitudes, radius=500):\n",
    "    venues = []\n",
    "\n",
    "    for name, latitude, longitude in zip(names, latitudes, longitudes):\n",
    "        # create the API request URL\n",
    "        url = 'https://api.foursquare.com/v2/venues/explore?&client_id={}&client_secret={}&v={}&ll={},{}&radius={}&limit={}'.format(CLIENT_ID, CLIENT_SECRET, VERSION, latitude, longitude, radius, LIMIT)\n",
    "        \n",
    "        # make the GET request\n",
    "        results = requests.get(url).json()['response']['groups'][0]['items']\n",
    "        \n",
    "        # return only relevant information for each nearby venue\n",
    "        venues.append([(\n",
    "            name, \n",
    "            latitude, \n",
    "            longitude, \n",
    "            v['venue']['name'], \n",
    "            v['venue']['location']['lat'], \n",
    "            v['venue']['location']['lng'],  \n",
    "            v['venue']['categories'][0]['name']) for v in results])\n",
    "\n",
    "    df = pd.DataFrame([item for venues in venues for item in venues])\n",
    "    df.columns = ['Neighborhood', 'Neighborhood Latitude', 'Neighborhood Longitude', 'Venue', 'Venue Latitude', 'Venue Longitude', 'Venue Category']\n",
    "    \n",
    "    return df"
   ]
  },
  {
   "cell_type": "markdown",
   "metadata": {},
   "source": [
    "Call this function on each neighborhood and populate a new data frame with the venues returned by the Foursquare API."
   ]
  },
  {
   "cell_type": "code",
   "execution_count": 84,
   "metadata": {
    "scrolled": true
   },
   "outputs": [],
   "source": [
    "venues = get_venues(names=neighborhoods['Neighborhood'], latitudes=neighborhoods['Latitude'], longitudes=neighborhoods['Longitude'])"
   ]
  },
  {
   "cell_type": "markdown",
   "metadata": {},
   "source": [
    "Let's see the total number of venues returned by the API."
   ]
  },
  {
   "cell_type": "code",
   "execution_count": 108,
   "metadata": {
    "collapsed": false,
    "jupyter": {
     "outputs_hidden": false
    }
   },
   "outputs": [
    {
     "data": {
      "text/plain": [
       "2127"
      ]
     },
     "execution_count": 108,
     "metadata": {},
     "output_type": "execute_result"
    }
   ],
   "source": [
    "venues.shape[0]"
   ]
  },
  {
   "cell_type": "markdown",
   "metadata": {},
   "source": [
    "And break down the number of venues found in each neighborhood."
   ]
  },
  {
   "cell_type": "code",
   "execution_count": 86,
   "metadata": {
    "collapsed": false,
    "jupyter": {
     "outputs_hidden": false
    }
   },
   "outputs": [
    {
     "data": {
      "text/plain": [
       "Neighborhood\n",
       "Agincourt                                           5\n",
       "Alderwood, Long Branch                              6\n",
       "Bathurst Manor, Wilson Heights, Downsview North    21\n",
       "Bayview Village                                     4\n",
       "Bedford Park, Lawrence Manor East                  24\n",
       "                                                   ..\n",
       "Willowdale, Willowdale East                        34\n",
       "Willowdale, Willowdale West                         6\n",
       "Woburn                                              3\n",
       "Woodbine Heights                                    6\n",
       "York Mills West                                     2\n",
       "Name: Venue, Length: 94, dtype: int64"
      ]
     },
     "execution_count": 86,
     "metadata": {},
     "output_type": "execute_result"
    }
   ],
   "source": [
    "venues.groupby('Neighborhood').count()['Venue']"
   ]
  },
  {
   "cell_type": "code",
   "execution_count": 87,
   "metadata": {
    "collapsed": false,
    "jupyter": {
     "outputs_hidden": false
    }
   },
   "outputs": [
    {
     "name": "stdout",
     "output_type": "stream",
     "text": [
      "There are 268 unique categories.\n"
     ]
    }
   ],
   "source": [
    "print('There are {} unique categories.'.format(len(venues['Venue Category'].unique())))"
   ]
  },
  {
   "cell_type": "markdown",
   "metadata": {},
   "source": [
    "<a id='item3'></a>"
   ]
  },
  {
   "cell_type": "markdown",
   "metadata": {},
   "source": [
    "### Analyze Each Neighborhood"
   ]
  },
  {
   "cell_type": "markdown",
   "metadata": {},
   "source": [
    "We're going to perform a one-hot encoding on the venues data frame and prepend the neighborhood column in its string representation."
   ]
  },
  {
   "cell_type": "code",
   "execution_count": 88,
   "metadata": {
    "collapsed": false,
    "jupyter": {
     "outputs_hidden": false
    }
   },
   "outputs": [
    {
     "data": {
      "text/html": [
       "<div>\n",
       "<style scoped>\n",
       "    .dataframe tbody tr th:only-of-type {\n",
       "        vertical-align: middle;\n",
       "    }\n",
       "\n",
       "    .dataframe tbody tr th {\n",
       "        vertical-align: top;\n",
       "    }\n",
       "\n",
       "    .dataframe thead th {\n",
       "        text-align: right;\n",
       "    }\n",
       "</style>\n",
       "<table border=\"1\" class=\"dataframe\">\n",
       "  <thead>\n",
       "    <tr style=\"text-align: right;\">\n",
       "      <th></th>\n",
       "      <th>Neighborhood</th>\n",
       "      <th>Accessories Store</th>\n",
       "      <th>Afghan Restaurant</th>\n",
       "      <th>Airport</th>\n",
       "      <th>Airport Food Court</th>\n",
       "      <th>Airport Gate</th>\n",
       "      <th>Airport Lounge</th>\n",
       "      <th>Airport Service</th>\n",
       "      <th>Airport Terminal</th>\n",
       "      <th>American Restaurant</th>\n",
       "      <th>...</th>\n",
       "      <th>Vegetarian / Vegan Restaurant</th>\n",
       "      <th>Video Game Store</th>\n",
       "      <th>Video Store</th>\n",
       "      <th>Vietnamese Restaurant</th>\n",
       "      <th>Warehouse Store</th>\n",
       "      <th>Wine Bar</th>\n",
       "      <th>Wine Shop</th>\n",
       "      <th>Wings Joint</th>\n",
       "      <th>Women's Store</th>\n",
       "      <th>Yoga Studio</th>\n",
       "    </tr>\n",
       "  </thead>\n",
       "  <tbody>\n",
       "    <tr>\n",
       "      <th>0</th>\n",
       "      <td>Parkwoods</td>\n",
       "      <td>0</td>\n",
       "      <td>0</td>\n",
       "      <td>0</td>\n",
       "      <td>0</td>\n",
       "      <td>0</td>\n",
       "      <td>0</td>\n",
       "      <td>0</td>\n",
       "      <td>0</td>\n",
       "      <td>0</td>\n",
       "      <td>...</td>\n",
       "      <td>0</td>\n",
       "      <td>0</td>\n",
       "      <td>0</td>\n",
       "      <td>0</td>\n",
       "      <td>0</td>\n",
       "      <td>0</td>\n",
       "      <td>0</td>\n",
       "      <td>0</td>\n",
       "      <td>0</td>\n",
       "      <td>0</td>\n",
       "    </tr>\n",
       "    <tr>\n",
       "      <th>1</th>\n",
       "      <td>Parkwoods</td>\n",
       "      <td>0</td>\n",
       "      <td>0</td>\n",
       "      <td>0</td>\n",
       "      <td>0</td>\n",
       "      <td>0</td>\n",
       "      <td>0</td>\n",
       "      <td>0</td>\n",
       "      <td>0</td>\n",
       "      <td>0</td>\n",
       "      <td>...</td>\n",
       "      <td>0</td>\n",
       "      <td>0</td>\n",
       "      <td>0</td>\n",
       "      <td>0</td>\n",
       "      <td>0</td>\n",
       "      <td>0</td>\n",
       "      <td>0</td>\n",
       "      <td>0</td>\n",
       "      <td>0</td>\n",
       "      <td>0</td>\n",
       "    </tr>\n",
       "    <tr>\n",
       "      <th>2</th>\n",
       "      <td>Victoria Village</td>\n",
       "      <td>0</td>\n",
       "      <td>0</td>\n",
       "      <td>0</td>\n",
       "      <td>0</td>\n",
       "      <td>0</td>\n",
       "      <td>0</td>\n",
       "      <td>0</td>\n",
       "      <td>0</td>\n",
       "      <td>0</td>\n",
       "      <td>...</td>\n",
       "      <td>0</td>\n",
       "      <td>0</td>\n",
       "      <td>0</td>\n",
       "      <td>0</td>\n",
       "      <td>0</td>\n",
       "      <td>0</td>\n",
       "      <td>0</td>\n",
       "      <td>0</td>\n",
       "      <td>0</td>\n",
       "      <td>0</td>\n",
       "    </tr>\n",
       "    <tr>\n",
       "      <th>3</th>\n",
       "      <td>Victoria Village</td>\n",
       "      <td>0</td>\n",
       "      <td>0</td>\n",
       "      <td>0</td>\n",
       "      <td>0</td>\n",
       "      <td>0</td>\n",
       "      <td>0</td>\n",
       "      <td>0</td>\n",
       "      <td>0</td>\n",
       "      <td>0</td>\n",
       "      <td>...</td>\n",
       "      <td>0</td>\n",
       "      <td>0</td>\n",
       "      <td>0</td>\n",
       "      <td>0</td>\n",
       "      <td>0</td>\n",
       "      <td>0</td>\n",
       "      <td>0</td>\n",
       "      <td>0</td>\n",
       "      <td>0</td>\n",
       "      <td>0</td>\n",
       "    </tr>\n",
       "    <tr>\n",
       "      <th>4</th>\n",
       "      <td>Victoria Village</td>\n",
       "      <td>0</td>\n",
       "      <td>0</td>\n",
       "      <td>0</td>\n",
       "      <td>0</td>\n",
       "      <td>0</td>\n",
       "      <td>0</td>\n",
       "      <td>0</td>\n",
       "      <td>0</td>\n",
       "      <td>0</td>\n",
       "      <td>...</td>\n",
       "      <td>0</td>\n",
       "      <td>0</td>\n",
       "      <td>0</td>\n",
       "      <td>0</td>\n",
       "      <td>0</td>\n",
       "      <td>0</td>\n",
       "      <td>0</td>\n",
       "      <td>0</td>\n",
       "      <td>0</td>\n",
       "      <td>0</td>\n",
       "    </tr>\n",
       "  </tbody>\n",
       "</table>\n",
       "<p>5 rows × 268 columns</p>\n",
       "</div>"
      ],
      "text/plain": [
       "       Neighborhood  Accessories Store  Afghan Restaurant  Airport  \\\n",
       "0         Parkwoods                  0                  0        0   \n",
       "1         Parkwoods                  0                  0        0   \n",
       "2  Victoria Village                  0                  0        0   \n",
       "3  Victoria Village                  0                  0        0   \n",
       "4  Victoria Village                  0                  0        0   \n",
       "\n",
       "   Airport Food Court  Airport Gate  Airport Lounge  Airport Service  \\\n",
       "0                   0             0               0                0   \n",
       "1                   0             0               0                0   \n",
       "2                   0             0               0                0   \n",
       "3                   0             0               0                0   \n",
       "4                   0             0               0                0   \n",
       "\n",
       "   Airport Terminal  American Restaurant  ...  Vegetarian / Vegan Restaurant  \\\n",
       "0                 0                    0  ...                              0   \n",
       "1                 0                    0  ...                              0   \n",
       "2                 0                    0  ...                              0   \n",
       "3                 0                    0  ...                              0   \n",
       "4                 0                    0  ...                              0   \n",
       "\n",
       "   Video Game Store  Video Store  Vietnamese Restaurant  Warehouse Store  \\\n",
       "0                 0            0                      0                0   \n",
       "1                 0            0                      0                0   \n",
       "2                 0            0                      0                0   \n",
       "3                 0            0                      0                0   \n",
       "4                 0            0                      0                0   \n",
       "\n",
       "   Wine Bar  Wine Shop  Wings Joint  Women's Store  Yoga Studio  \n",
       "0         0          0            0              0            0  \n",
       "1         0          0            0              0            0  \n",
       "2         0          0            0              0            0  \n",
       "3         0          0            0              0            0  \n",
       "4         0          0            0              0            0  \n",
       "\n",
       "[5 rows x 268 columns]"
      ]
     },
     "execution_count": 88,
     "metadata": {},
     "output_type": "execute_result"
    }
   ],
   "source": [
    "encoded = pd.get_dummies(venues[['Venue Category']], prefix=\"\", prefix_sep=\"\")\n",
    "\n",
    "encoded.drop(labels='Neighborhood', axis='columns', inplace=True)\n",
    "column = venues['Neighborhood']\n",
    "encoded.insert(0, column.name, column)\n",
    "\n",
    "encoded.head()"
   ]
  },
  {
   "cell_type": "markdown",
   "metadata": {},
   "source": [
    "And let's examine the new dataframe size."
   ]
  },
  {
   "cell_type": "code",
   "execution_count": 89,
   "metadata": {
    "collapsed": false,
    "jupyter": {
     "outputs_hidden": false
    }
   },
   "outputs": [
    {
     "data": {
      "text/plain": [
       "(2127, 268)"
      ]
     },
     "execution_count": 89,
     "metadata": {},
     "output_type": "execute_result"
    }
   ],
   "source": [
    "encoded.shape"
   ]
  },
  {
   "cell_type": "markdown",
   "metadata": {},
   "source": [
    "Next, let's group rows by neighborhood and by taking the mean of the frequency of occurrence of each category"
   ]
  },
  {
   "cell_type": "code",
   "execution_count": 90,
   "metadata": {
    "collapsed": false,
    "jupyter": {
     "outputs_hidden": false
    }
   },
   "outputs": [
    {
     "data": {
      "text/html": [
       "<div>\n",
       "<style scoped>\n",
       "    .dataframe tbody tr th:only-of-type {\n",
       "        vertical-align: middle;\n",
       "    }\n",
       "\n",
       "    .dataframe tbody tr th {\n",
       "        vertical-align: top;\n",
       "    }\n",
       "\n",
       "    .dataframe thead th {\n",
       "        text-align: right;\n",
       "    }\n",
       "</style>\n",
       "<table border=\"1\" class=\"dataframe\">\n",
       "  <thead>\n",
       "    <tr style=\"text-align: right;\">\n",
       "      <th></th>\n",
       "      <th>Neighborhood</th>\n",
       "      <th>Accessories Store</th>\n",
       "      <th>Afghan Restaurant</th>\n",
       "      <th>Airport</th>\n",
       "      <th>Airport Food Court</th>\n",
       "      <th>Airport Gate</th>\n",
       "      <th>Airport Lounge</th>\n",
       "      <th>Airport Service</th>\n",
       "      <th>Airport Terminal</th>\n",
       "      <th>American Restaurant</th>\n",
       "      <th>...</th>\n",
       "      <th>Vegetarian / Vegan Restaurant</th>\n",
       "      <th>Video Game Store</th>\n",
       "      <th>Video Store</th>\n",
       "      <th>Vietnamese Restaurant</th>\n",
       "      <th>Warehouse Store</th>\n",
       "      <th>Wine Bar</th>\n",
       "      <th>Wine Shop</th>\n",
       "      <th>Wings Joint</th>\n",
       "      <th>Women's Store</th>\n",
       "      <th>Yoga Studio</th>\n",
       "    </tr>\n",
       "  </thead>\n",
       "  <tbody>\n",
       "    <tr>\n",
       "      <th>0</th>\n",
       "      <td>Agincourt</td>\n",
       "      <td>0.0</td>\n",
       "      <td>0.0</td>\n",
       "      <td>0.0</td>\n",
       "      <td>0.0</td>\n",
       "      <td>0.0</td>\n",
       "      <td>0.0</td>\n",
       "      <td>0.0</td>\n",
       "      <td>0.0</td>\n",
       "      <td>0.000000</td>\n",
       "      <td>...</td>\n",
       "      <td>0.0</td>\n",
       "      <td>0.0</td>\n",
       "      <td>0.0</td>\n",
       "      <td>0.0</td>\n",
       "      <td>0.0</td>\n",
       "      <td>0.0</td>\n",
       "      <td>0.0</td>\n",
       "      <td>0.0</td>\n",
       "      <td>0.0</td>\n",
       "      <td>0.0</td>\n",
       "    </tr>\n",
       "    <tr>\n",
       "      <th>1</th>\n",
       "      <td>Alderwood, Long Branch</td>\n",
       "      <td>0.0</td>\n",
       "      <td>0.0</td>\n",
       "      <td>0.0</td>\n",
       "      <td>0.0</td>\n",
       "      <td>0.0</td>\n",
       "      <td>0.0</td>\n",
       "      <td>0.0</td>\n",
       "      <td>0.0</td>\n",
       "      <td>0.000000</td>\n",
       "      <td>...</td>\n",
       "      <td>0.0</td>\n",
       "      <td>0.0</td>\n",
       "      <td>0.0</td>\n",
       "      <td>0.0</td>\n",
       "      <td>0.0</td>\n",
       "      <td>0.0</td>\n",
       "      <td>0.0</td>\n",
       "      <td>0.0</td>\n",
       "      <td>0.0</td>\n",
       "      <td>0.0</td>\n",
       "    </tr>\n",
       "    <tr>\n",
       "      <th>2</th>\n",
       "      <td>Bathurst Manor, Wilson Heights, Downsview North</td>\n",
       "      <td>0.0</td>\n",
       "      <td>0.0</td>\n",
       "      <td>0.0</td>\n",
       "      <td>0.0</td>\n",
       "      <td>0.0</td>\n",
       "      <td>0.0</td>\n",
       "      <td>0.0</td>\n",
       "      <td>0.0</td>\n",
       "      <td>0.000000</td>\n",
       "      <td>...</td>\n",
       "      <td>0.0</td>\n",
       "      <td>0.0</td>\n",
       "      <td>0.0</td>\n",
       "      <td>0.0</td>\n",
       "      <td>0.0</td>\n",
       "      <td>0.0</td>\n",
       "      <td>0.0</td>\n",
       "      <td>0.0</td>\n",
       "      <td>0.0</td>\n",
       "      <td>0.0</td>\n",
       "    </tr>\n",
       "    <tr>\n",
       "      <th>3</th>\n",
       "      <td>Bayview Village</td>\n",
       "      <td>0.0</td>\n",
       "      <td>0.0</td>\n",
       "      <td>0.0</td>\n",
       "      <td>0.0</td>\n",
       "      <td>0.0</td>\n",
       "      <td>0.0</td>\n",
       "      <td>0.0</td>\n",
       "      <td>0.0</td>\n",
       "      <td>0.000000</td>\n",
       "      <td>...</td>\n",
       "      <td>0.0</td>\n",
       "      <td>0.0</td>\n",
       "      <td>0.0</td>\n",
       "      <td>0.0</td>\n",
       "      <td>0.0</td>\n",
       "      <td>0.0</td>\n",
       "      <td>0.0</td>\n",
       "      <td>0.0</td>\n",
       "      <td>0.0</td>\n",
       "      <td>0.0</td>\n",
       "    </tr>\n",
       "    <tr>\n",
       "      <th>4</th>\n",
       "      <td>Bedford Park, Lawrence Manor East</td>\n",
       "      <td>0.0</td>\n",
       "      <td>0.0</td>\n",
       "      <td>0.0</td>\n",
       "      <td>0.0</td>\n",
       "      <td>0.0</td>\n",
       "      <td>0.0</td>\n",
       "      <td>0.0</td>\n",
       "      <td>0.0</td>\n",
       "      <td>0.041667</td>\n",
       "      <td>...</td>\n",
       "      <td>0.0</td>\n",
       "      <td>0.0</td>\n",
       "      <td>0.0</td>\n",
       "      <td>0.0</td>\n",
       "      <td>0.0</td>\n",
       "      <td>0.0</td>\n",
       "      <td>0.0</td>\n",
       "      <td>0.0</td>\n",
       "      <td>0.0</td>\n",
       "      <td>0.0</td>\n",
       "    </tr>\n",
       "  </tbody>\n",
       "</table>\n",
       "<p>5 rows × 268 columns</p>\n",
       "</div>"
      ],
      "text/plain": [
       "                                      Neighborhood  Accessories Store  \\\n",
       "0                                        Agincourt                0.0   \n",
       "1                           Alderwood, Long Branch                0.0   \n",
       "2  Bathurst Manor, Wilson Heights, Downsview North                0.0   \n",
       "3                                  Bayview Village                0.0   \n",
       "4                Bedford Park, Lawrence Manor East                0.0   \n",
       "\n",
       "   Afghan Restaurant  Airport  Airport Food Court  Airport Gate  \\\n",
       "0                0.0      0.0                 0.0           0.0   \n",
       "1                0.0      0.0                 0.0           0.0   \n",
       "2                0.0      0.0                 0.0           0.0   \n",
       "3                0.0      0.0                 0.0           0.0   \n",
       "4                0.0      0.0                 0.0           0.0   \n",
       "\n",
       "   Airport Lounge  Airport Service  Airport Terminal  American Restaurant  \\\n",
       "0             0.0              0.0               0.0             0.000000   \n",
       "1             0.0              0.0               0.0             0.000000   \n",
       "2             0.0              0.0               0.0             0.000000   \n",
       "3             0.0              0.0               0.0             0.000000   \n",
       "4             0.0              0.0               0.0             0.041667   \n",
       "\n",
       "   ...  Vegetarian / Vegan Restaurant  Video Game Store  Video Store  \\\n",
       "0  ...                            0.0               0.0          0.0   \n",
       "1  ...                            0.0               0.0          0.0   \n",
       "2  ...                            0.0               0.0          0.0   \n",
       "3  ...                            0.0               0.0          0.0   \n",
       "4  ...                            0.0               0.0          0.0   \n",
       "\n",
       "   Vietnamese Restaurant  Warehouse Store  Wine Bar  Wine Shop  Wings Joint  \\\n",
       "0                    0.0              0.0       0.0        0.0          0.0   \n",
       "1                    0.0              0.0       0.0        0.0          0.0   \n",
       "2                    0.0              0.0       0.0        0.0          0.0   \n",
       "3                    0.0              0.0       0.0        0.0          0.0   \n",
       "4                    0.0              0.0       0.0        0.0          0.0   \n",
       "\n",
       "   Women's Store  Yoga Studio  \n",
       "0            0.0          0.0  \n",
       "1            0.0          0.0  \n",
       "2            0.0          0.0  \n",
       "3            0.0          0.0  \n",
       "4            0.0          0.0  \n",
       "\n",
       "[5 rows x 268 columns]"
      ]
     },
     "execution_count": 90,
     "metadata": {},
     "output_type": "execute_result"
    }
   ],
   "source": [
    "grouped = encoded.groupby('Neighborhood').mean().reset_index()\n",
    "grouped.head()"
   ]
  },
  {
   "cell_type": "markdown",
   "metadata": {},
   "source": [
    "#### Let's confirm the new size"
   ]
  },
  {
   "cell_type": "code",
   "execution_count": 91,
   "metadata": {
    "collapsed": false,
    "jupyter": {
     "outputs_hidden": false
    }
   },
   "outputs": [
    {
     "data": {
      "text/plain": [
       "(94, 268)"
      ]
     },
     "execution_count": 91,
     "metadata": {},
     "output_type": "execute_result"
    }
   ],
   "source": [
    "grouped.shape"
   ]
  },
  {
   "cell_type": "markdown",
   "metadata": {},
   "source": [
    "Let's print out the first 5 neighborhoods along with their top 5 most common venue type."
   ]
  },
  {
   "cell_type": "code",
   "execution_count": 129,
   "metadata": {},
   "outputs": [
    {
     "name": "stdout",
     "output_type": "stream",
     "text": [
      "Neighborhood(s): Agincourt\n",
      "                  Venue Type  Freq\n",
      "0             Clothing Store   0.2\n",
      "1  Latin American Restaurant   0.2\n",
      "2             Breakfast Spot   0.2\n",
      "3                     Lounge   0.2\n",
      "4               Skating Rink   0.2\n",
      "\n",
      "Neighborhood(s): Alderwood, Long Branch\n",
      "       Venue Type  Freq\n",
      "0     Pizza Place  0.33\n",
      "1             Gym  0.17\n",
      "2     Coffee Shop  0.17\n",
      "3             Pub  0.17\n",
      "4  Sandwich Place  0.17\n",
      "\n",
      "Neighborhood(s): Bathurst Manor, Wilson Heights, Downsview North\n",
      "         Venue Type  Freq\n",
      "0              Bank  0.10\n",
      "1       Coffee Shop  0.10\n",
      "2          Pharmacy  0.05\n",
      "3  Sushi Restaurant  0.05\n",
      "4       Supermarket  0.05\n",
      "\n",
      "Neighborhood(s): Bayview Village\n",
      "            Venue Type  Freq\n",
      "0  Japanese Restaurant  0.25\n",
      "1                 Bank  0.25\n",
      "2   Chinese Restaurant  0.25\n",
      "3                 Café  0.25\n",
      "4        Movie Theater  0.00\n",
      "\n",
      "Neighborhood(s): Bedford Park, Lawrence Manor East\n",
      "           Venue Type  Freq\n",
      "0         Coffee Shop  0.08\n",
      "1          Restaurant  0.08\n",
      "2      Sandwich Place  0.08\n",
      "3  Italian Restaurant  0.08\n",
      "4          Hobby Shop  0.04\n",
      "\n"
     ]
    }
   ],
   "source": [
    "num_top_venues = 5\n",
    "\n",
    "for neighborhood in grouped['Neighborhood'][0:5]:\n",
    "    print('Neighborhood(s): {}'.format(neighborhood))\n",
    "    temp = grouped[grouped['Neighborhood'] == neighborhood].T.reset_index()\n",
    "    temp.columns = ['Venue Type', 'Freq']\n",
    "    temp = temp.iloc[1:]\n",
    "    temp['Freq'] = temp['Freq'].astype(float)\n",
    "    temp = temp.round({'Freq': 2})\n",
    "    print(temp.sort_values('Freq', ascending=False).reset_index(drop=True).head(num_top_venues))\n",
    "    print()"
   ]
  },
  {
   "cell_type": "markdown",
   "metadata": {},
   "source": [
    "#### Let's put that into a *pandas* dataframe"
   ]
  },
  {
   "cell_type": "markdown",
   "metadata": {},
   "source": [
    "First, let's write a function to sort the venues in descending order."
   ]
  },
  {
   "cell_type": "code",
   "execution_count": 127,
   "metadata": {},
   "outputs": [],
   "source": [
    "def get_common_venues(row, num_top_venues):\n",
    "    categories = row.iloc[1:]\n",
    "    categories_sorted = categories.sort_values(ascending=False)\n",
    "    return categories_sorted.index.values[0:num_top_venues]"
   ]
  },
  {
   "cell_type": "markdown",
   "metadata": {},
   "source": [
    "Now let's create the new dataframe and display the top 10 venues for each neighborhood."
   ]
  },
  {
   "cell_type": "code",
   "execution_count": 94,
   "metadata": {
    "collapsed": false,
    "jupyter": {
     "outputs_hidden": false
    }
   },
   "outputs": [
    {
     "data": {
      "text/html": [
       "<div>\n",
       "<style scoped>\n",
       "    .dataframe tbody tr th:only-of-type {\n",
       "        vertical-align: middle;\n",
       "    }\n",
       "\n",
       "    .dataframe tbody tr th {\n",
       "        vertical-align: top;\n",
       "    }\n",
       "\n",
       "    .dataframe thead th {\n",
       "        text-align: right;\n",
       "    }\n",
       "</style>\n",
       "<table border=\"1\" class=\"dataframe\">\n",
       "  <thead>\n",
       "    <tr style=\"text-align: right;\">\n",
       "      <th></th>\n",
       "      <th>Neighborhood</th>\n",
       "      <th>1st Most Common Venue</th>\n",
       "      <th>2nd Most Common Venue</th>\n",
       "      <th>3rd Most Common Venue</th>\n",
       "      <th>4th Most Common Venue</th>\n",
       "      <th>5th Most Common Venue</th>\n",
       "      <th>6th Most Common Venue</th>\n",
       "      <th>7th Most Common Venue</th>\n",
       "      <th>8th Most Common Venue</th>\n",
       "      <th>9th Most Common Venue</th>\n",
       "      <th>10th Most Common Venue</th>\n",
       "    </tr>\n",
       "  </thead>\n",
       "  <tbody>\n",
       "    <tr>\n",
       "      <th>0</th>\n",
       "      <td>Agincourt</td>\n",
       "      <td>Lounge</td>\n",
       "      <td>Breakfast Spot</td>\n",
       "      <td>Skating Rink</td>\n",
       "      <td>Latin American Restaurant</td>\n",
       "      <td>Clothing Store</td>\n",
       "      <td>Yoga Studio</td>\n",
       "      <td>Doner Restaurant</td>\n",
       "      <td>Diner</td>\n",
       "      <td>Discount Store</td>\n",
       "      <td>Distribution Center</td>\n",
       "    </tr>\n",
       "    <tr>\n",
       "      <th>1</th>\n",
       "      <td>Alderwood, Long Branch</td>\n",
       "      <td>Pizza Place</td>\n",
       "      <td>Sandwich Place</td>\n",
       "      <td>Coffee Shop</td>\n",
       "      <td>Pub</td>\n",
       "      <td>Gym</td>\n",
       "      <td>Airport Gate</td>\n",
       "      <td>Farmers Market</td>\n",
       "      <td>Event Space</td>\n",
       "      <td>Ethiopian Restaurant</td>\n",
       "      <td>Electronics Store</td>\n",
       "    </tr>\n",
       "    <tr>\n",
       "      <th>2</th>\n",
       "      <td>Bathurst Manor, Wilson Heights, Downsview North</td>\n",
       "      <td>Coffee Shop</td>\n",
       "      <td>Bank</td>\n",
       "      <td>Fried Chicken Joint</td>\n",
       "      <td>Shopping Mall</td>\n",
       "      <td>Bridal Shop</td>\n",
       "      <td>Diner</td>\n",
       "      <td>Sandwich Place</td>\n",
       "      <td>Deli / Bodega</td>\n",
       "      <td>Restaurant</td>\n",
       "      <td>Supermarket</td>\n",
       "    </tr>\n",
       "    <tr>\n",
       "      <th>3</th>\n",
       "      <td>Bayview Village</td>\n",
       "      <td>Café</td>\n",
       "      <td>Bank</td>\n",
       "      <td>Japanese Restaurant</td>\n",
       "      <td>Chinese Restaurant</td>\n",
       "      <td>Dim Sum Restaurant</td>\n",
       "      <td>Diner</td>\n",
       "      <td>Discount Store</td>\n",
       "      <td>Distribution Center</td>\n",
       "      <td>Dog Run</td>\n",
       "      <td>Yoga Studio</td>\n",
       "    </tr>\n",
       "    <tr>\n",
       "      <th>4</th>\n",
       "      <td>Bedford Park, Lawrence Manor East</td>\n",
       "      <td>Coffee Shop</td>\n",
       "      <td>Restaurant</td>\n",
       "      <td>Sandwich Place</td>\n",
       "      <td>Italian Restaurant</td>\n",
       "      <td>Pharmacy</td>\n",
       "      <td>Butcher</td>\n",
       "      <td>Juice Bar</td>\n",
       "      <td>Thai Restaurant</td>\n",
       "      <td>Pub</td>\n",
       "      <td>Hobby Shop</td>\n",
       "    </tr>\n",
       "  </tbody>\n",
       "</table>\n",
       "</div>"
      ],
      "text/plain": [
       "                                      Neighborhood 1st Most Common Venue  \\\n",
       "0                                        Agincourt                Lounge   \n",
       "1                           Alderwood, Long Branch           Pizza Place   \n",
       "2  Bathurst Manor, Wilson Heights, Downsview North           Coffee Shop   \n",
       "3                                  Bayview Village                  Café   \n",
       "4                Bedford Park, Lawrence Manor East           Coffee Shop   \n",
       "\n",
       "  2nd Most Common Venue 3rd Most Common Venue      4th Most Common Venue  \\\n",
       "0        Breakfast Spot          Skating Rink  Latin American Restaurant   \n",
       "1        Sandwich Place           Coffee Shop                        Pub   \n",
       "2                  Bank   Fried Chicken Joint              Shopping Mall   \n",
       "3                  Bank   Japanese Restaurant         Chinese Restaurant   \n",
       "4            Restaurant        Sandwich Place         Italian Restaurant   \n",
       "\n",
       "  5th Most Common Venue 6th Most Common Venue 7th Most Common Venue  \\\n",
       "0        Clothing Store           Yoga Studio      Doner Restaurant   \n",
       "1                   Gym          Airport Gate        Farmers Market   \n",
       "2           Bridal Shop                 Diner        Sandwich Place   \n",
       "3    Dim Sum Restaurant                 Diner        Discount Store   \n",
       "4              Pharmacy               Butcher             Juice Bar   \n",
       "\n",
       "  8th Most Common Venue 9th Most Common Venue 10th Most Common Venue  \n",
       "0                 Diner        Discount Store    Distribution Center  \n",
       "1           Event Space  Ethiopian Restaurant      Electronics Store  \n",
       "2         Deli / Bodega            Restaurant            Supermarket  \n",
       "3   Distribution Center               Dog Run            Yoga Studio  \n",
       "4       Thai Restaurant                   Pub             Hobby Shop  "
      ]
     },
     "execution_count": 94,
     "metadata": {},
     "output_type": "execute_result"
    }
   ],
   "source": [
    "num_top_venues = 10\n",
    "\n",
    "indicators = ['st', 'nd', 'rd']\n",
    "\n",
    "# create columns according to number of top venues\n",
    "columns = ['Neighborhood']\n",
    "for ind in np.arange(num_top_venues):\n",
    "    try:\n",
    "        columns.append('{}{} Most Common Venue'.format(ind+1, indicators[ind]))\n",
    "    except:\n",
    "        columns.append('{}th Most Common Venue'.format(ind+1))\n",
    "\n",
    "# create a new dataframe\n",
    "sorted_ = pd.DataFrame(columns=columns)\n",
    "sorted_['Neighborhood'] = grouped['Neighborhood']\n",
    "\n",
    "for ind in np.arange(grouped.shape[0]):\n",
    "    sorted_.iloc[ind, 1:] = get_common_venues(grouped.iloc[ind, :], num_top_venues)\n",
    "\n",
    "sorted_.head()"
   ]
  },
  {
   "cell_type": "markdown",
   "metadata": {},
   "source": [
    "<a id='item4'></a>"
   ]
  },
  {
   "cell_type": "markdown",
   "metadata": {},
   "source": [
    "### k-Means Clustering"
   ]
  },
  {
   "cell_type": "markdown",
   "metadata": {},
   "source": [
    "Cluster the neighborhoods of Toronto with the k-means clustering algorithm."
   ]
  },
  {
   "cell_type": "code",
   "execution_count": 115,
   "metadata": {
    "collapsed": false,
    "jupyter": {
     "outputs_hidden": false
    }
   },
   "outputs": [
    {
     "data": {
      "text/plain": [
       "array([1, 1, 1, 1, 1, 1, 1, 1, 1, 1, 0, 1, 1, 1, 1, 1, 1, 1, 1, 1, 1, 1,\n",
       "       1, 1, 1, 1, 0, 1, 1, 1, 1, 1, 1, 1, 1, 1, 1, 1, 1, 2, 1, 1, 1, 1,\n",
       "       0, 1, 0, 1, 1, 3, 0, 1, 1, 1, 4, 1, 1, 1, 2, 1, 1, 0, 1, 1, 1, 0,\n",
       "       1, 4, 1, 1, 1, 1, 1, 1, 1, 1, 1, 1, 1, 1, 1, 1, 1, 1, 1, 1, 1, 0,\n",
       "       1, 1, 1, 1, 1, 0], dtype=int32)"
      ]
     },
     "execution_count": 115,
     "metadata": {},
     "output_type": "execute_result"
    }
   ],
   "source": [
    "# Number of clusters\n",
    "k = 5\n",
    "\n",
    "# Train the model\n",
    "k_means = KMeans(n_clusters=k, random_state=0).fit(grouped.drop('Neighborhood', axis='columns'))\n",
    "\n",
    "# Check out the cluster labels generated for each row in the data frame\n",
    "k_means.labels_"
   ]
  },
  {
   "cell_type": "code",
   "execution_count": 116,
   "metadata": {},
   "outputs": [
    {
     "ename": "ValueError",
     "evalue": "cannot insert Cluster Label, already exists",
     "output_type": "error",
     "traceback": [
      "\u001b[0;31m---------------------------------------------------------------------------\u001b[0m",
      "\u001b[0;31mValueError\u001b[0m                                Traceback (most recent call last)",
      "\u001b[0;32m<ipython-input-116-78b508a39544>\u001b[0m in \u001b[0;36m<module>\u001b[0;34m\u001b[0m\n\u001b[1;32m      1\u001b[0m \u001b[0;31m# Add cluster labels to the data frame\u001b[0m\u001b[0;34m\u001b[0m\u001b[0;34m\u001b[0m\u001b[0;34m\u001b[0m\u001b[0m\n\u001b[0;32m----> 2\u001b[0;31m \u001b[0msorted_\u001b[0m\u001b[0;34m.\u001b[0m\u001b[0minsert\u001b[0m\u001b[0;34m(\u001b[0m\u001b[0mloc\u001b[0m\u001b[0;34m=\u001b[0m\u001b[0;36m0\u001b[0m\u001b[0;34m,\u001b[0m \u001b[0mcolumn\u001b[0m\u001b[0;34m=\u001b[0m\u001b[0;34m'Cluster Label'\u001b[0m\u001b[0;34m,\u001b[0m \u001b[0mvalue\u001b[0m\u001b[0;34m=\u001b[0m\u001b[0mk_means\u001b[0m\u001b[0;34m.\u001b[0m\u001b[0mlabels_\u001b[0m\u001b[0;34m)\u001b[0m\u001b[0;34m\u001b[0m\u001b[0;34m\u001b[0m\u001b[0m\n\u001b[0m",
      "\u001b[0;32m/usr/lib/python3.8/site-packages/pandas/core/frame.py\u001b[0m in \u001b[0;36minsert\u001b[0;34m(self, loc, column, value, allow_duplicates)\u001b[0m\n\u001b[1;32m   3494\u001b[0m         \u001b[0mself\u001b[0m\u001b[0;34m.\u001b[0m\u001b[0m_ensure_valid_index\u001b[0m\u001b[0;34m(\u001b[0m\u001b[0mvalue\u001b[0m\u001b[0;34m)\u001b[0m\u001b[0;34m\u001b[0m\u001b[0;34m\u001b[0m\u001b[0m\n\u001b[1;32m   3495\u001b[0m         \u001b[0mvalue\u001b[0m \u001b[0;34m=\u001b[0m \u001b[0mself\u001b[0m\u001b[0;34m.\u001b[0m\u001b[0m_sanitize_column\u001b[0m\u001b[0;34m(\u001b[0m\u001b[0mcolumn\u001b[0m\u001b[0;34m,\u001b[0m \u001b[0mvalue\u001b[0m\u001b[0;34m,\u001b[0m \u001b[0mbroadcast\u001b[0m\u001b[0;34m=\u001b[0m\u001b[0;32mFalse\u001b[0m\u001b[0;34m)\u001b[0m\u001b[0;34m\u001b[0m\u001b[0;34m\u001b[0m\u001b[0m\n\u001b[0;32m-> 3496\u001b[0;31m         \u001b[0mself\u001b[0m\u001b[0;34m.\u001b[0m\u001b[0m_data\u001b[0m\u001b[0;34m.\u001b[0m\u001b[0minsert\u001b[0m\u001b[0;34m(\u001b[0m\u001b[0mloc\u001b[0m\u001b[0;34m,\u001b[0m \u001b[0mcolumn\u001b[0m\u001b[0;34m,\u001b[0m \u001b[0mvalue\u001b[0m\u001b[0;34m,\u001b[0m \u001b[0mallow_duplicates\u001b[0m\u001b[0;34m=\u001b[0m\u001b[0mallow_duplicates\u001b[0m\u001b[0;34m)\u001b[0m\u001b[0;34m\u001b[0m\u001b[0;34m\u001b[0m\u001b[0m\n\u001b[0m\u001b[1;32m   3497\u001b[0m \u001b[0;34m\u001b[0m\u001b[0m\n\u001b[1;32m   3498\u001b[0m     \u001b[0;32mdef\u001b[0m \u001b[0massign\u001b[0m\u001b[0;34m(\u001b[0m\u001b[0mself\u001b[0m\u001b[0;34m,\u001b[0m \u001b[0;34m**\u001b[0m\u001b[0mkwargs\u001b[0m\u001b[0;34m)\u001b[0m \u001b[0;34m->\u001b[0m \u001b[0;34m\"DataFrame\"\u001b[0m\u001b[0;34m:\u001b[0m\u001b[0;34m\u001b[0m\u001b[0;34m\u001b[0m\u001b[0m\n",
      "\u001b[0;32m/usr/lib/python3.8/site-packages/pandas/core/internals/managers.py\u001b[0m in \u001b[0;36minsert\u001b[0;34m(self, loc, item, value, allow_duplicates)\u001b[0m\n\u001b[1;32m   1171\u001b[0m         \u001b[0;32mif\u001b[0m \u001b[0;32mnot\u001b[0m \u001b[0mallow_duplicates\u001b[0m \u001b[0;32mand\u001b[0m \u001b[0mitem\u001b[0m \u001b[0;32min\u001b[0m \u001b[0mself\u001b[0m\u001b[0;34m.\u001b[0m\u001b[0mitems\u001b[0m\u001b[0;34m:\u001b[0m\u001b[0;34m\u001b[0m\u001b[0;34m\u001b[0m\u001b[0m\n\u001b[1;32m   1172\u001b[0m             \u001b[0;31m# Should this be a different kind of error??\u001b[0m\u001b[0;34m\u001b[0m\u001b[0;34m\u001b[0m\u001b[0;34m\u001b[0m\u001b[0m\n\u001b[0;32m-> 1173\u001b[0;31m             \u001b[0;32mraise\u001b[0m \u001b[0mValueError\u001b[0m\u001b[0;34m(\u001b[0m\u001b[0;34mf\"cannot insert {item}, already exists\"\u001b[0m\u001b[0;34m)\u001b[0m\u001b[0;34m\u001b[0m\u001b[0;34m\u001b[0m\u001b[0m\n\u001b[0m\u001b[1;32m   1174\u001b[0m \u001b[0;34m\u001b[0m\u001b[0m\n\u001b[1;32m   1175\u001b[0m         \u001b[0;32mif\u001b[0m \u001b[0;32mnot\u001b[0m \u001b[0misinstance\u001b[0m\u001b[0;34m(\u001b[0m\u001b[0mloc\u001b[0m\u001b[0;34m,\u001b[0m \u001b[0mint\u001b[0m\u001b[0;34m)\u001b[0m\u001b[0;34m:\u001b[0m\u001b[0;34m\u001b[0m\u001b[0;34m\u001b[0m\u001b[0m\n",
      "\u001b[0;31mValueError\u001b[0m: cannot insert Cluster Label, already exists"
     ]
    }
   ],
   "source": [
    "# Add cluster labels to the data frame\n",
    "sorted_.insert(loc=0, column='Cluster Label', value=k_means.labels_)"
   ]
  },
  {
   "cell_type": "markdown",
   "metadata": {},
   "source": [
    "Let's create a new dataframe that includes the cluster as well as the top 10 venues for each neighborhood"
   ]
  },
  {
   "cell_type": "code",
   "execution_count": 121,
   "metadata": {
    "collapsed": false,
    "jupyter": {
     "outputs_hidden": false
    }
   },
   "outputs": [
    {
     "data": {
      "text/html": [
       "<div>\n",
       "<style scoped>\n",
       "    .dataframe tbody tr th:only-of-type {\n",
       "        vertical-align: middle;\n",
       "    }\n",
       "\n",
       "    .dataframe tbody tr th {\n",
       "        vertical-align: top;\n",
       "    }\n",
       "\n",
       "    .dataframe thead th {\n",
       "        text-align: right;\n",
       "    }\n",
       "</style>\n",
       "<table border=\"1\" class=\"dataframe\">\n",
       "  <thead>\n",
       "    <tr style=\"text-align: right;\">\n",
       "      <th></th>\n",
       "      <th>Postal Code</th>\n",
       "      <th>Borough</th>\n",
       "      <th>Neighborhood</th>\n",
       "      <th>Latitude</th>\n",
       "      <th>Longitude</th>\n",
       "      <th>Cluster Label</th>\n",
       "      <th>1st Most Common Venue</th>\n",
       "      <th>2nd Most Common Venue</th>\n",
       "      <th>3rd Most Common Venue</th>\n",
       "      <th>4th Most Common Venue</th>\n",
       "      <th>5th Most Common Venue</th>\n",
       "      <th>6th Most Common Venue</th>\n",
       "      <th>7th Most Common Venue</th>\n",
       "      <th>8th Most Common Venue</th>\n",
       "      <th>9th Most Common Venue</th>\n",
       "      <th>10th Most Common Venue</th>\n",
       "    </tr>\n",
       "  </thead>\n",
       "  <tbody>\n",
       "    <tr>\n",
       "      <th>0</th>\n",
       "      <td>M3A</td>\n",
       "      <td>North York</td>\n",
       "      <td>Parkwoods</td>\n",
       "      <td>43.753259</td>\n",
       "      <td>-79.329656</td>\n",
       "      <td>0</td>\n",
       "      <td>Food &amp; Drink Shop</td>\n",
       "      <td>Park</td>\n",
       "      <td>Yoga Studio</td>\n",
       "      <td>Dim Sum Restaurant</td>\n",
       "      <td>Diner</td>\n",
       "      <td>Discount Store</td>\n",
       "      <td>Distribution Center</td>\n",
       "      <td>Dog Run</td>\n",
       "      <td>Doner Restaurant</td>\n",
       "      <td>Donut Shop</td>\n",
       "    </tr>\n",
       "    <tr>\n",
       "      <th>1</th>\n",
       "      <td>M4A</td>\n",
       "      <td>North York</td>\n",
       "      <td>Victoria Village</td>\n",
       "      <td>43.725882</td>\n",
       "      <td>-79.315572</td>\n",
       "      <td>1</td>\n",
       "      <td>Hockey Arena</td>\n",
       "      <td>Coffee Shop</td>\n",
       "      <td>Portuguese Restaurant</td>\n",
       "      <td>Intersection</td>\n",
       "      <td>Electronics Store</td>\n",
       "      <td>Ethiopian Restaurant</td>\n",
       "      <td>Eastern European Restaurant</td>\n",
       "      <td>Event Space</td>\n",
       "      <td>Drugstore</td>\n",
       "      <td>Department Store</td>\n",
       "    </tr>\n",
       "    <tr>\n",
       "      <th>2</th>\n",
       "      <td>M5A</td>\n",
       "      <td>Downtown Toronto</td>\n",
       "      <td>Regent Park, Harbourfront</td>\n",
       "      <td>43.654260</td>\n",
       "      <td>-79.360636</td>\n",
       "      <td>1</td>\n",
       "      <td>Coffee Shop</td>\n",
       "      <td>Park</td>\n",
       "      <td>Pub</td>\n",
       "      <td>Bakery</td>\n",
       "      <td>Breakfast Spot</td>\n",
       "      <td>Café</td>\n",
       "      <td>Theater</td>\n",
       "      <td>Farmers Market</td>\n",
       "      <td>Restaurant</td>\n",
       "      <td>Distribution Center</td>\n",
       "    </tr>\n",
       "    <tr>\n",
       "      <th>3</th>\n",
       "      <td>M6A</td>\n",
       "      <td>North York</td>\n",
       "      <td>Lawrence Manor, Lawrence Heights</td>\n",
       "      <td>43.718518</td>\n",
       "      <td>-79.464763</td>\n",
       "      <td>1</td>\n",
       "      <td>Clothing Store</td>\n",
       "      <td>Furniture / Home Store</td>\n",
       "      <td>Accessories Store</td>\n",
       "      <td>Boutique</td>\n",
       "      <td>Event Space</td>\n",
       "      <td>Vietnamese Restaurant</td>\n",
       "      <td>Coffee Shop</td>\n",
       "      <td>Carpet Store</td>\n",
       "      <td>Miscellaneous Shop</td>\n",
       "      <td>Distribution Center</td>\n",
       "    </tr>\n",
       "    <tr>\n",
       "      <th>4</th>\n",
       "      <td>M7A</td>\n",
       "      <td>Downtown Toronto</td>\n",
       "      <td>Queen's Park, Ontario Provincial Government</td>\n",
       "      <td>43.662301</td>\n",
       "      <td>-79.389494</td>\n",
       "      <td>1</td>\n",
       "      <td>Coffee Shop</td>\n",
       "      <td>Sushi Restaurant</td>\n",
       "      <td>Diner</td>\n",
       "      <td>Park</td>\n",
       "      <td>Bar</td>\n",
       "      <td>Beer Bar</td>\n",
       "      <td>Smoothie Shop</td>\n",
       "      <td>Sandwich Place</td>\n",
       "      <td>Burrito Place</td>\n",
       "      <td>Café</td>\n",
       "    </tr>\n",
       "  </tbody>\n",
       "</table>\n",
       "</div>"
      ],
      "text/plain": [
       "  Postal Code           Borough                                 Neighborhood  \\\n",
       "0         M3A        North York                                    Parkwoods   \n",
       "1         M4A        North York                             Victoria Village   \n",
       "2         M5A  Downtown Toronto                    Regent Park, Harbourfront   \n",
       "3         M6A        North York             Lawrence Manor, Lawrence Heights   \n",
       "4         M7A  Downtown Toronto  Queen's Park, Ontario Provincial Government   \n",
       "\n",
       "    Latitude  Longitude  Cluster Label 1st Most Common Venue  \\\n",
       "0  43.753259 -79.329656              0     Food & Drink Shop   \n",
       "1  43.725882 -79.315572              1          Hockey Arena   \n",
       "2  43.654260 -79.360636              1           Coffee Shop   \n",
       "3  43.718518 -79.464763              1        Clothing Store   \n",
       "4  43.662301 -79.389494              1           Coffee Shop   \n",
       "\n",
       "    2nd Most Common Venue  3rd Most Common Venue 4th Most Common Venue  \\\n",
       "0                    Park            Yoga Studio    Dim Sum Restaurant   \n",
       "1             Coffee Shop  Portuguese Restaurant          Intersection   \n",
       "2                    Park                    Pub                Bakery   \n",
       "3  Furniture / Home Store      Accessories Store              Boutique   \n",
       "4        Sushi Restaurant                  Diner                  Park   \n",
       "\n",
       "  5th Most Common Venue  6th Most Common Venue        7th Most Common Venue  \\\n",
       "0                 Diner         Discount Store          Distribution Center   \n",
       "1     Electronics Store   Ethiopian Restaurant  Eastern European Restaurant   \n",
       "2        Breakfast Spot                   Café                      Theater   \n",
       "3           Event Space  Vietnamese Restaurant                  Coffee Shop   \n",
       "4                   Bar               Beer Bar                Smoothie Shop   \n",
       "\n",
       "  8th Most Common Venue 9th Most Common Venue 10th Most Common Venue  \n",
       "0               Dog Run      Doner Restaurant             Donut Shop  \n",
       "1           Event Space             Drugstore       Department Store  \n",
       "2        Farmers Market            Restaurant    Distribution Center  \n",
       "3          Carpet Store    Miscellaneous Shop    Distribution Center  \n",
       "4        Sandwich Place         Burrito Place                   Café  "
      ]
     },
     "execution_count": 121,
     "metadata": {},
     "output_type": "execute_result"
    }
   ],
   "source": [
    "# Merged grouped with neighborhoods to add latitude/longitude for each neighborhood\n",
    "merged = neighborhoods\n",
    "merged = merged.join(sorted_.set_index('Neighborhood'), on='Neighborhood')\n",
    "\n",
    "# Drop NaN rows and cast float to int in the 'Cluster Label' column\n",
    "merged.dropna(axis='index', inplace=True)\n",
    "merged['Cluster Label'] = merged['Cluster Label'].astype(int)\n",
    "\n",
    "merged.head()"
   ]
  },
  {
   "cell_type": "markdown",
   "metadata": {},
   "source": [
    "### Cluster Visualization"
   ]
  },
  {
   "cell_type": "code",
   "execution_count": 135,
   "metadata": {
    "collapsed": false,
    "jupyter": {
     "outputs_hidden": false
    }
   },
   "outputs": [],
   "source": [
    "# Create an empty map centered on Toronto\n",
    "clusters_map = folium.Map(location=[latitude, longitude], zoom_start=11)"
   ]
  },
  {
   "cell_type": "code",
   "execution_count": 136,
   "metadata": {},
   "outputs": [],
   "source": [
    "# Set the colorscheme for the clusters\n",
    "x = np.arange(k)\n",
    "ys = [i + x + (i*x)**2 for i in range(k)]\n",
    "colors_array = cm.rainbow(np.linspace(0, 1, len(ys)))\n",
    "rainbow = [colors.rgb2hex(i) for i in colors_array]"
   ]
  },
  {
   "cell_type": "code",
   "execution_count": 137,
   "metadata": {},
   "outputs": [],
   "source": [
    "# Add markers to the map\n",
    "markers_colors = []\n",
    "for latitude, lonclusters_mapum.Popup(str(poi) + ' Cluster ' + str(cluster), parse_html=True)\n",
    "    folium.CircleMarker(\n",
    "        [latitude, longitude],\n",
    "        radius=5,\n",
    "        popup=label,\n",
    "        color=rainbow[cluster-1],\n",
    "        fill=True,\n",
    "        fill_color=rainbow[cluster-1],\n",
    "        fill_opacity=0.7).add_to(clusters_map)"
   ]
  },
  {
   "cell_type": "markdown",
   "metadata": {},
   "source": [
    "<a id='item5'></a>"
   ]
  },
  {
   "cell_type": "code",
   "execution_count": 138,
   "metadata": {},
   "outputs": [
    {
     "data": {
      "text/html": [
       "<div style=\"width:100%;\"><div style=\"position:relative;width:100%;height:0;padding-bottom:60%;\"><iframe src=\"about:blank\" style=\"position:absolute;width:100%;height:100%;left:0;top:0;border:none !important;\" data-html=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 onload=\"this.contentDocument.open();this.contentDocument.write(atob(this.getAttribute('data-html')));this.contentDocument.close();\" allowfullscreen webkitallowfullscreen mozallowfullscreen></iframe></div></div>"
      ],
      "text/plain": [
       "<folium.folium.Map at 0x7f93d4ba1d60>"
      ]
     },
     "execution_count": 138,
     "metadata": {},
     "output_type": "execute_result"
    }
   ],
   "source": [
    "clusters_map"
   ]
  },
  {
   "cell_type": "markdown",
   "metadata": {},
   "source": [
    "### Examine Clusters"
   ]
  },
  {
   "cell_type": "markdown",
   "metadata": {},
   "source": [
    "#### First Cluster"
   ]
  },
  {
   "cell_type": "code",
   "execution_count": 101,
   "metadata": {
    "collapsed": false,
    "jupyter": {
     "outputs_hidden": false
    }
   },
   "outputs": [
    {
     "data": {
      "text/html": [
       "<div>\n",
       "<style scoped>\n",
       "    .dataframe tbody tr th:only-of-type {\n",
       "        vertical-align: middle;\n",
       "    }\n",
       "\n",
       "    .dataframe tbody tr th {\n",
       "        vertical-align: top;\n",
       "    }\n",
       "\n",
       "    .dataframe thead th {\n",
       "        text-align: right;\n",
       "    }\n",
       "</style>\n",
       "<table border=\"1\" class=\"dataframe\">\n",
       "  <thead>\n",
       "    <tr style=\"text-align: right;\">\n",
       "      <th></th>\n",
       "      <th>Borough</th>\n",
       "      <th>Cluster Label</th>\n",
       "      <th>1st Most Common Venue</th>\n",
       "      <th>2nd Most Common Venue</th>\n",
       "      <th>3rd Most Common Venue</th>\n",
       "      <th>4th Most Common Venue</th>\n",
       "      <th>5th Most Common Venue</th>\n",
       "      <th>6th Most Common Venue</th>\n",
       "      <th>7th Most Common Venue</th>\n",
       "      <th>8th Most Common Venue</th>\n",
       "      <th>9th Most Common Venue</th>\n",
       "      <th>10th Most Common Venue</th>\n",
       "    </tr>\n",
       "  </thead>\n",
       "  <tbody>\n",
       "    <tr>\n",
       "      <th>0</th>\n",
       "      <td>North York</td>\n",
       "      <td>0</td>\n",
       "      <td>Food &amp; Drink Shop</td>\n",
       "      <td>Park</td>\n",
       "      <td>Yoga Studio</td>\n",
       "      <td>Dim Sum Restaurant</td>\n",
       "      <td>Diner</td>\n",
       "      <td>Discount Store</td>\n",
       "      <td>Distribution Center</td>\n",
       "      <td>Dog Run</td>\n",
       "      <td>Doner Restaurant</td>\n",
       "      <td>Donut Shop</td>\n",
       "    </tr>\n",
       "    <tr>\n",
       "      <th>21</th>\n",
       "      <td>York</td>\n",
       "      <td>0</td>\n",
       "      <td>Park</td>\n",
       "      <td>Women's Store</td>\n",
       "      <td>Pool</td>\n",
       "      <td>Yoga Studio</td>\n",
       "      <td>Dog Run</td>\n",
       "      <td>Dessert Shop</td>\n",
       "      <td>Dim Sum Restaurant</td>\n",
       "      <td>Diner</td>\n",
       "      <td>Discount Store</td>\n",
       "      <td>Distribution Center</td>\n",
       "    </tr>\n",
       "    <tr>\n",
       "      <th>35</th>\n",
       "      <td>East York</td>\n",
       "      <td>0</td>\n",
       "      <td>Park</td>\n",
       "      <td>Pizza Place</td>\n",
       "      <td>Convenience Store</td>\n",
       "      <td>Dessert Shop</td>\n",
       "      <td>Dim Sum Restaurant</td>\n",
       "      <td>Diner</td>\n",
       "      <td>Discount Store</td>\n",
       "      <td>Distribution Center</td>\n",
       "      <td>Dog Run</td>\n",
       "      <td>Doner Restaurant</td>\n",
       "    </tr>\n",
       "    <tr>\n",
       "      <th>61</th>\n",
       "      <td>Central Toronto</td>\n",
       "      <td>0</td>\n",
       "      <td>Park</td>\n",
       "      <td>Bus Line</td>\n",
       "      <td>Swim School</td>\n",
       "      <td>Yoga Studio</td>\n",
       "      <td>Dog Run</td>\n",
       "      <td>Dim Sum Restaurant</td>\n",
       "      <td>Diner</td>\n",
       "      <td>Discount Store</td>\n",
       "      <td>Distribution Center</td>\n",
       "      <td>Doner Restaurant</td>\n",
       "    </tr>\n",
       "    <tr>\n",
       "      <th>64</th>\n",
       "      <td>York</td>\n",
       "      <td>0</td>\n",
       "      <td>Convenience Store</td>\n",
       "      <td>Park</td>\n",
       "      <td>Donut Shop</td>\n",
       "      <td>Dim Sum Restaurant</td>\n",
       "      <td>Diner</td>\n",
       "      <td>Discount Store</td>\n",
       "      <td>Distribution Center</td>\n",
       "      <td>Dog Run</td>\n",
       "      <td>Doner Restaurant</td>\n",
       "      <td>Yoga Studio</td>\n",
       "    </tr>\n",
       "    <tr>\n",
       "      <th>66</th>\n",
       "      <td>North York</td>\n",
       "      <td>0</td>\n",
       "      <td>Convenience Store</td>\n",
       "      <td>Park</td>\n",
       "      <td>Donut Shop</td>\n",
       "      <td>Dim Sum Restaurant</td>\n",
       "      <td>Diner</td>\n",
       "      <td>Discount Store</td>\n",
       "      <td>Distribution Center</td>\n",
       "      <td>Dog Run</td>\n",
       "      <td>Doner Restaurant</td>\n",
       "      <td>Yoga Studio</td>\n",
       "    </tr>\n",
       "    <tr>\n",
       "      <th>77</th>\n",
       "      <td>Etobicoke</td>\n",
       "      <td>0</td>\n",
       "      <td>Sandwich Place</td>\n",
       "      <td>Park</td>\n",
       "      <td>Mobile Phone Shop</td>\n",
       "      <td>Yoga Studio</td>\n",
       "      <td>Dog Run</td>\n",
       "      <td>Dim Sum Restaurant</td>\n",
       "      <td>Diner</td>\n",
       "      <td>Discount Store</td>\n",
       "      <td>Distribution Center</td>\n",
       "      <td>Doner Restaurant</td>\n",
       "    </tr>\n",
       "    <tr>\n",
       "      <th>85</th>\n",
       "      <td>Scarborough</td>\n",
       "      <td>0</td>\n",
       "      <td>Playground</td>\n",
       "      <td>Park</td>\n",
       "      <td>Yoga Studio</td>\n",
       "      <td>Dog Run</td>\n",
       "      <td>Dessert Shop</td>\n",
       "      <td>Dim Sum Restaurant</td>\n",
       "      <td>Diner</td>\n",
       "      <td>Discount Store</td>\n",
       "      <td>Distribution Center</td>\n",
       "      <td>Donut Shop</td>\n",
       "    </tr>\n",
       "    <tr>\n",
       "      <th>91</th>\n",
       "      <td>Downtown Toronto</td>\n",
       "      <td>0</td>\n",
       "      <td>Park</td>\n",
       "      <td>Playground</td>\n",
       "      <td>Trail</td>\n",
       "      <td>Yoga Studio</td>\n",
       "      <td>Dog Run</td>\n",
       "      <td>Dessert Shop</td>\n",
       "      <td>Dim Sum Restaurant</td>\n",
       "      <td>Diner</td>\n",
       "      <td>Discount Store</td>\n",
       "      <td>Distribution Center</td>\n",
       "    </tr>\n",
       "  </tbody>\n",
       "</table>\n",
       "</div>"
      ],
      "text/plain": [
       "             Borough  Cluster Label 1st Most Common Venue  \\\n",
       "0         North York              0     Food & Drink Shop   \n",
       "21              York              0                  Park   \n",
       "35         East York              0                  Park   \n",
       "61   Central Toronto              0                  Park   \n",
       "64              York              0     Convenience Store   \n",
       "66        North York              0     Convenience Store   \n",
       "77         Etobicoke              0        Sandwich Place   \n",
       "85       Scarborough              0            Playground   \n",
       "91  Downtown Toronto              0                  Park   \n",
       "\n",
       "   2nd Most Common Venue 3rd Most Common Venue 4th Most Common Venue  \\\n",
       "0                   Park           Yoga Studio    Dim Sum Restaurant   \n",
       "21         Women's Store                  Pool           Yoga Studio   \n",
       "35           Pizza Place     Convenience Store          Dessert Shop   \n",
       "61              Bus Line           Swim School           Yoga Studio   \n",
       "64                  Park            Donut Shop    Dim Sum Restaurant   \n",
       "66                  Park            Donut Shop    Dim Sum Restaurant   \n",
       "77                  Park     Mobile Phone Shop           Yoga Studio   \n",
       "85                  Park           Yoga Studio               Dog Run   \n",
       "91            Playground                 Trail           Yoga Studio   \n",
       "\n",
       "   5th Most Common Venue 6th Most Common Venue 7th Most Common Venue  \\\n",
       "0                  Diner        Discount Store   Distribution Center   \n",
       "21               Dog Run          Dessert Shop    Dim Sum Restaurant   \n",
       "35    Dim Sum Restaurant                 Diner        Discount Store   \n",
       "61               Dog Run    Dim Sum Restaurant                 Diner   \n",
       "64                 Diner        Discount Store   Distribution Center   \n",
       "66                 Diner        Discount Store   Distribution Center   \n",
       "77               Dog Run    Dim Sum Restaurant                 Diner   \n",
       "85          Dessert Shop    Dim Sum Restaurant                 Diner   \n",
       "91               Dog Run          Dessert Shop    Dim Sum Restaurant   \n",
       "\n",
       "   8th Most Common Venue 9th Most Common Venue 10th Most Common Venue  \n",
       "0                Dog Run      Doner Restaurant             Donut Shop  \n",
       "21                 Diner        Discount Store    Distribution Center  \n",
       "35   Distribution Center               Dog Run       Doner Restaurant  \n",
       "61        Discount Store   Distribution Center       Doner Restaurant  \n",
       "64               Dog Run      Doner Restaurant            Yoga Studio  \n",
       "66               Dog Run      Doner Restaurant            Yoga Studio  \n",
       "77        Discount Store   Distribution Center       Doner Restaurant  \n",
       "85        Discount Store   Distribution Center             Donut Shop  \n",
       "91                 Diner        Discount Store    Distribution Center  "
      ]
     },
     "execution_count": 101,
     "metadata": {},
     "output_type": "execute_result"
    }
   ],
   "source": [
    "merged.loc[merged['Cluster Label'] == 0, merged.columns[[1] + list(range(5, merged.shape[1]))]]"
   ]
  },
  {
   "cell_type": "markdown",
   "metadata": {},
   "source": [
    "### Second Cluster"
   ]
  },
  {
   "cell_type": "code",
   "execution_count": 102,
   "metadata": {
    "collapsed": false,
    "jupyter": {
     "outputs_hidden": false
    }
   },
   "outputs": [
    {
     "data": {
      "text/html": [
       "<div>\n",
       "<style scoped>\n",
       "    .dataframe tbody tr th:only-of-type {\n",
       "        vertical-align: middle;\n",
       "    }\n",
       "\n",
       "    .dataframe tbody tr th {\n",
       "        vertical-align: top;\n",
       "    }\n",
       "\n",
       "    .dataframe thead th {\n",
       "        text-align: right;\n",
       "    }\n",
       "</style>\n",
       "<table border=\"1\" class=\"dataframe\">\n",
       "  <thead>\n",
       "    <tr style=\"text-align: right;\">\n",
       "      <th></th>\n",
       "      <th>Borough</th>\n",
       "      <th>Cluster Label</th>\n",
       "      <th>1st Most Common Venue</th>\n",
       "      <th>2nd Most Common Venue</th>\n",
       "      <th>3rd Most Common Venue</th>\n",
       "      <th>4th Most Common Venue</th>\n",
       "      <th>5th Most Common Venue</th>\n",
       "      <th>6th Most Common Venue</th>\n",
       "      <th>7th Most Common Venue</th>\n",
       "      <th>8th Most Common Venue</th>\n",
       "      <th>9th Most Common Venue</th>\n",
       "      <th>10th Most Common Venue</th>\n",
       "    </tr>\n",
       "  </thead>\n",
       "  <tbody>\n",
       "    <tr>\n",
       "      <th>1</th>\n",
       "      <td>North York</td>\n",
       "      <td>1</td>\n",
       "      <td>Hockey Arena</td>\n",
       "      <td>Coffee Shop</td>\n",
       "      <td>Portuguese Restaurant</td>\n",
       "      <td>Intersection</td>\n",
       "      <td>Electronics Store</td>\n",
       "      <td>Ethiopian Restaurant</td>\n",
       "      <td>Eastern European Restaurant</td>\n",
       "      <td>Event Space</td>\n",
       "      <td>Drugstore</td>\n",
       "      <td>Department Store</td>\n",
       "    </tr>\n",
       "    <tr>\n",
       "      <th>2</th>\n",
       "      <td>Downtown Toronto</td>\n",
       "      <td>1</td>\n",
       "      <td>Coffee Shop</td>\n",
       "      <td>Park</td>\n",
       "      <td>Pub</td>\n",
       "      <td>Bakery</td>\n",
       "      <td>Breakfast Spot</td>\n",
       "      <td>Café</td>\n",
       "      <td>Theater</td>\n",
       "      <td>Farmers Market</td>\n",
       "      <td>Restaurant</td>\n",
       "      <td>Distribution Center</td>\n",
       "    </tr>\n",
       "    <tr>\n",
       "      <th>3</th>\n",
       "      <td>North York</td>\n",
       "      <td>1</td>\n",
       "      <td>Clothing Store</td>\n",
       "      <td>Furniture / Home Store</td>\n",
       "      <td>Accessories Store</td>\n",
       "      <td>Boutique</td>\n",
       "      <td>Event Space</td>\n",
       "      <td>Vietnamese Restaurant</td>\n",
       "      <td>Coffee Shop</td>\n",
       "      <td>Carpet Store</td>\n",
       "      <td>Miscellaneous Shop</td>\n",
       "      <td>Distribution Center</td>\n",
       "    </tr>\n",
       "    <tr>\n",
       "      <th>4</th>\n",
       "      <td>Downtown Toronto</td>\n",
       "      <td>1</td>\n",
       "      <td>Coffee Shop</td>\n",
       "      <td>Sushi Restaurant</td>\n",
       "      <td>Diner</td>\n",
       "      <td>Park</td>\n",
       "      <td>Bar</td>\n",
       "      <td>Beer Bar</td>\n",
       "      <td>Smoothie Shop</td>\n",
       "      <td>Sandwich Place</td>\n",
       "      <td>Burrito Place</td>\n",
       "      <td>Café</td>\n",
       "    </tr>\n",
       "    <tr>\n",
       "      <th>7</th>\n",
       "      <td>North York</td>\n",
       "      <td>1</td>\n",
       "      <td>Gym</td>\n",
       "      <td>Beer Store</td>\n",
       "      <td>Japanese Restaurant</td>\n",
       "      <td>Restaurant</td>\n",
       "      <td>Coffee Shop</td>\n",
       "      <td>Asian Restaurant</td>\n",
       "      <td>Athletics &amp; Sports</td>\n",
       "      <td>Sandwich Place</td>\n",
       "      <td>Bike Shop</td>\n",
       "      <td>Sporting Goods Shop</td>\n",
       "    </tr>\n",
       "    <tr>\n",
       "      <th>...</th>\n",
       "      <td>...</td>\n",
       "      <td>...</td>\n",
       "      <td>...</td>\n",
       "      <td>...</td>\n",
       "      <td>...</td>\n",
       "      <td>...</td>\n",
       "      <td>...</td>\n",
       "      <td>...</td>\n",
       "      <td>...</td>\n",
       "      <td>...</td>\n",
       "      <td>...</td>\n",
       "      <td>...</td>\n",
       "    </tr>\n",
       "    <tr>\n",
       "      <th>97</th>\n",
       "      <td>Downtown Toronto</td>\n",
       "      <td>1</td>\n",
       "      <td>Coffee Shop</td>\n",
       "      <td>Café</td>\n",
       "      <td>Hotel</td>\n",
       "      <td>Restaurant</td>\n",
       "      <td>Gym</td>\n",
       "      <td>Seafood Restaurant</td>\n",
       "      <td>Salad Place</td>\n",
       "      <td>Steakhouse</td>\n",
       "      <td>Asian Restaurant</td>\n",
       "      <td>American Restaurant</td>\n",
       "    </tr>\n",
       "    <tr>\n",
       "      <th>98</th>\n",
       "      <td>Etobicoke</td>\n",
       "      <td>1</td>\n",
       "      <td>River</td>\n",
       "      <td>Pool</td>\n",
       "      <td>Yoga Studio</td>\n",
       "      <td>Distribution Center</td>\n",
       "      <td>Department Store</td>\n",
       "      <td>Dessert Shop</td>\n",
       "      <td>Dim Sum Restaurant</td>\n",
       "      <td>Diner</td>\n",
       "      <td>Discount Store</td>\n",
       "      <td>Dog Run</td>\n",
       "    </tr>\n",
       "    <tr>\n",
       "      <th>99</th>\n",
       "      <td>Downtown Toronto</td>\n",
       "      <td>1</td>\n",
       "      <td>Coffee Shop</td>\n",
       "      <td>Sushi Restaurant</td>\n",
       "      <td>Japanese Restaurant</td>\n",
       "      <td>Restaurant</td>\n",
       "      <td>Gay Bar</td>\n",
       "      <td>Bubble Tea Shop</td>\n",
       "      <td>Pub</td>\n",
       "      <td>Yoga Studio</td>\n",
       "      <td>Hotel</td>\n",
       "      <td>Men's Store</td>\n",
       "    </tr>\n",
       "    <tr>\n",
       "      <th>100</th>\n",
       "      <td>East Toronto</td>\n",
       "      <td>1</td>\n",
       "      <td>Yoga Studio</td>\n",
       "      <td>Garden Center</td>\n",
       "      <td>Farmers Market</td>\n",
       "      <td>Light Rail Station</td>\n",
       "      <td>Fast Food Restaurant</td>\n",
       "      <td>Burrito Place</td>\n",
       "      <td>Butcher</td>\n",
       "      <td>Restaurant</td>\n",
       "      <td>Recording Studio</td>\n",
       "      <td>Brewery</td>\n",
       "    </tr>\n",
       "    <tr>\n",
       "      <th>102</th>\n",
       "      <td>Etobicoke</td>\n",
       "      <td>1</td>\n",
       "      <td>Gym</td>\n",
       "      <td>Convenience Store</td>\n",
       "      <td>Fast Food Restaurant</td>\n",
       "      <td>Sandwich Place</td>\n",
       "      <td>Burger Joint</td>\n",
       "      <td>Discount Store</td>\n",
       "      <td>Supplement Shop</td>\n",
       "      <td>Bakery</td>\n",
       "      <td>Thrift / Vintage Store</td>\n",
       "      <td>Tanning Salon</td>\n",
       "    </tr>\n",
       "  </tbody>\n",
       "</table>\n",
       "<p>84 rows × 12 columns</p>\n",
       "</div>"
      ],
      "text/plain": [
       "              Borough  Cluster Label 1st Most Common Venue  \\\n",
       "1          North York              1          Hockey Arena   \n",
       "2    Downtown Toronto              1           Coffee Shop   \n",
       "3          North York              1        Clothing Store   \n",
       "4    Downtown Toronto              1           Coffee Shop   \n",
       "7          North York              1                   Gym   \n",
       "..                ...            ...                   ...   \n",
       "97   Downtown Toronto              1           Coffee Shop   \n",
       "98          Etobicoke              1                 River   \n",
       "99   Downtown Toronto              1           Coffee Shop   \n",
       "100      East Toronto              1           Yoga Studio   \n",
       "102         Etobicoke              1                   Gym   \n",
       "\n",
       "      2nd Most Common Venue  3rd Most Common Venue 4th Most Common Venue  \\\n",
       "1               Coffee Shop  Portuguese Restaurant          Intersection   \n",
       "2                      Park                    Pub                Bakery   \n",
       "3    Furniture / Home Store      Accessories Store              Boutique   \n",
       "4          Sushi Restaurant                  Diner                  Park   \n",
       "7                Beer Store    Japanese Restaurant            Restaurant   \n",
       "..                      ...                    ...                   ...   \n",
       "97                     Café                  Hotel            Restaurant   \n",
       "98                     Pool            Yoga Studio   Distribution Center   \n",
       "99         Sushi Restaurant    Japanese Restaurant            Restaurant   \n",
       "100           Garden Center         Farmers Market    Light Rail Station   \n",
       "102       Convenience Store   Fast Food Restaurant        Sandwich Place   \n",
       "\n",
       "    5th Most Common Venue  6th Most Common Venue        7th Most Common Venue  \\\n",
       "1       Electronics Store   Ethiopian Restaurant  Eastern European Restaurant   \n",
       "2          Breakfast Spot                   Café                      Theater   \n",
       "3             Event Space  Vietnamese Restaurant                  Coffee Shop   \n",
       "4                     Bar               Beer Bar                Smoothie Shop   \n",
       "7             Coffee Shop       Asian Restaurant           Athletics & Sports   \n",
       "..                    ...                    ...                          ...   \n",
       "97                    Gym     Seafood Restaurant                  Salad Place   \n",
       "98       Department Store           Dessert Shop           Dim Sum Restaurant   \n",
       "99                Gay Bar        Bubble Tea Shop                          Pub   \n",
       "100  Fast Food Restaurant          Burrito Place                      Butcher   \n",
       "102          Burger Joint         Discount Store              Supplement Shop   \n",
       "\n",
       "    8th Most Common Venue   9th Most Common Venue 10th Most Common Venue  \n",
       "1             Event Space               Drugstore       Department Store  \n",
       "2          Farmers Market              Restaurant    Distribution Center  \n",
       "3            Carpet Store      Miscellaneous Shop    Distribution Center  \n",
       "4          Sandwich Place           Burrito Place                   Café  \n",
       "7          Sandwich Place               Bike Shop    Sporting Goods Shop  \n",
       "..                    ...                     ...                    ...  \n",
       "97             Steakhouse        Asian Restaurant    American Restaurant  \n",
       "98                  Diner          Discount Store                Dog Run  \n",
       "99            Yoga Studio                   Hotel            Men's Store  \n",
       "100            Restaurant        Recording Studio                Brewery  \n",
       "102                Bakery  Thrift / Vintage Store          Tanning Salon  \n",
       "\n",
       "[84 rows x 12 columns]"
      ]
     },
     "execution_count": 102,
     "metadata": {},
     "output_type": "execute_result"
    }
   ],
   "source": [
    "merged.loc[merged['Cluster Label'] == 1, merged.columns[[1] + list(range(5, merged.shape[1]))]]"
   ]
  },
  {
   "cell_type": "markdown",
   "metadata": {},
   "source": [
    "### Third Cluster"
   ]
  },
  {
   "cell_type": "code",
   "execution_count": 103,
   "metadata": {
    "collapsed": false,
    "jupyter": {
     "outputs_hidden": false
    }
   },
   "outputs": [
    {
     "data": {
      "text/html": [
       "<div>\n",
       "<style scoped>\n",
       "    .dataframe tbody tr th:only-of-type {\n",
       "        vertical-align: middle;\n",
       "    }\n",
       "\n",
       "    .dataframe tbody tr th {\n",
       "        vertical-align: top;\n",
       "    }\n",
       "\n",
       "    .dataframe thead th {\n",
       "        text-align: right;\n",
       "    }\n",
       "</style>\n",
       "<table border=\"1\" class=\"dataframe\">\n",
       "  <thead>\n",
       "    <tr style=\"text-align: right;\">\n",
       "      <th></th>\n",
       "      <th>Borough</th>\n",
       "      <th>Cluster Label</th>\n",
       "      <th>1st Most Common Venue</th>\n",
       "      <th>2nd Most Common Venue</th>\n",
       "      <th>3rd Most Common Venue</th>\n",
       "      <th>4th Most Common Venue</th>\n",
       "      <th>5th Most Common Venue</th>\n",
       "      <th>6th Most Common Venue</th>\n",
       "      <th>7th Most Common Venue</th>\n",
       "      <th>8th Most Common Venue</th>\n",
       "      <th>9th Most Common Venue</th>\n",
       "      <th>10th Most Common Venue</th>\n",
       "    </tr>\n",
       "  </thead>\n",
       "  <tbody>\n",
       "    <tr>\n",
       "      <th>57</th>\n",
       "      <td>North York</td>\n",
       "      <td>2</td>\n",
       "      <td>Baseball Field</td>\n",
       "      <td>Yoga Studio</td>\n",
       "      <td>Doner Restaurant</td>\n",
       "      <td>Dim Sum Restaurant</td>\n",
       "      <td>Diner</td>\n",
       "      <td>Discount Store</td>\n",
       "      <td>Distribution Center</td>\n",
       "      <td>Dog Run</td>\n",
       "      <td>Donut Shop</td>\n",
       "      <td>Fast Food Restaurant</td>\n",
       "    </tr>\n",
       "    <tr>\n",
       "      <th>101</th>\n",
       "      <td>Etobicoke</td>\n",
       "      <td>2</td>\n",
       "      <td>Baseball Field</td>\n",
       "      <td>Yoga Studio</td>\n",
       "      <td>Doner Restaurant</td>\n",
       "      <td>Dim Sum Restaurant</td>\n",
       "      <td>Diner</td>\n",
       "      <td>Discount Store</td>\n",
       "      <td>Distribution Center</td>\n",
       "      <td>Dog Run</td>\n",
       "      <td>Donut Shop</td>\n",
       "      <td>Fast Food Restaurant</td>\n",
       "    </tr>\n",
       "  </tbody>\n",
       "</table>\n",
       "</div>"
      ],
      "text/plain": [
       "        Borough  Cluster Label 1st Most Common Venue 2nd Most Common Venue  \\\n",
       "57   North York              2        Baseball Field           Yoga Studio   \n",
       "101   Etobicoke              2        Baseball Field           Yoga Studio   \n",
       "\n",
       "    3rd Most Common Venue 4th Most Common Venue 5th Most Common Venue  \\\n",
       "57       Doner Restaurant    Dim Sum Restaurant                 Diner   \n",
       "101      Doner Restaurant    Dim Sum Restaurant                 Diner   \n",
       "\n",
       "    6th Most Common Venue 7th Most Common Venue 8th Most Common Venue  \\\n",
       "57         Discount Store   Distribution Center               Dog Run   \n",
       "101        Discount Store   Distribution Center               Dog Run   \n",
       "\n",
       "    9th Most Common Venue 10th Most Common Venue  \n",
       "57             Donut Shop   Fast Food Restaurant  \n",
       "101            Donut Shop   Fast Food Restaurant  "
      ]
     },
     "execution_count": 103,
     "metadata": {},
     "output_type": "execute_result"
    }
   ],
   "source": [
    "merged.loc[merged['Cluster Label'] == 2, merged.columns[[1] + list(range(5, merged.shape[1]))]]"
   ]
  },
  {
   "cell_type": "markdown",
   "metadata": {},
   "source": [
    "### Fourth Cluster"
   ]
  },
  {
   "cell_type": "code",
   "execution_count": 104,
   "metadata": {
    "collapsed": false,
    "jupyter": {
     "outputs_hidden": false
    }
   },
   "outputs": [
    {
     "data": {
      "text/html": [
       "<div>\n",
       "<style scoped>\n",
       "    .dataframe tbody tr th:only-of-type {\n",
       "        vertical-align: middle;\n",
       "    }\n",
       "\n",
       "    .dataframe tbody tr th {\n",
       "        vertical-align: top;\n",
       "    }\n",
       "\n",
       "    .dataframe thead th {\n",
       "        text-align: right;\n",
       "    }\n",
       "</style>\n",
       "<table border=\"1\" class=\"dataframe\">\n",
       "  <thead>\n",
       "    <tr style=\"text-align: right;\">\n",
       "      <th></th>\n",
       "      <th>Borough</th>\n",
       "      <th>Cluster Label</th>\n",
       "      <th>1st Most Common Venue</th>\n",
       "      <th>2nd Most Common Venue</th>\n",
       "      <th>3rd Most Common Venue</th>\n",
       "      <th>4th Most Common Venue</th>\n",
       "      <th>5th Most Common Venue</th>\n",
       "      <th>6th Most Common Venue</th>\n",
       "      <th>7th Most Common Venue</th>\n",
       "      <th>8th Most Common Venue</th>\n",
       "      <th>9th Most Common Venue</th>\n",
       "      <th>10th Most Common Venue</th>\n",
       "    </tr>\n",
       "  </thead>\n",
       "  <tbody>\n",
       "    <tr>\n",
       "      <th>6</th>\n",
       "      <td>Scarborough</td>\n",
       "      <td>3</td>\n",
       "      <td>Fast Food Restaurant</td>\n",
       "      <td>Department Store</td>\n",
       "      <td>Falafel Restaurant</td>\n",
       "      <td>Event Space</td>\n",
       "      <td>Ethiopian Restaurant</td>\n",
       "      <td>Electronics Store</td>\n",
       "      <td>Eastern European Restaurant</td>\n",
       "      <td>Drugstore</td>\n",
       "      <td>Donut Shop</td>\n",
       "      <td>Doner Restaurant</td>\n",
       "    </tr>\n",
       "  </tbody>\n",
       "</table>\n",
       "</div>"
      ],
      "text/plain": [
       "       Borough  Cluster Label 1st Most Common Venue 2nd Most Common Venue  \\\n",
       "6  Scarborough              3  Fast Food Restaurant      Department Store   \n",
       "\n",
       "  3rd Most Common Venue 4th Most Common Venue 5th Most Common Venue  \\\n",
       "6    Falafel Restaurant           Event Space  Ethiopian Restaurant   \n",
       "\n",
       "  6th Most Common Venue        7th Most Common Venue 8th Most Common Venue  \\\n",
       "6     Electronics Store  Eastern European Restaurant             Drugstore   \n",
       "\n",
       "  9th Most Common Venue 10th Most Common Venue  \n",
       "6            Donut Shop       Doner Restaurant  "
      ]
     },
     "execution_count": 104,
     "metadata": {},
     "output_type": "execute_result"
    }
   ],
   "source": [
    "merged.loc[merged['Cluster Label'] == 3, merged.columns[[1] + list(range(5, merged.shape[1]))]]"
   ]
  },
  {
   "cell_type": "markdown",
   "metadata": {},
   "source": [
    "### Fifth Cluster"
   ]
  },
  {
   "cell_type": "code",
   "execution_count": 105,
   "metadata": {
    "collapsed": false,
    "jupyter": {
     "outputs_hidden": false
    }
   },
   "outputs": [
    {
     "data": {
      "text/html": [
       "<div>\n",
       "<style scoped>\n",
       "    .dataframe tbody tr th:only-of-type {\n",
       "        vertical-align: middle;\n",
       "    }\n",
       "\n",
       "    .dataframe tbody tr th {\n",
       "        vertical-align: top;\n",
       "    }\n",
       "\n",
       "    .dataframe thead th {\n",
       "        text-align: right;\n",
       "    }\n",
       "</style>\n",
       "<table border=\"1\" class=\"dataframe\">\n",
       "  <thead>\n",
       "    <tr style=\"text-align: right;\">\n",
       "      <th></th>\n",
       "      <th>Borough</th>\n",
       "      <th>Cluster Label</th>\n",
       "      <th>1st Most Common Venue</th>\n",
       "      <th>2nd Most Common Venue</th>\n",
       "      <th>3rd Most Common Venue</th>\n",
       "      <th>4th Most Common Venue</th>\n",
       "      <th>5th Most Common Venue</th>\n",
       "      <th>6th Most Common Venue</th>\n",
       "      <th>7th Most Common Venue</th>\n",
       "      <th>8th Most Common Venue</th>\n",
       "      <th>9th Most Common Venue</th>\n",
       "      <th>10th Most Common Venue</th>\n",
       "    </tr>\n",
       "  </thead>\n",
       "  <tbody>\n",
       "    <tr>\n",
       "      <th>12</th>\n",
       "      <td>Scarborough</td>\n",
       "      <td>4</td>\n",
       "      <td>Bar</td>\n",
       "      <td>Construction &amp; Landscaping</td>\n",
       "      <td>Yoga Studio</td>\n",
       "      <td>Donut Shop</td>\n",
       "      <td>Diner</td>\n",
       "      <td>Discount Store</td>\n",
       "      <td>Distribution Center</td>\n",
       "      <td>Dog Run</td>\n",
       "      <td>Doner Restaurant</td>\n",
       "      <td>Drugstore</td>\n",
       "    </tr>\n",
       "    <tr>\n",
       "      <th>49</th>\n",
       "      <td>North York</td>\n",
       "      <td>4</td>\n",
       "      <td>Bakery</td>\n",
       "      <td>Park</td>\n",
       "      <td>Construction &amp; Landscaping</td>\n",
       "      <td>Basketball Court</td>\n",
       "      <td>Yoga Studio</td>\n",
       "      <td>Donut Shop</td>\n",
       "      <td>Discount Store</td>\n",
       "      <td>Distribution Center</td>\n",
       "      <td>Dog Run</td>\n",
       "      <td>Doner Restaurant</td>\n",
       "    </tr>\n",
       "  </tbody>\n",
       "</table>\n",
       "</div>"
      ],
      "text/plain": [
       "        Borough  Cluster Label 1st Most Common Venue  \\\n",
       "12  Scarborough              4                   Bar   \n",
       "49   North York              4                Bakery   \n",
       "\n",
       "         2nd Most Common Venue       3rd Most Common Venue  \\\n",
       "12  Construction & Landscaping                 Yoga Studio   \n",
       "49                        Park  Construction & Landscaping   \n",
       "\n",
       "   4th Most Common Venue 5th Most Common Venue 6th Most Common Venue  \\\n",
       "12            Donut Shop                 Diner        Discount Store   \n",
       "49      Basketball Court           Yoga Studio            Donut Shop   \n",
       "\n",
       "   7th Most Common Venue 8th Most Common Venue 9th Most Common Venue  \\\n",
       "12   Distribution Center               Dog Run      Doner Restaurant   \n",
       "49        Discount Store   Distribution Center               Dog Run   \n",
       "\n",
       "   10th Most Common Venue  \n",
       "12              Drugstore  \n",
       "49       Doner Restaurant  "
      ]
     },
     "execution_count": 105,
     "metadata": {},
     "output_type": "execute_result"
    }
   ],
   "source": [
    "merged.loc[merged['Cluster Label'] == 4, merged.columns[[1] + list(range(5, merged.shape[1]))]]"
   ]
  }
 ],
 "metadata": {
  "kernelspec": {
   "display_name": "Python 3",
   "language": "python",
   "name": "python3"
  },
  "language_info": {
   "codemirror_mode": {
    "name": "ipython",
    "version": 3
   },
   "file_extension": ".py",
   "mimetype": "text/x-python",
   "name": "python",
   "nbconvert_exporter": "python",
   "pygments_lexer": "ipython3",
   "version": "3.8.3"
  },
  "widgets": {
   "state": {},
   "version": "1.1.2"
  }
 },
 "nbformat": 4,
 "nbformat_minor": 4
}
